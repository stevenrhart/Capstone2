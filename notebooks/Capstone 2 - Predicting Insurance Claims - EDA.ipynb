{
 "cells": [
  {
   "cell_type": "markdown",
   "metadata": {},
   "source": [
    "# Predicting Pet Insurance Claims - EDA\n",
    "\n",
    "## 1 Introduction\n",
    "\n",
    "### 1.1 Background\n",
    "Whenever a pet insurance policy holder incurs veterinary expenses related to their enrolled pet, they can submit claims for reimbursement, and the insurance company reimburses eligible expenses. To price insurance products correctly, the insurance company needs to have a good idea of the amount their policy holders are likely to claim in the future. \n",
    "\n",
    "### 1.2 Project Goal\n",
    "The goal of this project is to create a machine learning model to predict how much (in dollars) a given policy holder will claim for during the second year of their policy. \n",
    "\n",
    "### 1.3 Initial Questions for EDA\n",
    "Below are a few initial questions to answer and areas of interest for the detailed data analysis.\n",
    "* What patterns or relationships exist between 'Breed' and amounts claimed?\n",
    "* What patterns or relationships exist between 'Species' and amounts claimed?\n",
    "* Decide what to do about the very high (claims > $10k) and very low (claims = $0) claims amounts\n",
    "* Determine if EnrollPath is worth keeping or if there is any correlation between EnrollPath and claims amounts\n",
    "* Look for connection between PetAge and number/amount of claims\n",
    "\n",
    "Some opportunities for additional feature engineering:\n",
    "* Scrape web and/or find data set for dog breed average weights to include as a new column\n",
    "* Scrape web and/or find data set for average lifespan by breed and merge in as a new column\n",
    "    * Create new feature for PctLifespanYr1 and PctLifeSpanYr2 to calculate pet age in year 1 and year 2 as a percentage of the average lifespan based on the breed\n",
    "    * If above steps are completed, consider encoding breed, based on AvgWeight and AvgLifespan, into a new feature as a means of converting Breed from an object column to a numeric column"
   ]
  },
  {
   "cell_type": "markdown",
   "metadata": {},
   "source": [
    "# 2 Setup\n",
    "\n",
    "## 2.1 Imports"
   ]
  },
  {
   "cell_type": "code",
   "execution_count": 29,
   "metadata": {},
   "outputs": [],
   "source": [
    "import pandas as pd\n",
    "import numpy as np\n",
    "from scipy import stats\n",
    "\n",
    "# import random\n",
    "\n",
    "import matplotlib.pyplot as plt\n",
    "%matplotlib inline\n",
    "import seaborn as sns"
   ]
  },
  {
   "cell_type": "markdown",
   "metadata": {},
   "source": [
    "## 2.2 Data Load & Preview"
   ]
  },
  {
   "cell_type": "code",
   "execution_count": 4,
   "metadata": {},
   "outputs": [
    {
     "data": {
      "text/html": [
       "<div>\n",
       "<style scoped>\n",
       "    .dataframe tbody tr th:only-of-type {\n",
       "        vertical-align: middle;\n",
       "    }\n",
       "\n",
       "    .dataframe tbody tr th {\n",
       "        vertical-align: top;\n",
       "    }\n",
       "\n",
       "    .dataframe thead th {\n",
       "        text-align: right;\n",
       "    }\n",
       "</style>\n",
       "<table border=\"1\" class=\"dataframe\">\n",
       "  <thead>\n",
       "    <tr style=\"text-align: right;\">\n",
       "      <th></th>\n",
       "      <th>Species</th>\n",
       "      <th>Breed</th>\n",
       "      <th>Premium</th>\n",
       "      <th>Deductible</th>\n",
       "      <th>EnrollPath</th>\n",
       "      <th>AgeYr1</th>\n",
       "      <th>AgeYr2</th>\n",
       "      <th>YoungAge</th>\n",
       "      <th>MixedBreed</th>\n",
       "      <th>AmtClaimsYr1</th>\n",
       "      <th>AmtClaimsYr2</th>\n",
       "      <th>AvgClaimsYr1</th>\n",
       "      <th>AvgClaimsYr2</th>\n",
       "      <th>NumClaimsYr1</th>\n",
       "      <th>NumClaimsYr2</th>\n",
       "      <th>NumClaimsTotal</th>\n",
       "      <th>AmtClaimsTotal</th>\n",
       "      <th>AvgClaimsTotal</th>\n",
       "    </tr>\n",
       "    <tr>\n",
       "      <th>PetId</th>\n",
       "      <th></th>\n",
       "      <th></th>\n",
       "      <th></th>\n",
       "      <th></th>\n",
       "      <th></th>\n",
       "      <th></th>\n",
       "      <th></th>\n",
       "      <th></th>\n",
       "      <th></th>\n",
       "      <th></th>\n",
       "      <th></th>\n",
       "      <th></th>\n",
       "      <th></th>\n",
       "      <th></th>\n",
       "      <th></th>\n",
       "      <th></th>\n",
       "      <th></th>\n",
       "      <th></th>\n",
       "    </tr>\n",
       "  </thead>\n",
       "  <tbody>\n",
       "    <tr>\n",
       "      <th>0</th>\n",
       "      <td>Dog</td>\n",
       "      <td>Schnauzer Standard</td>\n",
       "      <td>84.54</td>\n",
       "      <td>200</td>\n",
       "      <td>Web</td>\n",
       "      <td>3</td>\n",
       "      <td>4</td>\n",
       "      <td>0</td>\n",
       "      <td>0</td>\n",
       "      <td>0.00</td>\n",
       "      <td>1242.00</td>\n",
       "      <td>0.000000</td>\n",
       "      <td>621.000</td>\n",
       "      <td>0</td>\n",
       "      <td>2</td>\n",
       "      <td>2</td>\n",
       "      <td>1242.00</td>\n",
       "      <td>621.00000</td>\n",
       "    </tr>\n",
       "    <tr>\n",
       "      <th>1</th>\n",
       "      <td>Dog</td>\n",
       "      <td>Yorkiepoo</td>\n",
       "      <td>50.33</td>\n",
       "      <td>500</td>\n",
       "      <td>Phone</td>\n",
       "      <td>0</td>\n",
       "      <td>1</td>\n",
       "      <td>0</td>\n",
       "      <td>0</td>\n",
       "      <td>0.00</td>\n",
       "      <td>0.00</td>\n",
       "      <td>0.000000</td>\n",
       "      <td>0.000</td>\n",
       "      <td>0</td>\n",
       "      <td>0</td>\n",
       "      <td>0</td>\n",
       "      <td>0.00</td>\n",
       "      <td>0.00000</td>\n",
       "    </tr>\n",
       "    <tr>\n",
       "      <th>2</th>\n",
       "      <td>Dog</td>\n",
       "      <td>Mixed Breed Medium</td>\n",
       "      <td>74.00</td>\n",
       "      <td>500</td>\n",
       "      <td>Phone</td>\n",
       "      <td>0</td>\n",
       "      <td>1</td>\n",
       "      <td>0</td>\n",
       "      <td>1</td>\n",
       "      <td>640.63</td>\n",
       "      <td>1187.68</td>\n",
       "      <td>213.543333</td>\n",
       "      <td>237.536</td>\n",
       "      <td>3</td>\n",
       "      <td>5</td>\n",
       "      <td>8</td>\n",
       "      <td>1828.31</td>\n",
       "      <td>228.53875</td>\n",
       "    </tr>\n",
       "    <tr>\n",
       "      <th>3</th>\n",
       "      <td>Dog</td>\n",
       "      <td>Labrador Retriever</td>\n",
       "      <td>57.54</td>\n",
       "      <td>500</td>\n",
       "      <td>Phone</td>\n",
       "      <td>0</td>\n",
       "      <td>1</td>\n",
       "      <td>0</td>\n",
       "      <td>0</td>\n",
       "      <td>0.00</td>\n",
       "      <td>0.00</td>\n",
       "      <td>0.000000</td>\n",
       "      <td>0.000</td>\n",
       "      <td>0</td>\n",
       "      <td>0</td>\n",
       "      <td>0</td>\n",
       "      <td>0.00</td>\n",
       "      <td>0.00000</td>\n",
       "    </tr>\n",
       "    <tr>\n",
       "      <th>4</th>\n",
       "      <td>Dog</td>\n",
       "      <td>French Bulldog</td>\n",
       "      <td>60.69</td>\n",
       "      <td>700</td>\n",
       "      <td>Web</td>\n",
       "      <td>0</td>\n",
       "      <td>1</td>\n",
       "      <td>0</td>\n",
       "      <td>0</td>\n",
       "      <td>7212.25</td>\n",
       "      <td>168.75</td>\n",
       "      <td>801.361111</td>\n",
       "      <td>168.750</td>\n",
       "      <td>9</td>\n",
       "      <td>1</td>\n",
       "      <td>10</td>\n",
       "      <td>7381.00</td>\n",
       "      <td>738.10000</td>\n",
       "    </tr>\n",
       "  </tbody>\n",
       "</table>\n",
       "</div>"
      ],
      "text/plain": [
       "      Species               Breed  Premium  Deductible EnrollPath  AgeYr1  \\\n",
       "PetId                                                                       \n",
       "0         Dog  Schnauzer Standard    84.54         200        Web       3   \n",
       "1         Dog           Yorkiepoo    50.33         500      Phone       0   \n",
       "2         Dog  Mixed Breed Medium    74.00         500      Phone       0   \n",
       "3         Dog  Labrador Retriever    57.54         500      Phone       0   \n",
       "4         Dog      French Bulldog    60.69         700        Web       0   \n",
       "\n",
       "       AgeYr2  YoungAge  MixedBreed  AmtClaimsYr1  AmtClaimsYr2  AvgClaimsYr1  \\\n",
       "PetId                                                                           \n",
       "0           4         0           0          0.00       1242.00      0.000000   \n",
       "1           1         0           0          0.00          0.00      0.000000   \n",
       "2           1         0           1        640.63       1187.68    213.543333   \n",
       "3           1         0           0          0.00          0.00      0.000000   \n",
       "4           1         0           0       7212.25        168.75    801.361111   \n",
       "\n",
       "       AvgClaimsYr2  NumClaimsYr1  NumClaimsYr2  NumClaimsTotal  \\\n",
       "PetId                                                             \n",
       "0           621.000             0             2               2   \n",
       "1             0.000             0             0               0   \n",
       "2           237.536             3             5               8   \n",
       "3             0.000             0             0               0   \n",
       "4           168.750             9             1              10   \n",
       "\n",
       "       AmtClaimsTotal  AvgClaimsTotal  \n",
       "PetId                                  \n",
       "0             1242.00       621.00000  \n",
       "1                0.00         0.00000  \n",
       "2             1828.31       228.53875  \n",
       "3                0.00         0.00000  \n",
       "4             7381.00       738.10000  "
      ]
     },
     "execution_count": 4,
     "metadata": {},
     "output_type": "execute_result"
    }
   ],
   "source": [
    "# Read in the data file generated during data wrangling\n",
    "df = pd.read_csv('../data/merged_pets.csv', index_col='PetId')\n",
    "\n",
    "# Preview\n",
    "df.head()"
   ]
  },
  {
   "cell_type": "markdown",
   "metadata": {},
   "source": [
    "# 3 Species and Breed\n",
    "\n",
    "## 3.1 Species Analysis\n",
    "As a starting point, let's look at a breakdown of the data by species to see if we see any significant differences in our other data points when viewed through the species lens.\n",
    "\n",
    "Is there a significant difference in claims amounts between cats and dogs?"
   ]
  },
  {
   "cell_type": "code",
   "execution_count": 19,
   "metadata": {},
   "outputs": [
    {
     "data": {
      "text/html": [
       "<div>\n",
       "<style scoped>\n",
       "    .dataframe tbody tr th:only-of-type {\n",
       "        vertical-align: middle;\n",
       "    }\n",
       "\n",
       "    .dataframe tbody tr th {\n",
       "        vertical-align: top;\n",
       "    }\n",
       "\n",
       "    .dataframe thead th {\n",
       "        text-align: right;\n",
       "    }\n",
       "</style>\n",
       "<table border=\"1\" class=\"dataframe\">\n",
       "  <thead>\n",
       "    <tr style=\"text-align: right;\">\n",
       "      <th></th>\n",
       "      <th>Premium</th>\n",
       "      <th>Deductible</th>\n",
       "      <th>AgeYr1</th>\n",
       "      <th>AgeYr2</th>\n",
       "      <th>YoungAge</th>\n",
       "      <th>MixedBreed</th>\n",
       "      <th>AmtClaimsYr1</th>\n",
       "      <th>AmtClaimsYr2</th>\n",
       "      <th>AvgClaimsYr1</th>\n",
       "      <th>AvgClaimsYr2</th>\n",
       "      <th>NumClaimsYr1</th>\n",
       "      <th>NumClaimsYr2</th>\n",
       "      <th>NumClaimsTotal</th>\n",
       "      <th>AmtClaimsTotal</th>\n",
       "      <th>AvgClaimsTotal</th>\n",
       "    </tr>\n",
       "    <tr>\n",
       "      <th>Species</th>\n",
       "      <th></th>\n",
       "      <th></th>\n",
       "      <th></th>\n",
       "      <th></th>\n",
       "      <th></th>\n",
       "      <th></th>\n",
       "      <th></th>\n",
       "      <th></th>\n",
       "      <th></th>\n",
       "      <th></th>\n",
       "      <th></th>\n",
       "      <th></th>\n",
       "      <th></th>\n",
       "      <th></th>\n",
       "      <th></th>\n",
       "    </tr>\n",
       "  </thead>\n",
       "  <tbody>\n",
       "    <tr>\n",
       "      <th>Cat</th>\n",
       "      <td>43.583218</td>\n",
       "      <td>433.969965</td>\n",
       "      <td>2.149801</td>\n",
       "      <td>3.149801</td>\n",
       "      <td>0.005234</td>\n",
       "      <td>0.192049</td>\n",
       "      <td>432.760201</td>\n",
       "      <td>444.637845</td>\n",
       "      <td>150.436436</td>\n",
       "      <td>136.365279</td>\n",
       "      <td>0.902293</td>\n",
       "      <td>0.829511</td>\n",
       "      <td>1.731805</td>\n",
       "      <td>877.398046</td>\n",
       "      <td>228.249569</td>\n",
       "    </tr>\n",
       "    <tr>\n",
       "      <th>Dog</th>\n",
       "      <td>67.905494</td>\n",
       "      <td>506.687512</td>\n",
       "      <td>1.250810</td>\n",
       "      <td>2.250810</td>\n",
       "      <td>0.007647</td>\n",
       "      <td>0.268272</td>\n",
       "      <td>867.228391</td>\n",
       "      <td>739.179708</td>\n",
       "      <td>237.679717</td>\n",
       "      <td>196.448307</td>\n",
       "      <td>1.803983</td>\n",
       "      <td>1.554912</td>\n",
       "      <td>3.358896</td>\n",
       "      <td>1606.408099</td>\n",
       "      <td>317.476544</td>\n",
       "    </tr>\n",
       "  </tbody>\n",
       "</table>\n",
       "</div>"
      ],
      "text/plain": [
       "           Premium  Deductible    AgeYr1    AgeYr2  YoungAge  MixedBreed  \\\n",
       "Species                                                                    \n",
       "Cat      43.583218  433.969965  2.149801  3.149801  0.005234    0.192049   \n",
       "Dog      67.905494  506.687512  1.250810  2.250810  0.007647    0.268272   \n",
       "\n",
       "         AmtClaimsYr1  AmtClaimsYr2  AvgClaimsYr1  AvgClaimsYr2  NumClaimsYr1  \\\n",
       "Species                                                                         \n",
       "Cat        432.760201    444.637845    150.436436    136.365279      0.902293   \n",
       "Dog        867.228391    739.179708    237.679717    196.448307      1.803983   \n",
       "\n",
       "         NumClaimsYr2  NumClaimsTotal  AmtClaimsTotal  AvgClaimsTotal  \n",
       "Species                                                                \n",
       "Cat          0.829511        1.731805      877.398046      228.249569  \n",
       "Dog          1.554912        3.358896     1606.408099      317.476544  "
      ]
     },
     "execution_count": 19,
     "metadata": {},
     "output_type": "execute_result"
    }
   ],
   "source": [
    "# Group df by 'Species' and view column means\n",
    "df.groupby(by='Species').agg('mean')"
   ]
  },
  {
   "cell_type": "markdown",
   "metadata": {},
   "source": [
    "### 3.1.1 Initial observations\n",
    "Some initial observations based on the breakdown above:\n",
    "1. On average, Dogs have higher premiums and higher deductibles\n",
    "2. Claims data - number of claims, average claim, total claims - is higher for dogs in all categories\n",
    "\n",
    "The difference in the average claims amounts between cats and dogs in year two is just under \\\\$300 (i.e., \\\\$445 for cats and \\\\$739 for dogs). And the average total claims amount for both years combined is nearly twice as large for dogs (\\\\$1600) as for cats (\\$877). Based on this, we may need to factor this in to our predictive model later on as it appears that a single model may not work well across the two species.\n",
    "\n",
    "Before we make the final decision, let's take a look and see if the difference is as significant as it appears."
   ]
  },
  {
   "cell_type": "markdown",
   "metadata": {},
   "source": [
    "### 3.1.2 Is there a significant difference between the claims amounts in year 2 between cats and dogs?\n",
    "To answer this question, we can do some analysis to test the significance of our current values. This will help us to understand the liklihood that this difference in premium amounts could be the result of random chance alone.\n",
    "\n",
    "Here's an outline of the process we'll follow to answer the question:\n",
    "1. We'll assume that species has no impact on claims amounts \n",
    "\n",
    "2. Given this assumption, we should be able to replicate a similiar difference in the mean claims amounts for cats and dogs in year 2 when compared to the one we observe in the data (\\\\$300) just by: \n",
    "a. Shuffling the 'AmtClaimsYr2' column \n",
    "b. Keeping the 'Species' column the same\n",
    "c. Calculating the difference between the mean claims amount for year 2 between cats and dogs \n",
    "\n",
    "3. We can then repeat this process each time calculating the difference in mean values between the two species \n",
    "\n",
    "4. Once we have the difference in means for each permutation, we can take the mean of all these differences, and this will be called our permutation difference. The permutation difference will help us understand if the difference between species really is significant or not.\n",
    "\n",
    "#### 3.1.2.1 Subsetting the data\n",
    "First, since our main interest is to look at claims amounts for year 2, we'll subset our data to consist of only two columns - 'Species' and 'AmtClaimsYr2'."
   ]
  },
  {
   "cell_type": "code",
   "execution_count": 23,
   "metadata": {},
   "outputs": [
    {
     "data": {
      "text/html": [
       "<div>\n",
       "<style scoped>\n",
       "    .dataframe tbody tr th:only-of-type {\n",
       "        vertical-align: middle;\n",
       "    }\n",
       "\n",
       "    .dataframe tbody tr th {\n",
       "        vertical-align: top;\n",
       "    }\n",
       "\n",
       "    .dataframe thead th {\n",
       "        text-align: right;\n",
       "    }\n",
       "</style>\n",
       "<table border=\"1\" class=\"dataframe\">\n",
       "  <thead>\n",
       "    <tr style=\"text-align: right;\">\n",
       "      <th></th>\n",
       "      <th>Species</th>\n",
       "      <th>AmtClaimsYr2</th>\n",
       "    </tr>\n",
       "    <tr>\n",
       "      <th>PetId</th>\n",
       "      <th></th>\n",
       "      <th></th>\n",
       "    </tr>\n",
       "  </thead>\n",
       "  <tbody>\n",
       "    <tr>\n",
       "      <th>0</th>\n",
       "      <td>Dog</td>\n",
       "      <td>1242.00</td>\n",
       "    </tr>\n",
       "    <tr>\n",
       "      <th>1</th>\n",
       "      <td>Dog</td>\n",
       "      <td>0.00</td>\n",
       "    </tr>\n",
       "    <tr>\n",
       "      <th>2</th>\n",
       "      <td>Dog</td>\n",
       "      <td>1187.68</td>\n",
       "    </tr>\n",
       "    <tr>\n",
       "      <th>3</th>\n",
       "      <td>Dog</td>\n",
       "      <td>0.00</td>\n",
       "    </tr>\n",
       "    <tr>\n",
       "      <th>4</th>\n",
       "      <td>Dog</td>\n",
       "      <td>168.75</td>\n",
       "    </tr>\n",
       "  </tbody>\n",
       "</table>\n",
       "</div>"
      ],
      "text/plain": [
       "      Species  AmtClaimsYr2\n",
       "PetId                      \n",
       "0         Dog       1242.00\n",
       "1         Dog          0.00\n",
       "2         Dog       1187.68\n",
       "3         Dog          0.00\n",
       "4         Dog        168.75"
      ]
     },
     "execution_count": 23,
     "metadata": {},
     "output_type": "execute_result"
    }
   ],
   "source": [
    "# Subset the data\n",
    "subset = df[['Species', 'AmtClaimsYr2']]\n",
    "\n",
    "# Preview\n",
    "subset.head()"
   ]
  },
  {
   "cell_type": "markdown",
   "metadata": {},
   "source": [
    "#### 3.1.2.2 Preview the distribution of the values in our dataset\n"
   ]
  },
  {
   "cell_type": "code",
   "execution_count": 25,
   "metadata": {},
   "outputs": [
    {
     "data": {
      "image/png": "[encoded data removed]",
      "text/plain": [
       "<Figure size 720x432 with 1 Axes>"
      ]
     },
     "metadata": {
      "needs_background": "light"
     },
     "output_type": "display_data"
    }
   ],
   "source": [
    "### TODO - Find a better visual to help preview the difference at the start\n",
    "# Preview the values \n",
    "subset.boxplot(by=\"Species\", column=[\"AmtClaimsYr2\"], figsize=(10,6));"
   ]
  },
  {
   "cell_type": "markdown",
   "metadata": {},
   "source": [
    "#### 3.1.2.3 Shuffle the claims amounts"
   ]
  },
  {
   "cell_type": "code",
   "execution_count": null,
   "metadata": {},
   "outputs": [],
   "source": [
    "# Get an indication of whether the cats data are normally distributed\n",
    "# Save the result in a variable called apple_normal, and print it out\n",
    "apple_normal = stats.normaltest(apple)\n",
    "print(apple_normal)"
   ]
  },
  {
   "cell_type": "code",
   "execution_count": null,
   "metadata": {},
   "outputs": [],
   "source": []
  },
  {
   "cell_type": "code",
   "execution_count": null,
   "metadata": {},
   "outputs": [],
   "source": []
  },
  {
   "cell_type": "markdown",
   "metadata": {},
   "source": [
    "Clearly dog premiums are much higher than cat premiums and it's likely we'll see a similar pattern when we look at claims data later on in EDA. For now, let's plan to drop rows where premiums are in the upper 1% of the range to eliminate the outliers."
   ]
  },
  {
   "cell_type": "code",
   "execution_count": null,
   "metadata": {},
   "outputs": [],
   "source": [
    "# Calculate the 99th quantile of Premium values\n",
    "print(\"99% of premiums are less than $\" + str(pets.Premium.quantile(q=0.99)))"
   ]
  },
  {
   "cell_type": "markdown",
   "metadata": {},
   "source": [
    "Before we move on, let's see how the distribution looks by species. \n"
   ]
  },
  {
   "cell_type": "code",
   "execution_count": null,
   "metadata": {},
   "outputs": [],
   "source": [
    "# Plot a distribution of Deductible by Species\n",
    "cat_prem = pets[pets['Species'] == 'Cat']['Deductible']\n",
    "dog_prem = pets[pets['Species'] == 'Dog']['Deductible']\n",
    "\n",
    "plt.hist(dog_prem, bins=20, label='Dogs')\n",
    "plt.hist(cat_prem, bins=20, label='Cats')\n",
    "plt.title('Deductible Distribution by Species')\n",
    "plt.legend(loc='upper right')\n",
    "plt.show()"
   ]
  },
  {
   "cell_type": "code",
   "execution_count": 6,
   "metadata": {},
   "outputs": [
    {
     "name": "stdout",
     "output_type": "stream",
     "text": [
      "55 Cat breeds\n",
      "318 Dog breeds\n"
     ]
    }
   ],
   "source": [
    "# View number of different breeds per species\n",
    "print(str(df[df['Species'] == 'Cat']['Breed'].value_counts(sort=True).count()) + \" Cat breeds\")\n",
    "print(str(df[df['Species'] == 'Dog']['Breed'].value_counts(sort=True).count()) + \" Dog breeds\") "
   ]
  },
  {
   "cell_type": "code",
   "execution_count": null,
   "metadata": {},
   "outputs": [],
   "source": [
    "# Review outlier claims\n",
    "# top_pct = claims.AmountClaimed.quantile(q=0.99)\n",
    "# print(\"99% of claims are below $\" + str(top_pct))"
   ]
  },
  {
   "cell_type": "markdown",
   "metadata": {},
   "source": [
    "review of column distributions"
   ]
  },
  {
   "cell_type": "code",
   "execution_count": null,
   "metadata": {},
   "outputs": [],
   "source": [
    "# # Review Distributions of all numeric columns\n",
    "# merged_pets.hist(figsize=(15,10))\n",
    "# plt.subplots_adjust(hspace=0.5);"
   ]
  },
  {
   "cell_type": "code",
   "execution_count": null,
   "metadata": {},
   "outputs": [],
   "source": [
    "# Isolate rows with high premiums for additional review\n",
    "high_prems = pets[pets['Premium'] > 200]\n",
    "\n",
    "# Review date distribution\n",
    "plt.figure(figsize=(6, 4))\n",
    "plt.title('Distribution of High Premiums')\n",
    "plt.hist(high_prems.Premium, bins = 20)\n",
    "plt.show()"
   ]
  },
  {
   "cell_type": "code",
   "execution_count": null,
   "metadata": {},
   "outputs": [],
   "source": []
  },
  {
   "cell_type": "code",
   "execution_count": null,
   "metadata": {},
   "outputs": [],
   "source": [
    "# Review the number of pets with high premiums by species\n",
    "high_prems.Species.value_counts()"
   ]
  },
  {
   "cell_type": "code",
   "execution_count": null,
   "metadata": {},
   "outputs": [],
   "source": []
  },
  {
   "cell_type": "code",
   "execution_count": null,
   "metadata": {},
   "outputs": [],
   "source": []
  },
  {
   "cell_type": "code",
   "execution_count": null,
   "metadata": {},
   "outputs": [],
   "source": []
  },
  {
   "cell_type": "code",
   "execution_count": null,
   "metadata": {},
   "outputs": [],
   "source": []
  },
  {
   "cell_type": "code",
   "execution_count": null,
   "metadata": {},
   "outputs": [],
   "source": []
  },
  {
   "cell_type": "code",
   "execution_count": null,
   "metadata": {},
   "outputs": [],
   "source": []
  },
  {
   "cell_type": "code",
   "execution_count": null,
   "metadata": {},
   "outputs": [],
   "source": []
  }
 ],
 "metadata": {
  "kernelspec": {
   "display_name": "Python 3",
   "language": "python",
   "name": "python3"
  },
  "language_info": {
   "codemirror_mode": {
    "name": "ipython",
    "version": 3
   },
   "file_extension": ".py",
   "mimetype": "text/x-python",
   "name": "python",
   "nbconvert_exporter": "python",
   "pygments_lexer": "ipython3",
   "version": "3.7.6"
  }
 },
 "nbformat": 4,
 "nbformat_minor": 4
}
