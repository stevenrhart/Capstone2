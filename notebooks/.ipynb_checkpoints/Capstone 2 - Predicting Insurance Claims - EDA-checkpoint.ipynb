{
 "cells": [
  {
   "cell_type": "markdown",
   "metadata": {},
   "source": [
    "# Predicting Pet Insurance Claims - EDA\n",
    "\n",
    "## 1 Introduction\n",
    "\n",
    "### 1.1 Background\n",
    "Whenever a pet insurance policy holder incurs veterinary expenses related to their enrolled pet, they can submit claims for reimbursement, and the insurance company reimburses eligible expenses. To price insurance products correctly, the insurance company needs to have a good idea of the amount their policy holders are likely to claim in the future. \n",
    "\n",
    "### 1.2 Project Goal\n",
    "The goal of this project is to create a machine learning model to predict how much (in dollars) a given policy holder will claim for during the second year of their policy. \n",
    "\n",
    "### 1.3 Initial Questions for EDA\n",
    "Below are a few initial questions to answer and areas of interest for the detailed data analysis.\n",
    "* What is the distribution of our claims amounts by year?\n",
    "    * What, if anything, is needed to deal with the very high (claims > \\\\$10k) and very low (claims = \\$0) claims amounts?\n",
    "* What patterns or relationships exist between 'Species' and amounts claimed?\n",
    "* What patterns or relationships exist between 'Breed' and amounts claimed?\n",
    "* Does EnrollPath factor in to claims amounts in a meaningful way or should it be dropped?\n",
    "* Is there a connection between PetAge and number or amount of claims?"
   ]
  },
  {
   "cell_type": "markdown",
   "metadata": {},
   "source": [
    "# 2 Setup\n",
    "\n",
    "## 2.1 Imports"
   ]
  },
  {
   "cell_type": "code",
   "execution_count": 1,
   "metadata": {},
   "outputs": [],
   "source": [
    "import pandas as pd\n",
    "import numpy as np\n",
    "from scipy import stats\n",
    "\n",
    "# import random\n",
    "\n",
    "import matplotlib.pyplot as plt\n",
    "# %matplotlib inline\n",
    "import seaborn as sns"
   ]
  },
  {
   "cell_type": "markdown",
   "metadata": {},
   "source": [
    "## 2.2 Data Load & Preview"
   ]
  },
  {
   "cell_type": "code",
   "execution_count": 2,
   "metadata": {},
   "outputs": [
    {
     "data": {
      "text/html": [
       "<div>\n",
       "<style scoped>\n",
       "    .dataframe tbody tr th:only-of-type {\n",
       "        vertical-align: middle;\n",
       "    }\n",
       "\n",
       "    .dataframe tbody tr th {\n",
       "        vertical-align: top;\n",
       "    }\n",
       "\n",
       "    .dataframe thead th {\n",
       "        text-align: right;\n",
       "    }\n",
       "</style>\n",
       "<table border=\"1\" class=\"dataframe\">\n",
       "  <thead>\n",
       "    <tr style=\"text-align: right;\">\n",
       "      <th></th>\n",
       "      <th>PetId</th>\n",
       "      <th>Species</th>\n",
       "      <th>Breed</th>\n",
       "      <th>Premium</th>\n",
       "      <th>Deductible</th>\n",
       "      <th>EnrollPath</th>\n",
       "      <th>AgeYr1</th>\n",
       "      <th>YoungAge</th>\n",
       "      <th>MixedBreed</th>\n",
       "      <th>AmtClaimsYr1</th>\n",
       "      <th>AmtClaimsYr2</th>\n",
       "      <th>AvgClaimsYr1</th>\n",
       "      <th>AvgClaimsYr2</th>\n",
       "      <th>NumClaimsYr1</th>\n",
       "      <th>NumClaimsYr2</th>\n",
       "    </tr>\n",
       "  </thead>\n",
       "  <tbody>\n",
       "    <tr>\n",
       "      <th>0</th>\n",
       "      <td>0</td>\n",
       "      <td>Dog</td>\n",
       "      <td>Schnauzer Standard</td>\n",
       "      <td>84.54</td>\n",
       "      <td>200</td>\n",
       "      <td>Web</td>\n",
       "      <td>3</td>\n",
       "      <td>0</td>\n",
       "      <td>0</td>\n",
       "      <td>0.00</td>\n",
       "      <td>1242.00</td>\n",
       "      <td>0.000000</td>\n",
       "      <td>621.000</td>\n",
       "      <td>0</td>\n",
       "      <td>2</td>\n",
       "    </tr>\n",
       "    <tr>\n",
       "      <th>1</th>\n",
       "      <td>1</td>\n",
       "      <td>Dog</td>\n",
       "      <td>Yorkiepoo</td>\n",
       "      <td>50.33</td>\n",
       "      <td>500</td>\n",
       "      <td>Phone</td>\n",
       "      <td>0</td>\n",
       "      <td>0</td>\n",
       "      <td>0</td>\n",
       "      <td>0.00</td>\n",
       "      <td>0.00</td>\n",
       "      <td>0.000000</td>\n",
       "      <td>0.000</td>\n",
       "      <td>0</td>\n",
       "      <td>0</td>\n",
       "    </tr>\n",
       "    <tr>\n",
       "      <th>2</th>\n",
       "      <td>2</td>\n",
       "      <td>Dog</td>\n",
       "      <td>Mixed Breed Medium</td>\n",
       "      <td>74.00</td>\n",
       "      <td>500</td>\n",
       "      <td>Phone</td>\n",
       "      <td>0</td>\n",
       "      <td>0</td>\n",
       "      <td>1</td>\n",
       "      <td>640.63</td>\n",
       "      <td>1187.68</td>\n",
       "      <td>213.543333</td>\n",
       "      <td>237.536</td>\n",
       "      <td>3</td>\n",
       "      <td>5</td>\n",
       "    </tr>\n",
       "    <tr>\n",
       "      <th>3</th>\n",
       "      <td>3</td>\n",
       "      <td>Dog</td>\n",
       "      <td>Labrador Retriever</td>\n",
       "      <td>57.54</td>\n",
       "      <td>500</td>\n",
       "      <td>Phone</td>\n",
       "      <td>0</td>\n",
       "      <td>0</td>\n",
       "      <td>0</td>\n",
       "      <td>0.00</td>\n",
       "      <td>0.00</td>\n",
       "      <td>0.000000</td>\n",
       "      <td>0.000</td>\n",
       "      <td>0</td>\n",
       "      <td>0</td>\n",
       "    </tr>\n",
       "    <tr>\n",
       "      <th>4</th>\n",
       "      <td>4</td>\n",
       "      <td>Dog</td>\n",
       "      <td>French Bulldog</td>\n",
       "      <td>60.69</td>\n",
       "      <td>700</td>\n",
       "      <td>Web</td>\n",
       "      <td>0</td>\n",
       "      <td>0</td>\n",
       "      <td>0</td>\n",
       "      <td>7212.25</td>\n",
       "      <td>168.75</td>\n",
       "      <td>801.361111</td>\n",
       "      <td>168.750</td>\n",
       "      <td>9</td>\n",
       "      <td>1</td>\n",
       "    </tr>\n",
       "  </tbody>\n",
       "</table>\n",
       "</div>"
      ],
      "text/plain": [
       "   PetId Species               Breed  Premium  Deductible EnrollPath  AgeYr1  \\\n",
       "0      0     Dog  Schnauzer Standard    84.54         200        Web       3   \n",
       "1      1     Dog           Yorkiepoo    50.33         500      Phone       0   \n",
       "2      2     Dog  Mixed Breed Medium    74.00         500      Phone       0   \n",
       "3      3     Dog  Labrador Retriever    57.54         500      Phone       0   \n",
       "4      4     Dog      French Bulldog    60.69         700        Web       0   \n",
       "\n",
       "   YoungAge  MixedBreed  AmtClaimsYr1  AmtClaimsYr2  AvgClaimsYr1  \\\n",
       "0         0           0          0.00       1242.00      0.000000   \n",
       "1         0           0          0.00          0.00      0.000000   \n",
       "2         0           1        640.63       1187.68    213.543333   \n",
       "3         0           0          0.00          0.00      0.000000   \n",
       "4         0           0       7212.25        168.75    801.361111   \n",
       "\n",
       "   AvgClaimsYr2  NumClaimsYr1  NumClaimsYr2  \n",
       "0       621.000             0             2  \n",
       "1         0.000             0             0  \n",
       "2       237.536             3             5  \n",
       "3         0.000             0             0  \n",
       "4       168.750             9             1  "
      ]
     },
     "execution_count": 2,
     "metadata": {},
     "output_type": "execute_result"
    }
   ],
   "source": [
    "# Read in the data file generated during data wrangling\n",
    "df = pd.read_csv('../data/merged_pets.csv')\n",
    "\n",
    "# Preview\n",
    "df.head()"
   ]
  },
  {
   "cell_type": "markdown",
   "metadata": {},
   "source": [
    "## 3 Claims - What is the Distribution of Claims?\n",
    "In the data wrangling notebook, we looked at the claims data with each claim as its own data point. We observed some very high claims amounts (> \\\\$10,000), but we didn't do any deeper analysis to decide what to do about the outlier values. As a next step, let's view the distribution of claims for year 1 and year 2, respectively, and decide what to do with the outliers.\n",
    "\n",
    "NOTES: How to handle the outliers?\n",
    "* Drop rows above a certain threshold\n",
    "* Cap total amount at a certain threshold(t) (i.e., if x > t, then x = t)\n",
    "* If capping, should the amount removed be somehow factored back into the data?\n",
    "* Drop pets with greater than *n* high dollar claims, where *n* is some predetermined threshold\n",
    "\n",
    "BREED:\n",
    "* Does it make sense to look at the proportion of a breed with high claims and see if any of the breeds stand out?\n",
    "* Should I only pay attention to this is the breeds in question have a count of pets higher than some significant number (e.g., 30)?\n",
    "\n",
    "### 3.1 Distribution of total claims amounts for years 1 and 2"
   ]
  },
  {
   "cell_type": "code",
   "execution_count": 34,
   "metadata": {
    "scrolled": true
   },
   "outputs": [
    {
     "data": {
      "text/html": [
       "<div>\n",
       "<style scoped>\n",
       "    .dataframe tbody tr th:only-of-type {\n",
       "        vertical-align: middle;\n",
       "    }\n",
       "\n",
       "    .dataframe tbody tr th {\n",
       "        vertical-align: top;\n",
       "    }\n",
       "\n",
       "    .dataframe thead th {\n",
       "        text-align: right;\n",
       "    }\n",
       "</style>\n",
       "<table border=\"1\" class=\"dataframe\">\n",
       "  <thead>\n",
       "    <tr style=\"text-align: right;\">\n",
       "      <th></th>\n",
       "      <th>AmtClaimsYr1</th>\n",
       "      <th>AmtClaimsYr2</th>\n",
       "    </tr>\n",
       "  </thead>\n",
       "  <tbody>\n",
       "    <tr>\n",
       "      <th>count</th>\n",
       "      <td>50000.000000</td>\n",
       "      <td>50000.000000</td>\n",
       "    </tr>\n",
       "    <tr>\n",
       "      <th>mean</th>\n",
       "      <td>797.504936</td>\n",
       "      <td>691.911630</td>\n",
       "    </tr>\n",
       "    <tr>\n",
       "      <th>std</th>\n",
       "      <td>2168.235494</td>\n",
       "      <td>2242.769687</td>\n",
       "    </tr>\n",
       "    <tr>\n",
       "      <th>min</th>\n",
       "      <td>0.000000</td>\n",
       "      <td>0.000000</td>\n",
       "    </tr>\n",
       "    <tr>\n",
       "      <th>25%</th>\n",
       "      <td>0.000000</td>\n",
       "      <td>0.000000</td>\n",
       "    </tr>\n",
       "    <tr>\n",
       "      <th>50%</th>\n",
       "      <td>0.000000</td>\n",
       "      <td>0.000000</td>\n",
       "    </tr>\n",
       "    <tr>\n",
       "      <th>75%</th>\n",
       "      <td>656.547500</td>\n",
       "      <td>412.212500</td>\n",
       "    </tr>\n",
       "    <tr>\n",
       "      <th>max</th>\n",
       "      <td>61770.470000</td>\n",
       "      <td>70251.600000</td>\n",
       "    </tr>\n",
       "  </tbody>\n",
       "</table>\n",
       "</div>"
      ],
      "text/plain": [
       "       AmtClaimsYr1  AmtClaimsYr2\n",
       "count  50000.000000  50000.000000\n",
       "mean     797.504936    691.911630\n",
       "std     2168.235494   2242.769687\n",
       "min        0.000000      0.000000\n",
       "25%        0.000000      0.000000\n",
       "50%        0.000000      0.000000\n",
       "75%      656.547500    412.212500\n",
       "max    61770.470000  70251.600000"
      ]
     },
     "execution_count": 34,
     "metadata": {},
     "output_type": "execute_result"
    }
   ],
   "source": [
    "# Review basic stats for claims in years 1 and 2\n",
    "df[['AmtClaimsYr1', 'AmtClaimsYr2']].describe()"
   ]
  },
  {
   "cell_type": "code",
   "execution_count": 40,
   "metadata": {},
   "outputs": [
    {
     "name": "stdout",
     "output_type": "stream",
     "text": [
      "99% of Pets had total claims in year 1 less than 10685.7036\n",
      "99% of Pets had total claims in year 2 less than 10490.7582\n"
     ]
    }
   ],
   "source": [
    "# Check the 99th percentile of claims totals for each year\n",
    "print(\"99% of Pets had total claims in year 1 less than \" + str(round(df.AmtClaimsYr1.quantile(.99), 4)))\n",
    "print(\"99% of Pets had total claims in year 2 less than \" + str(round(df.AmtClaimsYr2.quantile(.99), 4)))"
   ]
  },
  {
   "cell_type": "markdown",
   "metadata": {},
   "source": [
    "Looking at the distribution data, it's clear there is a small number of pets in each year with very high total claims amounts. The rollup is helpful, but it does obscure some of the details about the underlying claims.\n",
    "\n",
    "Before we decide what to do about the pets with outlier claims totals in year 1 and 2, let's take a step back and look into the individual claims amounts.\n",
    "\n",
    "#### 3.1.1 Review data for individual claims "
   ]
  },
  {
   "cell_type": "code",
   "execution_count": 44,
   "metadata": {},
   "outputs": [
    {
     "data": {
      "text/html": [
       "<div>\n",
       "<style scoped>\n",
       "    .dataframe tbody tr th:only-of-type {\n",
       "        vertical-align: middle;\n",
       "    }\n",
       "\n",
       "    .dataframe tbody tr th {\n",
       "        vertical-align: top;\n",
       "    }\n",
       "\n",
       "    .dataframe thead th {\n",
       "        text-align: right;\n",
       "    }\n",
       "</style>\n",
       "<table border=\"1\" class=\"dataframe\">\n",
       "  <thead>\n",
       "    <tr style=\"text-align: right;\">\n",
       "      <th></th>\n",
       "      <th>PetId</th>\n",
       "      <th>ClaimDate</th>\n",
       "      <th>AmountClaimed</th>\n",
       "      <th>EnrollDate</th>\n",
       "      <th>Year</th>\n",
       "    </tr>\n",
       "  </thead>\n",
       "  <tbody>\n",
       "    <tr>\n",
       "      <th>0</th>\n",
       "      <td>0</td>\n",
       "      <td>2020-03-07 12:17:00</td>\n",
       "      <td>624.00</td>\n",
       "      <td>2018-09-18 17:51:00</td>\n",
       "      <td>Yr2</td>\n",
       "    </tr>\n",
       "    <tr>\n",
       "      <th>1</th>\n",
       "      <td>0</td>\n",
       "      <td>2020-03-07 08:03:00</td>\n",
       "      <td>618.00</td>\n",
       "      <td>2018-09-18 17:51:00</td>\n",
       "      <td>Yr2</td>\n",
       "    </tr>\n",
       "    <tr>\n",
       "      <th>2</th>\n",
       "      <td>2</td>\n",
       "      <td>2020-02-08 00:18:00</td>\n",
       "      <td>199.52</td>\n",
       "      <td>2018-08-22 11:23:00</td>\n",
       "      <td>Yr2</td>\n",
       "    </tr>\n",
       "    <tr>\n",
       "      <th>3</th>\n",
       "      <td>2</td>\n",
       "      <td>2018-09-21 14:34:00</td>\n",
       "      <td>199.60</td>\n",
       "      <td>2018-08-22 11:23:00</td>\n",
       "      <td>Yr1</td>\n",
       "    </tr>\n",
       "    <tr>\n",
       "      <th>4</th>\n",
       "      <td>2</td>\n",
       "      <td>2018-10-23 01:40:00</td>\n",
       "      <td>162.40</td>\n",
       "      <td>2018-08-22 11:23:00</td>\n",
       "      <td>Yr1</td>\n",
       "    </tr>\n",
       "  </tbody>\n",
       "</table>\n",
       "</div>"
      ],
      "text/plain": [
       "   PetId            ClaimDate  AmountClaimed           EnrollDate Year\n",
       "0      0  2020-03-07 12:17:00         624.00  2018-09-18 17:51:00  Yr2\n",
       "1      0  2020-03-07 08:03:00         618.00  2018-09-18 17:51:00  Yr2\n",
       "2      2  2020-02-08 00:18:00         199.52  2018-08-22 11:23:00  Yr2\n",
       "3      2  2018-09-21 14:34:00         199.60  2018-08-22 11:23:00  Yr1\n",
       "4      2  2018-10-23 01:40:00         162.40  2018-08-22 11:23:00  Yr1"
      ]
     },
     "execution_count": 44,
     "metadata": {},
     "output_type": "execute_result"
    }
   ],
   "source": [
    "# Read in the cleaned claims data\n",
    "claims = pd.read_csv('../data/cleaned_claims.csv', index_col=0)\n",
    "claims.head()"
   ]
  },
  {
   "cell_type": "code",
   "execution_count": 45,
   "metadata": {},
   "outputs": [
    {
     "data": {
      "text/plain": [
       "count    154889.000000\n",
       "mean        480.801273\n",
       "std         942.549867\n",
       "min           0.190000\n",
       "25%          95.000000\n",
       "50%         201.200000\n",
       "75%         445.860000\n",
       "max       45084.990000\n",
       "Name: AmountClaimed, dtype: float64"
      ]
     },
     "execution_count": 45,
     "metadata": {},
     "output_type": "execute_result"
    }
   ],
   "source": [
    "# Review the descriptive statistics\n",
    "claims.AmountClaimed.describe()"
   ]
  },
  {
   "cell_type": "code",
   "execution_count": 48,
   "metadata": {},
   "outputs": [
    {
     "name": "stdout",
     "output_type": "stream",
     "text": [
      "99% of claims are below 4899.08\n"
     ]
    }
   ],
   "source": [
    "# Calculate the 99th percentile of claims amounts\n",
    "pct_99 = round(np.percentile(claims.AmountClaimed, 99), 2)\n",
    "print(\"99% of claims are below \" + str(pct_99))"
   ]
  },
  {
   "cell_type": "code",
   "execution_count": 49,
   "metadata": {},
   "outputs": [
    {
     "data": {
      "text/plain": [
       "1    824\n",
       "2    235\n",
       "3     53\n",
       "4      9\n",
       "5      9\n",
       "7      1\n",
       "8      1\n",
       "Name: PetId, dtype: int64"
      ]
     },
     "execution_count": 49,
     "metadata": {},
     "output_type": "execute_result"
    }
   ],
   "source": [
    "# Filter to rows with high claims \n",
    "high_claims = claims[claims.AmountClaimed >= pct_99]\n",
    "\n",
    "# Groupby PetId and get a count of expensive claims for each pet\n",
    "exp_pets = high_claims.groupby('PetId').agg({'PetId': 'count'})\n",
    "\n",
    "# Check to see how many pets have more than one high dollar claim\n",
    "exp_pets.PetId.value_counts()"
   ]
  },
  {
   "cell_type": "markdown",
   "metadata": {},
   "source": []
  },
  {
   "cell_type": "code",
   "execution_count": null,
   "metadata": {},
   "outputs": [],
   "source": [
    "np.percentile(df.AmtClaimsYr1, 99.8)"
   ]
  },
  {
   "cell_type": "code",
   "execution_count": null,
   "metadata": {},
   "outputs": [],
   "source": [
    "np.percentile(df.AmtClaimsYr2, 99.8)"
   ]
  },
  {
   "cell_type": "code",
   "execution_count": null,
   "metadata": {},
   "outputs": [],
   "source": [
    "df[df.AmtClaimsYr1 > 18304].Species.value_counts()"
   ]
  },
  {
   "cell_type": "code",
   "execution_count": null,
   "metadata": {},
   "outputs": [],
   "source": [
    "df[df.AmtClaimsYr1 > 18304].Breed.value_counts()"
   ]
  },
  {
   "cell_type": "code",
   "execution_count": null,
   "metadata": {},
   "outputs": [],
   "source": [
    "df[df.AmtClaimsYr2 > 20828].Species.value_counts()"
   ]
  },
  {
   "cell_type": "code",
   "execution_count": null,
   "metadata": {},
   "outputs": [],
   "source": [
    "df[df.AmtClaimsYr2 > 18304].Breed.value_counts()"
   ]
  },
  {
   "cell_type": "code",
   "execution_count": null,
   "metadata": {},
   "outputs": [],
   "source": [
    "# Create histograms showing the distribution of claims for years 1 and 2 \n",
    "fig, (ax1, ax2) = plt.subplots(1,2, sharey=True, figsize=(20,6))\n",
    "ax1.hist(df.AmtClaimsYr1, bins=20)\n",
    "ax1.set_title(\"Claims Distribution, Year 1\")\n",
    "ax2.hist(df.AmtClaimsYr2, bins=20)\n",
    "ax2.set_title(\"Claims Distribution, Year 2\")\n",
    "plt.show()"
   ]
  },
  {
   "cell_type": "markdown",
   "metadata": {},
   "source": [
    "Obervations - lots of \\\\$0 claims"
   ]
  },
  {
   "cell_type": "code",
   "execution_count": null,
   "metadata": {},
   "outputs": [],
   "source": [
    "# Filter out $0 Claims Amounts\n",
    "yr1_greater_0 = df[df.AmtClaimsYr1 > 0]['AmtClaimsYr1'] \n",
    "yr2_greater_0 = df[df.AmtClaimsYr2 > 0]['AmtClaimsYr2'] \n",
    "\n",
    "# Create histograms showing the distribution of claims for years 1 and 2 \n",
    "fig, (ax1, ax2) = plt.subplots(1,2, sharey=True, figsize=(20,6))\n",
    "ax1.hist(yr1_greater_0, bins=20)\n",
    "ax1.set_title(\"Claims Distribution, Year 1\")\n",
    "ax2.hist(yr2_greater_0, bins=20)\n",
    "ax2.set_title(\"Claims Distribution, Year 2\")\n",
    "plt.show()"
   ]
  },
  {
   "cell_type": "markdown",
   "metadata": {},
   "source": [
    "## 4 Species - Are Dogs More Expensive Than Cats?  \n",
    "As the current owner of two cats and the former owner of two dogs, this seems like a pretty easy question to answer for me. Based on my own experiences, dogs are much more expensive than cats in about every dimension possible. They are larger and tend to eat more (much more in some cases), they typically spend more of their lives outside making them more prone to injury and they go through chew toys like crazy! But, do dog owners spend more on vet bills than cat owners?\n",
    "\n",
    "### 4.1 Aggregate data by species\n",
    "\n",
    "Rather than jumping straight to claims amounts, let's instead look at a breakdown of all the data by species to see if we see anything of interest."
   ]
  },
  {
   "cell_type": "code",
   "execution_count": null,
   "metadata": {},
   "outputs": [],
   "source": [
    "# Group df by 'Species' and view column means\n",
    "df.groupby(by='Species').agg('mean')"
   ]
  },
  {
   "cell_type": "code",
   "execution_count": null,
   "metadata": {},
   "outputs": [],
   "source": [
    "# Group df by 'Species' and view column means\n",
    "df.groupby(by='Species').agg('median')"
   ]
  },
  {
   "cell_type": "markdown",
   "metadata": {},
   "source": [
    "#### 4.1.1 Initial observations\n",
    "Some initial observations based on the breakdown above:\n",
    "1. On average, Dogs have higher premiums and higher deductibles\n",
    "2. Dogs tend to be enrolled at a younger age by nearly a year on average\n",
    "3. The averages for claims data (i.e., number of claims, average claim amount, and total claims amount) is higher for dogs across the board and in some cases, is as much as 2x higher than for cats.\n",
    "4. While not a difference between cats and dogs, it's interesting to see that the median value for all claims categories is 0. This last point will almost certainly factor in as we move forward with analysis.\n",
    "\n",
    "### 4.2 Claims differences between species\n",
    "Since the focus of this study is on claims amounts, we'll focus on claims-related categories for now. The difference in the average claims amounts between cats and dogs in year one appears to be significant with dogs (\\\\$867) at more than 2x higher than cats (\\\\$433). And in year 2, the average for dogs (\\\\$739) is not quite 2x the average for cats (\\\\$445), but it's close.\n",
    "\n",
    "Based on this, we may need to factor this in to our predictive model later on as it appears that a single model may not work well across the two species.\n",
    "\n",
    "Before we make the final decision, let's plot the data for a better look.\n",
    "\n",
    "#### 4.2.1 Disstribution of claims by species"
   ]
  },
  {
   "cell_type": "code",
   "execution_count": null,
   "metadata": {},
   "outputs": [],
   "source": [
    "# Create boxplot showing the distribution of claims totals by species\n",
    "amt_claims_total = df[\"AmtClaimsYr1\"] + df[\"AmtClaimsYr2\"]\n",
    "sns.catplot(x=\"Species\", y=amt_claims_total, data=df, kind=\"box\", sym=\"\")\n",
    "plt.ylabel(\"Total Claims Amount (outliers removed)\")\n",
    "plt.title(\"Total Claims by Species\")\n",
    "plt.show()"
   ]
  },
  {
   "cell_type": "markdown",
   "metadata": {},
   "source": [
    "The above plot tells a pretty compelling story. After removing outliers, the entire distribution of claims totals for cats fits within the first 75% of the distribution for dogs. And the remaining 25% of claims totals for dogs covers a spread nearly twice as big as the entire range for cats. \n",
    "\n",
    "Let's plot another view for a different perspective.\n",
    "\n",
    "#### 4.2.2 Total number of claims vs. total amount of claims"
   ]
  },
  {
   "cell_type": "code",
   "execution_count": null,
   "metadata": {},
   "outputs": [],
   "source": [
    "# Calculate total number of claims per pet\n",
    "num_claims_total = df[\"NumClaimsYr1\"] + df[\"NumClaimsYr2\"]\n",
    "\n",
    "# Create a scatter plot showing number and amount of claims by species\n",
    "plt.figure(figsize=(10,6))\n",
    "_ = sns.scatterplot(x=num_claims_total, y=amt_claims_total, data=df, hue='Species')\n",
    "\n",
    "plt.xlabel(\"Number of Claims\")\n",
    "plt.ylabel(\"Amount of Claims\")\n",
    "plt.title(\"Total Claims by Species\")\n",
    "\n",
    "legend = plt.legend(title=\"\", fancybox=True)\n",
    "\n",
    "plt.show()"
   ]
  },
  {
   "cell_type": "markdown",
   "metadata": {},
   "source": [
    "Based on the above, it seems the overall story may not be straightforward. The scatter plot above shows quite a bit of variability in the data regardless of species, with no clear way to classify a pet into one species or another based solely on number and amount of claims.\n",
    "\n",
    "Before we move on, let's make one additional plot to help us better understand the breakdown of the data.\n",
    "\n",
    "#### 4.2.3 Total claims amount by species and age"
   ]
  },
  {
   "cell_type": "code",
   "execution_count": null,
   "metadata": {},
   "outputs": [],
   "source": [
    "# Create a nested barplot \n",
    "sns.set_style(\"whitegrid\")\n",
    "_ = sns.catplot(kind=\"bar\", x=\"AgeYr1\", y=amt_claims_total, data=df, hue=\"Species\", aspect=2, height=6)\n",
    "\n",
    "_.set_axis_labels(\"Age at Enrollment\", \"Total Claims\")\n",
    "_.despine(left=True)\n",
    "_.legend.set_title(\"\")"
   ]
  },
  {
   "cell_type": "markdown",
   "metadata": {},
   "source": [
    "This is an interesting perspective. Claims for dogs exceed claims for cats by a considerable margin at every age along the spectrum with the exception of the oldest age in our dataset (13). In addition, the confidence interval on the claims data is generally increasing in proportion to pet age. Intuitively this makes sense given that we would expect to see a greater variance in healthcare costs as pets age (similar to what is observed in people).\n",
    "\n",
    "### 4.3 Conclusions about species\n",
    "* Species does appear to play a significant factor in claims amounts and will need to be taken into account as we build out the predictive model.\n",
    "* Number and amount of claims is highly variable regardless of species.\n",
    "* Pet age also appears to be a factor relating to claims amount, and a bit more so for dogs than cats until roughly age 10. The variability of claims amounts definitely increases with age and we should look into this further.\n"
   ]
  },
  {
   "cell_type": "markdown",
   "metadata": {},
   "source": [
    "## 5 Breed - Does Breed Factor in to Claims Amounts?\n",
    "\n",
    "TBD - write up intro for this section with initial list of questions\n",
    "\n",
    "### 5.1 Cat breeds\n",
    "TBD - write up if needed\n",
    "\n",
    "Since we only have ~35 total cat breeds, we can take a quick look at a rollup of claims data for all breeds to help guide next steps."
   ]
  },
  {
   "cell_type": "code",
   "execution_count": null,
   "metadata": {},
   "outputs": [],
   "source": [
    "# Create cats dataframe\n",
    "cats = df[df.Species == 'Cat'].copy()\n",
    "\n",
    "# Group cats by breed and aggregate claims data columns\n",
    "cats_by_breed = cats.groupby('Breed').agg({'PetId': ['count'],\n",
    "                                           'NumClaimsYr1':['mean'],\n",
    "                                           'NumClaimsYr2':['mean'],\n",
    "                                           'AmtClaimsYr1':['mean', 'median', 'min', 'max'], \n",
    "                                           'AmtClaimsYr2':['mean', 'median', 'min', 'max']}\n",
    "                                         )\n",
    "# View result\n",
    "cats_by_breed"
   ]
  },
  {
   "cell_type": "markdown",
   "metadata": {},
   "source": [
    "#### 5.1.1 Initial observations on cat breeds\n",
    "TBD\n",
    "* The number of cats for each breed covers a wide range, from 1 pet for certain breeds to 3511 for the most common breed. \n",
    "* Some breeds with a low count have 0 claims (e.g., American Wirehair and Chartreux), while others have very high claims (e.g., Selkirk Rex). \n",
    "* The most common values for median and minimum claims amounts is \\\\$0. This matches up with what we observed earlier on in the analysis and will likely factor in to the final predictions.\n",
    "* Others??\n",
    "\n",
    "TODO for conclusions - will need to pick a count that is reasonable and then group breeds below that count into an \"Other\" category."
   ]
  },
  {
   "cell_type": "code",
   "execution_count": null,
   "metadata": {},
   "outputs": [],
   "source": [
    "# Preview number of cat breeds with a count of pets greater than 30\n",
    "cats_by_breed[cats_by_breed['PetId']['count'] >= 30]['PetId']['count'].sort_values(ascending=False)"
   ]
  },
  {
   "cell_type": "code",
   "execution_count": null,
   "metadata": {},
   "outputs": [],
   "source": [
    "# Preview full result\n",
    "cats_by_breed[cats_by_breed['PetId']['count'] >= 30].sort_values([('AmtClaimsYr2', 'mean')], ascending=False)"
   ]
  },
  {
   "cell_type": "code",
   "execution_count": null,
   "metadata": {},
   "outputs": [],
   "source": [
    "# Preserve list of Breeds with count greater equal to 30\n",
    "cat_breeds = cats_by_breed[cats_by_breed['PetId']['count'] >= 30].index.to_list()\n",
    "\n",
    "# cats_by_breed.reset_index(inplace=True)\n",
    "\n",
    "# Group breeds as 'Other' if count less than 30\n"
   ]
  },
  {
   "cell_type": "code",
   "execution_count": null,
   "metadata": {},
   "outputs": [],
   "source": [
    "# x = cats_by_breed[cats_by_breed['PetId']['count'] >= 30].index\n",
    "# y1 = cats_by_breed[cats_by_breed['PetId']['count'] >= 30][('AmtClaimsYr1', 'mean')]\n",
    "# y2 = cats_by_breed[cats_by_breed['PetId']['count'] >= 30][('AmtClaimsYr2', 'mean')]\n",
    "\n",
    "plt.figure(figsize=(10,6))\n",
    "# _ = plt.barh([y1,y2], stacked=True, width=1.0)\n",
    "cats_by_breed[cats_by_breed['PetId']['count'] >= 30][[('AmtClaimsYr1', 'mean'),('AmtClaimsYr2', 'mean')]].plot(kind='barh', stacked=True)\n",
    "\n",
    "plt.gca().invert_yaxis()\n",
    "plt.show()"
   ]
  },
  {
   "cell_type": "code",
   "execution_count": null,
   "metadata": {},
   "outputs": [],
   "source": []
  },
  {
   "cell_type": "code",
   "execution_count": null,
   "metadata": {},
   "outputs": [],
   "source": [
    "# Preview full result\n",
    "cats_by_breed[cats_by_breed['PetId']['count'] < 30].sort_values([('AmtClaimsYr2', 'mean')], ascending=False)"
   ]
  },
  {
   "cell_type": "code",
   "execution_count": null,
   "metadata": {},
   "outputs": [],
   "source": [
    "###########\n",
    "# TODO\n",
    "##########\n",
    "# View distribution of average claims by cat breed (below seems like it would work for dogs as well)\n",
    "## Maybe a scatter plot - each breed is a point plotted based on avg total num claims and avg total amount claims \n",
    "## Scatter plot circle size based on count of breed\n",
    "\n",
    "# Remove outlier claims amounts\n",
    "# Group cat breeds with fewer than 20 or 30 representative cats (unless it seems there is a significant difference maybe?? how to do this?)\n"
   ]
  },
  {
   "cell_type": "code",
   "execution_count": null,
   "metadata": {},
   "outputs": [],
   "source": [
    "breed_counts = cats_by_breed['NumClaimsTotal', 'count']\n",
    "breed_num_claims = cats_by_breed['NumClaimsTotal', 'mean']\n",
    "breed_amt_claims = cats_by_breed['AmtClaimsTotal', 'mean']\n",
    "\n",
    "plt.figure(figsize=(10,6))\n",
    "_ = sns.scatterplot(data=cats_by_breed, x=breed_num_claims, y=breed_amt_claims, \n",
    "                    size=breed_counts, sizes=(20, 200), legend=False)\n",
    "plt.show()"
   ]
  },
  {
   "cell_type": "code",
   "execution_count": null,
   "metadata": {},
   "outputs": [],
   "source": [
    "cats_by_breed = cats_by_breed[cats_by_breed['AmtClaimsTotal', 'mean'] < 2000]"
   ]
  },
  {
   "cell_type": "code",
   "execution_count": null,
   "metadata": {},
   "outputs": [],
   "source": [
    "breed_counts = cats_by_breed['NumClaimsTotal', 'count']\n",
    "breed_num_claims = cats_by_breed['NumClaimsTotal', 'mean']\n",
    "breed_amt_claims = cats_by_breed['AmtClaimsTotal', 'mean']\n",
    "\n",
    "plt.figure(figsize=(10,6))\n",
    "_ = sns.scatterplot(data=cats_by_breed, x=breed_num_claims, y=breed_amt_claims, \n",
    "                    hue=breed_counts, size=breed_counts, sizes=(20, 200), legend=True)\n",
    "\n",
    "plt.xlabel('Avg Total Number of Claims')\n",
    "plt.ylabel('Avg Total Amount of Claims')\n",
    "plt.title('Average Claims by Breed')\n",
    "# _._legend.set_title('Count of Breed')\n",
    "plt.legend(bbox_to_anchor=(1.05, 1), loc=2, borderaxespad=0.5, title=\"Count of Breed\")\n",
    "\n",
    "plt.show()"
   ]
  },
  {
   "cell_type": "code",
   "execution_count": null,
   "metadata": {},
   "outputs": [],
   "source": []
  },
  {
   "cell_type": "code",
   "execution_count": null,
   "metadata": {},
   "outputs": [],
   "source": []
  },
  {
   "cell_type": "markdown",
   "metadata": {},
   "source": [
    "## Consider plotting the claims in year 1 and 2 after removing the outlier data to get a better distribution."
   ]
  },
  {
   "cell_type": "code",
   "execution_count": null,
   "metadata": {},
   "outputs": [],
   "source": []
  },
  {
   "cell_type": "markdown",
   "metadata": {},
   "source": [
    "## Correlation between Yr2 claims and other features"
   ]
  },
  {
   "cell_type": "code",
   "execution_count": null,
   "metadata": {},
   "outputs": [],
   "source": [
    "cats_corr = cats.corr()\n",
    "# dogs_corr = dogs.corr()"
   ]
  },
  {
   "cell_type": "code",
   "execution_count": null,
   "metadata": {},
   "outputs": [],
   "source": [
    "cats_corr"
   ]
  },
  {
   "cell_type": "markdown",
   "metadata": {},
   "source": [
    "Total and average claims are highly correlated with yr1 and yr2 totals and averages, respectively. This makes sense. Some additional areas for analysis include:\n",
    "\n",
    "1. Investigate to see if high yr1 claims tend to lead to high yr2 claims, or if there is any connection. (correlation is only 0.177)\n",
    "\n",
    "2. "
   ]
  },
  {
   "cell_type": "code",
   "execution_count": null,
   "metadata": {},
   "outputs": [],
   "source": [
    "plt.figure(figsize=(10,6))\n",
    "_ = sns.heatmap(cats_corr)\n",
    "plt.show()"
   ]
  },
  {
   "cell_type": "code",
   "execution_count": null,
   "metadata": {},
   "outputs": [],
   "source": [
    "plt.figure(figsize=(10,6))\n",
    "_ = sns.heatmap(dogs_corr)\n",
    "plt.show()"
   ]
  },
  {
   "cell_type": "code",
   "execution_count": null,
   "metadata": {},
   "outputs": [],
   "source": [
    "# Review Distributions of all numeric columns\n",
    "df.hist(figsize=(15,10))\n",
    "_ = plt.subplots_adjust(hspace=0.5)\n",
    "plt.show()"
   ]
  },
  {
   "cell_type": "markdown",
   "metadata": {},
   "source": [
    "## Are claims in year 1 a good predictor of claims in year 2? "
   ]
  },
  {
   "cell_type": "code",
   "execution_count": null,
   "metadata": {},
   "outputs": [],
   "source": [
    "sns.scatterplot(x=\"AmtClaimsYr1\", y=\"AmtClaimsYr2\", data=df)\n",
    "plt.show()"
   ]
  },
  {
   "cell_type": "code",
   "execution_count": null,
   "metadata": {},
   "outputs": [],
   "source": [
    "# Linear regression\n",
    "\n",
    "# Create arrays of values\n",
    "AmtClaimsYr1 = df.AmtClaimsYr1.values\n",
    "AmtClaimsYr2 = df.AmtClaimsYr2.values\n",
    "\n",
    "# Create the scatterplot\n",
    "plt.figure(figsize=(10,6))\n",
    "# _ = plt.plot(AmtClaimsYr1, AmtClaimsYr2, marker='.', linestyle='none')\n",
    "sns.scatterplot(x=\"AmtClaimsYr1\", y=\"AmtClaimsYr2\", data=df)\n",
    "plt.margins(0.02)\n",
    "_ = plt.xlabel('Claims Total in Year 1')\n",
    "_ = plt.ylabel('Claims Total in Year 2')\n",
    "\n",
    "# Perform a linear regression using np.polyfit(): a, b\n",
    "a, b = np.polyfit(AmtClaimsYr1, AmtClaimsYr2, 1)\n",
    "\n",
    "# # Print the results to the screen\n",
    "# print('slope =', a, 'Claims Total in Year 2 / Claims Total in Year 1')\n",
    "# print('intercept =', b, 'Claims Total in Year 2')\n",
    "\n",
    "# Make theoretical line to plot\n",
    "x = np.array([0, 70000])\n",
    "y = a * x + b\n",
    "\n",
    "# Add regression line to your plot\n",
    "_ = plt.plot(x, y, color='orange')\n",
    "\n",
    "# Draw the plot\n",
    "plt.show()"
   ]
  },
  {
   "cell_type": "code",
   "execution_count": null,
   "metadata": {},
   "outputs": [],
   "source": [
    "######\n",
    "# TODO - Consider doing a similar plot as above for yr1 vs total and year2 vs total? Or a facet grid of all features\n",
    "######"
   ]
  },
  {
   "cell_type": "code",
   "execution_count": null,
   "metadata": {},
   "outputs": [],
   "source": []
  },
  {
   "cell_type": "markdown",
   "metadata": {},
   "source": [
    "## What percentage of pets have no claims at all? Claims in year 1 and in year 2? Claims in only one of the two years?"
   ]
  },
  {
   "cell_type": "code",
   "execution_count": null,
   "metadata": {},
   "outputs": [],
   "source": [
    "# Calculate the percentages of pets with claims > $0 in 1 yr, 2 yrs and not at all \n",
    "no_claims = round(df[(df['AmtClaimsYr1'] == 0) & (df['AmtClaimsYr2'] == 0)].shape[0] / df.shape[0] * 100)\n",
    "both_yr_claims = round(df[(df['AmtClaimsYr1'] > 0) & (df['AmtClaimsYr2'] > 0)].shape[0] / df.shape[0] * 100)\n",
    "one_yr_claims = 100 - (no_claims + both_yr_claims)\n",
    "\n",
    "# Print the result\n",
    "print(str(no_claims) + \"% of pets have no claims\")\n",
    "print(str(one_yr_claims) + \"% of pets have claims in only one year\")\n",
    "print(str(both_yr_claims) + \"% of pets have claims in both years\")"
   ]
  },
  {
   "cell_type": "markdown",
   "metadata": {},
   "source": [
    "## Is there a connection between the number of claims submitted in year 1 and year 2?"
   ]
  },
  {
   "cell_type": "markdown",
   "metadata": {},
   "source": [
    "## Breed analysis"
   ]
  },
  {
   "cell_type": "code",
   "execution_count": null,
   "metadata": {},
   "outputs": [],
   "source": [
    "# Groupby Breed column and aggregate the mean of the total claims amount\n",
    "breed_claims = df.groupby(by=['Species', 'Breed']).AmtClaimsTotal.agg(['mean', 'count']).sort_values(by='mean',\n",
    "                                                                                        ascending=False)\n",
    "# Rename aggregate columns \n",
    "breed_claims.rename(columns={\"mean\": \"AvgTotalClaims\", \"count\": \"BreedCount\"}, inplace=True)\n",
    "\n",
    "# Preview descriptive statistics \n",
    "breed_claims.describe()"
   ]
  },
  {
   "cell_type": "code",
   "execution_count": null,
   "metadata": {},
   "outputs": [],
   "source": [
    "breed_claims.head(50)"
   ]
  },
  {
   "cell_type": "code",
   "execution_count": null,
   "metadata": {},
   "outputs": [],
   "source": [
    "breed_claims.tail(20)"
   ]
  },
  {
   "cell_type": "code",
   "execution_count": null,
   "metadata": {},
   "outputs": [],
   "source": [
    "cond_plot = sns.FacetGrid(data=cats, col='Breed', hue='CentralAir', col_wrap=4)\n",
    "cond_plot.map(sns.scatterplot, 'OverallQual', 'SalePrice');"
   ]
  },
  {
   "cell_type": "code",
   "execution_count": null,
   "metadata": {},
   "outputs": [],
   "source": []
  },
  {
   "cell_type": "code",
   "execution_count": null,
   "metadata": {},
   "outputs": [],
   "source": []
  },
  {
   "cell_type": "markdown",
   "metadata": {},
   "source": [
    "## EnrollPath - Do people who enroll on the web submit more claims on average than those enrolling by phone?\n",
    "\n",
    "Does enrollpath matter in terms of number of claims filed?\n",
    "Look at median claims"
   ]
  },
  {
   "cell_type": "code",
   "execution_count": null,
   "metadata": {},
   "outputs": [],
   "source": [
    "# Preview enroll path entries and value counts\n",
    "df.EnrollPath.value_counts()"
   ]
  },
  {
   "cell_type": "code",
   "execution_count": null,
   "metadata": {},
   "outputs": [],
   "source": [
    "# Group data by enrollpath\n",
    "enrollpath = df.groupby(by='EnrollPath')\n",
    "\n",
    "# Display aggregated statistics for total claims amount by enrollpath\n",
    "enrollpath.NumClaimsTotal.agg(['mean', 'median', 'min', 'max'])"
   ]
  },
  {
   "cell_type": "code",
   "execution_count": null,
   "metadata": {},
   "outputs": [],
   "source": [
    "# Display aggregated statistics for total claims amount by enrollpath\n",
    "enrollpath.AmtClaimsTotal.agg(['mean', 'median', 'min', 'max'])"
   ]
  },
  {
   "cell_type": "markdown",
   "metadata": {},
   "source": [
    "## How much does age play a roll in yr2 claims totals?\n",
    "1. Look at average claims amount grouped by age in years\n",
    "2. Scatterplot of AgeYr2 and AmtClaimsYr2 (maybe do this all up and also a facetgrid with a plot per year)\n",
    "3. "
   ]
  },
  {
   "cell_type": "code",
   "execution_count": null,
   "metadata": {},
   "outputs": [],
   "source": [
    "# Aggregate mean claims data per year and total\n",
    "yr1_claims = df.groupby(by='AgeYr2').AmtClaimsYr1.agg('mean')\n",
    "yr2_claims = df.groupby(by='AgeYr2').AmtClaimsYr2.agg('mean')\n",
    "total_claims = df.groupby(by='AgeYr2').AmtClaimsTotal.agg('mean')\n",
    "\n",
    "# Create plots and label\n",
    "plt.figure(figsize=(10,6))\n",
    "_ = plt.plot(yr1_claims, label='Year 1 Claims')\n",
    "_ = plt.plot(yr2_claims, label='Year 2 Claims')\n",
    "_ = plt.plot(total_claims, label='Total Claims')\n",
    "\n",
    "plt.xlabel('Pet Age in Years')\n",
    "plt.ylabel('Dollars')\n",
    "\n",
    "plt.legend()\n",
    "plt.show()"
   ]
  },
  {
   "cell_type": "code",
   "execution_count": null,
   "metadata": {},
   "outputs": [],
   "source": []
  },
  {
   "cell_type": "code",
   "execution_count": null,
   "metadata": {},
   "outputs": [],
   "source": [
    "# # Isolate rows with high premiums for additional review\n",
    "# high_prems = pets[pets['Premium'] > 200]\n",
    "\n",
    "# # Review date distribution\n",
    "# plt.figure(figsize=(6, 4))\n",
    "# plt.title('Distribution of High Premiums')\n",
    "# plt.hist(high_prems.Premium, bins = 20)\n",
    "# plt.show()"
   ]
  },
  {
   "cell_type": "code",
   "execution_count": null,
   "metadata": {},
   "outputs": [],
   "source": [
    "# # Review the number of pets with high premiums by species\n",
    "# high_prems.Species.value_counts()"
   ]
  },
  {
   "cell_type": "code",
   "execution_count": null,
   "metadata": {},
   "outputs": [],
   "source": []
  },
  {
   "cell_type": "code",
   "execution_count": null,
   "metadata": {},
   "outputs": [],
   "source": []
  },
  {
   "cell_type": "code",
   "execution_count": null,
   "metadata": {},
   "outputs": [],
   "source": []
  },
  {
   "cell_type": "code",
   "execution_count": null,
   "metadata": {},
   "outputs": [],
   "source": [
    "# Plotting a histogram\n",
    "# Compute number of data points: n_data\n",
    "n_data = len(versicolor_petal_length)\n",
    "\n",
    "# Number of bins is the square root of number of data points: n_bins\n",
    "n_bins = np.sqrt(n_data)\n",
    "\n",
    "# Convert number of bins to integer: n_bins\n",
    "n_bins = int(n_bins)\n",
    "\n",
    "# Plot the histogram\n",
    "_ = plt.hist(versicolor_petal_length, bins=n_bins)\n",
    "\n",
    "# Label axes\n",
    "_ = plt.xlabel('petal length (cm)')\n",
    "_ = plt.ylabel('count')\n",
    "\n",
    "# Show histogram\n",
    "plt.show()"
   ]
  },
  {
   "cell_type": "code",
   "execution_count": null,
   "metadata": {},
   "outputs": [],
   "source": [
    "# Plotting a beeswarm plot\n",
    "# Create bee swarm plot with Seaborn's default settings\n",
    "_ = sns.swarmplot(x='species', y='petal length (cm)', data=df)\n",
    "\n",
    "# Label the axes\n",
    "_ = plt.xlabel('species')\n",
    "_ = plt.ylabel('petal length (cm)')\n",
    "\n",
    "# Show the plot\n",
    "plt.show()"
   ]
  },
  {
   "cell_type": "code",
   "execution_count": null,
   "metadata": {},
   "outputs": [],
   "source": [
    "# ECDF function\n",
    "def ecdf(data):\n",
    "    \"\"\"Compute ECDF for a one-dimensional array of measurements.\"\"\"\n",
    "    # Number of data points: n\n",
    "    n = len(data)\n",
    "\n",
    "    # x-data for the ECDF: x\n",
    "    x = np.sort(data)\n",
    "\n",
    "    # y-data for the ECDF: y\n",
    "    y = np.arange(1, n+1) / n\n",
    "\n",
    "    return x, y"
   ]
  },
  {
   "cell_type": "code",
   "execution_count": null,
   "metadata": {},
   "outputs": [],
   "source": [
    "# Compute and plot ECDF \n",
    "\n",
    "# Compute ECDF for versicolor data: x_vers, y_vers\n",
    "x_vers, y_vers = ecdf(versicolor_petal_length)\n",
    "\n",
    "# Generate plot\n",
    "_ = plt.plot(x_vers, y_vers, marker='.', linestyle='none')\n",
    "\n",
    "# Label the axes\n",
    "_ = plt.xlabel('petal length (cm)')\n",
    "_ = plt.ylabel('ECDF')\n",
    "\n",
    "# Display the plot\n",
    "plt.show()"
   ]
  },
  {
   "cell_type": "code",
   "execution_count": null,
   "metadata": {},
   "outputs": [],
   "source": [
    "# Comparison of ECDFs\n",
    "\n",
    "# Compute ECDFs\n",
    "x_set, y_set = ecdf(setosa_petal_length)\n",
    "x_vers, y_vers = ecdf(versicolor_petal_length)\n",
    "x_virg, y_virg = ecdf(virginica_petal_length)\n",
    "\n",
    "# Plot all ECDFs on the same plot\n",
    "_ = plt.plot(x_set, y_set, marker='.', linestyle='none')\n",
    "_ = plt.plot(x_vers, y_vers, marker='.',linestyle='none')\n",
    "_ = plt.plot(x_virg, y_virg, marker='.',linestyle='none')\n",
    "\n",
    "# Annotate the plot\n",
    "plt.legend(('setosa', 'versicolor', 'virginica'), loc='lower right')\n",
    "_ = plt.xlabel('petal length (cm)')\n",
    "_ = plt.ylabel('ECDF')\n",
    "\n",
    "# Display the plot\n",
    "plt.show()"
   ]
  },
  {
   "cell_type": "code",
   "execution_count": null,
   "metadata": {},
   "outputs": [],
   "source": [
    "# Comparing percentiles to ECDFs\n",
    "\n",
    "# Compute percentiles\n",
    "\n",
    "# Specify array of percentiles: percentiles\n",
    "percentiles = np.array([2.5, 25,50,75, 97.5])\n",
    "\n",
    "# Compute percentiles: ptiles_vers\n",
    "ptiles_vers = np.percentile(versicolor_petal_length, percentiles)\n",
    "\n",
    "# Print the result\n",
    "print(ptiles_vers)\n",
    "\n",
    "# Plot the ECDF\n",
    "_ = plt.plot(x_vers, y_vers, '.')\n",
    "_ = plt.xlabel('petal length (cm)')\n",
    "_ = plt.ylabel('ECDF')\n",
    "\n",
    "# Overlay percentiles as red diamonds.\n",
    "_ = plt.plot(ptiles_vers, percentiles/100, marker='D', color='red',\n",
    "         linestyle='none')\n",
    "\n",
    "# Show the plot\n",
    "plt.show()"
   ]
  },
  {
   "cell_type": "code",
   "execution_count": null,
   "metadata": {},
   "outputs": [],
   "source": [
    "# Compare ditribution of feature with normal distribution\n",
    "\n",
    "# Compute mean and standard deviation: mu, sigma\n",
    "mu = np.mean(belmont_no_outliers)\n",
    "sigma = np.std(belmont_no_outliers)\n",
    "\n",
    "# Sample out of a normal distribution with this mu and sigma: samples\n",
    "samples = np.random.normal(mu, sigma, 10000)\n",
    "\n",
    "# Get the CDF of the samples and of the data\n",
    "x_theor, y_theor = ecdf(samples)\n",
    "x, y = ecdf(belmont_no_outliers)\n",
    "\n",
    "# Plot the CDFs and show the plot\n",
    "_ = plt.plot(x_theor, y_theor)\n",
    "_ = plt.plot(x, y, marker='.', linestyle='none')\n",
    "_ = plt.xlabel('Belmont winning time (sec.)')\n",
    "_ = plt.ylabel('CDF')\n",
    "plt.show()"
   ]
  },
  {
   "cell_type": "code",
   "execution_count": null,
   "metadata": {},
   "outputs": [],
   "source": [
    "# Linear regression\n",
    "\n",
    "# Plot the illiteracy rate versus fertility\n",
    "_ = plt.plot(illiteracy, fertility, marker='.', linestyle='none')\n",
    "plt.margins(0.02)\n",
    "_ = plt.xlabel('percent illiterate')\n",
    "_ = plt.ylabel('fertility')\n",
    "\n",
    "# Perform a linear regression using np.polyfit(): a, b\n",
    "a, b = np.polyfit(illiteracy, fertility, 1)\n",
    "\n",
    "# Print the results to the screen\n",
    "print('slope =', a, 'children per woman / percent illiterate')\n",
    "print('intercept =', b, 'children per woman')\n",
    "\n",
    "# Make theoretical line to plot\n",
    "x = np.array([0, 100])\n",
    "y = a * x + b\n",
    "\n",
    "# Add regression line to your plot\n",
    "_ = plt.plot(x, y)\n",
    "\n",
    "# Draw the plot\n",
    "plt.show()"
   ]
  },
  {
   "cell_type": "code",
   "execution_count": null,
   "metadata": {},
   "outputs": [],
   "source": [
    "# Plotting bootstrap samples\n",
    "\n",
    "for _ in range(50):\n",
    "    # Generate bootstrap sample: bs_sample\n",
    "    bs_sample = np.random.choice(rainfall, size=len(rainfall))\n",
    "\n",
    "    # Compute and plot ECDF from bootstrap sample\n",
    "    x, y = ecdf(bs_sample)\n",
    "    _ = plt.plot(x, y, marker='.', linestyle='none',\n",
    "                 color='gray', alpha=0.1)\n",
    "\n",
    "# Compute and plot ECDF from original data\n",
    "x, y = ecdf(rainfall)\n",
    "_ = plt.plot(x, y, marker='.')\n",
    "\n",
    "# Make margins and label axes\n",
    "plt.margins(0.02)\n",
    "_ = plt.xlabel('yearly rainfall (mm)')\n",
    "_ = plt.ylabel('ECDF')\n",
    "\n",
    "# Show the plot\n",
    "plt.show()"
   ]
  },
  {
   "cell_type": "code",
   "execution_count": null,
   "metadata": {},
   "outputs": [],
   "source": [
    "# Function to generate bootstrap replicates\n",
    "def draw_bs_reps(data, func, size=1):\n",
    "    \"\"\"Draw bootstrap replicates.\"\"\"\n",
    "\n",
    "    # Initialize array of replicates: bs_replicates\n",
    "    bs_replicates = np.empty(size)\n",
    "\n",
    "    # Generate replicates\n",
    "    for i in range(size):\n",
    "        bs_replicates[i] = bootstrap_replicate_1d(data, func)\n",
    "\n",
    "    return bs_replicates\n",
    "\n",
    "# Take 10,000 bootstrap replicates of the mean: bs_replicates\n",
    "bs_replicates = draw_bs_reps(rainfall, np.mean, 10000)\n",
    "\n",
    "# Compute and print SEM\n",
    "sem = np.std(rainfall) / np.sqrt(len(rainfall))\n",
    "print(sem)\n",
    "\n",
    "# Compute and print standard deviation of bootstrap replicates\n",
    "bs_std = np.std(bs_replicates)\n",
    "print(bs_std)\n",
    "\n",
    "# Make a histogram of the results\n",
    "_ = plt.hist(bs_replicates, bins=50, normed=True)\n",
    "_ = plt.xlabel('mean annual rainfall (mm)')\n",
    "_ = plt.ylabel('PDF')\n",
    "\n",
    "# Show the plot\n",
    "plt.show()\n",
    "\n",
    "# Compute the 95% confidence interval: conf_int\n",
    "conf_int = np.percentile(bs_replicates, [2.5, 97.5])"
   ]
  },
  {
   "cell_type": "code",
   "execution_count": null,
   "metadata": {},
   "outputs": [],
   "source": [
    "# Pairs bootstrap\n",
    "\n",
    "# Function\n",
    "def draw_bs_pairs_linreg(x, y, size=1):\n",
    "    \"\"\"Perform pairs bootstrap for linear regression.\"\"\"\n",
    "\n",
    "    # Set up array of indices to sample from: inds\n",
    "    inds = np.arange(0, len(x))\n",
    "\n",
    "    # Initialize replicates: bs_slope_reps, bs_intercept_reps\n",
    "    bs_slope_reps = np.empty(size)\n",
    "    bs_intercept_reps = np.empty(size)\n",
    "\n",
    "    # Generate replicates\n",
    "    for i in range(size):\n",
    "        bs_inds = np.random.choice(inds, size=len(inds))\n",
    "        bs_x, bs_y = x[bs_inds], y[bs_inds]\n",
    "        bs_slope_reps[i], bs_intercept_reps[i] = np.polyfit(bs_x, bs_y, 1)\n",
    "\n",
    "    return bs_slope_reps, bs_intercept_reps\n",
    "\n",
    "\n",
    "# Generate replicates of slope and intercept using pairs bootstrap\n",
    "bs_slope_reps, bs_intercept_reps = draw_bs_pairs_linreg(illiteracy, fertility, size=1000)\n",
    "\n",
    "# Compute and print 95% CI for slope\n",
    "print(np.percentile(bs_slope_reps,[2.5, 97.5]))\n",
    "\n",
    "# Plot the histogram\n",
    "_ = plt.hist(bs_slope_reps, bins=50, normed=True)\n",
    "_ = plt.xlabel('slope')\n",
    "_ = plt.ylabel('PDF')\n",
    "plt.show()\n",
    "\n",
    "# Generate array of x-values for bootstrap lines: x\n",
    "x = np.array([0,100])\n",
    "\n",
    "# Plot the bootstrap lines\n",
    "for i in range(0,100):\n",
    "    _ = plt.plot(x, \n",
    "                 bs_slope_reps[i]*x + bs_intercept_reps[i],\n",
    "                 linewidth=0.5, alpha=0.2, color='red')\n",
    "\n",
    "# Plot the data\n",
    "_ = plt.plot(illiteracy, fertility, marker='.', linestyle='none')\n",
    "\n",
    "# Label axes, set the margins, and show the plot\n",
    "_ = plt.xlabel('illiteracy')\n",
    "_ = plt.ylabel('fertility')\n",
    "plt.margins(0.02)\n",
    "plt.show()"
   ]
  },
  {
   "cell_type": "code",
   "execution_count": null,
   "metadata": {},
   "outputs": [],
   "source": [
    "# Generating permutation replicates\n",
    "\n",
    "# Function\n",
    "def draw_perm_reps(data_1, data_2, func, size=1):\n",
    "    \"\"\"Generate multiple permutation replicates.\"\"\"\n",
    "\n",
    "    # Initialize array of replicates: perm_replicates\n",
    "    perm_replicates = np.empty(size)\n",
    "\n",
    "    for i in range(size):\n",
    "        # Generate permutation sample\n",
    "        perm_sample_1, perm_sample_2 = permutation_sample(data_1, data_2)\n",
    "\n",
    "        # Compute the test statistic\n",
    "        perm_replicates[i] = func(perm_sample_1, perm_sample_2)\n",
    "\n",
    "    return perm_replicates\n",
    "\n",
    "# EDA prior to hypothesis testing\n",
    "\n",
    "# Make bee swarm plot\n",
    "_ = sns.swarmplot(x=\"ID\", y=\"impact_force\", data=df)\n",
    "\n",
    "# Label axes\n",
    "_ = plt.xlabel('frog')\n",
    "_ = plt.ylabel('impact force (N)')\n",
    "\n",
    "# Show the plot\n",
    "plt.show()\n",
    "\n",
    "\n",
    "# Permutation test\n",
    "def diff_of_means(data_1, data_2):\n",
    "    \"\"\"Difference in means of two arrays.\"\"\"\n",
    "\n",
    "    # The difference of means of data_1, data_2: diff\n",
    "    diff = np.mean(data_1) - np.mean(data_2)\n",
    "\n",
    "    return diff\n",
    "\n",
    "# Compute difference of mean impact force from experiment: empirical_diff_means\n",
    "empirical_diff_means = diff_of_means(force_a, force_b)\n",
    "\n",
    "# Draw 10,000 permutation replicates: perm_replicates\n",
    "perm_replicates = draw_perm_reps(force_a, force_b,\n",
    "                                 diff_of_means, size=10000)\n",
    "\n",
    "# Compute p-value: p\n",
    "p = np.sum(perm_replicates >= empirical_diff_means) / len(perm_replicates)\n",
    "\n",
    "# Print the result\n",
    "print('p-value =', p)"
   ]
  },
  {
   "cell_type": "code",
   "execution_count": null,
   "metadata": {},
   "outputs": [],
   "source": []
  },
  {
   "cell_type": "code",
   "execution_count": null,
   "metadata": {},
   "outputs": [],
   "source": []
  },
  {
   "cell_type": "code",
   "execution_count": null,
   "metadata": {},
   "outputs": [],
   "source": []
  },
  {
   "cell_type": "code",
   "execution_count": null,
   "metadata": {},
   "outputs": [],
   "source": []
  }
 ],
 "metadata": {
  "kernelspec": {
   "display_name": "Python 3",
   "language": "python",
   "name": "python3"
  },
  "language_info": {
   "codemirror_mode": {
    "name": "ipython",
    "version": 3
   },
   "file_extension": ".py",
   "mimetype": "text/x-python",
   "name": "python",
   "nbconvert_exporter": "python",
   "pygments_lexer": "ipython3",
   "version": "3.7.6"
  }
 },
 "nbformat": 4,
 "nbformat_minor": 4
}
