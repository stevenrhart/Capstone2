{
 "cells": [
  {
   "cell_type": "markdown",
   "metadata": {},
   "source": [
    "# Predicting Pet Insurance Claims - EDA\n",
    "\n",
    "## 1 Introduction\n",
    "\n",
    "### 1.1 Background\n",
    "Whenever a pet insurance policy holder incurs veterinary expenses related to their enrolled pet, they can submit claims for reimbursement, and the insurance company reimburses eligible expenses. To price insurance products correctly, the insurance company needs to have a good idea of the amount their policy holders are likely to claim in the future. \n",
    "\n",
    "### 1.2 Project Goal\n",
    "The goal of this project is to create a machine learning model to predict how much (in dollars) a given policy holder will claim for during the second year of their policy. \n",
    "\n",
    "### 1.3 Initial Questions for EDA\n",
    "Below are a few initial questions to answer and areas of interest for the detailed data analysis.\n",
    "* What patterns or relationships exist between 'Breed' and amounts claimed?\n",
    "* What patterns or relationships exist between 'Species' and amounts claimed?\n",
    "* Decide what to do about the very high (claims > $10k) and very low (claims = $0) claims amounts\n",
    "* Determine if EnrollPath is worth keeping or if there is any correlation between EnrollPath and claims amounts\n",
    "* Look for connection between PetAge and number/amount of claims\n",
    "\n",
    "Some opportunities for additional feature engineering:\n",
    "* Scrape web and/or find data set for dog breed average weights to include as a new column\n",
    "* Scrape web and/or find data set for average lifespan by breed and merge in as a new column\n",
    "    * Create new feature for PctLifespanYr1 and PctLifeSpanYr2 to calculate pet age in year 1 and year 2 as a percentage of the average lifespan based on the breed\n",
    "    * If above steps are completed, consider encoding breed, based on AvgWeight and AvgLifespan, into a new feature as a means of converting Breed from an object column to a numeric column"
   ]
  },
  {
   "cell_type": "markdown",
   "metadata": {},
   "source": [
    "# 2 Setup\n",
    "\n",
    "## 2.1 Imports"
   ]
  },
  {
   "cell_type": "code",
   "execution_count": 1,
   "metadata": {},
   "outputs": [],
   "source": [
    "import pandas as pd\n",
    "import numpy as np\n",
    "# import datetime\n",
    "# from fuzzywuzzy import process, fuzz\n",
    "# import re\n",
    "\n",
    "import matplotlib.pyplot as plt\n",
    "%matplotlib inline\n",
    "import seaborn as sns"
   ]
  },
  {
   "cell_type": "markdown",
   "metadata": {},
   "source": [
    "## 2.2 Data Load & Preview"
   ]
  },
  {
   "cell_type": "code",
   "execution_count": 3,
   "metadata": {},
   "outputs": [
    {
     "data": {
      "text/html": [
       "<div>\n",
       "<style scoped>\n",
       "    .dataframe tbody tr th:only-of-type {\n",
       "        vertical-align: middle;\n",
       "    }\n",
       "\n",
       "    .dataframe tbody tr th {\n",
       "        vertical-align: top;\n",
       "    }\n",
       "\n",
       "    .dataframe thead th {\n",
       "        text-align: right;\n",
       "    }\n",
       "</style>\n",
       "<table border=\"1\" class=\"dataframe\">\n",
       "  <thead>\n",
       "    <tr style=\"text-align: right;\">\n",
       "      <th></th>\n",
       "      <th>Unnamed: 0</th>\n",
       "      <th>PetId</th>\n",
       "      <th>Species</th>\n",
       "      <th>Breed</th>\n",
       "      <th>Premium</th>\n",
       "      <th>Deductible</th>\n",
       "      <th>EnrollPath</th>\n",
       "      <th>AgeYr1</th>\n",
       "      <th>AgeYr2</th>\n",
       "      <th>YoungAge</th>\n",
       "      <th>MixedBreed</th>\n",
       "      <th>AmtClaimsYr1</th>\n",
       "      <th>AmtClaimsYr2</th>\n",
       "      <th>AvgClaimsYr1</th>\n",
       "      <th>AvgClaimsYr2</th>\n",
       "      <th>NumClaimsYr1</th>\n",
       "      <th>NumClaimsYr2</th>\n",
       "      <th>NumClaimsTotal</th>\n",
       "      <th>AmtClaimsTotal</th>\n",
       "      <th>AvgClaimsTotal</th>\n",
       "    </tr>\n",
       "  </thead>\n",
       "  <tbody>\n",
       "    <tr>\n",
       "      <th>0</th>\n",
       "      <td>0</td>\n",
       "      <td>0</td>\n",
       "      <td>Dog</td>\n",
       "      <td>Schnauzer Standard</td>\n",
       "      <td>84.54</td>\n",
       "      <td>200</td>\n",
       "      <td>Web</td>\n",
       "      <td>3</td>\n",
       "      <td>4</td>\n",
       "      <td>0</td>\n",
       "      <td>0</td>\n",
       "      <td>0.00</td>\n",
       "      <td>1242.00</td>\n",
       "      <td>0.000000</td>\n",
       "      <td>621.000</td>\n",
       "      <td>0</td>\n",
       "      <td>2</td>\n",
       "      <td>2</td>\n",
       "      <td>1242.00</td>\n",
       "      <td>621.00000</td>\n",
       "    </tr>\n",
       "    <tr>\n",
       "      <th>1</th>\n",
       "      <td>1</td>\n",
       "      <td>1</td>\n",
       "      <td>Dog</td>\n",
       "      <td>Yorkiepoo</td>\n",
       "      <td>50.33</td>\n",
       "      <td>500</td>\n",
       "      <td>Phone</td>\n",
       "      <td>0</td>\n",
       "      <td>1</td>\n",
       "      <td>0</td>\n",
       "      <td>0</td>\n",
       "      <td>0.00</td>\n",
       "      <td>0.00</td>\n",
       "      <td>0.000000</td>\n",
       "      <td>0.000</td>\n",
       "      <td>0</td>\n",
       "      <td>0</td>\n",
       "      <td>0</td>\n",
       "      <td>0.00</td>\n",
       "      <td>0.00000</td>\n",
       "    </tr>\n",
       "    <tr>\n",
       "      <th>2</th>\n",
       "      <td>2</td>\n",
       "      <td>2</td>\n",
       "      <td>Dog</td>\n",
       "      <td>Mixed Breed Medium</td>\n",
       "      <td>74.00</td>\n",
       "      <td>500</td>\n",
       "      <td>Phone</td>\n",
       "      <td>0</td>\n",
       "      <td>1</td>\n",
       "      <td>0</td>\n",
       "      <td>1</td>\n",
       "      <td>640.63</td>\n",
       "      <td>1187.68</td>\n",
       "      <td>213.543333</td>\n",
       "      <td>237.536</td>\n",
       "      <td>3</td>\n",
       "      <td>5</td>\n",
       "      <td>8</td>\n",
       "      <td>1828.31</td>\n",
       "      <td>228.53875</td>\n",
       "    </tr>\n",
       "    <tr>\n",
       "      <th>3</th>\n",
       "      <td>3</td>\n",
       "      <td>3</td>\n",
       "      <td>Dog</td>\n",
       "      <td>Labrador Retriever</td>\n",
       "      <td>57.54</td>\n",
       "      <td>500</td>\n",
       "      <td>Phone</td>\n",
       "      <td>0</td>\n",
       "      <td>1</td>\n",
       "      <td>0</td>\n",
       "      <td>0</td>\n",
       "      <td>0.00</td>\n",
       "      <td>0.00</td>\n",
       "      <td>0.000000</td>\n",
       "      <td>0.000</td>\n",
       "      <td>0</td>\n",
       "      <td>0</td>\n",
       "      <td>0</td>\n",
       "      <td>0.00</td>\n",
       "      <td>0.00000</td>\n",
       "    </tr>\n",
       "    <tr>\n",
       "      <th>4</th>\n",
       "      <td>4</td>\n",
       "      <td>4</td>\n",
       "      <td>Dog</td>\n",
       "      <td>French Bulldog</td>\n",
       "      <td>60.69</td>\n",
       "      <td>700</td>\n",
       "      <td>Web</td>\n",
       "      <td>0</td>\n",
       "      <td>1</td>\n",
       "      <td>0</td>\n",
       "      <td>0</td>\n",
       "      <td>7212.25</td>\n",
       "      <td>168.75</td>\n",
       "      <td>801.361111</td>\n",
       "      <td>168.750</td>\n",
       "      <td>9</td>\n",
       "      <td>1</td>\n",
       "      <td>10</td>\n",
       "      <td>7381.00</td>\n",
       "      <td>738.10000</td>\n",
       "    </tr>\n",
       "  </tbody>\n",
       "</table>\n",
       "</div>"
      ],
      "text/plain": [
       "   Unnamed: 0  PetId Species               Breed  Premium  Deductible  \\\n",
       "0           0      0     Dog  Schnauzer Standard    84.54         200   \n",
       "1           1      1     Dog           Yorkiepoo    50.33         500   \n",
       "2           2      2     Dog  Mixed Breed Medium    74.00         500   \n",
       "3           3      3     Dog  Labrador Retriever    57.54         500   \n",
       "4           4      4     Dog      French Bulldog    60.69         700   \n",
       "\n",
       "  EnrollPath  AgeYr1  AgeYr2  YoungAge  MixedBreed  AmtClaimsYr1  \\\n",
       "0        Web       3       4         0           0          0.00   \n",
       "1      Phone       0       1         0           0          0.00   \n",
       "2      Phone       0       1         0           1        640.63   \n",
       "3      Phone       0       1         0           0          0.00   \n",
       "4        Web       0       1         0           0       7212.25   \n",
       "\n",
       "   AmtClaimsYr2  AvgClaimsYr1  AvgClaimsYr2  NumClaimsYr1  NumClaimsYr2  \\\n",
       "0       1242.00      0.000000       621.000             0             2   \n",
       "1          0.00      0.000000         0.000             0             0   \n",
       "2       1187.68    213.543333       237.536             3             5   \n",
       "3          0.00      0.000000         0.000             0             0   \n",
       "4        168.75    801.361111       168.750             9             1   \n",
       "\n",
       "   NumClaimsTotal  AmtClaimsTotal  AvgClaimsTotal  \n",
       "0               2         1242.00       621.00000  \n",
       "1               0            0.00         0.00000  \n",
       "2               8         1828.31       228.53875  \n",
       "3               0            0.00         0.00000  \n",
       "4              10         7381.00       738.10000  "
      ]
     },
     "execution_count": 3,
     "metadata": {},
     "output_type": "execute_result"
    }
   ],
   "source": [
    "# Read in the data file generated during data wrangling\n",
    "df = pd.read_csv('../data/merged_pets.csv')\n",
    "\n",
    "# Preview\n",
    "df.head()"
   ]
  },
  {
   "cell_type": "code",
   "execution_count": null,
   "metadata": {},
   "outputs": [],
   "source": []
  },
  {
   "cell_type": "code",
   "execution_count": null,
   "metadata": {},
   "outputs": [],
   "source": [
    "print(str(pets[pets['Species'] == 'Cat']['Breed'].value_counts(sort=True).count()) + \" Cat breeds\")\n",
    "print(str(pets[pets['Species'] == 'Dog']['Breed'].value_counts(sort=True).count()) + \" Dog breeds\") "
   ]
  },
  {
   "cell_type": "markdown",
   "metadata": {},
   "source": [
    "Let's go back to the full dataset and review premiums by species."
   ]
  },
  {
   "cell_type": "code",
   "execution_count": null,
   "metadata": {},
   "outputs": [],
   "source": [
    "# Plot a distribution of Premiums by Species\n",
    "cat_prem = pets[pets['Species'] == 'Cat']['Premium']\n",
    "dog_prem = pets[pets['Species'] == 'Dog']['Premium']\n",
    "\n",
    "plt.hist(dog_prem, bins=50, label='Dogs')\n",
    "plt.hist(cat_prem, bins=50, label='Cats')\n",
    "plt.title('Premium Distribution by Species')\n",
    "plt.legend(loc='upper right')\n",
    "plt.show()"
   ]
  },
  {
   "cell_type": "code",
   "execution_count": null,
   "metadata": {},
   "outputs": [],
   "source": [
    "# Calculate average premium by species\n",
    "print(\"The average premium for cats is $\" + str(round(pets[pets['Species'] == 'Cat']['Premium'].mean(), 2)))\n",
    "print(\"The average premium for dogs is $\" + str(round(pets[pets['Species'] == 'Dog']['Premium'].mean(), 2)))"
   ]
  },
  {
   "cell_type": "markdown",
   "metadata": {},
   "source": [
    "Clearly dog premiums are much higher than cat premiums and it's likely we'll see a similar pattern when we look at claims data later on in EDA. For now, let's plan to drop rows where premiums are in the upper 1% of the range to eliminate the outliers."
   ]
  },
  {
   "cell_type": "code",
   "execution_count": null,
   "metadata": {},
   "outputs": [],
   "source": [
    "# Calculate the 99th quantile of Premium values\n",
    "print(\"99% of premiums are less than $\" + str(pets.Premium.quantile(q=0.99)))"
   ]
  },
  {
   "cell_type": "markdown",
   "metadata": {},
   "source": [
    "Before we move on, let's see how the distribution looks by species. \n"
   ]
  },
  {
   "cell_type": "code",
   "execution_count": null,
   "metadata": {},
   "outputs": [],
   "source": [
    "# Plot a distribution of Deductible by Species\n",
    "cat_prem = pets[pets['Species'] == 'Cat']['Deductible']\n",
    "dog_prem = pets[pets['Species'] == 'Dog']['Deductible']\n",
    "\n",
    "plt.hist(dog_prem, bins=20, label='Dogs')\n",
    "plt.hist(cat_prem, bins=20, label='Cats')\n",
    "plt.title('Deductible Distribution by Species')\n",
    "plt.legend(loc='upper right')\n",
    "plt.show()"
   ]
  },
  {
   "cell_type": "code",
   "execution_count": null,
   "metadata": {},
   "outputs": [],
   "source": [
    "# Review outlier claims\n",
    "# top_pct = claims.AmountClaimed.quantile(q=0.99)\n",
    "# print(\"99% of claims are below $\" + str(top_pct))"
   ]
  },
  {
   "cell_type": "markdown",
   "metadata": {},
   "source": [
    "review of column distributions"
   ]
  },
  {
   "cell_type": "code",
   "execution_count": null,
   "metadata": {},
   "outputs": [],
   "source": [
    "# # Review Distributions of all numeric columns\n",
    "# merged_pets.hist(figsize=(15,10))\n",
    "# plt.subplots_adjust(hspace=0.5);"
   ]
  },
  {
   "cell_type": "code",
   "execution_count": null,
   "metadata": {},
   "outputs": [],
   "source": [
    "# Isolate rows with high premiums for additional review\n",
    "high_prems = pets[pets['Premium'] > 200]\n",
    "\n",
    "# Review date distribution\n",
    "plt.figure(figsize=(6, 4))\n",
    "plt.title('Distribution of High Premiums')\n",
    "plt.hist(high_prems.Premium, bins = 20)\n",
    "plt.show()"
   ]
  },
  {
   "cell_type": "code",
   "execution_count": null,
   "metadata": {},
   "outputs": [],
   "source": []
  },
  {
   "cell_type": "code",
   "execution_count": null,
   "metadata": {},
   "outputs": [],
   "source": [
    "# Review the number of pets with high premiums by species\n",
    "high_prems.Species.value_counts()"
   ]
  },
  {
   "cell_type": "code",
   "execution_count": null,
   "metadata": {},
   "outputs": [],
   "source": []
  },
  {
   "cell_type": "code",
   "execution_count": null,
   "metadata": {},
   "outputs": [],
   "source": []
  },
  {
   "cell_type": "code",
   "execution_count": null,
   "metadata": {},
   "outputs": [],
   "source": []
  },
  {
   "cell_type": "code",
   "execution_count": null,
   "metadata": {},
   "outputs": [],
   "source": []
  },
  {
   "cell_type": "code",
   "execution_count": null,
   "metadata": {},
   "outputs": [],
   "source": []
  },
  {
   "cell_type": "code",
   "execution_count": null,
   "metadata": {},
   "outputs": [],
   "source": []
  },
  {
   "cell_type": "code",
   "execution_count": null,
   "metadata": {},
   "outputs": [],
   "source": []
  }
 ],
 "metadata": {
  "kernelspec": {
   "display_name": "Python 3",
   "language": "python",
   "name": "python3"
  },
  "language_info": {
   "codemirror_mode": {
    "name": "ipython",
    "version": 3
   },
   "file_extension": ".py",
   "mimetype": "text/x-python",
   "name": "python",
   "nbconvert_exporter": "python",
   "pygments_lexer": "ipython3",
   "version": "3.7.6"
  }
 },
 "nbformat": 4,
 "nbformat_minor": 4
}
