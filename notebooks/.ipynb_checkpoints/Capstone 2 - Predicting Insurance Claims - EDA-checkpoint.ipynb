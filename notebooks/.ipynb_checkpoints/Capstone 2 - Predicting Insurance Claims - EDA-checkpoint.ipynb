{
 "cells": [
  {
   "cell_type": "markdown",
   "metadata": {},
   "source": [
    "# Predicting Pet Insurance Claims - EDA"
   ]
  },
  {
   "cell_type": "code",
   "execution_count": null,
   "metadata": {},
   "outputs": [],
   "source": []
  },
  {
   "cell_type": "code",
   "execution_count": null,
   "metadata": {},
   "outputs": [],
   "source": [
    "print(str(pets[pets['Species'] == 'Cat']['Breed'].value_counts(sort=True).count()) + \" Cat breeds\")\n",
    "print(str(pets[pets['Species'] == 'Dog']['Breed'].value_counts(sort=True).count()) + \" Dog breeds\") "
   ]
  },
  {
   "cell_type": "markdown",
   "metadata": {},
   "source": [
    "Let's go back to the full dataset and review premiums by species."
   ]
  },
  {
   "cell_type": "code",
   "execution_count": null,
   "metadata": {},
   "outputs": [],
   "source": [
    "# Plot a distribution of Premiums by Species\n",
    "cat_prem = pets[pets['Species'] == 'Cat']['Premium']\n",
    "dog_prem = pets[pets['Species'] == 'Dog']['Premium']\n",
    "\n",
    "plt.hist(dog_prem, bins=50, label='Dogs')\n",
    "plt.hist(cat_prem, bins=50, label='Cats')\n",
    "plt.title('Premium Distribution by Species')\n",
    "plt.legend(loc='upper right')\n",
    "plt.show()"
   ]
  },
  {
   "cell_type": "code",
   "execution_count": null,
   "metadata": {},
   "outputs": [],
   "source": [
    "# Calculate average premium by species\n",
    "print(\"The average premium for cats is $\" + str(round(pets[pets['Species'] == 'Cat']['Premium'].mean(), 2)))\n",
    "print(\"The average premium for dogs is $\" + str(round(pets[pets['Species'] == 'Dog']['Premium'].mean(), 2)))"
   ]
  },
  {
   "cell_type": "markdown",
   "metadata": {},
   "source": [
    "Clearly dog premiums are much higher than cat premiums and it's likely we'll see a similar pattern when we look at claims data later on in EDA. For now, let's plan to drop rows where premiums are in the upper 1% of the range to eliminate the outliers."
   ]
  },
  {
   "cell_type": "code",
   "execution_count": null,
   "metadata": {},
   "outputs": [],
   "source": [
    "# Calculate the 99th quantile of Premium values\n",
    "print(\"99% of premiums are less than $\" + str(pets.Premium.quantile(q=0.99)))"
   ]
  },
  {
   "cell_type": "markdown",
   "metadata": {},
   "source": [
    "Before we move on, let's see how the distribution looks by species. \n"
   ]
  },
  {
   "cell_type": "code",
   "execution_count": null,
   "metadata": {},
   "outputs": [],
   "source": [
    "# Plot a distribution of Deductible by Species\n",
    "cat_prem = pets[pets['Species'] == 'Cat']['Deductible']\n",
    "dog_prem = pets[pets['Species'] == 'Dog']['Deductible']\n",
    "\n",
    "plt.hist(dog_prem, bins=20, label='Dogs')\n",
    "plt.hist(cat_prem, bins=20, label='Cats')\n",
    "plt.title('Deductible Distribution by Species')\n",
    "plt.legend(loc='upper right')\n",
    "plt.show()"
   ]
  },
  {
   "cell_type": "code",
   "execution_count": null,
   "metadata": {},
   "outputs": [],
   "source": [
    "# Review outlier claims\n",
    "# top_pct = claims.AmountClaimed.quantile(q=0.99)\n",
    "# print(\"99% of claims are below $\" + str(top_pct))"
   ]
  },
  {
   "cell_type": "markdown",
   "metadata": {},
   "source": [
    "review of column distributions"
   ]
  },
  {
   "cell_type": "code",
   "execution_count": null,
   "metadata": {},
   "outputs": [],
   "source": [
    "# # Review Distributions of all numeric columns\n",
    "# merged_pets.hist(figsize=(15,10))\n",
    "# plt.subplots_adjust(hspace=0.5);"
   ]
  },
  {
   "cell_type": "code",
   "execution_count": null,
   "metadata": {},
   "outputs": [],
   "source": [
    "# Isolate rows with high premiums for additional review\n",
    "high_prems = pets[pets['Premium'] > 200]\n",
    "\n",
    "# Review date distribution\n",
    "plt.figure(figsize=(6, 4))\n",
    "plt.title('Distribution of High Premiums')\n",
    "plt.hist(high_prems.Premium, bins = 20)\n",
    "plt.show()"
   ]
  },
  {
   "cell_type": "code",
   "execution_count": null,
   "metadata": {},
   "outputs": [],
   "source": []
  },
  {
   "cell_type": "code",
   "execution_count": null,
   "metadata": {},
   "outputs": [],
   "source": [
    "# Review the number of pets with high premiums by species\n",
    "high_prems.Species.value_counts()"
   ]
  },
  {
   "cell_type": "code",
   "execution_count": null,
   "metadata": {},
   "outputs": [],
   "source": []
  },
  {
   "cell_type": "code",
   "execution_count": null,
   "metadata": {},
   "outputs": [],
   "source": []
  },
  {
   "cell_type": "code",
   "execution_count": null,
   "metadata": {},
   "outputs": [],
   "source": []
  },
  {
   "cell_type": "code",
   "execution_count": null,
   "metadata": {},
   "outputs": [],
   "source": []
  },
  {
   "cell_type": "code",
   "execution_count": null,
   "metadata": {},
   "outputs": [],
   "source": []
  },
  {
   "cell_type": "code",
   "execution_count": null,
   "metadata": {},
   "outputs": [],
   "source": []
  },
  {
   "cell_type": "code",
   "execution_count": null,
   "metadata": {},
   "outputs": [],
   "source": []
  }
 ],
 "metadata": {
  "kernelspec": {
   "display_name": "Python 3",
   "language": "python",
   "name": "python3"
  },
  "language_info": {
   "codemirror_mode": {
    "name": "ipython",
    "version": 3
   },
   "file_extension": ".py",
   "mimetype": "text/x-python",
   "name": "python",
   "nbconvert_exporter": "python",
   "pygments_lexer": "ipython3",
   "version": "3.7.6"
  }
 },
 "nbformat": 4,
 "nbformat_minor": 4
}
