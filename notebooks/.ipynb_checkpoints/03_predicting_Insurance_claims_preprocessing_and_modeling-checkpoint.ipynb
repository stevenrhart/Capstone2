{
 "cells": [
  {
   "cell_type": "markdown",
   "metadata": {},
   "source": [
    "# Predicting Pet Insurance Claims - Pre-processing and Modeling\n",
    "## 1 Introduction\n",
    "### 1.1 Background\n",
    "Whenever a pet insurance policy holder incurs veterinary expenses related to their enrolled pet, they can submit claims for reimbursement, and the insurance company reimburses eligible expenses. To price insurance products correctly, the insurance company needs to have a good idea of the amount their policy holders are likely to claim in the future.\n",
    "\n",
    "### 1.2 Project Goal\n",
    "The goal of this project is to create a machine learning model to predict how much (in dollars) a given policy holder will claim for during the second year of their policy.\n",
    "\n",
    "### 1.3 Notebook Goals\n",
    "* Split data into Train and Test sets\n",
    "* Complete any remaining feature engineering\n",
    "* Pre-process the data to prepare for modeling\n",
    "* Create and assess initial models"
   ]
  },
  {
   "cell_type": "markdown",
   "metadata": {},
   "source": [
    "## 2 Setup\n",
    "### 2.1 Imports"
   ]
  },
  {
   "cell_type": "code",
   "execution_count": 1,
   "metadata": {},
   "outputs": [],
   "source": [
    "import pandas as pd\n",
    "import numpy as np\n",
    "\n",
    "import matplotlib.pyplot as plt\n",
    "import seaborn as sns\n",
    "\n",
    "from pprint import pprint\n",
    "\n",
    "from sklearn.model_selection import train_test_split, cross_validate, GridSearchCV, RandomizedSearchCV\n",
    "from sklearn.compose import make_column_transformer\n",
    "from sklearn.preprocessing import OneHotEncoder, StandardScaler\n",
    "# from sklearn.preprocessing import label_binarize, MinMaxScaler\n",
    "from sklearn.pipeline import make_pipeline\n",
    "\n",
    "# from sklearn.linear_model import Ridge\n",
    "from sklearn.dummy import DummyRegressor\n",
    "from sklearn.linear_model import LinearRegression\n",
    "from sklearn.ensemble import RandomForestRegressor\n",
    "\n",
    "from sklearn.metrics import mean_absolute_error, make_scorer\n",
    "# from sklearn.metrics import r2_score, mean_squared_error\n",
    "from sklearn.feature_selection import SelectKBest, f_regression\n",
    "from sklearn import __version__ as sklearn_version\n",
    "\n",
    "import datetime\n",
    "import os\n",
    "import pickle\n",
    "from library.sb_utils import save_file"
   ]
  },
  {
   "cell_type": "markdown",
   "metadata": {},
   "source": [
    "### 2.2 Data Load and Preview\n",
    "At the end of exploratory data analysis, we had an updated data file for our pets data containing all pet records. As a quick review, here's a summary:\n",
    "* Shape - Our clean dataframe is 50000 rows with each row corresponding to a single pet.\n",
    "* Basic Info - For each pet, we have some basic info including species, breed, and age at time of enrollment.\n",
    "* YoungAge - Designation for pets who enrolled at a very young age (< 7 weeks)\n",
    "* Policy Info - We also have policy-level info for each pet including the monthly premium and deductible amount for claims.\n",
    "* Claims Data - We also have claims data for each pet covering the first two policy years including:\n",
    "* Number of claims per year and total (years 1 and 2 combined)\n",
    "* Average claim amount per year and total (years 1 and 2 combined)\n",
    "* Amount of claims per year and total (years 1 and 2 combined)\n",
    "\n",
    "Let's load in the data and preview."
   ]
  },
  {
   "cell_type": "code",
   "execution_count": 2,
   "metadata": {},
   "outputs": [
    {
     "data": {
      "text/html": [
       "<div>\n",
       "<style scoped>\n",
       "    .dataframe tbody tr th:only-of-type {\n",
       "        vertical-align: middle;\n",
       "    }\n",
       "\n",
       "    .dataframe tbody tr th {\n",
       "        vertical-align: top;\n",
       "    }\n",
       "\n",
       "    .dataframe thead th {\n",
       "        text-align: right;\n",
       "    }\n",
       "</style>\n",
       "<table border=\"1\" class=\"dataframe\">\n",
       "  <thead>\n",
       "    <tr style=\"text-align: right;\">\n",
       "      <th></th>\n",
       "      <th>0</th>\n",
       "      <th>1</th>\n",
       "      <th>2</th>\n",
       "      <th>3</th>\n",
       "      <th>4</th>\n",
       "      <th>5</th>\n",
       "      <th>6</th>\n",
       "      <th>7</th>\n",
       "    </tr>\n",
       "  </thead>\n",
       "  <tbody>\n",
       "    <tr>\n",
       "      <th>PetId</th>\n",
       "      <td>0</td>\n",
       "      <td>1</td>\n",
       "      <td>2</td>\n",
       "      <td>3</td>\n",
       "      <td>4</td>\n",
       "      <td>5</td>\n",
       "      <td>6</td>\n",
       "      <td>7</td>\n",
       "    </tr>\n",
       "    <tr>\n",
       "      <th>Species</th>\n",
       "      <td>Dog</td>\n",
       "      <td>Dog</td>\n",
       "      <td>Dog</td>\n",
       "      <td>Dog</td>\n",
       "      <td>Dog</td>\n",
       "      <td>Dog</td>\n",
       "      <td>Cat</td>\n",
       "      <td>Dog</td>\n",
       "    </tr>\n",
       "    <tr>\n",
       "      <th>Breed</th>\n",
       "      <td>Schnauzer Standard</td>\n",
       "      <td>Yorkiepoo</td>\n",
       "      <td>Mixed Breed Medium</td>\n",
       "      <td>Labrador Retriever</td>\n",
       "      <td>French Bulldog</td>\n",
       "      <td>Shih Tzu</td>\n",
       "      <td>American Shorthair</td>\n",
       "      <td>Boxer</td>\n",
       "    </tr>\n",
       "    <tr>\n",
       "      <th>Premium</th>\n",
       "      <td>84.54</td>\n",
       "      <td>50.33</td>\n",
       "      <td>74.0</td>\n",
       "      <td>57.54</td>\n",
       "      <td>60.69</td>\n",
       "      <td>43.53</td>\n",
       "      <td>47.4</td>\n",
       "      <td>75.14</td>\n",
       "    </tr>\n",
       "    <tr>\n",
       "      <th>Deductible</th>\n",
       "      <td>200</td>\n",
       "      <td>500</td>\n",
       "      <td>500</td>\n",
       "      <td>500</td>\n",
       "      <td>700</td>\n",
       "      <td>700</td>\n",
       "      <td>250</td>\n",
       "      <td>700</td>\n",
       "    </tr>\n",
       "    <tr>\n",
       "      <th>AgeYr1</th>\n",
       "      <td>3</td>\n",
       "      <td>0</td>\n",
       "      <td>0</td>\n",
       "      <td>0</td>\n",
       "      <td>0</td>\n",
       "      <td>2</td>\n",
       "      <td>0</td>\n",
       "      <td>5</td>\n",
       "    </tr>\n",
       "    <tr>\n",
       "      <th>YoungAge</th>\n",
       "      <td>0</td>\n",
       "      <td>0</td>\n",
       "      <td>0</td>\n",
       "      <td>0</td>\n",
       "      <td>0</td>\n",
       "      <td>0</td>\n",
       "      <td>0</td>\n",
       "      <td>0</td>\n",
       "    </tr>\n",
       "    <tr>\n",
       "      <th>AmtClaimsYr1</th>\n",
       "      <td>0.0</td>\n",
       "      <td>0.0</td>\n",
       "      <td>640.63</td>\n",
       "      <td>0.0</td>\n",
       "      <td>7212.25</td>\n",
       "      <td>2665.67</td>\n",
       "      <td>0.0</td>\n",
       "      <td>2873.47</td>\n",
       "    </tr>\n",
       "    <tr>\n",
       "      <th>AmtClaimsYr2</th>\n",
       "      <td>1242.0</td>\n",
       "      <td>0.0</td>\n",
       "      <td>1187.68</td>\n",
       "      <td>0.0</td>\n",
       "      <td>168.75</td>\n",
       "      <td>0.0</td>\n",
       "      <td>811.38</td>\n",
       "      <td>2497.03</td>\n",
       "    </tr>\n",
       "    <tr>\n",
       "      <th>AvgClaimsYr1</th>\n",
       "      <td>0.0</td>\n",
       "      <td>0.0</td>\n",
       "      <td>213.543333</td>\n",
       "      <td>0.0</td>\n",
       "      <td>801.361111</td>\n",
       "      <td>296.185556</td>\n",
       "      <td>0.0</td>\n",
       "      <td>410.495714</td>\n",
       "    </tr>\n",
       "    <tr>\n",
       "      <th>AvgClaimsYr2</th>\n",
       "      <td>621.0</td>\n",
       "      <td>0.0</td>\n",
       "      <td>237.536</td>\n",
       "      <td>0.0</td>\n",
       "      <td>168.75</td>\n",
       "      <td>0.0</td>\n",
       "      <td>811.38</td>\n",
       "      <td>356.718571</td>\n",
       "    </tr>\n",
       "    <tr>\n",
       "      <th>NumClaimsYr1</th>\n",
       "      <td>0</td>\n",
       "      <td>0</td>\n",
       "      <td>3</td>\n",
       "      <td>0</td>\n",
       "      <td>9</td>\n",
       "      <td>9</td>\n",
       "      <td>0</td>\n",
       "      <td>7</td>\n",
       "    </tr>\n",
       "    <tr>\n",
       "      <th>NumClaimsYr2</th>\n",
       "      <td>2</td>\n",
       "      <td>0</td>\n",
       "      <td>5</td>\n",
       "      <td>0</td>\n",
       "      <td>1</td>\n",
       "      <td>0</td>\n",
       "      <td>1</td>\n",
       "      <td>7</td>\n",
       "    </tr>\n",
       "    <tr>\n",
       "      <th>AmtClaimsTotal</th>\n",
       "      <td>1242.0</td>\n",
       "      <td>0.0</td>\n",
       "      <td>1828.31</td>\n",
       "      <td>0.0</td>\n",
       "      <td>7381.0</td>\n",
       "      <td>2665.67</td>\n",
       "      <td>811.38</td>\n",
       "      <td>5370.5</td>\n",
       "    </tr>\n",
       "    <tr>\n",
       "      <th>AvgClaimsTotal</th>\n",
       "      <td>621.0</td>\n",
       "      <td>0.0</td>\n",
       "      <td>451.079333</td>\n",
       "      <td>0.0</td>\n",
       "      <td>970.111111</td>\n",
       "      <td>296.185556</td>\n",
       "      <td>811.38</td>\n",
       "      <td>767.214286</td>\n",
       "    </tr>\n",
       "    <tr>\n",
       "      <th>NumClaimsTotal</th>\n",
       "      <td>2</td>\n",
       "      <td>0</td>\n",
       "      <td>8</td>\n",
       "      <td>0</td>\n",
       "      <td>10</td>\n",
       "      <td>9</td>\n",
       "      <td>1</td>\n",
       "      <td>14</td>\n",
       "    </tr>\n",
       "    <tr>\n",
       "      <th>YrsWithClaims</th>\n",
       "      <td>1</td>\n",
       "      <td>0</td>\n",
       "      <td>2</td>\n",
       "      <td>0</td>\n",
       "      <td>2</td>\n",
       "      <td>1</td>\n",
       "      <td>1</td>\n",
       "      <td>2</td>\n",
       "    </tr>\n",
       "  </tbody>\n",
       "</table>\n",
       "</div>"
      ],
      "text/plain": [
       "                                 0          1                   2  \\\n",
       "PetId                            0          1                   2   \n",
       "Species                        Dog        Dog                 Dog   \n",
       "Breed           Schnauzer Standard  Yorkiepoo  Mixed Breed Medium   \n",
       "Premium                      84.54      50.33                74.0   \n",
       "Deductible                     200        500                 500   \n",
       "AgeYr1                           3          0                   0   \n",
       "YoungAge                         0          0                   0   \n",
       "AmtClaimsYr1                   0.0        0.0              640.63   \n",
       "AmtClaimsYr2                1242.0        0.0             1187.68   \n",
       "AvgClaimsYr1                   0.0        0.0          213.543333   \n",
       "AvgClaimsYr2                 621.0        0.0             237.536   \n",
       "NumClaimsYr1                     0          0                   3   \n",
       "NumClaimsYr2                     2          0                   5   \n",
       "AmtClaimsTotal              1242.0        0.0             1828.31   \n",
       "AvgClaimsTotal               621.0        0.0          451.079333   \n",
       "NumClaimsTotal                   2          0                   8   \n",
       "YrsWithClaims                    1          0                   2   \n",
       "\n",
       "                                 3               4           5  \\\n",
       "PetId                            3               4           5   \n",
       "Species                        Dog             Dog         Dog   \n",
       "Breed           Labrador Retriever  French Bulldog    Shih Tzu   \n",
       "Premium                      57.54           60.69       43.53   \n",
       "Deductible                     500             700         700   \n",
       "AgeYr1                           0               0           2   \n",
       "YoungAge                         0               0           0   \n",
       "AmtClaimsYr1                   0.0         7212.25     2665.67   \n",
       "AmtClaimsYr2                   0.0          168.75         0.0   \n",
       "AvgClaimsYr1                   0.0      801.361111  296.185556   \n",
       "AvgClaimsYr2                   0.0          168.75         0.0   \n",
       "NumClaimsYr1                     0               9           9   \n",
       "NumClaimsYr2                     0               1           0   \n",
       "AmtClaimsTotal                 0.0          7381.0     2665.67   \n",
       "AvgClaimsTotal                 0.0      970.111111  296.185556   \n",
       "NumClaimsTotal                   0              10           9   \n",
       "YrsWithClaims                    0               2           1   \n",
       "\n",
       "                                 6           7  \n",
       "PetId                            6           7  \n",
       "Species                        Cat         Dog  \n",
       "Breed           American Shorthair       Boxer  \n",
       "Premium                       47.4       75.14  \n",
       "Deductible                     250         700  \n",
       "AgeYr1                           0           5  \n",
       "YoungAge                         0           0  \n",
       "AmtClaimsYr1                   0.0     2873.47  \n",
       "AmtClaimsYr2                811.38     2497.03  \n",
       "AvgClaimsYr1                   0.0  410.495714  \n",
       "AvgClaimsYr2                811.38  356.718571  \n",
       "NumClaimsYr1                     0           7  \n",
       "NumClaimsYr2                     1           7  \n",
       "AmtClaimsTotal              811.38      5370.5  \n",
       "AvgClaimsTotal              811.38  767.214286  \n",
       "NumClaimsTotal                   1          14  \n",
       "YrsWithClaims                    1           2  "
      ]
     },
     "execution_count": 2,
     "metadata": {},
     "output_type": "execute_result"
    }
   ],
   "source": [
    "pets = pd.read_csv('../data/pets.csv', index_col=0)\n",
    "pets.head(8).T"
   ]
  },
  {
   "cell_type": "markdown",
   "metadata": {},
   "source": [
    "### 2.3 Initial Plan for Pre-processing and Feature Engineering\n",
    "Our primary goal for pre-processing will be to prepare our data for modeling. At a our minimum, this will include scaling and/or normalizing our features against one another, generating any required dummy values for categorical columns and splitting our data into our train and test sets.\n",
    "\n",
    "**Train / Test Prep**\n",
    "* Drop all 'Yr2' and 'Total' columns except AmtClaimsYr2 (our target) as this is data we would not have available for making predictions\n",
    "* Split our data into training and test sets\n",
    "\n",
    "**Feature Engineering** \n",
    "* Premium and Deductible - Roll these features up to the breed level to smooth out some of the variability between pets that are in essence, identical\n",
    "* Breed - Employ a method to reduce the number of unique values\n",
    "* Breed statistics - Add features to incorporate breed-related statistics into pets data\n",
    "* PetAge - Consider adding a new features factoring in age (e.g., average claim amount in year 1, average total claims in year 1 - by age grouping)\n",
    "* AmtClaimsYr1 and AvgClaimsYr1 - consider rolling these up into one feature or rolling these up by breed\n",
    "* NumClaimsYr1 - Consider dropping this column or rolling up by breed; Could also be converted to binary (claims and no-claims)\n",
    "\n",
    "**Pre-processing**\n",
    "* Species - Convert to binary\n",
    "* Breed - Create dummy variables for the remaining breeds\n",
    "* All columns - Scale or normalize any columns not already converted to binary or dummy variables\n"
   ]
  },
  {
   "cell_type": "markdown",
   "metadata": {},
   "source": [
    "## 3 Split the Data\n",
    "As a first step, we'll take care of the train/test split to prevent any data leakage. Before we split the data, we need to drop some of the features that won't be part of our model. \n",
    "\n",
    "In addition, we observed in data wrangling and EDA, that there are a wide variety of breeds in our data. If we want to maintain a balanced distribution of breeds after our split, we'll need to use *stratify* to achieve this. Stratify won't work with our current data since we have some breeds with only 1 pet and stratify requires a minimum of 2 in each category.\n",
    "\n",
    "To work around this, we can take a few steps to reduce the number of unique values for 'Breed'. In doing so, we can ensure a minimum number of pets in each category. "
   ]
  },
  {
   "cell_type": "markdown",
   "metadata": {},
   "source": [
    "### 3.1 Drop Unnecessary or Unusable Features \n",
    "Before we move on with preprocessing, we need to drop some features from the data that are either unnecessary or unusable in our predictive model. These include:\n",
    "* **Year 2 Claims Data** - Using year 2 claims data to predict year 2 claims amount would be unfair and introduce data leakage into our model. The result would be that we would end up with a model that is overfit to our current dataset and would likely not generalize well with new data.\n",
    "* **Premium and Deductible** - Premium and deductible amounts are set by the insurance company and are not directly related to the number or amount of claims for any specific pet.\n",
    "* **PetId** - An arbitrary ID number that is meaningless when predicting insurance claims amounts."
   ]
  },
  {
   "cell_type": "code",
   "execution_count": 3,
   "metadata": {},
   "outputs": [],
   "source": [
    "# Drop features that won't be part of the model\n",
    "drop_cols = ['PetId', 'Premium', 'Deductible', 'AvgClaimsYr2', 'NumClaimsYr2', 'AmtClaimsTotal', 'AvgClaimsTotal',\n",
    "             'NumClaimsTotal', 'YrsWithClaims']\n",
    "pets.drop(columns=drop_cols, inplace=True)"
   ]
  },
  {
   "cell_type": "markdown",
   "metadata": {},
   "source": [
    "### 3.2 Reduce the Number of Unique Breeds\n",
    "To reduce the number of unique breeds in the data, we'll follow the steps below:\n",
    "\n",
    "1. Set threshold and save a list of breeds with counts greater or equal to the threshold\n",
    "2. Write a function to update the breed for a row based on whether or not it exists in the list from step 1\n",
    "3. Create a copy of our original df and apply the function\n",
    "4. Print out the before and after numbers for our count of unique breeds\n",
    "\n",
    "As part of step 2 above, we'll update the breed name for breeds with a low pet count to group them together in an *Other* category. To ensure we don't lose any species-specific information, we'll create two versions of *Other*, 'Other Cat' and 'Other Dog'. "
   ]
  },
  {
   "cell_type": "code",
   "execution_count": 4,
   "metadata": {},
   "outputs": [
    {
     "data": {
      "text/html": [
       "<div>\n",
       "<style scoped>\n",
       "    .dataframe tbody tr th:only-of-type {\n",
       "        vertical-align: middle;\n",
       "    }\n",
       "\n",
       "    .dataframe tbody tr th {\n",
       "        vertical-align: top;\n",
       "    }\n",
       "\n",
       "    .dataframe thead th {\n",
       "        text-align: right;\n",
       "    }\n",
       "</style>\n",
       "<table border=\"1\" class=\"dataframe\">\n",
       "  <thead>\n",
       "    <tr style=\"text-align: right;\">\n",
       "      <th></th>\n",
       "      <th>0</th>\n",
       "      <th>1</th>\n",
       "      <th>2</th>\n",
       "      <th>3</th>\n",
       "      <th>4</th>\n",
       "      <th>5</th>\n",
       "      <th>6</th>\n",
       "      <th>7</th>\n",
       "      <th>8</th>\n",
       "      <th>9</th>\n",
       "    </tr>\n",
       "  </thead>\n",
       "  <tbody>\n",
       "    <tr>\n",
       "      <th>Breed</th>\n",
       "      <td>Abyssinian</td>\n",
       "      <td>Affenpinscher</td>\n",
       "      <td>Afghan Hound</td>\n",
       "      <td>Aidi</td>\n",
       "      <td>Airedale Terrier</td>\n",
       "      <td>Akbash Dog</td>\n",
       "      <td>Akita</td>\n",
       "      <td>Alaskan Klee Kai</td>\n",
       "      <td>Alaskan Malamute</td>\n",
       "      <td>American Bandogge Mastiff</td>\n",
       "    </tr>\n",
       "    <tr>\n",
       "      <th>Species</th>\n",
       "      <td>Cat</td>\n",
       "      <td>Dog</td>\n",
       "      <td>Dog</td>\n",
       "      <td>Dog</td>\n",
       "      <td>Dog</td>\n",
       "      <td>Dog</td>\n",
       "      <td>Dog</td>\n",
       "      <td>Dog</td>\n",
       "      <td>Dog</td>\n",
       "      <td>Dog</td>\n",
       "    </tr>\n",
       "    <tr>\n",
       "      <th>PetCount</th>\n",
       "      <td>24</td>\n",
       "      <td>3</td>\n",
       "      <td>10</td>\n",
       "      <td>2</td>\n",
       "      <td>41</td>\n",
       "      <td>1</td>\n",
       "      <td>49</td>\n",
       "      <td>30</td>\n",
       "      <td>64</td>\n",
       "      <td>1</td>\n",
       "    </tr>\n",
       "    <tr>\n",
       "      <th>AvgTotalClaims</th>\n",
       "      <td>1462.780417</td>\n",
       "      <td>1746.19</td>\n",
       "      <td>645.543</td>\n",
       "      <td>0.0</td>\n",
       "      <td>1338.705366</td>\n",
       "      <td>11383.6</td>\n",
       "      <td>1217.91102</td>\n",
       "      <td>1510.666333</td>\n",
       "      <td>3096.346719</td>\n",
       "      <td>2295.07</td>\n",
       "    </tr>\n",
       "    <tr>\n",
       "      <th>AvgNumClaims</th>\n",
       "      <td>4.25</td>\n",
       "      <td>1.333333</td>\n",
       "      <td>2.5</td>\n",
       "      <td>0.0</td>\n",
       "      <td>2.097561</td>\n",
       "      <td>23.0</td>\n",
       "      <td>3.591837</td>\n",
       "      <td>3.166667</td>\n",
       "      <td>3.765625</td>\n",
       "      <td>8.0</td>\n",
       "    </tr>\n",
       "    <tr>\n",
       "      <th>WeightedTotalClaims</th>\n",
       "      <td>35106.73</td>\n",
       "      <td>5238.57</td>\n",
       "      <td>6455.43</td>\n",
       "      <td>0.0</td>\n",
       "      <td>54886.92</td>\n",
       "      <td>11383.6</td>\n",
       "      <td>59677.64</td>\n",
       "      <td>45319.99</td>\n",
       "      <td>198166.19</td>\n",
       "      <td>2295.07</td>\n",
       "    </tr>\n",
       "    <tr>\n",
       "      <th>WeightedNumClaims</th>\n",
       "      <td>102.0</td>\n",
       "      <td>4.0</td>\n",
       "      <td>25.0</td>\n",
       "      <td>0.0</td>\n",
       "      <td>86.0</td>\n",
       "      <td>23.0</td>\n",
       "      <td>176.0</td>\n",
       "      <td>95.0</td>\n",
       "      <td>241.0</td>\n",
       "      <td>8.0</td>\n",
       "    </tr>\n",
       "  </tbody>\n",
       "</table>\n",
       "</div>"
      ],
      "text/plain": [
       "                               0              1             2     3  \\\n",
       "Breed                 Abyssinian  Affenpinscher  Afghan Hound  Aidi   \n",
       "Species                      Cat            Dog           Dog   Dog   \n",
       "PetCount                      24              3            10     2   \n",
       "AvgTotalClaims       1462.780417        1746.19       645.543   0.0   \n",
       "AvgNumClaims                4.25       1.333333           2.5   0.0   \n",
       "WeightedTotalClaims     35106.73        5238.57       6455.43   0.0   \n",
       "WeightedNumClaims          102.0            4.0          25.0   0.0   \n",
       "\n",
       "                                    4           5           6  \\\n",
       "Breed                Airedale Terrier  Akbash Dog       Akita   \n",
       "Species                           Dog         Dog         Dog   \n",
       "PetCount                           41           1          49   \n",
       "AvgTotalClaims            1338.705366     11383.6  1217.91102   \n",
       "AvgNumClaims                 2.097561        23.0    3.591837   \n",
       "WeightedTotalClaims          54886.92     11383.6    59677.64   \n",
       "WeightedNumClaims                86.0        23.0       176.0   \n",
       "\n",
       "                                    7                 8  \\\n",
       "Breed                Alaskan Klee Kai  Alaskan Malamute   \n",
       "Species                           Dog               Dog   \n",
       "PetCount                           30                64   \n",
       "AvgTotalClaims            1510.666333       3096.346719   \n",
       "AvgNumClaims                 3.166667          3.765625   \n",
       "WeightedTotalClaims          45319.99         198166.19   \n",
       "WeightedNumClaims                95.0             241.0   \n",
       "\n",
       "                                             9  \n",
       "Breed                American Bandogge Mastiff  \n",
       "Species                                    Dog  \n",
       "PetCount                                     1  \n",
       "AvgTotalClaims                         2295.07  \n",
       "AvgNumClaims                               8.0  \n",
       "WeightedTotalClaims                    2295.07  \n",
       "WeightedNumClaims                          8.0  "
      ]
     },
     "execution_count": 4,
     "metadata": {},
     "output_type": "execute_result"
    }
   ],
   "source": [
    "breeds = pd.read_csv('../data/breeds.csv', index_col=0)\n",
    "breeds.head(10).T"
   ]
  },
  {
   "cell_type": "code",
   "execution_count": 5,
   "metadata": {},
   "outputs": [
    {
     "name": "stdout",
     "output_type": "stream",
     "text": [
      "Number of unique breeds before: 373\n",
      "Number of unique breeds after: 79\n"
     ]
    }
   ],
   "source": [
    "# Set threshold\n",
    "threshold = 100\n",
    "\n",
    "# Preserve list of Breeds with count greater equal to the threshold\n",
    "breeds_list = breeds[breeds.PetCount >= threshold].Breed.tolist()\n",
    "\n",
    "# Create function to update breed column based on threshold\n",
    "def update_breed(row):\n",
    "    if (row[\"Breed\"] in breeds_list):\n",
    "        return row[\"Breed\"]\n",
    "    else:\n",
    "        if (row[\"Species\"] == 'Cat'):\n",
    "            return 'Other Cat'\n",
    "        else:\n",
    "            return 'Other Dog'\n",
    "\n",
    "# Print number of unique breeds before update\n",
    "print(\"Number of unique breeds before: \" + str(pets.Breed.nunique()))\n",
    "\n",
    "# Apply function to update Breed\n",
    "pets[\"Breed\"] = pets.apply(update_breed, axis=1)\n",
    "print(\"Number of unique breeds after: \" + str(pets.Breed.nunique()))"
   ]
  },
  {
   "cell_type": "markdown",
   "metadata": {},
   "source": [
    "### 3.3 Split Data into Train and Test"
   ]
  },
  {
   "cell_type": "code",
   "execution_count": 6,
   "metadata": {},
   "outputs": [],
   "source": [
    "# Split out target and features\n",
    "y = pets[\"AmtClaimsYr2\"].values\n",
    "X = pets.drop(columns=\"AmtClaimsYr2\")\n",
    "\n",
    "# Split the data into train and test sets\n",
    "X_train, X_test, y_train, y_test = train_test_split(X, y, test_size=0.2, stratify=pets['Breed'])"
   ]
  },
  {
   "cell_type": "code",
   "execution_count": 7,
   "metadata": {},
   "outputs": [
    {
     "name": "stdout",
     "output_type": "stream",
     "text": [
      "(40000, 7)\n",
      "(10000, 7)\n",
      "(40000,)\n",
      "(10000,)\n"
     ]
    }
   ],
   "source": [
    "print(X_train.shape)\n",
    "print(X_test.shape)\n",
    "print(y_train.shape)\n",
    "print(y_test.shape)"
   ]
  },
  {
   "cell_type": "markdown",
   "metadata": {},
   "source": [
    "## 4 Feature Engineering\n",
    "Now that we've split the data into train and test sets, we can proceed with feature engineering without worrying about data leakage. As a next step, let's replace our **breeds** dataframe (which was based on the entire dataset) with an updated version based on our training dataset. Then we can pull in some of the summary statistics as new features.\n",
    "\n",
    "* Breed statistics - Add features to incorporate breed-related statistics into pets data\n",
    "* PetAge - Add features factoring in age (e.g., average claim amount in year 1, average total claims in year 1 - by age grouping, etc.)"
   ]
  },
  {
   "cell_type": "markdown",
   "metadata": {},
   "source": [
    "### 4.1 Breed Statistics\n",
    "After we create our new dataframe grouped by breed, we'll write a function to pull the summary statistics into our training data. "
   ]
  },
  {
   "cell_type": "code",
   "execution_count": 8,
   "metadata": {},
   "outputs": [
    {
     "data": {
      "text/html": [
       "<div>\n",
       "<style scoped>\n",
       "    .dataframe tbody tr th:only-of-type {\n",
       "        vertical-align: middle;\n",
       "    }\n",
       "\n",
       "    .dataframe tbody tr th {\n",
       "        vertical-align: top;\n",
       "    }\n",
       "\n",
       "    .dataframe thead th {\n",
       "        text-align: right;\n",
       "    }\n",
       "</style>\n",
       "<table border=\"1\" class=\"dataframe\">\n",
       "  <thead>\n",
       "    <tr style=\"text-align: right;\">\n",
       "      <th></th>\n",
       "      <th>0</th>\n",
       "      <th>1</th>\n",
       "      <th>2</th>\n",
       "      <th>3</th>\n",
       "      <th>4</th>\n",
       "      <th>5</th>\n",
       "      <th>6</th>\n",
       "      <th>7</th>\n",
       "      <th>8</th>\n",
       "      <th>9</th>\n",
       "    </tr>\n",
       "  </thead>\n",
       "  <tbody>\n",
       "    <tr>\n",
       "      <th>Breed</th>\n",
       "      <td>American Pitbull Terrier</td>\n",
       "      <td>American Shorthair</td>\n",
       "      <td>American Staffordshire Terrier</td>\n",
       "      <td>Aussiedoodle</td>\n",
       "      <td>Australian Labradoodle</td>\n",
       "      <td>Australian Shepherd</td>\n",
       "      <td>Beagle</td>\n",
       "      <td>Bengal</td>\n",
       "      <td>Bernedoodle</td>\n",
       "      <td>Bernese Mountain Dog</td>\n",
       "    </tr>\n",
       "    <tr>\n",
       "      <th>Species</th>\n",
       "      <td>Dog</td>\n",
       "      <td>Cat</td>\n",
       "      <td>Dog</td>\n",
       "      <td>Dog</td>\n",
       "      <td>Dog</td>\n",
       "      <td>Dog</td>\n",
       "      <td>Dog</td>\n",
       "      <td>Cat</td>\n",
       "      <td>Dog</td>\n",
       "      <td>Dog</td>\n",
       "    </tr>\n",
       "    <tr>\n",
       "      <th>PetCount</th>\n",
       "      <td>270</td>\n",
       "      <td>322</td>\n",
       "      <td>86</td>\n",
       "      <td>83</td>\n",
       "      <td>502</td>\n",
       "      <td>380</td>\n",
       "      <td>199</td>\n",
       "      <td>117</td>\n",
       "      <td>232</td>\n",
       "      <td>255</td>\n",
       "    </tr>\n",
       "    <tr>\n",
       "      <th>BreedAvgTotalClaims</th>\n",
       "      <td>1474.993852</td>\n",
       "      <td>384.981832</td>\n",
       "      <td>1050.282209</td>\n",
       "      <td>310.633012</td>\n",
       "      <td>593.959462</td>\n",
       "      <td>592.635763</td>\n",
       "      <td>758.266834</td>\n",
       "      <td>854.694786</td>\n",
       "      <td>850.40694</td>\n",
       "      <td>1531.275804</td>\n",
       "    </tr>\n",
       "    <tr>\n",
       "      <th>BreedAvgNumClaims</th>\n",
       "      <td>2.3</td>\n",
       "      <td>0.776398</td>\n",
       "      <td>1.872093</td>\n",
       "      <td>1.144578</td>\n",
       "      <td>1.904382</td>\n",
       "      <td>1.1</td>\n",
       "      <td>1.849246</td>\n",
       "      <td>1.188034</td>\n",
       "      <td>2.465517</td>\n",
       "      <td>2.694118</td>\n",
       "    </tr>\n",
       "    <tr>\n",
       "      <th>BreedAvgClaimAmt</th>\n",
       "      <td>423.326961</td>\n",
       "      <td>152.345708</td>\n",
       "      <td>275.456691</td>\n",
       "      <td>106.56157</td>\n",
       "      <td>162.506365</td>\n",
       "      <td>212.536037</td>\n",
       "      <td>210.407993</td>\n",
       "      <td>205.824534</td>\n",
       "      <td>230.569472</td>\n",
       "      <td>315.789746</td>\n",
       "    </tr>\n",
       "  </tbody>\n",
       "</table>\n",
       "</div>"
      ],
      "text/plain": [
       "                                            0                   1  \\\n",
       "Breed                American Pitbull Terrier  American Shorthair   \n",
       "Species                                   Dog                 Cat   \n",
       "PetCount                                  270                 322   \n",
       "BreedAvgTotalClaims               1474.993852          384.981832   \n",
       "BreedAvgNumClaims                         2.3            0.776398   \n",
       "BreedAvgClaimAmt                   423.326961          152.345708   \n",
       "\n",
       "                                                  2             3  \\\n",
       "Breed                American Staffordshire Terrier  Aussiedoodle   \n",
       "Species                                         Dog           Dog   \n",
       "PetCount                                         86            83   \n",
       "BreedAvgTotalClaims                     1050.282209    310.633012   \n",
       "BreedAvgNumClaims                          1.872093      1.144578   \n",
       "BreedAvgClaimAmt                         275.456691     106.56157   \n",
       "\n",
       "                                          4                    5           6  \\\n",
       "Breed                Australian Labradoodle  Australian Shepherd      Beagle   \n",
       "Species                                 Dog                  Dog         Dog   \n",
       "PetCount                                502                  380         199   \n",
       "BreedAvgTotalClaims              593.959462           592.635763  758.266834   \n",
       "BreedAvgNumClaims                  1.904382                  1.1    1.849246   \n",
       "BreedAvgClaimAmt                 162.506365           212.536037  210.407993   \n",
       "\n",
       "                              7            8                     9  \n",
       "Breed                    Bengal  Bernedoodle  Bernese Mountain Dog  \n",
       "Species                     Cat          Dog                   Dog  \n",
       "PetCount                    117          232                   255  \n",
       "BreedAvgTotalClaims  854.694786    850.40694           1531.275804  \n",
       "BreedAvgNumClaims      1.188034     2.465517              2.694118  \n",
       "BreedAvgClaimAmt     205.824534   230.569472            315.789746  "
      ]
     },
     "execution_count": 8,
     "metadata": {},
     "output_type": "execute_result"
    }
   ],
   "source": [
    "# Group pets by breed and aggregate data\n",
    "breeds = X_train.groupby(by=['Breed', 'Species']).agg({'Breed': ['count'],\n",
    "                                                       'AmtClaimsYr1': ['mean'],\n",
    "                                                       'NumClaimsYr1': ['mean'],\n",
    "                                                       'AvgClaimsYr1': ['mean']}).reset_index()\n",
    "breeds.columns = ['Breed', 'Species', 'PetCount', 'BreedAvgTotalClaims', 'BreedAvgNumClaims',\n",
    "                  'BreedAvgClaimAmt']\n",
    "breeds.head(10).T"
   ]
  },
  {
   "cell_type": "code",
   "execution_count": 9,
   "metadata": {},
   "outputs": [
    {
     "data": {
      "image/png": "[encoded data removed]",
      "text/plain": [
       "<Figure size 864x720 with 4 Axes>"
      ]
     },
     "metadata": {
      "needs_background": "light"
     },
     "output_type": "display_data"
    }
   ],
   "source": [
    "# Preview the distributions of each of our numeric features\n",
    "breeds.hist(figsize=(12,10))\n",
    "plt.subplots_adjust(hspace=0.5)\n",
    "plt.show()"
   ]
  },
  {
   "cell_type": "markdown",
   "metadata": {},
   "source": [
    "# TODO - Add Summary\n",
    "* All distributions are right-tailed\n",
    "* What implications does this have for our predictions?"
   ]
  },
  {
   "cell_type": "code",
   "execution_count": 10,
   "metadata": {},
   "outputs": [],
   "source": [
    "# Create function to pull breed statistics into pets dataframe\n",
    "def add_breed_stats(df):\n",
    "    features = ['Breed', 'BreedAvgTotalClaims', 'BreedAvgNumClaims', 'BreedAvgClaimAmt']\n",
    "    breed_stats = breeds.copy()[features]\n",
    "    df = pd.merge(df, breed_stats, how='left', on='Breed')\n",
    "    return df"
   ]
  },
  {
   "cell_type": "code",
   "execution_count": 11,
   "metadata": {},
   "outputs": [
    {
     "data": {
      "text/html": [
       "<div>\n",
       "<style scoped>\n",
       "    .dataframe tbody tr th:only-of-type {\n",
       "        vertical-align: middle;\n",
       "    }\n",
       "\n",
       "    .dataframe tbody tr th {\n",
       "        vertical-align: top;\n",
       "    }\n",
       "\n",
       "    .dataframe thead th {\n",
       "        text-align: right;\n",
       "    }\n",
       "</style>\n",
       "<table border=\"1\" class=\"dataframe\">\n",
       "  <thead>\n",
       "    <tr style=\"text-align: right;\">\n",
       "      <th></th>\n",
       "      <th>0</th>\n",
       "      <th>1</th>\n",
       "      <th>2</th>\n",
       "      <th>3</th>\n",
       "      <th>4</th>\n",
       "      <th>5</th>\n",
       "      <th>6</th>\n",
       "      <th>7</th>\n",
       "    </tr>\n",
       "  </thead>\n",
       "  <tbody>\n",
       "    <tr>\n",
       "      <th>Species</th>\n",
       "      <td>Dog</td>\n",
       "      <td>Cat</td>\n",
       "      <td>Cat</td>\n",
       "      <td>Cat</td>\n",
       "      <td>Dog</td>\n",
       "      <td>Dog</td>\n",
       "      <td>Dog</td>\n",
       "      <td>Dog</td>\n",
       "    </tr>\n",
       "    <tr>\n",
       "      <th>Breed</th>\n",
       "      <td>Labrador Retriever</td>\n",
       "      <td>Domestic Shorthair</td>\n",
       "      <td>Domestic Shorthair</td>\n",
       "      <td>Domestic Shorthair</td>\n",
       "      <td>Labradoodle</td>\n",
       "      <td>Golden Retriever</td>\n",
       "      <td>Golden Retriever</td>\n",
       "      <td>Other Dog</td>\n",
       "    </tr>\n",
       "    <tr>\n",
       "      <th>AgeYr1</th>\n",
       "      <td>0</td>\n",
       "      <td>8</td>\n",
       "      <td>0</td>\n",
       "      <td>0</td>\n",
       "      <td>1</td>\n",
       "      <td>0</td>\n",
       "      <td>1</td>\n",
       "      <td>0</td>\n",
       "    </tr>\n",
       "    <tr>\n",
       "      <th>YoungAge</th>\n",
       "      <td>0</td>\n",
       "      <td>0</td>\n",
       "      <td>0</td>\n",
       "      <td>0</td>\n",
       "      <td>0</td>\n",
       "      <td>0</td>\n",
       "      <td>0</td>\n",
       "      <td>0</td>\n",
       "    </tr>\n",
       "    <tr>\n",
       "      <th>AmtClaimsYr1</th>\n",
       "      <td>0.0</td>\n",
       "      <td>0.0</td>\n",
       "      <td>2420.36</td>\n",
       "      <td>0.0</td>\n",
       "      <td>415.79</td>\n",
       "      <td>0.0</td>\n",
       "      <td>2030.23</td>\n",
       "      <td>0.0</td>\n",
       "    </tr>\n",
       "    <tr>\n",
       "      <th>AvgClaimsYr1</th>\n",
       "      <td>0.0</td>\n",
       "      <td>0.0</td>\n",
       "      <td>605.09</td>\n",
       "      <td>0.0</td>\n",
       "      <td>103.9475</td>\n",
       "      <td>0.0</td>\n",
       "      <td>156.171538</td>\n",
       "      <td>0.0</td>\n",
       "    </tr>\n",
       "    <tr>\n",
       "      <th>NumClaimsYr1</th>\n",
       "      <td>0</td>\n",
       "      <td>0</td>\n",
       "      <td>4</td>\n",
       "      <td>0</td>\n",
       "      <td>4</td>\n",
       "      <td>0</td>\n",
       "      <td>13</td>\n",
       "      <td>0</td>\n",
       "    </tr>\n",
       "    <tr>\n",
       "      <th>BreedAvgTotalClaims</th>\n",
       "      <td>1051.183855</td>\n",
       "      <td>388.096832</td>\n",
       "      <td>388.096832</td>\n",
       "      <td>388.096832</td>\n",
       "      <td>573.550654</td>\n",
       "      <td>929.597605</td>\n",
       "      <td>929.597605</td>\n",
       "      <td>937.093707</td>\n",
       "    </tr>\n",
       "    <tr>\n",
       "      <th>BreedAvgNumClaims</th>\n",
       "      <td>2.084123</td>\n",
       "      <td>0.811677</td>\n",
       "      <td>0.811677</td>\n",
       "      <td>0.811677</td>\n",
       "      <td>1.667431</td>\n",
       "      <td>2.103086</td>\n",
       "      <td>2.103086</td>\n",
       "      <td>1.89334</td>\n",
       "    </tr>\n",
       "    <tr>\n",
       "      <th>BreedAvgClaimAmt</th>\n",
       "      <td>271.553273</td>\n",
       "      <td>137.392321</td>\n",
       "      <td>137.392321</td>\n",
       "      <td>137.392321</td>\n",
       "      <td>167.451173</td>\n",
       "      <td>241.834159</td>\n",
       "      <td>241.834159</td>\n",
       "      <td>256.990491</td>\n",
       "    </tr>\n",
       "  </tbody>\n",
       "</table>\n",
       "</div>"
      ],
      "text/plain": [
       "                                      0                   1  \\\n",
       "Species                             Dog                 Cat   \n",
       "Breed                Labrador Retriever  Domestic Shorthair   \n",
       "AgeYr1                                0                   8   \n",
       "YoungAge                              0                   0   \n",
       "AmtClaimsYr1                        0.0                 0.0   \n",
       "AvgClaimsYr1                        0.0                 0.0   \n",
       "NumClaimsYr1                          0                   0   \n",
       "BreedAvgTotalClaims         1051.183855          388.096832   \n",
       "BreedAvgNumClaims              2.084123            0.811677   \n",
       "BreedAvgClaimAmt             271.553273          137.392321   \n",
       "\n",
       "                                      2                   3            4  \\\n",
       "Species                             Cat                 Cat          Dog   \n",
       "Breed                Domestic Shorthair  Domestic Shorthair  Labradoodle   \n",
       "AgeYr1                                0                   0            1   \n",
       "YoungAge                              0                   0            0   \n",
       "AmtClaimsYr1                    2420.36                 0.0       415.79   \n",
       "AvgClaimsYr1                     605.09                 0.0     103.9475   \n",
       "NumClaimsYr1                          4                   0            4   \n",
       "BreedAvgTotalClaims          388.096832          388.096832   573.550654   \n",
       "BreedAvgNumClaims              0.811677            0.811677     1.667431   \n",
       "BreedAvgClaimAmt             137.392321          137.392321   167.451173   \n",
       "\n",
       "                                    5                 6           7  \n",
       "Species                           Dog               Dog         Dog  \n",
       "Breed                Golden Retriever  Golden Retriever   Other Dog  \n",
       "AgeYr1                              0                 1           0  \n",
       "YoungAge                            0                 0           0  \n",
       "AmtClaimsYr1                      0.0           2030.23         0.0  \n",
       "AvgClaimsYr1                      0.0        156.171538         0.0  \n",
       "NumClaimsYr1                        0                13           0  \n",
       "BreedAvgTotalClaims        929.597605        929.597605  937.093707  \n",
       "BreedAvgNumClaims            2.103086          2.103086     1.89334  \n",
       "BreedAvgClaimAmt           241.834159        241.834159  256.990491  "
      ]
     },
     "execution_count": 11,
     "metadata": {},
     "output_type": "execute_result"
    }
   ],
   "source": [
    "# Apply function to training and test data & preview result\n",
    "X_train = add_breed_stats(X_train)\n",
    "X_test = add_breed_stats(X_test)\n",
    "\n",
    "X_train.head(8).T"
   ]
  },
  {
   "cell_type": "code",
   "execution_count": 12,
   "metadata": {},
   "outputs": [
    {
     "name": "stdout",
     "output_type": "stream",
     "text": [
      "<class 'pandas.core.frame.DataFrame'>\n",
      "Int64Index: 40000 entries, 0 to 39999\n",
      "Data columns (total 10 columns):\n",
      " #   Column               Non-Null Count  Dtype  \n",
      "---  ------               --------------  -----  \n",
      " 0   Species              40000 non-null  object \n",
      " 1   Breed                40000 non-null  object \n",
      " 2   AgeYr1               40000 non-null  int64  \n",
      " 3   YoungAge             40000 non-null  int64  \n",
      " 4   AmtClaimsYr1         40000 non-null  float64\n",
      " 5   AvgClaimsYr1         40000 non-null  float64\n",
      " 6   NumClaimsYr1         40000 non-null  int64  \n",
      " 7   BreedAvgTotalClaims  40000 non-null  float64\n",
      " 8   BreedAvgNumClaims    40000 non-null  float64\n",
      " 9   BreedAvgClaimAmt     40000 non-null  float64\n",
      "dtypes: float64(5), int64(3), object(2)\n",
      "memory usage: 3.4+ MB\n"
     ]
    }
   ],
   "source": [
    "# Check for null values\n",
    "X_train.info()"
   ]
  },
  {
   "cell_type": "code",
   "execution_count": 13,
   "metadata": {},
   "outputs": [
    {
     "name": "stdout",
     "output_type": "stream",
     "text": [
      "<class 'pandas.core.frame.DataFrame'>\n",
      "Int64Index: 10000 entries, 0 to 9999\n",
      "Data columns (total 10 columns):\n",
      " #   Column               Non-Null Count  Dtype  \n",
      "---  ------               --------------  -----  \n",
      " 0   Species              10000 non-null  object \n",
      " 1   Breed                10000 non-null  object \n",
      " 2   AgeYr1               10000 non-null  int64  \n",
      " 3   YoungAge             10000 non-null  int64  \n",
      " 4   AmtClaimsYr1         10000 non-null  float64\n",
      " 5   AvgClaimsYr1         10000 non-null  float64\n",
      " 6   NumClaimsYr1         10000 non-null  int64  \n",
      " 7   BreedAvgTotalClaims  10000 non-null  float64\n",
      " 8   BreedAvgNumClaims    10000 non-null  float64\n",
      " 9   BreedAvgClaimAmt     10000 non-null  float64\n",
      "dtypes: float64(5), int64(3), object(2)\n",
      "memory usage: 859.4+ KB\n"
     ]
    }
   ],
   "source": [
    "X_test.info()"
   ]
  },
  {
   "cell_type": "markdown",
   "metadata": {},
   "source": [
    "So after pulling in our breed stats, we can see that we don't have any missing values in our data. Next, let's move on to look at Pet Age statistics."
   ]
  },
  {
   "cell_type": "markdown",
   "metadata": {},
   "source": [
    "### 4.2 Pet Age\n",
    "Similar to breed, we would expect a wide range of vairiability in our claims data on a per-pet basis at each age level. However, averaging the claims data per age could help to offset some of that variability we see for individual pets. \n",
    "\n",
    "We'll start by grouping our data based on pet age and species."
   ]
  },
  {
   "cell_type": "code",
   "execution_count": 14,
   "metadata": {},
   "outputs": [
    {
     "data": {
      "text/html": [
       "<div>\n",
       "<style scoped>\n",
       "    .dataframe tbody tr th:only-of-type {\n",
       "        vertical-align: middle;\n",
       "    }\n",
       "\n",
       "    .dataframe tbody tr th {\n",
       "        vertical-align: top;\n",
       "    }\n",
       "\n",
       "    .dataframe thead th {\n",
       "        text-align: right;\n",
       "    }\n",
       "</style>\n",
       "<table border=\"1\" class=\"dataframe\">\n",
       "  <thead>\n",
       "    <tr style=\"text-align: right;\">\n",
       "      <th></th>\n",
       "      <th>0</th>\n",
       "      <th>1</th>\n",
       "      <th>2</th>\n",
       "      <th>3</th>\n",
       "      <th>4</th>\n",
       "      <th>5</th>\n",
       "      <th>6</th>\n",
       "      <th>7</th>\n",
       "      <th>8</th>\n",
       "      <th>9</th>\n",
       "    </tr>\n",
       "  </thead>\n",
       "  <tbody>\n",
       "    <tr>\n",
       "      <th>AgeYr1</th>\n",
       "      <td>0</td>\n",
       "      <td>0</td>\n",
       "      <td>1</td>\n",
       "      <td>1</td>\n",
       "      <td>2</td>\n",
       "      <td>2</td>\n",
       "      <td>3</td>\n",
       "      <td>3</td>\n",
       "      <td>4</td>\n",
       "      <td>4</td>\n",
       "    </tr>\n",
       "    <tr>\n",
       "      <th>Species</th>\n",
       "      <td>Cat</td>\n",
       "      <td>Dog</td>\n",
       "      <td>Cat</td>\n",
       "      <td>Dog</td>\n",
       "      <td>Cat</td>\n",
       "      <td>Dog</td>\n",
       "      <td>Cat</td>\n",
       "      <td>Dog</td>\n",
       "      <td>Cat</td>\n",
       "      <td>Dog</td>\n",
       "    </tr>\n",
       "    <tr>\n",
       "      <th>PetCount</th>\n",
       "      <td>3156</td>\n",
       "      <td>22236</td>\n",
       "      <td>724</td>\n",
       "      <td>3010</td>\n",
       "      <td>576</td>\n",
       "      <td>2112</td>\n",
       "      <td>399</td>\n",
       "      <td>1413</td>\n",
       "      <td>330</td>\n",
       "      <td>1141</td>\n",
       "    </tr>\n",
       "    <tr>\n",
       "      <th>AgeYr1AvgTotalClaims</th>\n",
       "      <td>432.488032</td>\n",
       "      <td>907.422743</td>\n",
       "      <td>427.693287</td>\n",
       "      <td>690.817934</td>\n",
       "      <td>285.635694</td>\n",
       "      <td>632.375445</td>\n",
       "      <td>226.388346</td>\n",
       "      <td>703.35913</td>\n",
       "      <td>527.915758</td>\n",
       "      <td>718.571534</td>\n",
       "    </tr>\n",
       "    <tr>\n",
       "      <th>AgeYr1AvgNumClaims</th>\n",
       "      <td>0.973701</td>\n",
       "      <td>2.004362</td>\n",
       "      <td>0.737569</td>\n",
       "      <td>1.354153</td>\n",
       "      <td>0.550347</td>\n",
       "      <td>1.207386</td>\n",
       "      <td>0.488722</td>\n",
       "      <td>1.282378</td>\n",
       "      <td>0.960606</td>\n",
       "      <td>1.213848</td>\n",
       "    </tr>\n",
       "    <tr>\n",
       "      <th>AgeYr1AvgClaimAmt</th>\n",
       "      <td>139.760719</td>\n",
       "      <td>235.77412</td>\n",
       "      <td>168.600161</td>\n",
       "      <td>212.989241</td>\n",
       "      <td>117.99364</td>\n",
       "      <td>202.839673</td>\n",
       "      <td>103.883991</td>\n",
       "      <td>220.712716</td>\n",
       "      <td>188.169402</td>\n",
       "      <td>212.752902</td>\n",
       "    </tr>\n",
       "  </tbody>\n",
       "</table>\n",
       "</div>"
      ],
      "text/plain": [
       "                               0           1           2           3  \\\n",
       "AgeYr1                         0           0           1           1   \n",
       "Species                      Cat         Dog         Cat         Dog   \n",
       "PetCount                    3156       22236         724        3010   \n",
       "AgeYr1AvgTotalClaims  432.488032  907.422743  427.693287  690.817934   \n",
       "AgeYr1AvgNumClaims      0.973701    2.004362    0.737569    1.354153   \n",
       "AgeYr1AvgClaimAmt     139.760719   235.77412  168.600161  212.989241   \n",
       "\n",
       "                               4           5           6           7  \\\n",
       "AgeYr1                         2           2           3           3   \n",
       "Species                      Cat         Dog         Cat         Dog   \n",
       "PetCount                     576        2112         399        1413   \n",
       "AgeYr1AvgTotalClaims  285.635694  632.375445  226.388346   703.35913   \n",
       "AgeYr1AvgNumClaims      0.550347    1.207386    0.488722    1.282378   \n",
       "AgeYr1AvgClaimAmt      117.99364  202.839673  103.883991  220.712716   \n",
       "\n",
       "                               8           9  \n",
       "AgeYr1                         4           4  \n",
       "Species                      Cat         Dog  \n",
       "PetCount                     330        1141  \n",
       "AgeYr1AvgTotalClaims  527.915758  718.571534  \n",
       "AgeYr1AvgNumClaims      0.960606    1.213848  \n",
       "AgeYr1AvgClaimAmt     188.169402  212.752902  "
      ]
     },
     "execution_count": 14,
     "metadata": {},
     "output_type": "execute_result"
    }
   ],
   "source": [
    "# Group pets by age at enrollment and aggregate data\n",
    "pets_by_age = X_train.groupby(by=[\"AgeYr1\", \"Species\"]).agg({'AgeYr1': ['count'],\n",
    "                                                             'AmtClaimsYr1': ['mean'],\n",
    "                                                             'NumClaimsYr1': ['mean'],\n",
    "                                                             'AvgClaimsYr1': ['mean']}).reset_index()\n",
    "pets_by_age.columns = ['AgeYr1', 'Species', 'PetCount', 'AgeYr1AvgTotalClaims', 'AgeYr1AvgNumClaims',\n",
    "                       'AgeYr1AvgClaimAmt']\n",
    "pets_by_age.head(10).T"
   ]
  },
  {
   "cell_type": "code",
   "execution_count": 15,
   "metadata": {},
   "outputs": [
    {
     "data": {
      "image/png": "[encoded data removed]",
      "text/plain": [
       "<Figure size 864x432 with 1 Axes>"
      ]
     },
     "metadata": {
      "needs_background": "light"
     },
     "output_type": "display_data"
    }
   ],
   "source": [
    "# Plot the data \n",
    "fig, ax = plt.subplots(1, 1, figsize=(12, 6))\n",
    "sns.barplot(x=\"AgeYr1\", y=\"AgeYr1AvgTotalClaims\", hue=\"Species\", data=pets_by_age, hue_order=['Dog', 'Cat'] \n",
    "           ).set(xlabel=\"Pet Age at Enrollment\", ylabel=\"Average Total Claims in Year 1, USD\")\n",
    "\n",
    "# Plot the legend and display\n",
    "plt.title(\"Average Total Claims in Year 1, by Species and Age at Enrollment\", y=1.05, fontsize=14)\n",
    "plt.legend(loc='upper right')\n",
    "plt.show()"
   ]
  },
  {
   "cell_type": "markdown",
   "metadata": {},
   "source": [
    "As noted in EDA, dogs pretty consistently have higher average total claims than cats at just about every age level with the exception of a couple of ages at the high end of our range. \n",
    "\n",
    "There is a bit more variability in the trends for each species across the age range. We see that as age increases, the average claims amount tends to rise, but it's not a clear linear relationship. In any case, incorporating these averages should help our predictive model by adding some population-level features into the mix.  "
   ]
  },
  {
   "cell_type": "code",
   "execution_count": 16,
   "metadata": {},
   "outputs": [],
   "source": [
    "# Create function to pull age statistics into pets dataframe\n",
    "def add_age_stats(df):\n",
    "    features = ['AgeYr1', 'Species', 'AgeYr1AvgTotalClaims', 'AgeYr1AvgNumClaims', 'AgeYr1AvgClaimAmt']\n",
    "    age_stats = pets_by_age.copy()[features]\n",
    "    df = pd.merge(df, age_stats, how='left', on=(['AgeYr1', 'Species']))\n",
    "    return df"
   ]
  },
  {
   "cell_type": "code",
   "execution_count": 17,
   "metadata": {},
   "outputs": [
    {
     "data": {
      "text/html": [
       "<div>\n",
       "<style scoped>\n",
       "    .dataframe tbody tr th:only-of-type {\n",
       "        vertical-align: middle;\n",
       "    }\n",
       "\n",
       "    .dataframe tbody tr th {\n",
       "        vertical-align: top;\n",
       "    }\n",
       "\n",
       "    .dataframe thead th {\n",
       "        text-align: right;\n",
       "    }\n",
       "</style>\n",
       "<table border=\"1\" class=\"dataframe\">\n",
       "  <thead>\n",
       "    <tr style=\"text-align: right;\">\n",
       "      <th></th>\n",
       "      <th>0</th>\n",
       "      <th>1</th>\n",
       "      <th>2</th>\n",
       "      <th>3</th>\n",
       "      <th>4</th>\n",
       "      <th>5</th>\n",
       "      <th>6</th>\n",
       "      <th>7</th>\n",
       "    </tr>\n",
       "  </thead>\n",
       "  <tbody>\n",
       "    <tr>\n",
       "      <th>Species</th>\n",
       "      <td>Dog</td>\n",
       "      <td>Cat</td>\n",
       "      <td>Cat</td>\n",
       "      <td>Cat</td>\n",
       "      <td>Dog</td>\n",
       "      <td>Dog</td>\n",
       "      <td>Dog</td>\n",
       "      <td>Dog</td>\n",
       "    </tr>\n",
       "    <tr>\n",
       "      <th>Breed</th>\n",
       "      <td>Labrador Retriever</td>\n",
       "      <td>Domestic Shorthair</td>\n",
       "      <td>Domestic Shorthair</td>\n",
       "      <td>Domestic Shorthair</td>\n",
       "      <td>Labradoodle</td>\n",
       "      <td>Golden Retriever</td>\n",
       "      <td>Golden Retriever</td>\n",
       "      <td>Other Dog</td>\n",
       "    </tr>\n",
       "    <tr>\n",
       "      <th>AgeYr1</th>\n",
       "      <td>0</td>\n",
       "      <td>8</td>\n",
       "      <td>0</td>\n",
       "      <td>0</td>\n",
       "      <td>1</td>\n",
       "      <td>0</td>\n",
       "      <td>1</td>\n",
       "      <td>0</td>\n",
       "    </tr>\n",
       "    <tr>\n",
       "      <th>YoungAge</th>\n",
       "      <td>0</td>\n",
       "      <td>0</td>\n",
       "      <td>0</td>\n",
       "      <td>0</td>\n",
       "      <td>0</td>\n",
       "      <td>0</td>\n",
       "      <td>0</td>\n",
       "      <td>0</td>\n",
       "    </tr>\n",
       "    <tr>\n",
       "      <th>AmtClaimsYr1</th>\n",
       "      <td>0.0</td>\n",
       "      <td>0.0</td>\n",
       "      <td>2420.36</td>\n",
       "      <td>0.0</td>\n",
       "      <td>415.79</td>\n",
       "      <td>0.0</td>\n",
       "      <td>2030.23</td>\n",
       "      <td>0.0</td>\n",
       "    </tr>\n",
       "    <tr>\n",
       "      <th>AvgClaimsYr1</th>\n",
       "      <td>0.0</td>\n",
       "      <td>0.0</td>\n",
       "      <td>605.09</td>\n",
       "      <td>0.0</td>\n",
       "      <td>103.9475</td>\n",
       "      <td>0.0</td>\n",
       "      <td>156.171538</td>\n",
       "      <td>0.0</td>\n",
       "    </tr>\n",
       "    <tr>\n",
       "      <th>NumClaimsYr1</th>\n",
       "      <td>0</td>\n",
       "      <td>0</td>\n",
       "      <td>4</td>\n",
       "      <td>0</td>\n",
       "      <td>4</td>\n",
       "      <td>0</td>\n",
       "      <td>13</td>\n",
       "      <td>0</td>\n",
       "    </tr>\n",
       "    <tr>\n",
       "      <th>BreedAvgTotalClaims</th>\n",
       "      <td>1051.183855</td>\n",
       "      <td>388.096832</td>\n",
       "      <td>388.096832</td>\n",
       "      <td>388.096832</td>\n",
       "      <td>573.550654</td>\n",
       "      <td>929.597605</td>\n",
       "      <td>929.597605</td>\n",
       "      <td>937.093707</td>\n",
       "    </tr>\n",
       "    <tr>\n",
       "      <th>BreedAvgNumClaims</th>\n",
       "      <td>2.084123</td>\n",
       "      <td>0.811677</td>\n",
       "      <td>0.811677</td>\n",
       "      <td>0.811677</td>\n",
       "      <td>1.667431</td>\n",
       "      <td>2.103086</td>\n",
       "      <td>2.103086</td>\n",
       "      <td>1.89334</td>\n",
       "    </tr>\n",
       "    <tr>\n",
       "      <th>BreedAvgClaimAmt</th>\n",
       "      <td>271.553273</td>\n",
       "      <td>137.392321</td>\n",
       "      <td>137.392321</td>\n",
       "      <td>137.392321</td>\n",
       "      <td>167.451173</td>\n",
       "      <td>241.834159</td>\n",
       "      <td>241.834159</td>\n",
       "      <td>256.990491</td>\n",
       "    </tr>\n",
       "    <tr>\n",
       "      <th>AgeYr1AvgTotalClaims</th>\n",
       "      <td>907.422743</td>\n",
       "      <td>695.198588</td>\n",
       "      <td>432.488032</td>\n",
       "      <td>432.488032</td>\n",
       "      <td>690.817934</td>\n",
       "      <td>907.422743</td>\n",
       "      <td>690.817934</td>\n",
       "      <td>907.422743</td>\n",
       "    </tr>\n",
       "    <tr>\n",
       "      <th>AgeYr1AvgNumClaims</th>\n",
       "      <td>2.004362</td>\n",
       "      <td>1.017647</td>\n",
       "      <td>0.973701</td>\n",
       "      <td>0.973701</td>\n",
       "      <td>1.354153</td>\n",
       "      <td>2.004362</td>\n",
       "      <td>1.354153</td>\n",
       "      <td>2.004362</td>\n",
       "    </tr>\n",
       "    <tr>\n",
       "      <th>AgeYr1AvgClaimAmt</th>\n",
       "      <td>235.77412</td>\n",
       "      <td>258.128263</td>\n",
       "      <td>139.760719</td>\n",
       "      <td>139.760719</td>\n",
       "      <td>212.989241</td>\n",
       "      <td>235.77412</td>\n",
       "      <td>212.989241</td>\n",
       "      <td>235.77412</td>\n",
       "    </tr>\n",
       "  </tbody>\n",
       "</table>\n",
       "</div>"
      ],
      "text/plain": [
       "                                       0                   1  \\\n",
       "Species                              Dog                 Cat   \n",
       "Breed                 Labrador Retriever  Domestic Shorthair   \n",
       "AgeYr1                                 0                   8   \n",
       "YoungAge                               0                   0   \n",
       "AmtClaimsYr1                         0.0                 0.0   \n",
       "AvgClaimsYr1                         0.0                 0.0   \n",
       "NumClaimsYr1                           0                   0   \n",
       "BreedAvgTotalClaims          1051.183855          388.096832   \n",
       "BreedAvgNumClaims               2.084123            0.811677   \n",
       "BreedAvgClaimAmt              271.553273          137.392321   \n",
       "AgeYr1AvgTotalClaims          907.422743          695.198588   \n",
       "AgeYr1AvgNumClaims              2.004362            1.017647   \n",
       "AgeYr1AvgClaimAmt              235.77412          258.128263   \n",
       "\n",
       "                                       2                   3            4  \\\n",
       "Species                              Cat                 Cat          Dog   \n",
       "Breed                 Domestic Shorthair  Domestic Shorthair  Labradoodle   \n",
       "AgeYr1                                 0                   0            1   \n",
       "YoungAge                               0                   0            0   \n",
       "AmtClaimsYr1                     2420.36                 0.0       415.79   \n",
       "AvgClaimsYr1                      605.09                 0.0     103.9475   \n",
       "NumClaimsYr1                           4                   0            4   \n",
       "BreedAvgTotalClaims           388.096832          388.096832   573.550654   \n",
       "BreedAvgNumClaims               0.811677            0.811677     1.667431   \n",
       "BreedAvgClaimAmt              137.392321          137.392321   167.451173   \n",
       "AgeYr1AvgTotalClaims          432.488032          432.488032   690.817934   \n",
       "AgeYr1AvgNumClaims              0.973701            0.973701     1.354153   \n",
       "AgeYr1AvgClaimAmt             139.760719          139.760719   212.989241   \n",
       "\n",
       "                                     5                 6           7  \n",
       "Species                            Dog               Dog         Dog  \n",
       "Breed                 Golden Retriever  Golden Retriever   Other Dog  \n",
       "AgeYr1                               0                 1           0  \n",
       "YoungAge                             0                 0           0  \n",
       "AmtClaimsYr1                       0.0           2030.23         0.0  \n",
       "AvgClaimsYr1                       0.0        156.171538         0.0  \n",
       "NumClaimsYr1                         0                13           0  \n",
       "BreedAvgTotalClaims         929.597605        929.597605  937.093707  \n",
       "BreedAvgNumClaims             2.103086          2.103086     1.89334  \n",
       "BreedAvgClaimAmt            241.834159        241.834159  256.990491  \n",
       "AgeYr1AvgTotalClaims        907.422743        690.817934  907.422743  \n",
       "AgeYr1AvgNumClaims            2.004362          1.354153    2.004362  \n",
       "AgeYr1AvgClaimAmt            235.77412        212.989241   235.77412  "
      ]
     },
     "execution_count": 17,
     "metadata": {},
     "output_type": "execute_result"
    }
   ],
   "source": [
    "# Apply function to training and test data & preview result\n",
    "X_train = add_age_stats(X_train)\n",
    "X_test = add_age_stats(X_test)\n",
    "\n",
    "X_train.head(8).T"
   ]
  },
  {
   "cell_type": "markdown",
   "metadata": {},
   "source": [
    "## 5. Data Preprocessing\n",
    "\n",
    "Now that we've engineered a couple of new features, let's take a look at our data and complete any additional pre-processing on categorical features before we move on to model creation. \n",
    "\n",
    "Let's review the dtypes in our dataset."
   ]
  },
  {
   "cell_type": "code",
   "execution_count": 18,
   "metadata": {},
   "outputs": [
    {
     "name": "stdout",
     "output_type": "stream",
     "text": [
      "float64    8\n",
      "int64      3\n",
      "object     2\n",
      "dtype: int64\n",
      "Remaining categorical columns: ['Species', 'Breed']\n"
     ]
    }
   ],
   "source": [
    "print(X_train.dtypes.value_counts())\n",
    "obj_cols = X_train.select_dtypes(include=['object']).columns.to_list()\n",
    "print(\"Remaining categorical columns: \" + str(obj_cols))"
   ]
  },
  {
   "cell_type": "markdown",
   "metadata": {},
   "source": [
    "We still have two object columns to deal with before we can move on to modeling - Species and Breed. As observed earlier, species contains two possible values - Cat and Dog, while breed contains 79 unique values (after some manipulation). \n",
    "\n",
    "We can create a preprocessor to use OneHotEncoder as part of our pipeline. We can use the (drop='if_binary') argument to utilize OneHotEncoder on both columns even though one is binary and the other has 79 possible values."
   ]
  },
  {
   "cell_type": "code",
   "execution_count": 19,
   "metadata": {},
   "outputs": [],
   "source": [
    "# Create list of categorical and numerical columns\n",
    "categorical_columns = ['Species', 'Breed']\n",
    "numerical_columns = ['AgeYr1', 'YoungAge', 'AmtClaimsYr1',\n",
    "       'AvgClaimsYr1', 'NumClaimsYr1', 'BreedAvgTotalClaims',\n",
    "       'BreedAvgNumClaims', 'BreedAvgClaimAmt', 'AgeYr1AvgTotalClaims_x',\n",
    "       'AgeYr1AvgNumClaims_x', 'AgeYr1AvgClaimAmt_x', 'AgeYr1AvgTotalClaims_y',\n",
    "       'AgeYr1AvgNumClaims_y', 'AgeYr1AvgClaimAmt_y']\n",
    "\n",
    "# Create a preprocessor to encode the categorical columns\n",
    "preprocessor = make_column_transformer(\n",
    "    (OneHotEncoder(drop='if_binary'), categorical_columns),\n",
    "    remainder='passthrough'\n",
    ")"
   ]
  },
  {
   "cell_type": "markdown",
   "metadata": {},
   "source": [
    "## 6 Baseline Models\n",
    "Next we'll make a pipeline including the preprocessor we created above as one of the pipeline steps. For our baseline model review, let's start by looking at a dummy regressor using the mean of our data. Then we can compare the performance with a simple linear regression model. This should provide us with a good starting point to build on with more sophisticated modeling techniques.\n",
    "\n",
    "In terms of scoring, we'll look at **mean absolute error** since this will render scores in the units of our target variable (i.e., USD). This will simplifiy model comparison by making the results more intuitive.\n",
    "\n",
    "To begin, we'll make the pipeline including the following steps:\n",
    "* preprocessor - created above to replace our categorical variables\n",
    "* regressor - to allow for passing in different regressor functions\n",
    "\n",
    "We will also create a scorer to calculate the mean absolute error for our cross validation result."
   ]
  },
  {
   "cell_type": "code",
   "execution_count": 24,
   "metadata": {},
   "outputs": [],
   "source": [
    "# Create scoring function\n",
    "mae_scorer = make_scorer(mean_absolute_error, greater_is_better=False)"
   ]
  },
  {
   "cell_type": "markdown",
   "metadata": {},
   "source": [
    "### 6.1 Dummy Regressor"
   ]
  },
  {
   "cell_type": "code",
   "execution_count": 25,
   "metadata": {},
   "outputs": [
    {
     "data": {
      "text/plain": [
       "-1006.36"
      ]
     },
     "execution_count": 25,
     "metadata": {},
     "output_type": "execute_result"
    }
   ],
   "source": [
    "# Dummy regressor\n",
    "regressor = DummyRegressor(strategy = 'mean')\n",
    "\n",
    "# Make pipeline and get results\n",
    "pipe = make_pipeline(preprocessor, regressor)\n",
    "cv_results = cross_validate(pipe, X_train, y_train, scoring=mae_scorer, cv=5)\n",
    "round(np.mean(cv_results['test_score']), 2)"
   ]
  },
  {
   "cell_type": "markdown",
   "metadata": {},
   "source": [
    "Looking at the results of the dummy regressor, we see that just using the mean value for our target leaves us with an mae of over 1000 which in this case, would translate to about \\$1000. Let's see if we can improve upon that by using a simple linear regression model.\n",
    "\n",
    "### 6.2 Simple Linear Regression Model"
   ]
  },
  {
   "cell_type": "code",
   "execution_count": 26,
   "metadata": {},
   "outputs": [
    {
     "data": {
      "text/plain": [
       "-915.65"
      ]
     },
     "execution_count": 26,
     "metadata": {},
     "output_type": "execute_result"
    }
   ],
   "source": [
    "# Linear regression\n",
    "regressor = LinearRegression()\n",
    "\n",
    "# Make pipeline and get results\n",
    "pipe = make_pipeline(preprocessor, regressor)\n",
    "cv_results = cross_validate(pipe, X_train, y_train, scoring=mae_scorer, cv=5)\n",
    "round(np.mean(cv_results['test_score']), 2)"
   ]
  },
  {
   "cell_type": "markdown",
   "metadata": {},
   "source": [
    "# TODO - Update based on new result, or better yet implement random_state\n",
    "Nice... by simply utilizing a basic linear regression model with no tuning, we've already improved upon simply using the mean value for our predictions. The mae is still relatively high at over 934, but if we were to stop here, this would translate to an improvement of over \\$90, or roughly 9% better than baseline.\n",
    "\n",
    "As a next step, let's see if we can improve on our results by adding feature selection to our model. To do this, we'll use the 'SelectKBest' method to help us determine the best number of features for our model. "
   ]
  },
  {
   "cell_type": "markdown",
   "metadata": {},
   "source": [
    "### 6.3 Linear Regression with Feature Selection"
   ]
  },
  {
   "cell_type": "code",
   "execution_count": 27,
   "metadata": {},
   "outputs": [
    {
     "data": {
      "text/plain": [
       "-914.89"
      ]
     },
     "execution_count": 27,
     "metadata": {},
     "output_type": "execute_result"
    }
   ],
   "source": [
    "# Select K best features (default)\n",
    "select_k_best = SelectKBest(f_regression, k=10)\n",
    "\n",
    "# Make pipeline and get results\n",
    "pipe = make_pipeline(preprocessor, select_k_best, regressor)\n",
    "cv_results = cross_validate(pipe, X_train, y_train, scoring=mae_scorer, cv=5)\n",
    "round(np.mean(cv_results['test_score']), 2)"
   ]
  },
  {
   "cell_type": "markdown",
   "metadata": {},
   "source": [
    "As seen above, using the default value for k (i.e., 10) shows only a tiny improvement over our linear regression model without feature selection. Given that our data includes 91 features, it's possible 10 is not the best value for k though. As a next step, let's cycle through a few different possible k values and then plot the results to see how the scores change with each value of k.\n",
    "\n",
    "#### 6.3.1 Evaluate k Values"
   ]
  },
  {
   "cell_type": "code",
   "execution_count": 36,
   "metadata": {},
   "outputs": [
    {
     "data": {
      "text/plain": [
       "GridSearchCV(cv=5,\n",
       "             estimator=Pipeline(steps=[('columntransformer',\n",
       "                                        ColumnTransformer(remainder='passthrough',\n",
       "                                                          transformers=[('onehotencoder',\n",
       "                                                                         OneHotEncoder(drop='if_binary'),\n",
       "                                                                         ['Species',\n",
       "                                                                          'Breed'])])),\n",
       "                                       ('selectkbest',\n",
       "                                        SelectKBest(score_func=<function f_regression at 0x7f10c81640d0>)),\n",
       "                                       ('linearregression',\n",
       "                                        LinearRegression())]),\n",
       "             n_jobs=-1, param_grid={'selectkbest__k': [1, 5, 10, 15, 20, 25]},\n",
       "             scoring=make_scorer(mean_absolute_error, greater_is_better=False))"
      ]
     },
     "execution_count": 36,
     "metadata": {},
     "output_type": "execute_result"
    }
   ],
   "source": [
    "# Create a list of potential k values to start\n",
    "k = [1, 5, 10, 15, 20, 25]\n",
    "\n",
    "# Create grid parameters for our grid search\n",
    "grid_params = {'selectkbest__k': k}\n",
    "\n",
    "# Create our grid search model\n",
    "lr_grid_cv = GridSearchCV(pipe, param_grid=grid_params, scoring=mae_scorer, cv=5, n_jobs=-1)\n",
    "\n",
    "# Fit the training data\n",
    "lr_grid_cv.fit(X_train, y_train)"
   ]
  },
  {
   "cell_type": "code",
   "execution_count": 37,
   "metadata": {},
   "outputs": [
    {
     "data": {
      "text/plain": [
       "{'selectkbest__k': 10}"
      ]
     },
     "execution_count": 37,
     "metadata": {},
     "output_type": "execute_result"
    }
   ],
   "source": [
    "# Print the `best_params_` attribute of `lr_grid_cv`\n",
    "lr_grid_cv.best_params_"
   ]
  },
  {
   "cell_type": "code",
   "execution_count": 38,
   "metadata": {},
   "outputs": [],
   "source": [
    "# Get cv_score mean, std and k value\n",
    "score_mean = [mean for mean in lr_grid_cv.cv_results_['mean_test_score']]\n",
    "score_std = [std for std in lr_grid_cv.cv_results_['std_test_score']]\n",
    "cv_k = [k for k in lr_grid_cv.cv_results_['param_selectkbest__k']]"
   ]
  },
  {
   "cell_type": "code",
   "execution_count": 39,
   "metadata": {},
   "outputs": [
    {
     "data": {
      "image/png": "[encoded data removed]",
      "text/plain": [
       "<Figure size 720x360 with 1 Axes>"
      ]
     },
     "metadata": {
      "needs_background": "light"
     },
     "output_type": "display_data"
    }
   ],
   "source": [
    "# Assign the value of k from the above dict of `best_params_` and assign it to `best_k`\n",
    "best_k = lr_grid_cv.best_params_['selectkbest__k']\n",
    "plt.subplots(figsize=(10, 5))\n",
    "plt.errorbar(cv_k, score_mean, yerr=score_std) \n",
    "plt.axvline(x=best_k, c='r', ls='--', alpha=.5)\n",
    "plt.xlabel('k')\n",
    "plt.ylabel('CV score (mae)')\n",
    "plt.title('Pipeline mean');"
   ]
  },
  {
   "cell_type": "markdown",
   "metadata": {},
   "source": [
    "# ToDo Add observations about the best k\n",
    "* Also, why look further?"
   ]
  },
  {
   "cell_type": "code",
   "execution_count": 41,
   "metadata": {},
   "outputs": [
    {
     "data": {
      "text/plain": [
       "GridSearchCV(cv=5,\n",
       "             estimator=Pipeline(steps=[('columntransformer',\n",
       "                                        ColumnTransformer(remainder='passthrough',\n",
       "                                                          transformers=[('onehotencoder',\n",
       "                                                                         OneHotEncoder(drop='if_binary'),\n",
       "                                                                         ['Species',\n",
       "                                                                          'Breed'])])),\n",
       "                                       ('selectkbest',\n",
       "                                        SelectKBest(score_func=<function f_regression at 0x7f10c81640d0>)),\n",
       "                                       ('linearregression',\n",
       "                                        LinearRegression())]),\n",
       "             n_jobs=-1, param_grid={'selectkbest__k': [6, 7, 8, 9, 10]},\n",
       "             scoring=make_scorer(mean_absolute_error, greater_is_better=False))"
      ]
     },
     "execution_count": 41,
     "metadata": {},
     "output_type": "execute_result"
    }
   ],
   "source": [
    "# Create a list of potential k values to start\n",
    "k = [6, 7, 8, 9, 10]\n",
    "\n",
    "# Create grid parameters for our grid search\n",
    "grid_params = {'selectkbest__k': k}\n",
    "\n",
    "# Create our grid search model\n",
    "lr_grid_cv = GridSearchCV(pipe, param_grid=grid_params, scoring=mae_scorer, cv=5, n_jobs=-1)\n",
    "\n",
    "# Fit the training data\n",
    "lr_grid_cv.fit(X_train, y_train)"
   ]
  },
  {
   "cell_type": "code",
   "execution_count": 42,
   "metadata": {},
   "outputs": [],
   "source": [
    "# Get score mean and std for each k\n",
    "score_mean = [mean for mean in lr_grid_cv.cv_results_['mean_test_score']]\n",
    "score_std = [std for std in lr_grid_cv.cv_results_['std_test_score']]\n",
    "cv_k = [k for k in lr_grid_cv.cv_results_['param_selectkbest__k']]"
   ]
  },
  {
   "cell_type": "code",
   "execution_count": 43,
   "metadata": {},
   "outputs": [
    {
     "data": {
      "text/plain": [
       "{'selectkbest__k': 9}"
      ]
     },
     "execution_count": 43,
     "metadata": {},
     "output_type": "execute_result"
    }
   ],
   "source": [
    "# Print the `best_params_` attribute of `lr_grid_cv`\n",
    "lr_grid_cv.best_params_"
   ]
  },
  {
   "cell_type": "code",
   "execution_count": 44,
   "metadata": {},
   "outputs": [
    {
     "data": {
      "image/png": "[encoded data removed]",
      "text/plain": [
       "<Figure size 720x360 with 1 Axes>"
      ]
     },
     "metadata": {
      "needs_background": "light"
     },
     "output_type": "display_data"
    }
   ],
   "source": [
    "# Assign the value of k from the above dict of `best_params_` and assign it to `best_k`\n",
    "best_k = lr_grid_cv.best_params_['selectkbest__k']\n",
    "plt.subplots(figsize=(10, 5))\n",
    "plt.errorbar(cv_k, score_mean, yerr=score_std)\n",
    "plt.axvline(x=best_k, c='r', ls='--', alpha=.5)\n",
    "plt.xlabel('k')\n",
    "plt.ylabel('CV score (r-squared)')\n",
    "plt.title('Pipeline mean CV score (error bars +/- 1sd)');"
   ]
  },
  {
   "cell_type": "code",
   "execution_count": 45,
   "metadata": {},
   "outputs": [
    {
     "data": {
      "text/plain": [
       "NumClaimsYr1            110.200307\n",
       "AgeYr1                   68.314305\n",
       "BreedAvgClaimAmt          1.112014\n",
       "BreedAvgTotalClaims       0.307271\n",
       "AgeYr1AvgClaimAmt         0.244503\n",
       "AmtClaimsYr1              0.122355\n",
       "AgeYr1AvgTotalClaims      0.020985\n",
       "AvgClaimsYr1             -0.055095\n",
       "BreedAvgNumClaims       -35.790661\n",
       "dtype: float64"
      ]
     },
     "execution_count": 45,
     "metadata": {},
     "output_type": "execute_result"
    }
   ],
   "source": [
    "# Get the selected features using the best estimator\n",
    "selected = lr_grid_cv.best_estimator_.named_steps.selectkbest.get_support()\n",
    "\n",
    "# Get the coefs for the selected features\n",
    "coefs = lr_grid_cv.best_estimator_.named_steps.linearregression.coef_\n",
    "\n",
    "# Get the list of feature names after transformation\n",
    "trans_feats = list(lr_grid_cv.best_estimator_.named_steps.columntransformer.\\\n",
    "                           transformers_[0][1].get_feature_names())\n",
    "orig_feats = ['AgeYr1', 'YoungAge', 'AmtClaimsYr1', 'AvgClaimsYr1', 'NumClaimsYr1', 'BreedAvgTotalClaims',\n",
    "              'BreedAvgNumClaims', 'BreedAvgClaimAmt', 'AgeYr1AvgTotalClaims','AgeYr1AvgNumClaims',\n",
    "              'AgeYr1AvgClaimAmt']\n",
    "\n",
    "# Print the list of the features in order of importance\n",
    "features = np.array(trans_feats + orig_feats)\n",
    "selected_features = features[selected]\n",
    "pd.Series(coefs, index=selected_features).sort_values(ascending=False)"
   ]
  },
  {
   "cell_type": "markdown",
   "metadata": {},
   "source": [
    "# START here with observations on the above"
   ]
  },
  {
   "cell_type": "code",
   "execution_count": null,
   "metadata": {},
   "outputs": [],
   "source": [
    "# y_pred = model.predict(X_train)\n",
    "\n",
    "# mae = median_absolute_error(y_train, y_pred)\n",
    "# y_pred = model.predict(X_test)\n",
    "# mae = median_absolute_error(y_test, y_pred)\n",
    "# fig, ax = plt.subplots(figsize=(5, 5))\n",
    "# plt.scatter(y_test, y_pred)\n",
    "# ax.plot([0, 1], [0, 1], transform=ax.transAxes, ls=\"--\", c=\"red\")\n",
    "# plt.title('Ridge model, small regularization')\n",
    "# plt.ylabel('Model predictions')\n",
    "# plt.xlabel('Truths')\n",
    "# plt.xlim([0, 1500])\n",
    "# _ = plt.ylim([0, 1500])"
   ]
  },
  {
   "cell_type": "markdown",
   "metadata": {},
   "source": [
    "### 6.1 Create the Baseline Model"
   ]
  },
  {
   "cell_type": "markdown",
   "metadata": {},
   "source": [
    "## 7 Model Tuning\n",
    "To start the tuning process, let's create a simple pipeline and then we can refine it further as we go. For this initial pipeline, we'll use the standard scaler with a linear regression model as above, but we'll add the 'SelectKBest' feature selection method starting with the default value of 10. This will create a model using only the 10 best features from our data rather than all 93."
   ]
  },
  {
   "cell_type": "markdown",
   "metadata": {},
   "source": [
    "### 7.1 Simple Pipeline"
   ]
  },
  {
   "cell_type": "markdown",
   "metadata": {},
   "source": [
    "### 7.2 Grid Search\n",
    "As noted above, our initial pipeline only uses the default value for k (10). As a next step in our model evaluation, let's check our performance across a range of k values. "
   ]
  },
  {
   "cell_type": "markdown",
   "metadata": {},
   "source": [
    "The most important feature in our data appears to be the number of claims in year 1 followed closely by the amount of claims in year 1. This matches up with what we observed during EDA, where these two features were most closely correlated with our target. Beyond these two, pet age also scores high in terms of importance followed by a number of features that are rollups of breed and age related statistics. Surprisingly, the importance of species appears to be lower than expected.\n",
    "\n",
    "Next, let's create a random forest model and see how it performs in comparison to our linear regression model."
   ]
  },
  {
   "cell_type": "markdown",
   "metadata": {},
   "source": [
    "### 7.3 Random Forest Regressor\n",
    "We'll start with a basic random forest model as a baseline and then move on to do some hyperparameter tuning."
   ]
  },
  {
   "cell_type": "code",
   "execution_count": null,
   "metadata": {},
   "outputs": [],
   "source": [
    "# Define a Random Forest Pipeline\n",
    "RF_pipe = make_pipeline(\n",
    "    StandardScaler(),\n",
    "    RandomForestRegressor(random_state=42)\n",
    ")"
   ]
  },
  {
   "cell_type": "code",
   "execution_count": null,
   "metadata": {},
   "outputs": [],
   "source": [
    "# Estimate the pipeline's performance.\n",
    "rf_default_cv_results = cross_validate(RF_pipe, X_train, y_train, cv=5)"
   ]
  },
  {
   "cell_type": "code",
   "execution_count": null,
   "metadata": {},
   "outputs": [],
   "source": [
    "rf_cv_scores = rf_default_cv_results['test_score']\n",
    "rf_cv_scores"
   ]
  },
  {
   "cell_type": "code",
   "execution_count": null,
   "metadata": {},
   "outputs": [],
   "source": [
    "np.mean(rf_cv_scores), np.std(rf_cv_scores)"
   ]
  },
  {
   "cell_type": "markdown",
   "metadata": {},
   "source": [
    "It looks like our baseline random forest model has actually performed worse than our linear regression model. That's not too surprising cconsidering we've done nothing to tune the available parameters. As a next step, let's incorporate a random grid search across a range of hyperparameters to see if we can improve our results.\n",
    "\n",
    "We'll start by building a grid for our random search. Then we'll complete the random search across this grid using cross validation to see if we can arrive at a better set of hyperparameters. Finally, we'll compare the best parameters with our random forest baseline to see what kind of improvement we get."
   ]
  },
  {
   "cell_type": "markdown",
   "metadata": {},
   "source": [
    "### 7.4 Random Forest Hyperparameter Tuning"
   ]
  },
  {
   "cell_type": "code",
   "execution_count": null,
   "metadata": {},
   "outputs": [],
   "source": [
    "# Number of trees in random forest\n",
    "n_estimators = [int(x) for x in np.linspace(start = 200, stop = 2000, num = 10)]\n",
    "# Number of features to consider at every split\n",
    "max_features = ['auto', None]\n",
    "# Maximum number of levels in tree\n",
    "max_depth = [int(x) for x in np.linspace(10, 110, num = 11)]\n",
    "max_depth.append(None)\n",
    "# Minimum number of samples required to split a node\n",
    "min_samples_split = [2, 5, 10]\n",
    "# Minimum number of samples required at each leaf node\n",
    "min_samples_leaf = [1, 2, 4]\n",
    "# Method of selecting samples for training each tree\n",
    "bootstrap = [True, False]\n",
    "\n",
    "# Create the random grid\n",
    "random_grid = {'n_estimators': n_estimators,\n",
    "               'max_features': max_features,\n",
    "               'max_depth': max_depth,\n",
    "               'min_samples_split': min_samples_split,\n",
    "               'min_samples_leaf': min_samples_leaf,\n",
    "               'bootstrap': bootstrap}\n",
    "\n",
    "# Print the grid\n",
    "pprint(random_grid)"
   ]
  },
  {
   "cell_type": "code",
   "execution_count": null,
   "metadata": {},
   "outputs": [],
   "source": [
    "# Use the random grid to search for best hyperparameters\n",
    "# Create the base model to tune\n",
    "rf = RandomForestRegressor()\n",
    "\n",
    "# Random search of parameters, using 5 fold cross validation, \n",
    "# search across 5 different combinations, and use all available cores\n",
    "rf_random = RandomizedSearchCV(estimator = rf, param_distributions = random_grid,\n",
    "                               n_iter = 5, cv = 5, verbose=2, random_state=42, n_jobs = -1)\n",
    "\n",
    "# Fit the random search model\n",
    "rf_random.fit(X_train, y_train)"
   ]
  },
  {
   "cell_type": "code",
   "execution_count": null,
   "metadata": {},
   "outputs": [],
   "source": [
    "# View best performing parameter combination\n",
    "rf_random.best_params_"
   ]
  },
  {
   "cell_type": "code",
   "execution_count": null,
   "metadata": {},
   "outputs": [],
   "source": [
    "# Establish base model for comparison\n",
    "baseline_model = RandomForestRegressor(n_estimators = 10, random_state = 42)\n",
    "baseline_model.fit(X_train, y_train)\n",
    "baseline_predictions = baseline_model.predict(X_test)\n",
    "print(\"r2_score (baseline): {:.2f}\".format(r2_score(y_test, baseline_predictions)))\n",
    "print(\"mean absolute error (baseline): {:.2f} \\n\".format(mean_absolute_error(y_test, baseline_predictions)))\n",
    "\n",
    "# Compare with best model from random search\n",
    "best_random_model = rf_random.best_estimator_\n",
    "best_random_model.fit(X_train, y_train)\n",
    "best_random_predictions = best_random_model.predict(X_test)\n",
    "print(\"r2_score (best random): {:.2f}\".format(r2_score(y_test, best_random_predictions)))\n",
    "print(\"mean absolute error (best random): {:.2f} \\n\".format(mean_absolute_error(y_test, best_random_predictions)))"
   ]
  },
  {
   "cell_type": "markdown",
   "metadata": {},
   "source": [
    "So even using the best random forest model, our performance is still looking slightly worse than with our linear model when looking at only the best k features. \n",
    "\n",
    "# TODO - Where to go from here??"
   ]
  },
  {
   "cell_type": "markdown",
   "metadata": {},
   "source": [
    "### 7.5 \n"
   ]
  },
  {
   "cell_type": "code",
   "execution_count": null,
   "metadata": {},
   "outputs": [],
   "source": []
  },
  {
   "cell_type": "code",
   "execution_count": null,
   "metadata": {},
   "outputs": [],
   "source": []
  },
  {
   "cell_type": "code",
   "execution_count": null,
   "metadata": {},
   "outputs": [],
   "source": []
  },
  {
   "cell_type": "code",
   "execution_count": null,
   "metadata": {},
   "outputs": [],
   "source": []
  },
  {
   "cell_type": "code",
   "execution_count": null,
   "metadata": {},
   "outputs": [],
   "source": []
  },
  {
   "cell_type": "markdown",
   "metadata": {},
   "source": [
    "## 8 Save Model"
   ]
  },
  {
   "cell_type": "code",
   "execution_count": null,
   "metadata": {},
   "outputs": [],
   "source": [
    "# # Store some basic information about the model\n",
    "# best_model = rf_grid_cv.best_estimator_\n",
    "# best_model.version = '1.0'\n",
    "# best_model.pandas_version = pd.__version__\n",
    "# best_model.numpy_version = np.__version__\n",
    "# best_model.sklearn_version = sklearn_version\n",
    "# best_model.X_columns = [col for col in X_train.columns]\n",
    "# best_model.build_datetime = datetime.datetime.now()"
   ]
  },
  {
   "cell_type": "code",
   "execution_count": null,
   "metadata": {},
   "outputs": [],
   "source": [
    "# # save the model\n",
    "\n",
    "# modelpath = '../models'\n",
    "# save_file(best_model, 'ski_resort_pricing_model.pkl', modelpath)"
   ]
  },
  {
   "cell_type": "markdown",
   "metadata": {},
   "source": [
    "## 8 Summary\n",
    "\n",
    "TBD"
   ]
  },
  {
   "cell_type": "markdown",
   "metadata": {},
   "source": [
    "### 4.2 Premium and Deductible\n",
    "Now that we have the Premium and Deductible rolled up to a breed-level statistic, we should be able to safely drop the pet-level columns. The rationale for this is that customers can select either a premium or a deductible and once one is selected, the other is set automatically. \n",
    "\n",
    "This leads to a couple of conclusions:\n",
    "* At a pet-level, we expect to see a wide range of premiums and deductibles for a single breed (due to customer choice)\n",
    "* When we average these values out at a breed level, we should see some patterns emerging that might be indicative of the *assumed risk level* for each breed.\n",
    "\n",
    "Let's take a look."
   ]
  },
  {
   "cell_type": "code",
   "execution_count": null,
   "metadata": {},
   "outputs": [],
   "source": [
    "# Create a scatterplot showing spread vs. average total claims\n",
    "fig, ax = plt.subplots(1, 1, figsize=(12, 6))\n",
    "sns.scatterplot(y=\"BreedAvgPremium\", x=\"BreedAvgDeductible\", data=breeds, hue=\"Species\", \n",
    "                size=\"PetCount\", sizes=(20, 200), alpha=0.5)\\\n",
    "                .set(title=\"\", ylabel=\"Average Premium, USD\",\n",
    "                     xlabel=\"Average Deductible, USD\")\n",
    "\n",
    "# Add title and display plot\n",
    "plt.title(\"Average Premium vs. Average Deductible, per Breed\", y=1.05, fontsize=14)\n",
    "# plt.suptitle(\"(TBD)\", y=0.95, x=0.513, fontsize=11)\n",
    "plt.legend(loc='lower right')\n",
    "plt.show()"
   ]
  },
  {
   "cell_type": "markdown",
   "metadata": {},
   "source": [
    "The plot above shows a couple of interesting insights.\n",
    "\n",
    "1. Premiums and deductibles are consistently lower for cats\n",
    "2. As the average deductible amount goes up for cat breeds, the average premium amount stays roughly the same\n",
    "3. As the average deductible amount goes up for dog breeds, the average premium amount goes up at a fairly steady linear rate\n",
    "\n",
    "**So the overall takeaways:**\n",
    "* Cats seem to be considered lower risk than dogs\n",
    "* For dog breeds, the premium and deductible amounts vary and could indicate that some breeds are considered riskier to insure than others\n",
    "\n",
    "Let's drop the pet-level premium and deductible features before moving on."
   ]
  }
 ],
 "metadata": {
  "kernelspec": {
   "display_name": "Python 3",
   "language": "python",
   "name": "python3"
  },
  "language_info": {
   "codemirror_mode": {
    "name": "ipython",
    "version": 3
   },
   "file_extension": ".py",
   "mimetype": "text/x-python",
   "name": "python",
   "nbconvert_exporter": "python",
   "pygments_lexer": "ipython3",
   "version": "3.8.8"
  }
 },
 "nbformat": 4,
 "nbformat_minor": 4
}
