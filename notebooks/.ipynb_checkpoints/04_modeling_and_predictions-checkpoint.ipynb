{
 "cells": [
  {
   "cell_type": "markdown",
   "id": "7843a3bb",
   "metadata": {},
   "source": [
    "# Predicting Pet Insurance Claims - Model Tuning and Predictions\n",
    "## 1 Introduction\n",
    "### 1.1 Background\n",
    "Whenever a pet insurance policy holder incurs veterinary expenses related to their enrolled pet, they can submit claims for reimbursement, and the insurance company reimburses eligible expenses. To price insurance products correctly, the insurance company needs to have a good idea of the amount their policy holders are likely to claim in the future.\n",
    "\n",
    "### 1.2 Project Goal\n",
    "The goal of this project is to create a machine learning model to predict how much (in USD) a given policy holder will claim for during the second year of their policy.\n",
    "\n",
    "### 1.3 Notebook Goals\n",
    "* TBD\n",
    "\n",
    "# Add Goals\n",
    "\n",
    "## 2 Setup\n",
    "### 2.1 Imports"
   ]
  },
  {
   "cell_type": "code",
   "execution_count": 1,
   "id": "6936f5c3",
   "metadata": {},
   "outputs": [],
   "source": [
    "import pandas as pd\n",
    "import numpy as np\n",
    "import matplotlib.pyplot as plt\n",
    "from pprint import pprint\n",
    "\n",
    "from sklearn.model_selection import train_test_split, cross_validate, learning_curve, GridSearchCV, RandomizedSearchCV\n",
    "from sklearn.compose import make_column_transformer\n",
    "from sklearn.preprocessing import OneHotEncoder\n",
    "from sklearn.pipeline import make_pipeline, Pipeline\n",
    "from sklearn.dummy import DummyRegressor\n",
    "from sklearn.linear_model import LinearRegression, Lasso, Ridge\n",
    "from sklearn.metrics import mean_absolute_error\n",
    "from sklearn.feature_selection import SelectKBest, f_regression\n",
    "from sklearn import __version__ as sklearn_version\n",
    "\n",
    "# import datetime\n",
    "# import os\n",
    "# import pickle\n",
    "# from library.sb_utils import save_file"
   ]
  },
  {
   "cell_type": "markdown",
   "id": "99f4ed71",
   "metadata": {},
   "source": [
    "### 2.2 Data and Initial Modeling Results\n",
    "We ended preprocessing and initial modeling with our training and test sets and some initial modeling results.\n",
    "\n",
    "\n",
    "#### 2.2.1 Data Load\n",
    "Let's take a look at the shape of our training and test sets and get a preview of our test data."
   ]
  },
  {
   "cell_type": "code",
   "execution_count": 2,
   "id": "9ae61627",
   "metadata": {},
   "outputs": [
    {
     "name": "stdout",
     "output_type": "stream",
     "text": [
      "(40000, 12)\n",
      "(10000, 12)\n",
      "(40000,)\n",
      "(10000,)\n"
     ]
    }
   ],
   "source": [
    "# Read in the training and test sets\n",
    "X_train = pd.read_csv('../data/X_train.csv', index_col=0)\n",
    "y_train = np.genfromtxt('../data/y_train.csv', delimiter=',')\n",
    "X_test = pd.read_csv('../data/X_test.csv', index_col=0)\n",
    "y_test = np.genfromtxt('../data/y_test.csv', delimiter=',')\n",
    "\n",
    "# Preview the shape\n",
    "print(X_train.shape)\n",
    "print(X_test.shape)\n",
    "print(y_train.shape)\n",
    "print(y_test.shape)"
   ]
  },
  {
   "cell_type": "code",
   "execution_count": 3,
   "id": "5785415e",
   "metadata": {},
   "outputs": [
    {
     "data": {
      "text/html": [
       "<div>\n",
       "<style scoped>\n",
       "    .dataframe tbody tr th:only-of-type {\n",
       "        vertical-align: middle;\n",
       "    }\n",
       "\n",
       "    .dataframe tbody tr th {\n",
       "        vertical-align: top;\n",
       "    }\n",
       "\n",
       "    .dataframe thead th {\n",
       "        text-align: right;\n",
       "    }\n",
       "</style>\n",
       "<table border=\"1\" class=\"dataframe\">\n",
       "  <thead>\n",
       "    <tr style=\"text-align: right;\">\n",
       "      <th></th>\n",
       "      <th>0</th>\n",
       "      <th>1</th>\n",
       "      <th>2</th>\n",
       "      <th>3</th>\n",
       "      <th>4</th>\n",
       "      <th>5</th>\n",
       "      <th>6</th>\n",
       "      <th>7</th>\n",
       "    </tr>\n",
       "  </thead>\n",
       "  <tbody>\n",
       "    <tr>\n",
       "      <th>Species</th>\n",
       "      <td>Dog</td>\n",
       "      <td>Dog</td>\n",
       "      <td>Dog</td>\n",
       "      <td>Dog</td>\n",
       "      <td>Dog</td>\n",
       "      <td>Dog</td>\n",
       "      <td>Cat</td>\n",
       "      <td>Dog</td>\n",
       "    </tr>\n",
       "    <tr>\n",
       "      <th>AgeYr1</th>\n",
       "      <td>3</td>\n",
       "      <td>0</td>\n",
       "      <td>0</td>\n",
       "      <td>1</td>\n",
       "      <td>2</td>\n",
       "      <td>0</td>\n",
       "      <td>6</td>\n",
       "      <td>6</td>\n",
       "    </tr>\n",
       "    <tr>\n",
       "      <th>YoungAge</th>\n",
       "      <td>0</td>\n",
       "      <td>0</td>\n",
       "      <td>0</td>\n",
       "      <td>0</td>\n",
       "      <td>0</td>\n",
       "      <td>0</td>\n",
       "      <td>0</td>\n",
       "      <td>0</td>\n",
       "    </tr>\n",
       "    <tr>\n",
       "      <th>AmtClaimsYr1</th>\n",
       "      <td>76.25</td>\n",
       "      <td>0.0</td>\n",
       "      <td>6010.88</td>\n",
       "      <td>303.15</td>\n",
       "      <td>0.0</td>\n",
       "      <td>701.6</td>\n",
       "      <td>431.57</td>\n",
       "      <td>0.0</td>\n",
       "    </tr>\n",
       "    <tr>\n",
       "      <th>AvgClaimsYr1</th>\n",
       "      <td>76.25</td>\n",
       "      <td>0.0</td>\n",
       "      <td>546.443636</td>\n",
       "      <td>151.575</td>\n",
       "      <td>0.0</td>\n",
       "      <td>701.6</td>\n",
       "      <td>215.785</td>\n",
       "      <td>0.0</td>\n",
       "    </tr>\n",
       "    <tr>\n",
       "      <th>NumClaimsYr1</th>\n",
       "      <td>1</td>\n",
       "      <td>0</td>\n",
       "      <td>11</td>\n",
       "      <td>2</td>\n",
       "      <td>0</td>\n",
       "      <td>1</td>\n",
       "      <td>2</td>\n",
       "      <td>0</td>\n",
       "    </tr>\n",
       "    <tr>\n",
       "      <th>BreedAvgTotalClaims</th>\n",
       "      <td>663.502526</td>\n",
       "      <td>540.515378</td>\n",
       "      <td>705.72864</td>\n",
       "      <td>705.72864</td>\n",
       "      <td>663.502526</td>\n",
       "      <td>925.434405</td>\n",
       "      <td>395.718466</td>\n",
       "      <td>1509.175333</td>\n",
       "    </tr>\n",
       "    <tr>\n",
       "      <th>BreedAvgNumClaims</th>\n",
       "      <td>1.491045</td>\n",
       "      <td>1.627294</td>\n",
       "      <td>1.766242</td>\n",
       "      <td>1.766242</td>\n",
       "      <td>1.491045</td>\n",
       "      <td>1.875611</td>\n",
       "      <td>0.871485</td>\n",
       "      <td>2.552941</td>\n",
       "    </tr>\n",
       "    <tr>\n",
       "      <th>BreedAvgClaimAmt</th>\n",
       "      <td>196.601991</td>\n",
       "      <td>159.645266</td>\n",
       "      <td>198.844913</td>\n",
       "      <td>198.844913</td>\n",
       "      <td>196.601991</td>\n",
       "      <td>240.294459</td>\n",
       "      <td>137.970879</td>\n",
       "      <td>315.759532</td>\n",
       "    </tr>\n",
       "    <tr>\n",
       "      <th>AgeYr1AvgTotalClaims</th>\n",
       "      <td>722.652663</td>\n",
       "      <td>902.942389</td>\n",
       "      <td>902.942389</td>\n",
       "      <td>699.071121</td>\n",
       "      <td>619.496248</td>\n",
       "      <td>902.942389</td>\n",
       "      <td>449.891932</td>\n",
       "      <td>904.086963</td>\n",
       "    </tr>\n",
       "    <tr>\n",
       "      <th>AgeYr1AvgNumClaims</th>\n",
       "      <td>1.275474</td>\n",
       "      <td>2.002704</td>\n",
       "      <td>2.002704</td>\n",
       "      <td>1.359896</td>\n",
       "      <td>1.243786</td>\n",
       "      <td>2.002704</td>\n",
       "      <td>0.942029</td>\n",
       "      <td>1.47284</td>\n",
       "    </tr>\n",
       "    <tr>\n",
       "      <th>AgeYr1AvgClaimAmt</th>\n",
       "      <td>218.098714</td>\n",
       "      <td>234.275301</td>\n",
       "      <td>234.275301</td>\n",
       "      <td>212.218786</td>\n",
       "      <td>198.114908</td>\n",
       "      <td>234.275301</td>\n",
       "      <td>124.637412</td>\n",
       "      <td>330.747276</td>\n",
       "    </tr>\n",
       "  </tbody>\n",
       "</table>\n",
       "</div>"
      ],
      "text/plain": [
       "                               0           1           2           3  \\\n",
       "Species                      Dog         Dog         Dog         Dog   \n",
       "AgeYr1                         3           0           0           1   \n",
       "YoungAge                       0           0           0           0   \n",
       "AmtClaimsYr1               76.25         0.0     6010.88      303.15   \n",
       "AvgClaimsYr1               76.25         0.0  546.443636     151.575   \n",
       "NumClaimsYr1                   1           0          11           2   \n",
       "BreedAvgTotalClaims   663.502526  540.515378   705.72864   705.72864   \n",
       "BreedAvgNumClaims       1.491045    1.627294    1.766242    1.766242   \n",
       "BreedAvgClaimAmt      196.601991  159.645266  198.844913  198.844913   \n",
       "AgeYr1AvgTotalClaims  722.652663  902.942389  902.942389  699.071121   \n",
       "AgeYr1AvgNumClaims      1.275474    2.002704    2.002704    1.359896   \n",
       "AgeYr1AvgClaimAmt     218.098714  234.275301  234.275301  212.218786   \n",
       "\n",
       "                               4           5           6            7  \n",
       "Species                      Dog         Dog         Cat          Dog  \n",
       "AgeYr1                         2           0           6            6  \n",
       "YoungAge                       0           0           0            0  \n",
       "AmtClaimsYr1                 0.0       701.6      431.57          0.0  \n",
       "AvgClaimsYr1                 0.0       701.6     215.785          0.0  \n",
       "NumClaimsYr1                   0           1           2            0  \n",
       "BreedAvgTotalClaims   663.502526  925.434405  395.718466  1509.175333  \n",
       "BreedAvgNumClaims       1.491045    1.875611    0.871485     2.552941  \n",
       "BreedAvgClaimAmt      196.601991  240.294459  137.970879   315.759532  \n",
       "AgeYr1AvgTotalClaims  619.496248  902.942389  449.891932   904.086963  \n",
       "AgeYr1AvgNumClaims      1.243786    2.002704    0.942029      1.47284  \n",
       "AgeYr1AvgClaimAmt     198.114908  234.275301  124.637412   330.747276  "
      ]
     },
     "execution_count": 3,
     "metadata": {},
     "output_type": "execute_result"
    }
   ],
   "source": [
    "# Preview the training data\n",
    "X_train.head(8).T"
   ]
  },
  {
   "cell_type": "markdown",
   "id": "3a26d4e7",
   "metadata": {},
   "source": [
    "#### 2.2.2 Initial Modeling Results\n",
    "In the previous notebook, we completed some initial modeling including the following:\n",
    "* Established a baseline using `DummyRegressor()` with predictions equivalent to the mean value of the target \n",
    "* Created a simple liner model using `LinearRegressor()` and default settings\n",
    "* Enhanced our simple linear model by incorporating feature selection and making predictions using the best'k' features\n",
    "\n",
    "Using the linear model with feature selection, we managed to improve upon the baseline model by **~9%**, or over **\\$90** per customer. Given the size of the total customer base (~65-75 million pets), this represents a significant total value that could be realized by factoring model predictions into policy premium and deductible amounts.\n",
    "\n",
    "In this notebook, we'll continue tuning our model and evaluating additional modeling approaches to see how much we can improve upon the initial result. Following this evaluation, we will select our final model and make predictions on our test set to generate final results. "
   ]
  },
  {
   "cell_type": "markdown",
   "id": "ef6ad929",
   "metadata": {},
   "source": [
    "## 3 Lasso Regression\n",
    "\n",
    "# Add intro - why?"
   ]
  },
  {
   "cell_type": "code",
   "execution_count": 4,
   "id": "ca433fdc",
   "metadata": {},
   "outputs": [],
   "source": [
    "# Create a preprocessor to encode the categorical columns\n",
    "preprocessor = make_column_transformer(\n",
    "    (OneHotEncoder(drop='if_binary'), ['Species']),\n",
    "    remainder='passthrough'\n",
    ")"
   ]
  },
  {
   "cell_type": "markdown",
   "id": "c8d15198",
   "metadata": {},
   "source": [
    "### 3.1 Simple Lasso Regression Model"
   ]
  },
  {
   "cell_type": "code",
   "execution_count": 5,
   "id": "f04d2119",
   "metadata": {},
   "outputs": [
    {
     "name": "stdout",
     "output_type": "stream",
     "text": [
      "mean test score (mae): 930.28\n"
     ]
    }
   ],
   "source": [
    "from sklearn.linear_model import Lasso\n",
    "\n",
    "# Make pipeline and get results\n",
    "pipe = make_pipeline(preprocessor, Lasso())\n",
    "cv_results = cross_validate(pipe, X_train, y_train, scoring='neg_mean_absolute_error', cv=5)\n",
    "score_mean = -1 * round(np.mean(cv_results['test_score']), 2)\n",
    "print(\"mean test score (mae): \" + str(score_mean))"
   ]
  },
  {
   "cell_type": "markdown",
   "id": "4d583c9a",
   "metadata": {},
   "source": [
    "### 3.2 Lasso Regression with GridSearchCV"
   ]
  },
  {
   "cell_type": "code",
   "execution_count": 6,
   "id": "23590db4",
   "metadata": {},
   "outputs": [
    {
     "data": {
      "text/plain": [
       "GridSearchCV(cv=5,\n",
       "             estimator=Pipeline(steps=[('preprocessor',\n",
       "                                        ColumnTransformer(remainder='passthrough',\n",
       "                                                          transformers=[('onehotencoder',\n",
       "                                                                         OneHotEncoder(drop='if_binary'),\n",
       "                                                                         ['Species'])])),\n",
       "                                       ('regressor', Lasso())]),\n",
       "             n_jobs=-1,\n",
       "             param_grid={'regressor__alpha': [0.0001, 0.001, 0.1, 1],\n",
       "                         'regressor__fit_intercept': [True, False],\n",
       "                         'regressor__normalize': [True, False]},\n",
       "             scoring='neg_mean_absolute_error')"
      ]
     },
     "execution_count": 6,
     "metadata": {},
     "output_type": "execute_result"
    }
   ],
   "source": [
    "# Create the pipeline\n",
    "pipe = Pipeline([('preprocessor', preprocessor),('regressor', Lasso())])\n",
    "\n",
    "# Establish the parameter grid\n",
    "param_grid = {'regressor__alpha': [0.0001, 0.001, 0.1, 1], 'regressor__fit_intercept': [True, False],\n",
    "              'regressor__normalize': [True, False]}\n",
    "\n",
    "# Instantiate the grid search and fit the model\n",
    "Lasso_GS = GridSearchCV(pipe, param_grid=param_grid, scoring='neg_mean_absolute_error', cv=5, n_jobs=-1)\n",
    "Lasso_GS.fit(X_train, y_train)"
   ]
  },
  {
   "cell_type": "code",
   "execution_count": 7,
   "id": "5462a08f",
   "metadata": {},
   "outputs": [
    {
     "name": "stdout",
     "output_type": "stream",
     "text": [
      "best score (mae): 930.28\n"
     ]
    }
   ],
   "source": [
    "# Print best test score\n",
    "best_score = -1 * round(np.max(Lasso_GS.cv_results_['mean_test_score']), 2)\n",
    "print(\"best score (mae): \" + str(best_score))"
   ]
  },
  {
   "cell_type": "code",
   "execution_count": 8,
   "id": "b621b8aa",
   "metadata": {},
   "outputs": [
    {
     "data": {
      "text/plain": [
       "{'regressor__alpha': 1,\n",
       " 'regressor__fit_intercept': True,\n",
       " 'regressor__normalize': False}"
      ]
     },
     "execution_count": 8,
     "metadata": {},
     "output_type": "execute_result"
    }
   ],
   "source": [
    "Lasso_GS.best_params_"
   ]
  },
  {
   "cell_type": "markdown",
   "id": "e875b685",
   "metadata": {},
   "source": [
    "# Add results for Lasso\n",
    "\n",
    "## 4 Gradient Boosting\n",
    "\n",
    "### 4.1 Simple Gradient Boosting Model"
   ]
  },
  {
   "cell_type": "code",
   "execution_count": 9,
   "id": "ccacc0e8",
   "metadata": {},
   "outputs": [
    {
     "name": "stdout",
     "output_type": "stream",
     "text": [
      "mean test score (mae): 932.59\n"
     ]
    }
   ],
   "source": [
    "from sklearn.ensemble import GradientBoostingRegressor\n",
    "\n",
    "# Make pipeline, cross-validate, and get results\n",
    "pipe = make_pipeline(preprocessor, GradientBoostingRegressor())\n",
    "cv_results = cross_validate(pipe, X_train, y_train, scoring='neg_mean_absolute_error', cv=5)\n",
    "score_mean = -1 * round(np.mean(cv_results['test_score']), 2)\n",
    "print(\"mean test score (mae): \" + str(score_mean))"
   ]
  },
  {
   "cell_type": "markdown",
   "id": "e4b81fae",
   "metadata": {},
   "source": [
    "### 4.2 Gradient Boosting with GridSearchCV\n",
    "\n",
    "# Consider using Random Search here or scrap if results are bad"
   ]
  },
  {
   "cell_type": "code",
   "execution_count": 10,
   "id": "74e8265d",
   "metadata": {},
   "outputs": [],
   "source": [
    "# # Create the pipeline\n",
    "# pipe = Pipeline([('preprocessor', preprocessor),('regressor', GradientBoostingRegressor())])\n",
    "\n",
    "# # Establish the parameter grid\n",
    "# param_grid = {'regressor__learning_rate': [0.01,0.1],\n",
    "#               'regressor__subsample'    : [0.9, 0.5, 0.1],\n",
    "#               'regressor__max_depth'    : [3,5,10],\n",
    "#               'regressor__criterion'    : ['mae']\n",
    "#              }\n",
    "\n",
    "# # Instantiate the grid search and fit the model\n",
    "# GB_GS = GridSearchCV(pipe, param_grid=param_grid, scoring='neg_mean_absolute_error', cv=5, n_jobs=-1)\n",
    "# GB_GS.fit(X_train, y_train)"
   ]
  },
  {
   "cell_type": "code",
   "execution_count": 11,
   "id": "6dbb84e8",
   "metadata": {},
   "outputs": [],
   "source": [
    "# # Print best test score\n",
    "# best_score = -1 * round(np.max(GB_GS.cv_results_['mean_test_score']), 2)\n",
    "# print(\"best score (mae): \" + str(best_score))"
   ]
  },
  {
   "cell_type": "code",
   "execution_count": 12,
   "id": "f6829aff",
   "metadata": {},
   "outputs": [],
   "source": [
    "# GB_GS.best_params_"
   ]
  },
  {
   "cell_type": "code",
   "execution_count": 13,
   "id": "49d901b1",
   "metadata": {},
   "outputs": [],
   "source": [
    "# print(\" Results from Grid Search \" )\n",
    "# print(\"\\n Best estimator:\\n\", GB_GS.best_estimator_)\n",
    "# print(\"\\n Best score:\\n\",GB_GS.best_score_)\n",
    "# print(\"\\n Best params:\\n\", GB_GS.best_params_)"
   ]
  },
  {
   "cell_type": "markdown",
   "id": "c81fc6df",
   "metadata": {},
   "source": [
    "## 5 Decision Tree"
   ]
  },
  {
   "cell_type": "code",
   "execution_count": 32,
   "id": "5c264617",
   "metadata": {},
   "outputs": [
    {
     "name": "stdout",
     "output_type": "stream",
     "text": [
      "mean test score (mae): 1115.1\n"
     ]
    }
   ],
   "source": [
    "from sklearn.tree import DecisionTreeRegressor\n",
    "\n",
    "# Make pipeline, cross-validate, and get results\n",
    "pipe = make_pipeline(preprocessor, DecisionTreeRegressor())\n",
    "cv_results = cross_validate(pipe, X_train, y_train, scoring='neg_mean_absolute_error', cv=5)\n",
    "score_mean = -1 * round(np.mean(cv_results['test_score']), 2)\n",
    "print(\"mean test score (mae): \" + str(score_mean))"
   ]
  },
  {
   "cell_type": "code",
   "execution_count": 38,
   "id": "066a5354",
   "metadata": {},
   "outputs": [
    {
     "ename": "NotFittedError",
     "evalue": "This DecisionTreeRegressor instance is not fitted yet. Call 'fit' with appropriate arguments before using this estimator.",
     "output_type": "error",
     "traceback": [
      "\u001b[0;31m---------------------------------------------------------------------------\u001b[0m",
      "\u001b[0;31mNotFittedError\u001b[0m                            Traceback (most recent call last)",
      "\u001b[0;32m<ipython-input-38-c60330bba88f>\u001b[0m in \u001b[0;36m<module>\u001b[0;34m\u001b[0m\n\u001b[1;32m     10\u001b[0m \u001b[0;34m\u001b[0m\u001b[0m\n\u001b[1;32m     11\u001b[0m \u001b[0mfig\u001b[0m \u001b[0;34m=\u001b[0m \u001b[0mplt\u001b[0m\u001b[0;34m.\u001b[0m\u001b[0mfigure\u001b[0m\u001b[0;34m(\u001b[0m\u001b[0mfigsize\u001b[0m\u001b[0;34m=\u001b[0m\u001b[0;34m(\u001b[0m\u001b[0;36m25\u001b[0m\u001b[0;34m,\u001b[0m\u001b[0;36m20\u001b[0m\u001b[0;34m)\u001b[0m\u001b[0;34m)\u001b[0m\u001b[0;34m\u001b[0m\u001b[0;34m\u001b[0m\u001b[0m\n\u001b[0;32m---> 12\u001b[0;31m \u001b[0m_\u001b[0m \u001b[0;34m=\u001b[0m \u001b[0mtree\u001b[0m\u001b[0;34m.\u001b[0m\u001b[0mplot_tree\u001b[0m\u001b[0;34m(\u001b[0m\u001b[0mclf\u001b[0m\u001b[0;34m,\u001b[0m \u001b[0mfeature_names\u001b[0m\u001b[0;34m=\u001b[0m\u001b[0mfeatures\u001b[0m\u001b[0;34m,\u001b[0m \u001b[0mfilled\u001b[0m\u001b[0;34m=\u001b[0m\u001b[0;32mTrue\u001b[0m\u001b[0;34m)\u001b[0m\u001b[0;34m\u001b[0m\u001b[0;34m\u001b[0m\u001b[0m\n\u001b[0m",
      "\u001b[0;32m~/anaconda3/lib/python3.8/site-packages/sklearn/utils/validation.py\u001b[0m in \u001b[0;36minner_f\u001b[0;34m(*args, **kwargs)\u001b[0m\n\u001b[1;32m     61\u001b[0m             \u001b[0mextra_args\u001b[0m \u001b[0;34m=\u001b[0m \u001b[0mlen\u001b[0m\u001b[0;34m(\u001b[0m\u001b[0margs\u001b[0m\u001b[0;34m)\u001b[0m \u001b[0;34m-\u001b[0m \u001b[0mlen\u001b[0m\u001b[0;34m(\u001b[0m\u001b[0mall_args\u001b[0m\u001b[0;34m)\u001b[0m\u001b[0;34m\u001b[0m\u001b[0;34m\u001b[0m\u001b[0m\n\u001b[1;32m     62\u001b[0m             \u001b[0;32mif\u001b[0m \u001b[0mextra_args\u001b[0m \u001b[0;34m<=\u001b[0m \u001b[0;36m0\u001b[0m\u001b[0;34m:\u001b[0m\u001b[0;34m\u001b[0m\u001b[0;34m\u001b[0m\u001b[0m\n\u001b[0;32m---> 63\u001b[0;31m                 \u001b[0;32mreturn\u001b[0m \u001b[0mf\u001b[0m\u001b[0;34m(\u001b[0m\u001b[0;34m*\u001b[0m\u001b[0margs\u001b[0m\u001b[0;34m,\u001b[0m \u001b[0;34m**\u001b[0m\u001b[0mkwargs\u001b[0m\u001b[0;34m)\u001b[0m\u001b[0;34m\u001b[0m\u001b[0;34m\u001b[0m\u001b[0m\n\u001b[0m\u001b[1;32m     64\u001b[0m \u001b[0;34m\u001b[0m\u001b[0m\n\u001b[1;32m     65\u001b[0m             \u001b[0;31m# extra_args > 0\u001b[0m\u001b[0;34m\u001b[0m\u001b[0;34m\u001b[0m\u001b[0;34m\u001b[0m\u001b[0m\n",
      "\u001b[0;32m~/anaconda3/lib/python3.8/site-packages/sklearn/tree/_export.py\u001b[0m in \u001b[0;36mplot_tree\u001b[0;34m(decision_tree, max_depth, feature_names, class_names, label, filled, impurity, node_ids, proportion, rotate, rounded, precision, ax, fontsize)\u001b[0m\n\u001b[1;32m    179\u001b[0m     \"\"\"\n\u001b[1;32m    180\u001b[0m \u001b[0;34m\u001b[0m\u001b[0m\n\u001b[0;32m--> 181\u001b[0;31m     \u001b[0mcheck_is_fitted\u001b[0m\u001b[0;34m(\u001b[0m\u001b[0mdecision_tree\u001b[0m\u001b[0;34m)\u001b[0m\u001b[0;34m\u001b[0m\u001b[0;34m\u001b[0m\u001b[0m\n\u001b[0m\u001b[1;32m    182\u001b[0m \u001b[0;34m\u001b[0m\u001b[0m\n\u001b[1;32m    183\u001b[0m     \u001b[0;32mif\u001b[0m \u001b[0mrotate\u001b[0m \u001b[0;34m!=\u001b[0m \u001b[0;34m'deprecated'\u001b[0m\u001b[0;34m:\u001b[0m\u001b[0;34m\u001b[0m\u001b[0;34m\u001b[0m\u001b[0m\n",
      "\u001b[0;32m~/anaconda3/lib/python3.8/site-packages/sklearn/utils/validation.py\u001b[0m in \u001b[0;36minner_f\u001b[0;34m(*args, **kwargs)\u001b[0m\n\u001b[1;32m     61\u001b[0m             \u001b[0mextra_args\u001b[0m \u001b[0;34m=\u001b[0m \u001b[0mlen\u001b[0m\u001b[0;34m(\u001b[0m\u001b[0margs\u001b[0m\u001b[0;34m)\u001b[0m \u001b[0;34m-\u001b[0m \u001b[0mlen\u001b[0m\u001b[0;34m(\u001b[0m\u001b[0mall_args\u001b[0m\u001b[0;34m)\u001b[0m\u001b[0;34m\u001b[0m\u001b[0;34m\u001b[0m\u001b[0m\n\u001b[1;32m     62\u001b[0m             \u001b[0;32mif\u001b[0m \u001b[0mextra_args\u001b[0m \u001b[0;34m<=\u001b[0m \u001b[0;36m0\u001b[0m\u001b[0;34m:\u001b[0m\u001b[0;34m\u001b[0m\u001b[0;34m\u001b[0m\u001b[0m\n\u001b[0;32m---> 63\u001b[0;31m                 \u001b[0;32mreturn\u001b[0m \u001b[0mf\u001b[0m\u001b[0;34m(\u001b[0m\u001b[0;34m*\u001b[0m\u001b[0margs\u001b[0m\u001b[0;34m,\u001b[0m \u001b[0;34m**\u001b[0m\u001b[0mkwargs\u001b[0m\u001b[0;34m)\u001b[0m\u001b[0;34m\u001b[0m\u001b[0;34m\u001b[0m\u001b[0m\n\u001b[0m\u001b[1;32m     64\u001b[0m \u001b[0;34m\u001b[0m\u001b[0m\n\u001b[1;32m     65\u001b[0m             \u001b[0;31m# extra_args > 0\u001b[0m\u001b[0;34m\u001b[0m\u001b[0;34m\u001b[0m\u001b[0;34m\u001b[0m\u001b[0m\n",
      "\u001b[0;32m~/anaconda3/lib/python3.8/site-packages/sklearn/utils/validation.py\u001b[0m in \u001b[0;36mcheck_is_fitted\u001b[0;34m(estimator, attributes, msg, all_or_any)\u001b[0m\n\u001b[1;32m   1039\u001b[0m \u001b[0;34m\u001b[0m\u001b[0m\n\u001b[1;32m   1040\u001b[0m     \u001b[0;32mif\u001b[0m \u001b[0;32mnot\u001b[0m \u001b[0mattrs\u001b[0m\u001b[0;34m:\u001b[0m\u001b[0;34m\u001b[0m\u001b[0;34m\u001b[0m\u001b[0m\n\u001b[0;32m-> 1041\u001b[0;31m         \u001b[0;32mraise\u001b[0m \u001b[0mNotFittedError\u001b[0m\u001b[0;34m(\u001b[0m\u001b[0mmsg\u001b[0m \u001b[0;34m%\u001b[0m \u001b[0;34m{\u001b[0m\u001b[0;34m'name'\u001b[0m\u001b[0;34m:\u001b[0m \u001b[0mtype\u001b[0m\u001b[0;34m(\u001b[0m\u001b[0mestimator\u001b[0m\u001b[0;34m)\u001b[0m\u001b[0;34m.\u001b[0m\u001b[0m__name__\u001b[0m\u001b[0;34m}\u001b[0m\u001b[0;34m)\u001b[0m\u001b[0;34m\u001b[0m\u001b[0;34m\u001b[0m\u001b[0m\n\u001b[0m\u001b[1;32m   1042\u001b[0m \u001b[0;34m\u001b[0m\u001b[0m\n\u001b[1;32m   1043\u001b[0m \u001b[0;34m\u001b[0m\u001b[0m\n",
      "\u001b[0;31mNotFittedError\u001b[0m: This DecisionTreeRegressor instance is not fitted yet. Call 'fit' with appropriate arguments before using this estimator."
     ]
    },
    {
     "data": {
      "text/plain": [
       "<Figure size 1800x1440 with 0 Axes>"
      ]
     },
     "metadata": {},
     "output_type": "display_data"
    }
   ],
   "source": [
    "from sklearn import tree\n",
    "\n",
    "pipe = make_pipeline(preprocessor, DecisionTreeRegressor())\n",
    "pipe.fit(X_train, y_train)\n",
    "\n",
    "# Create list of features\n",
    "features = ['Species_Dog','AgeYr1', 'YoungAge', 'AmtClaimsYr1', 'AvgClaimsYr1', 'NumClaimsYr1',\n",
    "            'BreedAvgTotalClaims', 'BreedAvgNumClaims', 'BreedAvgClaimAmt', 'AgeYr1AvgTotalClaims',\n",
    "            'AgeYr1AvgNumClaims', 'AgeYr1AvgClaimAmt']\n",
    "\n",
    "fig = plt.figure(figsize=(25,20))\n",
    "_ = tree.plot_tree(clf, feature_names=features, filled=True)"
   ]
  },
  {
   "cell_type": "markdown",
   "id": "0cb0f164",
   "metadata": {},
   "source": [
    "## 6 Random Forest Regression"
   ]
  },
  {
   "cell_type": "code",
   "execution_count": 23,
   "id": "4b53cf67",
   "metadata": {},
   "outputs": [
    {
     "name": "stdout",
     "output_type": "stream",
     "text": [
      "{'regressor__bootstrap': [True, False],\n",
      " 'regressor__max_depth': [10, 50, 100, None],\n",
      " 'regressor__max_features': ['auto', None],\n",
      " 'regressor__min_samples_leaf': [1, 2, 4],\n",
      " 'regressor__min_samples_split': [2, 5, 10],\n",
      " 'regressor__n_estimators': [50, 100]}\n"
     ]
    }
   ],
   "source": [
    "from sklearn.ensemble import RandomForestRegressor\n",
    "\n",
    "# Number of trees in random forest\n",
    "# n_estimators = [int(x) for x in np.linspace(start = 50, stop = 1000, num = 10)]\n",
    "n_estimators = [50, 100]\n",
    "\n",
    "# Number of features to consider at every split\n",
    "max_features = ['auto', None]\n",
    "\n",
    "# Maximum number of levels in tree\n",
    "# max_depth = [int(x) for x in np.linspace(10, 110, num = 11)]\n",
    "max_depth = [10, 50, 100]\n",
    "max_depth.append(None)\n",
    "\n",
    "# Minimum number of samples required to split a node\n",
    "min_samples_split = [2, 5, 10]\n",
    "\n",
    "# Minimum number of samples required at each leaf node\n",
    "min_samples_leaf = [1, 2, 4]\n",
    "\n",
    "# Method of selecting samples for training each tree\n",
    "bootstrap = [True, False]\n",
    "\n",
    "# Create the random grid\n",
    "random_grid = {'regressor__n_estimators': n_estimators,\n",
    "               'regressor__max_features': max_features,\n",
    "               'regressor__max_depth': max_depth,\n",
    "               'regressor__min_samples_split': min_samples_split,\n",
    "               'regressor__min_samples_leaf': min_samples_leaf,\n",
    "               'regressor__bootstrap': bootstrap}\n",
    "\n",
    "# Print the grid\n",
    "pprint(random_grid)"
   ]
  },
  {
   "cell_type": "code",
   "execution_count": 24,
   "id": "b7a6399c",
   "metadata": {},
   "outputs": [
    {
     "name": "stdout",
     "output_type": "stream",
     "text": [
      "Fitting 5 folds for each of 5 candidates, totalling 25 fits\n"
     ]
    },
    {
     "data": {
      "text/plain": [
       "RandomizedSearchCV(cv=5,\n",
       "                   estimator=Pipeline(steps=[('preprocessor',\n",
       "                                              ColumnTransformer(remainder='passthrough',\n",
       "                                                                transformers=[('onehotencoder',\n",
       "                                                                               OneHotEncoder(drop='if_binary'),\n",
       "                                                                               ['Species'])])),\n",
       "                                             ('regressor',\n",
       "                                              RandomForestRegressor())]),\n",
       "                   n_iter=5, n_jobs=-1,\n",
       "                   param_distributions={'regressor__bootstrap': [True, False],\n",
       "                                        'regressor__max_depth': [10, 50, 100,\n",
       "                                                                 None],\n",
       "                                        'regressor__max_features': ['auto',\n",
       "                                                                    None],\n",
       "                                        'regressor__min_samples_leaf': [1, 2,\n",
       "                                                                        4],\n",
       "                                        'regressor__min_samples_split': [2, 5,\n",
       "                                                                         10],\n",
       "                                        'regressor__n_estimators': [50, 100]},\n",
       "                   random_state=42, scoring='neg_mean_absolute_error',\n",
       "                   verbose=2)"
      ]
     },
     "execution_count": 24,
     "metadata": {},
     "output_type": "execute_result"
    }
   ],
   "source": [
    "# Create the pipeline\n",
    "pipe = Pipeline([('preprocessor', preprocessor),('regressor', RandomForestRegressor())])\n",
    "\n",
    "# Instantiate the grid search and fit the model\n",
    "RF_Random = RandomizedSearchCV(estimator = pipe, param_distributions = random_grid,\n",
    "                               n_iter = 5, cv = 5, scoring='neg_mean_absolute_error', verbose=2, random_state=42, n_jobs = -1)\n",
    "\n",
    "# Fit the random search model\n",
    "RF_Random.fit(X_train, y_train)"
   ]
  },
  {
   "cell_type": "code",
   "execution_count": 25,
   "id": "cd894c63",
   "metadata": {},
   "outputs": [
    {
     "data": {
      "text/plain": [
       "{'regressor__n_estimators': 100,\n",
       " 'regressor__min_samples_split': 2,\n",
       " 'regressor__min_samples_leaf': 4,\n",
       " 'regressor__max_features': 'auto',\n",
       " 'regressor__max_depth': 10,\n",
       " 'regressor__bootstrap': False}"
      ]
     },
     "execution_count": 25,
     "metadata": {},
     "output_type": "execute_result"
    }
   ],
   "source": [
    "# View best performing parameter combination\n",
    "RF_Random.best_params_"
   ]
  },
  {
   "cell_type": "code",
   "execution_count": 26,
   "id": "3c861860",
   "metadata": {},
   "outputs": [
    {
     "data": {
      "text/plain": [
       "-968.1680597037124"
      ]
     },
     "execution_count": 26,
     "metadata": {},
     "output_type": "execute_result"
    }
   ],
   "source": [
    "RF_Random.best_score_"
   ]
  },
  {
   "cell_type": "markdown",
   "id": "6475acee",
   "metadata": {},
   "source": [
    "## 8 Save Model"
   ]
  },
  {
   "cell_type": "code",
   "execution_count": null,
   "id": "ab240f34",
   "metadata": {},
   "outputs": [],
   "source": []
  },
  {
   "cell_type": "code",
   "execution_count": null,
   "id": "d6369b11",
   "metadata": {},
   "outputs": [],
   "source": [
    "# # Store some basic information about the model\n",
    "# best_model = rf_grid_cv.best_estimator_\n",
    "# best_model.version = '1.0'\n",
    "# best_model.pandas_version = pd.__version__\n",
    "# best_model.numpy_version = np.__version__\n",
    "# best_model.sklearn_version = sklearn_version\n",
    "# best_model.X_columns = [col for col in X_train.columns]\n",
    "# best_model.build_datetime = datetime.datetime.now()\n",
    "\n",
    "# # save the model\n",
    "\n",
    "# modelpath = '../models'\n",
    "# save_file(best_model, 'ski_resort_pricing_model.pkl', modelpath)"
   ]
  },
  {
   "cell_type": "code",
   "execution_count": null,
   "id": "99fc770c",
   "metadata": {},
   "outputs": [],
   "source": []
  },
  {
   "cell_type": "code",
   "execution_count": null,
   "id": "af051d3e",
   "metadata": {},
   "outputs": [],
   "source": []
  },
  {
   "cell_type": "code",
   "execution_count": null,
   "id": "b6cfc194",
   "metadata": {},
   "outputs": [],
   "source": []
  }
 ],
 "metadata": {
  "kernelspec": {
   "display_name": "Python 3",
   "language": "python",
   "name": "python3"
  },
  "language_info": {
   "codemirror_mode": {
    "name": "ipython",
    "version": 3
   },
   "file_extension": ".py",
   "mimetype": "text/x-python",
   "name": "python",
   "nbconvert_exporter": "python",
   "pygments_lexer": "ipython3",
   "version": "3.8.8"
  }
 },
 "nbformat": 4,
 "nbformat_minor": 5
}
