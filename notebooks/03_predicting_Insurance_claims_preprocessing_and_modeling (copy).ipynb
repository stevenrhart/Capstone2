{
 "cells": [
  {
   "cell_type": "markdown",
   "metadata": {},
   "source": [
    "# Predicting Pet Insurance Claims - Pre-processing and Initial Modeling\n",
    "## 1 Introduction\n",
    "### 1.1 Background\n",
    "Whenever a pet insurance policy holder incurs veterinary expenses related to their enrolled pet, they can submit claims for reimbursement, and the insurance company reimburses eligible expenses. To price insurance products correctly, the insurance company needs to have a good idea of the amount their policy holders are likely to claim in the future.\n",
    "\n",
    "### 1.2 Project Goal\n",
    "The goal of this project is to create a machine learning model to predict how much (in dollars) a given policy holder will claim for during the second year of their policy.\n",
    "\n",
    "### 1.3 Notebook Goals\n",
    "* Split data into Train and Test sets\n",
    "* Complete any remaining feature engineering\n",
    "* Pre-process the data to prepare for modeling\n",
    "* Create and assess initial models"
   ]
  },
  {
   "cell_type": "markdown",
   "metadata": {},
   "source": [
    "## 2 Setup\n",
    "### 2.1 Imports"
   ]
  },
  {
   "cell_type": "code",
   "execution_count": 1,
   "metadata": {},
   "outputs": [],
   "source": [
    "import pandas as pd\n",
    "import numpy as np\n",
    "\n",
    "import matplotlib.pyplot as plt\n",
    "import seaborn as sns\n",
    "\n",
    "from pprint import pprint\n",
    "\n",
    "from sklearn.model_selection import train_test_split, cross_validate, GridSearchCV, RandomizedSearchCV\n",
    "from sklearn.compose import make_column_transformer\n",
    "from sklearn.preprocessing import OneHotEncoder, StandardScaler, LabelBinarizer\n",
    "from sklearn.pipeline import make_pipeline\n",
    "from sklearn.dummy import DummyRegressor\n",
    "from sklearn.linear_model import LinearRegression\n",
    "from sklearn.metrics import mean_absolute_error, make_scorer\n",
    "from sklearn.feature_selection import SelectKBest, f_regression\n",
    "from sklearn import __version__ as sklearn_version\n",
    "\n",
    "import datetime\n",
    "import os\n",
    "import pickle\n",
    "from library.sb_utils import save_file"
   ]
  },
  {
   "cell_type": "markdown",
   "metadata": {},
   "source": [
    "### 2.2 Data Load and Preview\n",
    "At the end of exploratory data analysis, we had an updated data file for our pets data containing all pet records. As a quick review, here's a summary:\n",
    "* Shape - Our clean dataframe is 50000 rows with each row corresponding to a single pet.\n",
    "* Basic Info - For each pet, we have some basic info including species, breed, and age at time of enrollment.\n",
    "* YoungAge - Designation for pets who enrolled at a very young age (< 7 weeks)\n",
    "* Policy Info - We also have policy-level info for each pet including the monthly premium and deductible amount for claims.\n",
    "* Claims Data - We also have claims data for each pet covering the first two policy years including:\n",
    "* Number of claims per year and total (years 1 and 2 combined)\n",
    "* Average claim amount per year and total (years 1 and 2 combined)\n",
    "* Amount of claims per year and total (years 1 and 2 combined)\n",
    "\n",
    "Let's load in the data and preview."
   ]
  },
  {
   "cell_type": "code",
   "execution_count": 2,
   "metadata": {},
   "outputs": [
    {
     "data": {
      "text/html": [
       "<div>\n",
       "<style scoped>\n",
       "    .dataframe tbody tr th:only-of-type {\n",
       "        vertical-align: middle;\n",
       "    }\n",
       "\n",
       "    .dataframe tbody tr th {\n",
       "        vertical-align: top;\n",
       "    }\n",
       "\n",
       "    .dataframe thead th {\n",
       "        text-align: right;\n",
       "    }\n",
       "</style>\n",
       "<table border=\"1\" class=\"dataframe\">\n",
       "  <thead>\n",
       "    <tr style=\"text-align: right;\">\n",
       "      <th></th>\n",
       "      <th>0</th>\n",
       "      <th>1</th>\n",
       "      <th>2</th>\n",
       "      <th>3</th>\n",
       "      <th>4</th>\n",
       "      <th>5</th>\n",
       "      <th>6</th>\n",
       "      <th>7</th>\n",
       "    </tr>\n",
       "  </thead>\n",
       "  <tbody>\n",
       "    <tr>\n",
       "      <th>PetId</th>\n",
       "      <td>0</td>\n",
       "      <td>1</td>\n",
       "      <td>2</td>\n",
       "      <td>3</td>\n",
       "      <td>4</td>\n",
       "      <td>5</td>\n",
       "      <td>6</td>\n",
       "      <td>7</td>\n",
       "    </tr>\n",
       "    <tr>\n",
       "      <th>Species</th>\n",
       "      <td>Dog</td>\n",
       "      <td>Dog</td>\n",
       "      <td>Dog</td>\n",
       "      <td>Dog</td>\n",
       "      <td>Dog</td>\n",
       "      <td>Dog</td>\n",
       "      <td>Cat</td>\n",
       "      <td>Dog</td>\n",
       "    </tr>\n",
       "    <tr>\n",
       "      <th>Breed</th>\n",
       "      <td>Schnauzer Standard</td>\n",
       "      <td>Yorkiepoo</td>\n",
       "      <td>Mixed Breed Medium</td>\n",
       "      <td>Labrador Retriever</td>\n",
       "      <td>French Bulldog</td>\n",
       "      <td>Shih Tzu</td>\n",
       "      <td>American Shorthair</td>\n",
       "      <td>Boxer</td>\n",
       "    </tr>\n",
       "    <tr>\n",
       "      <th>Premium</th>\n",
       "      <td>84.54</td>\n",
       "      <td>50.33</td>\n",
       "      <td>74.0</td>\n",
       "      <td>57.54</td>\n",
       "      <td>60.69</td>\n",
       "      <td>43.53</td>\n",
       "      <td>47.4</td>\n",
       "      <td>75.14</td>\n",
       "    </tr>\n",
       "    <tr>\n",
       "      <th>Deductible</th>\n",
       "      <td>200</td>\n",
       "      <td>500</td>\n",
       "      <td>500</td>\n",
       "      <td>500</td>\n",
       "      <td>700</td>\n",
       "      <td>700</td>\n",
       "      <td>250</td>\n",
       "      <td>700</td>\n",
       "    </tr>\n",
       "    <tr>\n",
       "      <th>AgeYr1</th>\n",
       "      <td>3</td>\n",
       "      <td>0</td>\n",
       "      <td>0</td>\n",
       "      <td>0</td>\n",
       "      <td>0</td>\n",
       "      <td>2</td>\n",
       "      <td>0</td>\n",
       "      <td>5</td>\n",
       "    </tr>\n",
       "    <tr>\n",
       "      <th>YoungAge</th>\n",
       "      <td>0</td>\n",
       "      <td>0</td>\n",
       "      <td>0</td>\n",
       "      <td>0</td>\n",
       "      <td>0</td>\n",
       "      <td>0</td>\n",
       "      <td>0</td>\n",
       "      <td>0</td>\n",
       "    </tr>\n",
       "    <tr>\n",
       "      <th>AmtClaimsYr1</th>\n",
       "      <td>0.0</td>\n",
       "      <td>0.0</td>\n",
       "      <td>640.63</td>\n",
       "      <td>0.0</td>\n",
       "      <td>7212.25</td>\n",
       "      <td>2665.67</td>\n",
       "      <td>0.0</td>\n",
       "      <td>2873.47</td>\n",
       "    </tr>\n",
       "    <tr>\n",
       "      <th>AmtClaimsYr2</th>\n",
       "      <td>1242.0</td>\n",
       "      <td>0.0</td>\n",
       "      <td>1187.68</td>\n",
       "      <td>0.0</td>\n",
       "      <td>168.75</td>\n",
       "      <td>0.0</td>\n",
       "      <td>811.38</td>\n",
       "      <td>2497.03</td>\n",
       "    </tr>\n",
       "    <tr>\n",
       "      <th>AvgClaimsYr1</th>\n",
       "      <td>0.0</td>\n",
       "      <td>0.0</td>\n",
       "      <td>213.543333</td>\n",
       "      <td>0.0</td>\n",
       "      <td>801.361111</td>\n",
       "      <td>296.185556</td>\n",
       "      <td>0.0</td>\n",
       "      <td>410.495714</td>\n",
       "    </tr>\n",
       "    <tr>\n",
       "      <th>AvgClaimsYr2</th>\n",
       "      <td>621.0</td>\n",
       "      <td>0.0</td>\n",
       "      <td>237.536</td>\n",
       "      <td>0.0</td>\n",
       "      <td>168.75</td>\n",
       "      <td>0.0</td>\n",
       "      <td>811.38</td>\n",
       "      <td>356.718571</td>\n",
       "    </tr>\n",
       "    <tr>\n",
       "      <th>NumClaimsYr1</th>\n",
       "      <td>0</td>\n",
       "      <td>0</td>\n",
       "      <td>3</td>\n",
       "      <td>0</td>\n",
       "      <td>9</td>\n",
       "      <td>9</td>\n",
       "      <td>0</td>\n",
       "      <td>7</td>\n",
       "    </tr>\n",
       "    <tr>\n",
       "      <th>NumClaimsYr2</th>\n",
       "      <td>2</td>\n",
       "      <td>0</td>\n",
       "      <td>5</td>\n",
       "      <td>0</td>\n",
       "      <td>1</td>\n",
       "      <td>0</td>\n",
       "      <td>1</td>\n",
       "      <td>7</td>\n",
       "    </tr>\n",
       "    <tr>\n",
       "      <th>AmtClaimsTotal</th>\n",
       "      <td>1242.0</td>\n",
       "      <td>0.0</td>\n",
       "      <td>1828.31</td>\n",
       "      <td>0.0</td>\n",
       "      <td>7381.0</td>\n",
       "      <td>2665.67</td>\n",
       "      <td>811.38</td>\n",
       "      <td>5370.5</td>\n",
       "    </tr>\n",
       "    <tr>\n",
       "      <th>AvgClaimsTotal</th>\n",
       "      <td>621.0</td>\n",
       "      <td>0.0</td>\n",
       "      <td>451.079333</td>\n",
       "      <td>0.0</td>\n",
       "      <td>970.111111</td>\n",
       "      <td>296.185556</td>\n",
       "      <td>811.38</td>\n",
       "      <td>767.214286</td>\n",
       "    </tr>\n",
       "    <tr>\n",
       "      <th>NumClaimsTotal</th>\n",
       "      <td>2</td>\n",
       "      <td>0</td>\n",
       "      <td>8</td>\n",
       "      <td>0</td>\n",
       "      <td>10</td>\n",
       "      <td>9</td>\n",
       "      <td>1</td>\n",
       "      <td>14</td>\n",
       "    </tr>\n",
       "    <tr>\n",
       "      <th>YrsWithClaims</th>\n",
       "      <td>1</td>\n",
       "      <td>0</td>\n",
       "      <td>2</td>\n",
       "      <td>0</td>\n",
       "      <td>2</td>\n",
       "      <td>1</td>\n",
       "      <td>1</td>\n",
       "      <td>2</td>\n",
       "    </tr>\n",
       "  </tbody>\n",
       "</table>\n",
       "</div>"
      ],
      "text/plain": [
       "                                 0          1                   2  \\\n",
       "PetId                            0          1                   2   \n",
       "Species                        Dog        Dog                 Dog   \n",
       "Breed           Schnauzer Standard  Yorkiepoo  Mixed Breed Medium   \n",
       "Premium                      84.54      50.33                74.0   \n",
       "Deductible                     200        500                 500   \n",
       "AgeYr1                           3          0                   0   \n",
       "YoungAge                         0          0                   0   \n",
       "AmtClaimsYr1                   0.0        0.0              640.63   \n",
       "AmtClaimsYr2                1242.0        0.0             1187.68   \n",
       "AvgClaimsYr1                   0.0        0.0          213.543333   \n",
       "AvgClaimsYr2                 621.0        0.0             237.536   \n",
       "NumClaimsYr1                     0          0                   3   \n",
       "NumClaimsYr2                     2          0                   5   \n",
       "AmtClaimsTotal              1242.0        0.0             1828.31   \n",
       "AvgClaimsTotal               621.0        0.0          451.079333   \n",
       "NumClaimsTotal                   2          0                   8   \n",
       "YrsWithClaims                    1          0                   2   \n",
       "\n",
       "                                 3               4           5  \\\n",
       "PetId                            3               4           5   \n",
       "Species                        Dog             Dog         Dog   \n",
       "Breed           Labrador Retriever  French Bulldog    Shih Tzu   \n",
       "Premium                      57.54           60.69       43.53   \n",
       "Deductible                     500             700         700   \n",
       "AgeYr1                           0               0           2   \n",
       "YoungAge                         0               0           0   \n",
       "AmtClaimsYr1                   0.0         7212.25     2665.67   \n",
       "AmtClaimsYr2                   0.0          168.75         0.0   \n",
       "AvgClaimsYr1                   0.0      801.361111  296.185556   \n",
       "AvgClaimsYr2                   0.0          168.75         0.0   \n",
       "NumClaimsYr1                     0               9           9   \n",
       "NumClaimsYr2                     0               1           0   \n",
       "AmtClaimsTotal                 0.0          7381.0     2665.67   \n",
       "AvgClaimsTotal                 0.0      970.111111  296.185556   \n",
       "NumClaimsTotal                   0              10           9   \n",
       "YrsWithClaims                    0               2           1   \n",
       "\n",
       "                                 6           7  \n",
       "PetId                            6           7  \n",
       "Species                        Cat         Dog  \n",
       "Breed           American Shorthair       Boxer  \n",
       "Premium                       47.4       75.14  \n",
       "Deductible                     250         700  \n",
       "AgeYr1                           0           5  \n",
       "YoungAge                         0           0  \n",
       "AmtClaimsYr1                   0.0     2873.47  \n",
       "AmtClaimsYr2                811.38     2497.03  \n",
       "AvgClaimsYr1                   0.0  410.495714  \n",
       "AvgClaimsYr2                811.38  356.718571  \n",
       "NumClaimsYr1                     0           7  \n",
       "NumClaimsYr2                     1           7  \n",
       "AmtClaimsTotal              811.38      5370.5  \n",
       "AvgClaimsTotal              811.38  767.214286  \n",
       "NumClaimsTotal                   1          14  \n",
       "YrsWithClaims                    1           2  "
      ]
     },
     "execution_count": 2,
     "metadata": {},
     "output_type": "execute_result"
    }
   ],
   "source": [
    "pets = pd.read_csv('../data/pets.csv', index_col=0)\n",
    "pets.head(8).T"
   ]
  },
  {
   "cell_type": "markdown",
   "metadata": {},
   "source": [
    "### 2.3 Initial Plan for Pre-processing and Feature Engineering\n",
    "Our primary goal for pre-processing will be to prepare our data for modeling. At a our minimum, this will include scaling and/or normalizing our features against one another, generating any required dummy values for categorical columns and splitting our data into our train and test sets.\n",
    "\n",
    "**Train / Test Prep**\n",
    "* Drop all 'Yr2' and 'Total' columns except AmtClaimsYr2 (our target) as this is data we would not have available for making predictions\n",
    "* Split our data into training and test sets\n",
    "\n",
    "**Feature Engineering** \n",
    "* Premium and Deductible - Roll these features up to the breed level to smooth out some of the variability between pets that are in essence, identical\n",
    "* Breed - Employ a method to reduce the number of unique values\n",
    "* Breed statistics - Add features to incorporate breed-related statistics into pets data\n",
    "* PetAge - Consider adding a new features factoring in age (e.g., average claim amount in year 1, average total claims in year 1 - by age grouping)\n",
    "* AmtClaimsYr1 and AvgClaimsYr1 - consider rolling these up into one feature or rolling these up by breed\n",
    "* NumClaimsYr1 - Consider dropping this column or rolling up by breed; Could also be converted to binary (claims and no-claims)\n",
    "\n",
    "**Pre-processing**\n",
    "* Species - Convert to binary\n",
    "* Breed - Create dummy variables for the remaining breeds\n",
    "* All columns - Scale or normalize any columns not already converted to binary or dummy variables\n"
   ]
  },
  {
   "cell_type": "markdown",
   "metadata": {},
   "source": [
    "## 3 Split the Data\n",
    "As a first step, we'll take care of the train/test split to prevent any data leakage. Before we split the data, we need to drop some of the features that won't be part of our model. \n",
    "\n",
    "In addition, we observed in data wrangling and EDA, that there are a wide variety of breeds in our data. If we want to maintain a balanced distribution of breeds after our split, we'll need to use *stratify* to achieve this. Stratify won't work with our current data since we have some breeds with only 1 pet and stratify requires a minimum of 2 in each category.\n",
    "\n",
    "To work around this, we can take a few steps to reduce the number of unique values for 'Breed'. In doing so, we can ensure a minimum number of pets in each category. "
   ]
  },
  {
   "cell_type": "markdown",
   "metadata": {},
   "source": [
    "### 3.1 Drop Unnecessary or Unusable Features \n",
    "Before we move on with preprocessing, we need to drop some features from the data that are either unnecessary or unusable in our predictive model. These include:\n",
    "* **Year 2 Claims Data** - Using year 2 claims data to predict year 2 claims amount would be unfair and introduce data leakage into our model. The result would be that we would end up with a model that is overfit to our current dataset and would likely not generalize well with new data.\n",
    "* **Premium and Deductible** - Premium and deductible amounts are set by the insurance company and are not directly related to the number or amount of claims for any specific pet.\n",
    "* **PetId** - An arbitrary ID number that is meaningless when predicting insurance claims amounts."
   ]
  },
  {
   "cell_type": "code",
   "execution_count": 3,
   "metadata": {},
   "outputs": [],
   "source": [
    "# Drop features that won't be part of the model\n",
    "drop_cols = ['PetId', 'Premium', 'Deductible', 'AvgClaimsYr2', 'NumClaimsYr2', 'AmtClaimsTotal', 'AvgClaimsTotal',\n",
    "             'NumClaimsTotal', 'YrsWithClaims']\n",
    "pets.drop(columns=drop_cols, inplace=True)"
   ]
  },
  {
   "cell_type": "markdown",
   "metadata": {},
   "source": [
    "### 3.2 Reduce the Number of Unique Breeds\n",
    "To reduce the number of unique breeds in the data, we'll follow the steps below:\n",
    "\n",
    "1. Set threshold and save a list of breeds with counts greater or equal to the threshold\n",
    "2. Write a function to update the breed for a row based on whether or not it exists in the list from step 1\n",
    "3. Create a copy of our original df and apply the function\n",
    "4. Print out the before and after numbers for our count of unique breeds\n",
    "\n",
    "As part of step 2 above, we'll update the breed name for breeds with a low pet count to group them together in an *Other* category. To ensure we don't lose any species-specific information, we'll create two versions of *Other*, 'Other Cat' and 'Other Dog'. "
   ]
  },
  {
   "cell_type": "code",
   "execution_count": 4,
   "metadata": {},
   "outputs": [
    {
     "data": {
      "text/html": [
       "<div>\n",
       "<style scoped>\n",
       "    .dataframe tbody tr th:only-of-type {\n",
       "        vertical-align: middle;\n",
       "    }\n",
       "\n",
       "    .dataframe tbody tr th {\n",
       "        vertical-align: top;\n",
       "    }\n",
       "\n",
       "    .dataframe thead th {\n",
       "        text-align: right;\n",
       "    }\n",
       "</style>\n",
       "<table border=\"1\" class=\"dataframe\">\n",
       "  <thead>\n",
       "    <tr style=\"text-align: right;\">\n",
       "      <th></th>\n",
       "      <th>0</th>\n",
       "      <th>1</th>\n",
       "      <th>2</th>\n",
       "      <th>3</th>\n",
       "      <th>4</th>\n",
       "      <th>5</th>\n",
       "      <th>6</th>\n",
       "      <th>7</th>\n",
       "      <th>8</th>\n",
       "      <th>9</th>\n",
       "    </tr>\n",
       "  </thead>\n",
       "  <tbody>\n",
       "    <tr>\n",
       "      <th>Breed</th>\n",
       "      <td>Abyssinian</td>\n",
       "      <td>Affenpinscher</td>\n",
       "      <td>Afghan Hound</td>\n",
       "      <td>Aidi</td>\n",
       "      <td>Airedale Terrier</td>\n",
       "      <td>Akbash Dog</td>\n",
       "      <td>Akita</td>\n",
       "      <td>Alaskan Klee Kai</td>\n",
       "      <td>Alaskan Malamute</td>\n",
       "      <td>American Bandogge Mastiff</td>\n",
       "    </tr>\n",
       "    <tr>\n",
       "      <th>Species</th>\n",
       "      <td>Cat</td>\n",
       "      <td>Dog</td>\n",
       "      <td>Dog</td>\n",
       "      <td>Dog</td>\n",
       "      <td>Dog</td>\n",
       "      <td>Dog</td>\n",
       "      <td>Dog</td>\n",
       "      <td>Dog</td>\n",
       "      <td>Dog</td>\n",
       "      <td>Dog</td>\n",
       "    </tr>\n",
       "    <tr>\n",
       "      <th>PetCount</th>\n",
       "      <td>24</td>\n",
       "      <td>3</td>\n",
       "      <td>10</td>\n",
       "      <td>2</td>\n",
       "      <td>41</td>\n",
       "      <td>1</td>\n",
       "      <td>49</td>\n",
       "      <td>30</td>\n",
       "      <td>64</td>\n",
       "      <td>1</td>\n",
       "    </tr>\n",
       "    <tr>\n",
       "      <th>AvgTotalClaims</th>\n",
       "      <td>1462.780417</td>\n",
       "      <td>1746.19</td>\n",
       "      <td>645.543</td>\n",
       "      <td>0.0</td>\n",
       "      <td>1338.705366</td>\n",
       "      <td>11383.6</td>\n",
       "      <td>1217.91102</td>\n",
       "      <td>1510.666333</td>\n",
       "      <td>3096.346719</td>\n",
       "      <td>2295.07</td>\n",
       "    </tr>\n",
       "    <tr>\n",
       "      <th>AvgNumClaims</th>\n",
       "      <td>4.25</td>\n",
       "      <td>1.333333</td>\n",
       "      <td>2.5</td>\n",
       "      <td>0.0</td>\n",
       "      <td>2.097561</td>\n",
       "      <td>23.0</td>\n",
       "      <td>3.591837</td>\n",
       "      <td>3.166667</td>\n",
       "      <td>3.765625</td>\n",
       "      <td>8.0</td>\n",
       "    </tr>\n",
       "    <tr>\n",
       "      <th>WeightedTotalClaims</th>\n",
       "      <td>35106.73</td>\n",
       "      <td>5238.57</td>\n",
       "      <td>6455.43</td>\n",
       "      <td>0.0</td>\n",
       "      <td>54886.92</td>\n",
       "      <td>11383.6</td>\n",
       "      <td>59677.64</td>\n",
       "      <td>45319.99</td>\n",
       "      <td>198166.19</td>\n",
       "      <td>2295.07</td>\n",
       "    </tr>\n",
       "    <tr>\n",
       "      <th>WeightedNumClaims</th>\n",
       "      <td>102.0</td>\n",
       "      <td>4.0</td>\n",
       "      <td>25.0</td>\n",
       "      <td>0.0</td>\n",
       "      <td>86.0</td>\n",
       "      <td>23.0</td>\n",
       "      <td>176.0</td>\n",
       "      <td>95.0</td>\n",
       "      <td>241.0</td>\n",
       "      <td>8.0</td>\n",
       "    </tr>\n",
       "  </tbody>\n",
       "</table>\n",
       "</div>"
      ],
      "text/plain": [
       "                               0              1             2     3  \\\n",
       "Breed                 Abyssinian  Affenpinscher  Afghan Hound  Aidi   \n",
       "Species                      Cat            Dog           Dog   Dog   \n",
       "PetCount                      24              3            10     2   \n",
       "AvgTotalClaims       1462.780417        1746.19       645.543   0.0   \n",
       "AvgNumClaims                4.25       1.333333           2.5   0.0   \n",
       "WeightedTotalClaims     35106.73        5238.57       6455.43   0.0   \n",
       "WeightedNumClaims          102.0            4.0          25.0   0.0   \n",
       "\n",
       "                                    4           5           6  \\\n",
       "Breed                Airedale Terrier  Akbash Dog       Akita   \n",
       "Species                           Dog         Dog         Dog   \n",
       "PetCount                           41           1          49   \n",
       "AvgTotalClaims            1338.705366     11383.6  1217.91102   \n",
       "AvgNumClaims                 2.097561        23.0    3.591837   \n",
       "WeightedTotalClaims          54886.92     11383.6    59677.64   \n",
       "WeightedNumClaims                86.0        23.0       176.0   \n",
       "\n",
       "                                    7                 8  \\\n",
       "Breed                Alaskan Klee Kai  Alaskan Malamute   \n",
       "Species                           Dog               Dog   \n",
       "PetCount                           30                64   \n",
       "AvgTotalClaims            1510.666333       3096.346719   \n",
       "AvgNumClaims                 3.166667          3.765625   \n",
       "WeightedTotalClaims          45319.99         198166.19   \n",
       "WeightedNumClaims                95.0             241.0   \n",
       "\n",
       "                                             9  \n",
       "Breed                American Bandogge Mastiff  \n",
       "Species                                    Dog  \n",
       "PetCount                                     1  \n",
       "AvgTotalClaims                         2295.07  \n",
       "AvgNumClaims                               8.0  \n",
       "WeightedTotalClaims                    2295.07  \n",
       "WeightedNumClaims                          8.0  "
      ]
     },
     "execution_count": 4,
     "metadata": {},
     "output_type": "execute_result"
    }
   ],
   "source": [
    "breeds = pd.read_csv('../data/breeds.csv', index_col=0)\n",
    "breeds.head(10).T"
   ]
  },
  {
   "cell_type": "code",
   "execution_count": 5,
   "metadata": {},
   "outputs": [
    {
     "name": "stdout",
     "output_type": "stream",
     "text": [
      "Number of unique breeds before: 373\n",
      "Number of unique breeds after: 79\n"
     ]
    }
   ],
   "source": [
    "# Set threshold\n",
    "threshold = 100\n",
    "\n",
    "# Preserve list of Breeds with count greater equal to the threshold\n",
    "breeds_list = breeds[breeds.PetCount >= threshold].Breed.tolist()\n",
    "\n",
    "# Create function to update breed column based on threshold\n",
    "def update_breed(row):\n",
    "    if (row[\"Breed\"] in breeds_list):\n",
    "        return row[\"Breed\"]\n",
    "    else:\n",
    "        if (row[\"Species\"] == 'Cat'):\n",
    "            return 'Other Cat'\n",
    "        else:\n",
    "            return 'Other Dog'\n",
    "\n",
    "# Print number of unique breeds before update\n",
    "print(\"Number of unique breeds before: \" + str(pets.Breed.nunique()))\n",
    "\n",
    "# Apply function to update Breed\n",
    "pets[\"Breed\"] = pets.apply(update_breed, axis=1)\n",
    "print(\"Number of unique breeds after: \" + str(pets.Breed.nunique()))"
   ]
  },
  {
   "cell_type": "markdown",
   "metadata": {},
   "source": [
    "### 3.3 Split Data into Train and Test"
   ]
  },
  {
   "cell_type": "code",
   "execution_count": 6,
   "metadata": {},
   "outputs": [],
   "source": [
    "# Split out target and features\n",
    "y = pets[\"AmtClaimsYr2\"].values\n",
    "X = pets.drop(columns=\"AmtClaimsYr2\")\n",
    "\n",
    "# Split the data into train and test sets\n",
    "X_train, X_test, y_train, y_test = train_test_split(X, y, test_size=0.2, stratify=pets['Breed'], random_state=23)"
   ]
  },
  {
   "cell_type": "code",
   "execution_count": 7,
   "metadata": {},
   "outputs": [
    {
     "name": "stdout",
     "output_type": "stream",
     "text": [
      "(40000, 7)\n",
      "(10000, 7)\n",
      "(40000,)\n",
      "(10000,)\n"
     ]
    }
   ],
   "source": [
    "print(X_train.shape)\n",
    "print(X_test.shape)\n",
    "print(y_train.shape)\n",
    "print(y_test.shape)"
   ]
  },
  {
   "cell_type": "markdown",
   "metadata": {},
   "source": [
    "## 4 Feature Engineering\n",
    "Now that we've split the data into train and test sets, we can proceed with feature engineering without worrying about data leakage. As a next step, let's replace our **breeds** dataframe (which was based on the entire dataset) with an updated version based on our training dataset. Then we can pull in some of the summary statistics as new features.\n",
    "\n",
    "* Breed statistics - Add features to incorporate breed-related statistics into pets data\n",
    "* PetAge - Add features factoring in age (e.g., average claim amount in year 1, average total claims in year 1 - by age grouping, etc.)"
   ]
  },
  {
   "cell_type": "markdown",
   "metadata": {},
   "source": [
    "### 4.1 Breed Statistics\n",
    "After we create our new dataframe grouped by breed, we'll write a function to pull the summary statistics into our training data. "
   ]
  },
  {
   "cell_type": "code",
   "execution_count": 8,
   "metadata": {},
   "outputs": [
    {
     "data": {
      "text/html": [
       "<div>\n",
       "<style scoped>\n",
       "    .dataframe tbody tr th:only-of-type {\n",
       "        vertical-align: middle;\n",
       "    }\n",
       "\n",
       "    .dataframe tbody tr th {\n",
       "        vertical-align: top;\n",
       "    }\n",
       "\n",
       "    .dataframe thead th {\n",
       "        text-align: right;\n",
       "    }\n",
       "</style>\n",
       "<table border=\"1\" class=\"dataframe\">\n",
       "  <thead>\n",
       "    <tr style=\"text-align: right;\">\n",
       "      <th></th>\n",
       "      <th>0</th>\n",
       "      <th>1</th>\n",
       "      <th>2</th>\n",
       "      <th>3</th>\n",
       "      <th>4</th>\n",
       "      <th>5</th>\n",
       "      <th>6</th>\n",
       "      <th>7</th>\n",
       "      <th>8</th>\n",
       "      <th>9</th>\n",
       "    </tr>\n",
       "  </thead>\n",
       "  <tbody>\n",
       "    <tr>\n",
       "      <th>Breed</th>\n",
       "      <td>American Pitbull Terrier</td>\n",
       "      <td>American Shorthair</td>\n",
       "      <td>American Staffordshire Terrier</td>\n",
       "      <td>Aussiedoodle</td>\n",
       "      <td>Australian Labradoodle</td>\n",
       "      <td>Australian Shepherd</td>\n",
       "      <td>Beagle</td>\n",
       "      <td>Bengal</td>\n",
       "      <td>Bernedoodle</td>\n",
       "      <td>Bernese Mountain Dog</td>\n",
       "    </tr>\n",
       "    <tr>\n",
       "      <th>Species</th>\n",
       "      <td>Dog</td>\n",
       "      <td>Cat</td>\n",
       "      <td>Dog</td>\n",
       "      <td>Dog</td>\n",
       "      <td>Dog</td>\n",
       "      <td>Dog</td>\n",
       "      <td>Dog</td>\n",
       "      <td>Cat</td>\n",
       "      <td>Dog</td>\n",
       "      <td>Dog</td>\n",
       "    </tr>\n",
       "    <tr>\n",
       "      <th>PetCount</th>\n",
       "      <td>270</td>\n",
       "      <td>322</td>\n",
       "      <td>86</td>\n",
       "      <td>83</td>\n",
       "      <td>502</td>\n",
       "      <td>380</td>\n",
       "      <td>199</td>\n",
       "      <td>117</td>\n",
       "      <td>232</td>\n",
       "      <td>255</td>\n",
       "    </tr>\n",
       "    <tr>\n",
       "      <th>BreedAvgTotalClaims</th>\n",
       "      <td>1341.011852</td>\n",
       "      <td>460.591149</td>\n",
       "      <td>1056.347907</td>\n",
       "      <td>451.177711</td>\n",
       "      <td>594.123048</td>\n",
       "      <td>558.921737</td>\n",
       "      <td>1047.211508</td>\n",
       "      <td>564.791709</td>\n",
       "      <td>846.949224</td>\n",
       "      <td>1509.175333</td>\n",
       "    </tr>\n",
       "    <tr>\n",
       "      <th>BreedAvgNumClaims</th>\n",
       "      <td>2.107407</td>\n",
       "      <td>0.84472</td>\n",
       "      <td>1.616279</td>\n",
       "      <td>1.216867</td>\n",
       "      <td>1.848606</td>\n",
       "      <td>1.097368</td>\n",
       "      <td>2.045226</td>\n",
       "      <td>0.846154</td>\n",
       "      <td>2.431034</td>\n",
       "      <td>2.552941</td>\n",
       "    </tr>\n",
       "    <tr>\n",
       "      <th>BreedAvgClaimAmt</th>\n",
       "      <td>393.4894</td>\n",
       "      <td>170.55514</td>\n",
       "      <td>249.675607</td>\n",
       "      <td>143.48262</td>\n",
       "      <td>155.185672</td>\n",
       "      <td>200.744467</td>\n",
       "      <td>245.716931</td>\n",
       "      <td>165.485075</td>\n",
       "      <td>205.416341</td>\n",
       "      <td>315.759532</td>\n",
       "    </tr>\n",
       "  </tbody>\n",
       "</table>\n",
       "</div>"
      ],
      "text/plain": [
       "                                            0                   1  \\\n",
       "Breed                American Pitbull Terrier  American Shorthair   \n",
       "Species                                   Dog                 Cat   \n",
       "PetCount                                  270                 322   \n",
       "BreedAvgTotalClaims               1341.011852          460.591149   \n",
       "BreedAvgNumClaims                    2.107407             0.84472   \n",
       "BreedAvgClaimAmt                     393.4894           170.55514   \n",
       "\n",
       "                                                  2             3  \\\n",
       "Breed                American Staffordshire Terrier  Aussiedoodle   \n",
       "Species                                         Dog           Dog   \n",
       "PetCount                                         86            83   \n",
       "BreedAvgTotalClaims                     1056.347907    451.177711   \n",
       "BreedAvgNumClaims                          1.616279      1.216867   \n",
       "BreedAvgClaimAmt                         249.675607     143.48262   \n",
       "\n",
       "                                          4                    5            6  \\\n",
       "Breed                Australian Labradoodle  Australian Shepherd       Beagle   \n",
       "Species                                 Dog                  Dog          Dog   \n",
       "PetCount                                502                  380          199   \n",
       "BreedAvgTotalClaims              594.123048           558.921737  1047.211508   \n",
       "BreedAvgNumClaims                  1.848606             1.097368     2.045226   \n",
       "BreedAvgClaimAmt                 155.185672           200.744467   245.716931   \n",
       "\n",
       "                              7            8                     9  \n",
       "Breed                    Bengal  Bernedoodle  Bernese Mountain Dog  \n",
       "Species                     Cat          Dog                   Dog  \n",
       "PetCount                    117          232                   255  \n",
       "BreedAvgTotalClaims  564.791709   846.949224           1509.175333  \n",
       "BreedAvgNumClaims      0.846154     2.431034              2.552941  \n",
       "BreedAvgClaimAmt     165.485075   205.416341            315.759532  "
      ]
     },
     "execution_count": 8,
     "metadata": {},
     "output_type": "execute_result"
    }
   ],
   "source": [
    "# Group pets by breed and aggregate data\n",
    "breeds = X_train.groupby(by=['Breed', 'Species']).agg({'Breed': ['count'],\n",
    "                                                       'AmtClaimsYr1': ['mean'],\n",
    "                                                       'NumClaimsYr1': ['mean'],\n",
    "                                                       'AvgClaimsYr1': ['mean']}).reset_index()\n",
    "breeds.columns = ['Breed', 'Species', 'PetCount', 'BreedAvgTotalClaims', 'BreedAvgNumClaims',\n",
    "                  'BreedAvgClaimAmt']\n",
    "breeds.head(10).T"
   ]
  },
  {
   "cell_type": "code",
   "execution_count": 9,
   "metadata": {},
   "outputs": [
    {
     "data": {
      "image/png": "[encoded data removed]",
      "text/plain": [
       "<Figure size 864x720 with 4 Axes>"
      ]
     },
     "metadata": {
      "needs_background": "light"
     },
     "output_type": "display_data"
    }
   ],
   "source": [
    "# Preview the distributions of each of our numeric features\n",
    "breeds.hist(figsize=(12,10))\n",
    "plt.subplots_adjust(hspace=0.5)\n",
    "plt.show()"
   ]
  },
  {
   "cell_type": "markdown",
   "metadata": {},
   "source": [
    "As we can see from the plots above, all of our breed-related features appear to be right-tailed in their distributions. This could impact the accuracy of our models later, and especially any that are regression-based. Given this, it might make sense to include at least one model in our evaluation that isn't as sensitive to skewness of this kind such as a Decision Tree. For now though, we can pull these new features into our dataframe and continue on to doing something similar for pet age."
   ]
  },
  {
   "cell_type": "code",
   "execution_count": 10,
   "metadata": {},
   "outputs": [],
   "source": [
    "# Create function to pull breed statistics into pets dataframe\n",
    "def add_breed_stats(df):\n",
    "    features = ['Breed', 'BreedAvgTotalClaims', 'BreedAvgNumClaims', 'BreedAvgClaimAmt']\n",
    "    breed_stats = breeds.copy()[features]\n",
    "    df = pd.merge(df, breed_stats, how='left', on='Breed')\n",
    "    return df"
   ]
  },
  {
   "cell_type": "code",
   "execution_count": 11,
   "metadata": {},
   "outputs": [
    {
     "data": {
      "text/html": [
       "<div>\n",
       "<style scoped>\n",
       "    .dataframe tbody tr th:only-of-type {\n",
       "        vertical-align: middle;\n",
       "    }\n",
       "\n",
       "    .dataframe tbody tr th {\n",
       "        vertical-align: top;\n",
       "    }\n",
       "\n",
       "    .dataframe thead th {\n",
       "        text-align: right;\n",
       "    }\n",
       "</style>\n",
       "<table border=\"1\" class=\"dataframe\">\n",
       "  <thead>\n",
       "    <tr style=\"text-align: right;\">\n",
       "      <th></th>\n",
       "      <th>0</th>\n",
       "      <th>1</th>\n",
       "      <th>2</th>\n",
       "      <th>3</th>\n",
       "      <th>4</th>\n",
       "      <th>5</th>\n",
       "      <th>6</th>\n",
       "      <th>7</th>\n",
       "    </tr>\n",
       "  </thead>\n",
       "  <tbody>\n",
       "    <tr>\n",
       "      <th>Species</th>\n",
       "      <td>Dog</td>\n",
       "      <td>Dog</td>\n",
       "      <td>Dog</td>\n",
       "      <td>Dog</td>\n",
       "      <td>Dog</td>\n",
       "      <td>Dog</td>\n",
       "      <td>Cat</td>\n",
       "      <td>Dog</td>\n",
       "    </tr>\n",
       "    <tr>\n",
       "      <th>Breed</th>\n",
       "      <td>Mixed Breed Small</td>\n",
       "      <td>Labradoodle</td>\n",
       "      <td>Goldendoodle</td>\n",
       "      <td>Goldendoodle</td>\n",
       "      <td>Mixed Breed Small</td>\n",
       "      <td>Mixed Breed Large</td>\n",
       "      <td>Domestic Shorthair</td>\n",
       "      <td>Bernese Mountain Dog</td>\n",
       "    </tr>\n",
       "    <tr>\n",
       "      <th>AgeYr1</th>\n",
       "      <td>3</td>\n",
       "      <td>0</td>\n",
       "      <td>0</td>\n",
       "      <td>1</td>\n",
       "      <td>2</td>\n",
       "      <td>0</td>\n",
       "      <td>6</td>\n",
       "      <td>6</td>\n",
       "    </tr>\n",
       "    <tr>\n",
       "      <th>YoungAge</th>\n",
       "      <td>0</td>\n",
       "      <td>0</td>\n",
       "      <td>0</td>\n",
       "      <td>0</td>\n",
       "      <td>0</td>\n",
       "      <td>0</td>\n",
       "      <td>0</td>\n",
       "      <td>0</td>\n",
       "    </tr>\n",
       "    <tr>\n",
       "      <th>AmtClaimsYr1</th>\n",
       "      <td>76.25</td>\n",
       "      <td>0.0</td>\n",
       "      <td>6010.88</td>\n",
       "      <td>303.15</td>\n",
       "      <td>0.0</td>\n",
       "      <td>701.6</td>\n",
       "      <td>431.57</td>\n",
       "      <td>0.0</td>\n",
       "    </tr>\n",
       "    <tr>\n",
       "      <th>AvgClaimsYr1</th>\n",
       "      <td>76.25</td>\n",
       "      <td>0.0</td>\n",
       "      <td>546.443636</td>\n",
       "      <td>151.575</td>\n",
       "      <td>0.0</td>\n",
       "      <td>701.6</td>\n",
       "      <td>215.785</td>\n",
       "      <td>0.0</td>\n",
       "    </tr>\n",
       "    <tr>\n",
       "      <th>NumClaimsYr1</th>\n",
       "      <td>1</td>\n",
       "      <td>0</td>\n",
       "      <td>11</td>\n",
       "      <td>2</td>\n",
       "      <td>0</td>\n",
       "      <td>1</td>\n",
       "      <td>2</td>\n",
       "      <td>0</td>\n",
       "    </tr>\n",
       "    <tr>\n",
       "      <th>BreedAvgTotalClaims</th>\n",
       "      <td>663.502526</td>\n",
       "      <td>540.515378</td>\n",
       "      <td>705.72864</td>\n",
       "      <td>705.72864</td>\n",
       "      <td>663.502526</td>\n",
       "      <td>925.434405</td>\n",
       "      <td>395.718466</td>\n",
       "      <td>1509.175333</td>\n",
       "    </tr>\n",
       "    <tr>\n",
       "      <th>BreedAvgNumClaims</th>\n",
       "      <td>1.491045</td>\n",
       "      <td>1.627294</td>\n",
       "      <td>1.766242</td>\n",
       "      <td>1.766242</td>\n",
       "      <td>1.491045</td>\n",
       "      <td>1.875611</td>\n",
       "      <td>0.871485</td>\n",
       "      <td>2.552941</td>\n",
       "    </tr>\n",
       "    <tr>\n",
       "      <th>BreedAvgClaimAmt</th>\n",
       "      <td>196.601991</td>\n",
       "      <td>159.645266</td>\n",
       "      <td>198.844913</td>\n",
       "      <td>198.844913</td>\n",
       "      <td>196.601991</td>\n",
       "      <td>240.294459</td>\n",
       "      <td>137.970879</td>\n",
       "      <td>315.759532</td>\n",
       "    </tr>\n",
       "  </tbody>\n",
       "</table>\n",
       "</div>"
      ],
      "text/plain": [
       "                                     0            1             2  \\\n",
       "Species                            Dog          Dog           Dog   \n",
       "Breed                Mixed Breed Small  Labradoodle  Goldendoodle   \n",
       "AgeYr1                               3            0             0   \n",
       "YoungAge                             0            0             0   \n",
       "AmtClaimsYr1                     76.25          0.0       6010.88   \n",
       "AvgClaimsYr1                     76.25          0.0    546.443636   \n",
       "NumClaimsYr1                         1            0            11   \n",
       "BreedAvgTotalClaims         663.502526   540.515378     705.72864   \n",
       "BreedAvgNumClaims             1.491045     1.627294      1.766242   \n",
       "BreedAvgClaimAmt            196.601991   159.645266    198.844913   \n",
       "\n",
       "                                3                  4                  5  \\\n",
       "Species                       Dog                Dog                Dog   \n",
       "Breed                Goldendoodle  Mixed Breed Small  Mixed Breed Large   \n",
       "AgeYr1                          1                  2                  0   \n",
       "YoungAge                        0                  0                  0   \n",
       "AmtClaimsYr1               303.15                0.0              701.6   \n",
       "AvgClaimsYr1              151.575                0.0              701.6   \n",
       "NumClaimsYr1                    2                  0                  1   \n",
       "BreedAvgTotalClaims     705.72864         663.502526         925.434405   \n",
       "BreedAvgNumClaims        1.766242           1.491045           1.875611   \n",
       "BreedAvgClaimAmt       198.844913         196.601991         240.294459   \n",
       "\n",
       "                                      6                     7  \n",
       "Species                             Cat                   Dog  \n",
       "Breed                Domestic Shorthair  Bernese Mountain Dog  \n",
       "AgeYr1                                6                     6  \n",
       "YoungAge                              0                     0  \n",
       "AmtClaimsYr1                     431.57                   0.0  \n",
       "AvgClaimsYr1                    215.785                   0.0  \n",
       "NumClaimsYr1                          2                     0  \n",
       "BreedAvgTotalClaims          395.718466           1509.175333  \n",
       "BreedAvgNumClaims              0.871485              2.552941  \n",
       "BreedAvgClaimAmt             137.970879            315.759532  "
      ]
     },
     "execution_count": 11,
     "metadata": {},
     "output_type": "execute_result"
    }
   ],
   "source": [
    "# Apply function to training and test data & preview result\n",
    "X_train = add_breed_stats(X_train)\n",
    "X_test = add_breed_stats(X_test)\n",
    "\n",
    "X_train.head(8).T"
   ]
  },
  {
   "cell_type": "code",
   "execution_count": 12,
   "metadata": {},
   "outputs": [
    {
     "name": "stdout",
     "output_type": "stream",
     "text": [
      "<class 'pandas.core.frame.DataFrame'>\n",
      "Int64Index: 40000 entries, 0 to 39999\n",
      "Data columns (total 10 columns):\n",
      " #   Column               Non-Null Count  Dtype  \n",
      "---  ------               --------------  -----  \n",
      " 0   Species              40000 non-null  object \n",
      " 1   Breed                40000 non-null  object \n",
      " 2   AgeYr1               40000 non-null  int64  \n",
      " 3   YoungAge             40000 non-null  int64  \n",
      " 4   AmtClaimsYr1         40000 non-null  float64\n",
      " 5   AvgClaimsYr1         40000 non-null  float64\n",
      " 6   NumClaimsYr1         40000 non-null  int64  \n",
      " 7   BreedAvgTotalClaims  40000 non-null  float64\n",
      " 8   BreedAvgNumClaims    40000 non-null  float64\n",
      " 9   BreedAvgClaimAmt     40000 non-null  float64\n",
      "dtypes: float64(5), int64(3), object(2)\n",
      "memory usage: 3.4+ MB\n"
     ]
    }
   ],
   "source": [
    "# Check for null values\n",
    "X_train.info()"
   ]
  },
  {
   "cell_type": "code",
   "execution_count": 13,
   "metadata": {},
   "outputs": [
    {
     "name": "stdout",
     "output_type": "stream",
     "text": [
      "<class 'pandas.core.frame.DataFrame'>\n",
      "Int64Index: 10000 entries, 0 to 9999\n",
      "Data columns (total 10 columns):\n",
      " #   Column               Non-Null Count  Dtype  \n",
      "---  ------               --------------  -----  \n",
      " 0   Species              10000 non-null  object \n",
      " 1   Breed                10000 non-null  object \n",
      " 2   AgeYr1               10000 non-null  int64  \n",
      " 3   YoungAge             10000 non-null  int64  \n",
      " 4   AmtClaimsYr1         10000 non-null  float64\n",
      " 5   AvgClaimsYr1         10000 non-null  float64\n",
      " 6   NumClaimsYr1         10000 non-null  int64  \n",
      " 7   BreedAvgTotalClaims  10000 non-null  float64\n",
      " 8   BreedAvgNumClaims    10000 non-null  float64\n",
      " 9   BreedAvgClaimAmt     10000 non-null  float64\n",
      "dtypes: float64(5), int64(3), object(2)\n",
      "memory usage: 859.4+ KB\n"
     ]
    }
   ],
   "source": [
    "X_test.info()"
   ]
  },
  {
   "cell_type": "markdown",
   "metadata": {},
   "source": [
    "So after pulling in our breed stats, we can see that we don't have any missing values in our data. Next, let's move on to look at Pet Age statistics."
   ]
  },
  {
   "cell_type": "markdown",
   "metadata": {},
   "source": [
    "### 4.2 Pet Age\n",
    "Similar to breed, we would expect a wide range of vairiability in our claims data on a per-pet basis at each age level. However, averaging the claims data per age could help to offset some of that variability we see for individual pets. \n",
    "\n",
    "We'll start by grouping our data based on pet age and species."
   ]
  },
  {
   "cell_type": "code",
   "execution_count": 14,
   "metadata": {},
   "outputs": [
    {
     "data": {
      "text/html": [
       "<div>\n",
       "<style scoped>\n",
       "    .dataframe tbody tr th:only-of-type {\n",
       "        vertical-align: middle;\n",
       "    }\n",
       "\n",
       "    .dataframe tbody tr th {\n",
       "        vertical-align: top;\n",
       "    }\n",
       "\n",
       "    .dataframe thead th {\n",
       "        text-align: right;\n",
       "    }\n",
       "</style>\n",
       "<table border=\"1\" class=\"dataframe\">\n",
       "  <thead>\n",
       "    <tr style=\"text-align: right;\">\n",
       "      <th></th>\n",
       "      <th>0</th>\n",
       "      <th>1</th>\n",
       "      <th>2</th>\n",
       "      <th>3</th>\n",
       "      <th>4</th>\n",
       "      <th>5</th>\n",
       "      <th>6</th>\n",
       "      <th>7</th>\n",
       "      <th>8</th>\n",
       "      <th>9</th>\n",
       "    </tr>\n",
       "  </thead>\n",
       "  <tbody>\n",
       "    <tr>\n",
       "      <th>AgeYr1</th>\n",
       "      <td>0</td>\n",
       "      <td>0</td>\n",
       "      <td>1</td>\n",
       "      <td>1</td>\n",
       "      <td>2</td>\n",
       "      <td>2</td>\n",
       "      <td>3</td>\n",
       "      <td>3</td>\n",
       "      <td>4</td>\n",
       "      <td>4</td>\n",
       "    </tr>\n",
       "    <tr>\n",
       "      <th>Species</th>\n",
       "      <td>Cat</td>\n",
       "      <td>Dog</td>\n",
       "      <td>Cat</td>\n",
       "      <td>Dog</td>\n",
       "      <td>Cat</td>\n",
       "      <td>Dog</td>\n",
       "      <td>Cat</td>\n",
       "      <td>Dog</td>\n",
       "      <td>Cat</td>\n",
       "      <td>Dog</td>\n",
       "    </tr>\n",
       "    <tr>\n",
       "      <th>PetCount</th>\n",
       "      <td>3137</td>\n",
       "      <td>22191</td>\n",
       "      <td>752</td>\n",
       "      <td>3087</td>\n",
       "      <td>577</td>\n",
       "      <td>2092</td>\n",
       "      <td>403</td>\n",
       "      <td>1423</td>\n",
       "      <td>321</td>\n",
       "      <td>1118</td>\n",
       "    </tr>\n",
       "    <tr>\n",
       "      <th>AgeYr1AvgTotalClaims</th>\n",
       "      <td>432.162369</td>\n",
       "      <td>902.942389</td>\n",
       "      <td>400.833989</td>\n",
       "      <td>699.071121</td>\n",
       "      <td>323.859775</td>\n",
       "      <td>619.496248</td>\n",
       "      <td>251.496303</td>\n",
       "      <td>722.652663</td>\n",
       "      <td>519.121308</td>\n",
       "      <td>723.072558</td>\n",
       "    </tr>\n",
       "    <tr>\n",
       "      <th>AgeYr1AvgNumClaims</th>\n",
       "      <td>0.985336</td>\n",
       "      <td>2.002704</td>\n",
       "      <td>0.742021</td>\n",
       "      <td>1.359896</td>\n",
       "      <td>0.570191</td>\n",
       "      <td>1.243786</td>\n",
       "      <td>0.565757</td>\n",
       "      <td>1.275474</td>\n",
       "      <td>0.943925</td>\n",
       "      <td>1.211986</td>\n",
       "    </tr>\n",
       "    <tr>\n",
       "      <th>AgeYr1AvgClaimAmt</th>\n",
       "      <td>136.041435</td>\n",
       "      <td>234.275301</td>\n",
       "      <td>157.715909</td>\n",
       "      <td>212.218786</td>\n",
       "      <td>136.636061</td>\n",
       "      <td>198.114908</td>\n",
       "      <td>108.815545</td>\n",
       "      <td>218.098714</td>\n",
       "      <td>185.830467</td>\n",
       "      <td>221.268973</td>\n",
       "    </tr>\n",
       "  </tbody>\n",
       "</table>\n",
       "</div>"
      ],
      "text/plain": [
       "                               0           1           2           3  \\\n",
       "AgeYr1                         0           0           1           1   \n",
       "Species                      Cat         Dog         Cat         Dog   \n",
       "PetCount                    3137       22191         752        3087   \n",
       "AgeYr1AvgTotalClaims  432.162369  902.942389  400.833989  699.071121   \n",
       "AgeYr1AvgNumClaims      0.985336    2.002704    0.742021    1.359896   \n",
       "AgeYr1AvgClaimAmt     136.041435  234.275301  157.715909  212.218786   \n",
       "\n",
       "                               4           5           6           7  \\\n",
       "AgeYr1                         2           2           3           3   \n",
       "Species                      Cat         Dog         Cat         Dog   \n",
       "PetCount                     577        2092         403        1423   \n",
       "AgeYr1AvgTotalClaims  323.859775  619.496248  251.496303  722.652663   \n",
       "AgeYr1AvgNumClaims      0.570191    1.243786    0.565757    1.275474   \n",
       "AgeYr1AvgClaimAmt     136.636061  198.114908  108.815545  218.098714   \n",
       "\n",
       "                               8           9  \n",
       "AgeYr1                         4           4  \n",
       "Species                      Cat         Dog  \n",
       "PetCount                     321        1118  \n",
       "AgeYr1AvgTotalClaims  519.121308  723.072558  \n",
       "AgeYr1AvgNumClaims      0.943925    1.211986  \n",
       "AgeYr1AvgClaimAmt     185.830467  221.268973  "
      ]
     },
     "execution_count": 14,
     "metadata": {},
     "output_type": "execute_result"
    }
   ],
   "source": [
    "# Group pets by age at enrollment and aggregate data\n",
    "pets_by_age = X_train.groupby(by=[\"AgeYr1\", \"Species\"]).agg({'AgeYr1': ['count'],\n",
    "                                                             'AmtClaimsYr1': ['mean'],\n",
    "                                                             'NumClaimsYr1': ['mean'],\n",
    "                                                             'AvgClaimsYr1': ['mean']}).reset_index()\n",
    "pets_by_age.columns = ['AgeYr1', 'Species', 'PetCount', 'AgeYr1AvgTotalClaims', 'AgeYr1AvgNumClaims',\n",
    "                       'AgeYr1AvgClaimAmt']\n",
    "pets_by_age.head(10).T"
   ]
  },
  {
   "cell_type": "code",
   "execution_count": 15,
   "metadata": {},
   "outputs": [
    {
     "data": {
      "image/png": "[encoded data removed]",
      "text/plain": [
       "<Figure size 864x720 with 4 Axes>"
      ]
     },
     "metadata": {
      "needs_background": "light"
     },
     "output_type": "display_data"
    }
   ],
   "source": [
    "# Create a df with only the new columns created\n",
    "age_subset = pets_by_age[['PetCount', 'AgeYr1AvgTotalClaims', 'AgeYr1AvgNumClaims',\n",
    "                          'AgeYr1AvgClaimAmt']]\n",
    "\n",
    "# Preview the distributions of each of our numeric features\n",
    "age_subset.hist(figsize=(12,10))\n",
    "plt.subplots_adjust(hspace=0.5)\n",
    "plt.show()"
   ]
  },
  {
   "cell_type": "markdown",
   "metadata": {},
   "source": [
    "Similar to the breed data, we see non-regular distributions for all of our age related features. In this case, there isn't the same consistent right-skewness. Instead, we are seeing more of a multi-modal distribution for 3 of the 4 new features. As mentioned above, this irregularity will likely have an impact on the accuracy of any regression-based modeling."
   ]
  },
  {
   "cell_type": "code",
   "execution_count": 16,
   "metadata": {},
   "outputs": [],
   "source": [
    "# Create function to pull age statistics into pets dataframe\n",
    "def add_age_stats(df):\n",
    "    features = ['AgeYr1', 'Species', 'AgeYr1AvgTotalClaims', 'AgeYr1AvgNumClaims', 'AgeYr1AvgClaimAmt']\n",
    "    age_stats = pets_by_age.copy()[features]\n",
    "    df = pd.merge(df, age_stats, how='left', on=(['AgeYr1', 'Species']))\n",
    "    return df"
   ]
  },
  {
   "cell_type": "code",
   "execution_count": 17,
   "metadata": {},
   "outputs": [
    {
     "data": {
      "text/html": [
       "<div>\n",
       "<style scoped>\n",
       "    .dataframe tbody tr th:only-of-type {\n",
       "        vertical-align: middle;\n",
       "    }\n",
       "\n",
       "    .dataframe tbody tr th {\n",
       "        vertical-align: top;\n",
       "    }\n",
       "\n",
       "    .dataframe thead th {\n",
       "        text-align: right;\n",
       "    }\n",
       "</style>\n",
       "<table border=\"1\" class=\"dataframe\">\n",
       "  <thead>\n",
       "    <tr style=\"text-align: right;\">\n",
       "      <th></th>\n",
       "      <th>0</th>\n",
       "      <th>1</th>\n",
       "      <th>2</th>\n",
       "      <th>3</th>\n",
       "      <th>4</th>\n",
       "      <th>5</th>\n",
       "      <th>6</th>\n",
       "      <th>7</th>\n",
       "    </tr>\n",
       "  </thead>\n",
       "  <tbody>\n",
       "    <tr>\n",
       "      <th>Species</th>\n",
       "      <td>Dog</td>\n",
       "      <td>Dog</td>\n",
       "      <td>Dog</td>\n",
       "      <td>Dog</td>\n",
       "      <td>Dog</td>\n",
       "      <td>Dog</td>\n",
       "      <td>Cat</td>\n",
       "      <td>Dog</td>\n",
       "    </tr>\n",
       "    <tr>\n",
       "      <th>Breed</th>\n",
       "      <td>Mixed Breed Small</td>\n",
       "      <td>Labradoodle</td>\n",
       "      <td>Goldendoodle</td>\n",
       "      <td>Goldendoodle</td>\n",
       "      <td>Mixed Breed Small</td>\n",
       "      <td>Mixed Breed Large</td>\n",
       "      <td>Domestic Shorthair</td>\n",
       "      <td>Bernese Mountain Dog</td>\n",
       "    </tr>\n",
       "    <tr>\n",
       "      <th>AgeYr1</th>\n",
       "      <td>3</td>\n",
       "      <td>0</td>\n",
       "      <td>0</td>\n",
       "      <td>1</td>\n",
       "      <td>2</td>\n",
       "      <td>0</td>\n",
       "      <td>6</td>\n",
       "      <td>6</td>\n",
       "    </tr>\n",
       "    <tr>\n",
       "      <th>YoungAge</th>\n",
       "      <td>0</td>\n",
       "      <td>0</td>\n",
       "      <td>0</td>\n",
       "      <td>0</td>\n",
       "      <td>0</td>\n",
       "      <td>0</td>\n",
       "      <td>0</td>\n",
       "      <td>0</td>\n",
       "    </tr>\n",
       "    <tr>\n",
       "      <th>AmtClaimsYr1</th>\n",
       "      <td>76.25</td>\n",
       "      <td>0.0</td>\n",
       "      <td>6010.88</td>\n",
       "      <td>303.15</td>\n",
       "      <td>0.0</td>\n",
       "      <td>701.6</td>\n",
       "      <td>431.57</td>\n",
       "      <td>0.0</td>\n",
       "    </tr>\n",
       "    <tr>\n",
       "      <th>AvgClaimsYr1</th>\n",
       "      <td>76.25</td>\n",
       "      <td>0.0</td>\n",
       "      <td>546.443636</td>\n",
       "      <td>151.575</td>\n",
       "      <td>0.0</td>\n",
       "      <td>701.6</td>\n",
       "      <td>215.785</td>\n",
       "      <td>0.0</td>\n",
       "    </tr>\n",
       "    <tr>\n",
       "      <th>NumClaimsYr1</th>\n",
       "      <td>1</td>\n",
       "      <td>0</td>\n",
       "      <td>11</td>\n",
       "      <td>2</td>\n",
       "      <td>0</td>\n",
       "      <td>1</td>\n",
       "      <td>2</td>\n",
       "      <td>0</td>\n",
       "    </tr>\n",
       "    <tr>\n",
       "      <th>BreedAvgTotalClaims</th>\n",
       "      <td>663.502526</td>\n",
       "      <td>540.515378</td>\n",
       "      <td>705.72864</td>\n",
       "      <td>705.72864</td>\n",
       "      <td>663.502526</td>\n",
       "      <td>925.434405</td>\n",
       "      <td>395.718466</td>\n",
       "      <td>1509.175333</td>\n",
       "    </tr>\n",
       "    <tr>\n",
       "      <th>BreedAvgNumClaims</th>\n",
       "      <td>1.491045</td>\n",
       "      <td>1.627294</td>\n",
       "      <td>1.766242</td>\n",
       "      <td>1.766242</td>\n",
       "      <td>1.491045</td>\n",
       "      <td>1.875611</td>\n",
       "      <td>0.871485</td>\n",
       "      <td>2.552941</td>\n",
       "    </tr>\n",
       "    <tr>\n",
       "      <th>BreedAvgClaimAmt</th>\n",
       "      <td>196.601991</td>\n",
       "      <td>159.645266</td>\n",
       "      <td>198.844913</td>\n",
       "      <td>198.844913</td>\n",
       "      <td>196.601991</td>\n",
       "      <td>240.294459</td>\n",
       "      <td>137.970879</td>\n",
       "      <td>315.759532</td>\n",
       "    </tr>\n",
       "    <tr>\n",
       "      <th>AgeYr1AvgTotalClaims</th>\n",
       "      <td>722.652663</td>\n",
       "      <td>902.942389</td>\n",
       "      <td>902.942389</td>\n",
       "      <td>699.071121</td>\n",
       "      <td>619.496248</td>\n",
       "      <td>902.942389</td>\n",
       "      <td>449.891932</td>\n",
       "      <td>904.086963</td>\n",
       "    </tr>\n",
       "    <tr>\n",
       "      <th>AgeYr1AvgNumClaims</th>\n",
       "      <td>1.275474</td>\n",
       "      <td>2.002704</td>\n",
       "      <td>2.002704</td>\n",
       "      <td>1.359896</td>\n",
       "      <td>1.243786</td>\n",
       "      <td>2.002704</td>\n",
       "      <td>0.942029</td>\n",
       "      <td>1.47284</td>\n",
       "    </tr>\n",
       "    <tr>\n",
       "      <th>AgeYr1AvgClaimAmt</th>\n",
       "      <td>218.098714</td>\n",
       "      <td>234.275301</td>\n",
       "      <td>234.275301</td>\n",
       "      <td>212.218786</td>\n",
       "      <td>198.114908</td>\n",
       "      <td>234.275301</td>\n",
       "      <td>124.637412</td>\n",
       "      <td>330.747276</td>\n",
       "    </tr>\n",
       "  </tbody>\n",
       "</table>\n",
       "</div>"
      ],
      "text/plain": [
       "                                      0            1             2  \\\n",
       "Species                             Dog          Dog           Dog   \n",
       "Breed                 Mixed Breed Small  Labradoodle  Goldendoodle   \n",
       "AgeYr1                                3            0             0   \n",
       "YoungAge                              0            0             0   \n",
       "AmtClaimsYr1                      76.25          0.0       6010.88   \n",
       "AvgClaimsYr1                      76.25          0.0    546.443636   \n",
       "NumClaimsYr1                          1            0            11   \n",
       "BreedAvgTotalClaims          663.502526   540.515378     705.72864   \n",
       "BreedAvgNumClaims              1.491045     1.627294      1.766242   \n",
       "BreedAvgClaimAmt             196.601991   159.645266    198.844913   \n",
       "AgeYr1AvgTotalClaims         722.652663   902.942389    902.942389   \n",
       "AgeYr1AvgNumClaims             1.275474     2.002704      2.002704   \n",
       "AgeYr1AvgClaimAmt            218.098714   234.275301    234.275301   \n",
       "\n",
       "                                 3                  4                  5  \\\n",
       "Species                        Dog                Dog                Dog   \n",
       "Breed                 Goldendoodle  Mixed Breed Small  Mixed Breed Large   \n",
       "AgeYr1                           1                  2                  0   \n",
       "YoungAge                         0                  0                  0   \n",
       "AmtClaimsYr1                303.15                0.0              701.6   \n",
       "AvgClaimsYr1               151.575                0.0              701.6   \n",
       "NumClaimsYr1                     2                  0                  1   \n",
       "BreedAvgTotalClaims      705.72864         663.502526         925.434405   \n",
       "BreedAvgNumClaims         1.766242           1.491045           1.875611   \n",
       "BreedAvgClaimAmt        198.844913         196.601991         240.294459   \n",
       "AgeYr1AvgTotalClaims    699.071121         619.496248         902.942389   \n",
       "AgeYr1AvgNumClaims        1.359896           1.243786           2.002704   \n",
       "AgeYr1AvgClaimAmt       212.218786         198.114908         234.275301   \n",
       "\n",
       "                                       6                     7  \n",
       "Species                              Cat                   Dog  \n",
       "Breed                 Domestic Shorthair  Bernese Mountain Dog  \n",
       "AgeYr1                                 6                     6  \n",
       "YoungAge                               0                     0  \n",
       "AmtClaimsYr1                      431.57                   0.0  \n",
       "AvgClaimsYr1                     215.785                   0.0  \n",
       "NumClaimsYr1                           2                     0  \n",
       "BreedAvgTotalClaims           395.718466           1509.175333  \n",
       "BreedAvgNumClaims               0.871485              2.552941  \n",
       "BreedAvgClaimAmt              137.970879            315.759532  \n",
       "AgeYr1AvgTotalClaims          449.891932            904.086963  \n",
       "AgeYr1AvgNumClaims              0.942029               1.47284  \n",
       "AgeYr1AvgClaimAmt             124.637412            330.747276  "
      ]
     },
     "execution_count": 17,
     "metadata": {},
     "output_type": "execute_result"
    }
   ],
   "source": [
    "# Apply function to training and test data & preview result\n",
    "X_train = add_age_stats(X_train)\n",
    "X_test = add_age_stats(X_test)\n",
    "\n",
    "X_train.head(8).T"
   ]
  },
  {
   "cell_type": "markdown",
   "metadata": {},
   "source": [
    "## 5. Data Preprocessing\n",
    "\n",
    "Now that we've completed our feature engineering, let's take a look at our data and complete any additional pre-processing on categorical features before we move on to model creation. \n",
    "\n",
    "Let's review the dtypes in our dataset."
   ]
  },
  {
   "cell_type": "code",
   "execution_count": 18,
   "metadata": {},
   "outputs": [
    {
     "name": "stdout",
     "output_type": "stream",
     "text": [
      "float64    8\n",
      "int64      3\n",
      "object     2\n",
      "dtype: int64\n",
      "\n",
      "Remaining categorical columns: ['Species', 'Breed']\n"
     ]
    }
   ],
   "source": [
    "print(X_train.dtypes.value_counts())\n",
    "obj_cols = X_train.select_dtypes(include=['object']).columns.to_list()\n",
    "print(\"\\nRemaining categorical columns: \" + str(obj_cols))"
   ]
  },
  {
   "cell_type": "markdown",
   "metadata": {},
   "source": [
    "We still have two object columns to deal with before we can move on to modeling - Species and Breed. As observed earlier, species contains two possible values - Cat and Dog, while breed contains 79 unique values (after some manipulation). \n",
    "\n",
    "We can create a preprocessor to use OneHotEncoder as part of our pipeline. We can use the (drop='if_binary') argument to utilize OneHotEncoder on both columns even though one is binary and the other has 79 possible values."
   ]
  },
  {
   "cell_type": "code",
   "execution_count": 19,
   "metadata": {},
   "outputs": [],
   "source": [
    "# Create list of categorical columns\n",
    "categorical_columns = ['Species', 'Breed']\n",
    "\n",
    "# Create a preprocessor to encode the categorical columns\n",
    "preprocessor = make_column_transformer(\n",
    "    (OneHotEncoder(drop='if_binary'), categorical_columns),\n",
    "    remainder='passthrough'\n",
    ")"
   ]
  },
  {
   "cell_type": "markdown",
   "metadata": {},
   "source": [
    "## 6 Baseline Models\n",
    "Next we'll make a pipeline including the preprocessor we created above as one of the pipeline steps. For our baseline model review, let's start by looking at a dummy regressor using the mean of our data. Then we can compare the performance with a simple linear regression model. This should provide us with a good starting point to build on with more sophisticated modeling techniques.\n",
    "\n",
    "In terms of scoring, we'll look at **mean absolute error** since this will render scores in the units of our target variable (i.e., USD). This will simplifiy model comparison by making the results more intuitive.\n",
    "\n",
    "To begin, we'll make the pipeline including the following steps:\n",
    "* preprocessor - created above to replace our categorical variables\n",
    "* regressor - to allow for passing in different regressor functions\n",
    "\n",
    "We will also create a scorer to calculate the mean absolute error for our cross validation result."
   ]
  },
  {
   "cell_type": "code",
   "execution_count": 20,
   "metadata": {},
   "outputs": [],
   "source": [
    "# Create scoring function\n",
    "mae_scorer = make_scorer(mean_absolute_error, greater_is_better=False)"
   ]
  },
  {
   "cell_type": "markdown",
   "metadata": {},
   "source": [
    "### 6.1 Dummy Regressor"
   ]
  },
  {
   "cell_type": "code",
   "execution_count": 21,
   "metadata": {},
   "outputs": [
    {
     "data": {
      "text/plain": [
       "1020.42"
      ]
     },
     "execution_count": 21,
     "metadata": {},
     "output_type": "execute_result"
    }
   ],
   "source": [
    "# Dummy regressor\n",
    "regressor = DummyRegressor(strategy = 'mean')\n",
    "\n",
    "# Make pipeline, cross validate and get results\n",
    "pipe = make_pipeline(preprocessor, regressor)\n",
    "cv_results = cross_validate(pipe, X_train, y_train, scoring=mae_scorer, cv=5)\n",
    "-1* (round(np.mean(cv_results['test_score']), 2))"
   ]
  },
  {
   "cell_type": "markdown",
   "metadata": {},
   "source": [
    "Looking at the results of the dummy regressor, we see that just using the mean value for our target leaves us with an mae of over 1000 which in this case, would translate to about \\$1000. Let's see if we can improve upon that by using a simple linear regression model.\n",
    "\n",
    "### 6.2 Simple Linear Regression Model"
   ]
  },
  {
   "cell_type": "code",
   "execution_count": 22,
   "metadata": {},
   "outputs": [
    {
     "data": {
      "text/plain": [
       "931.4"
      ]
     },
     "execution_count": 22,
     "metadata": {},
     "output_type": "execute_result"
    }
   ],
   "source": [
    "# Linear regression\n",
    "regressor = LinearRegression()\n",
    "\n",
    "# Make pipeline, cross validate and get results\n",
    "pipe = make_pipeline(preprocessor, regressor)\n",
    "cv_results = cross_validate(pipe, X_train, y_train, scoring=mae_scorer, cv=5)\n",
    "-1 * (round(np.mean(cv_results['test_score']), 2))"
   ]
  },
  {
   "cell_type": "markdown",
   "metadata": {},
   "source": [
    "Nice... by simply utilizing a basic linear regression model with no tuning, we've already improved upon simply using the mean value for our predictions. The mae is still relatively high, but if we were to stop here, this would translate to an improvement of **~\\$90**, or roughly **9% better than baseline**.\n",
    "\n",
    "As a next step, let's see if we can improve on our results by adding feature selection to our model. To do this, we'll use the 'SelectKBest' method to help us determine the best number of features for our model. "
   ]
  },
  {
   "cell_type": "markdown",
   "metadata": {},
   "source": [
    "### 6.3 Linear Regression with Feature Selection"
   ]
  },
  {
   "cell_type": "code",
   "execution_count": 23,
   "metadata": {},
   "outputs": [
    {
     "data": {
      "text/plain": [
       "930.35"
      ]
     },
     "execution_count": 23,
     "metadata": {},
     "output_type": "execute_result"
    }
   ],
   "source": [
    "# Select K best features (default)\n",
    "select_k_best = SelectKBest(f_regression)\n",
    "\n",
    "# Make pipeline, cross validate and get results\n",
    "pipe = make_pipeline(preprocessor, select_k_best, regressor)\n",
    "cv_results = cross_validate(pipe, X_train, y_train, scoring=mae_scorer, cv=5)\n",
    "-1 * round(np.mean(cv_results['test_score']), 2)"
   ]
  },
  {
   "cell_type": "markdown",
   "metadata": {},
   "source": [
    "As seen above, using the default value for k (i.e., 10) shows only a modest improvement over our linear regression model without feature selection. Given that our data includes 91 features, it's possible 10 is not the best value for k though. \n",
    "\n",
    "As a next step, let's cycle through a few different possible k values and then plot the results to see how the scores change with each value of k. We'll start with a broad range of k values to get a feel for the point at which adding more features no longer improves model performance. Then we can drill in to try and pin point the best k value.\n",
    "\n",
    "#### 6.3.1 Evaluate k Values - Broad Range\n",
    "As a starting point, we'll build a couple of helper functions to make future evaluations simpler. The first function will be used to instantiate and fit a grid search model and the second function will allow us to collect the grid search scores and plot the results."
   ]
  },
  {
   "cell_type": "code",
   "execution_count": 24,
   "metadata": {},
   "outputs": [],
   "source": [
    "# Create a function to get results based on a range of k values\n",
    "def evaluate_k_values(k, X, y):\n",
    "    # Create grid parameters for our grid search\n",
    "    grid_params = {'selectkbest__k': k}\n",
    "\n",
    "    # Create our grid search model\n",
    "    lr_grid_cv = GridSearchCV(pipe, param_grid=grid_params, scoring=mae_scorer, cv=5, n_jobs=-1)\n",
    "\n",
    "    # Fit the training data\n",
    "    lr_grid_cv.fit(X, y)\n",
    "    \n",
    "    return lr_grid_cv"
   ]
  },
  {
   "cell_type": "code",
   "execution_count": 25,
   "metadata": {},
   "outputs": [],
   "source": [
    "# Create function to get cv scores and plot results\n",
    "def get_score_and_plot(cv_results, best_params):\n",
    "    \n",
    "    # Print best 'k'\n",
    "    print(lr_grid_cv.best_params_)\n",
    "    \n",
    "    # Get cv_score mean, std and k value\n",
    "    score_mean = [mean for mean in cv_results['mean_test_score']]\n",
    "    score_std = [std for std in cv_results['std_test_score']]\n",
    "    cv_k = [k for k in cv_results['param_selectkbest__k']]\n",
    "    \n",
    "    # Get best k and plot the results\n",
    "    best_k = best_params['selectkbest__k']\n",
    "    plt.subplots(figsize=(10, 5))\n",
    "    plt.errorbar(cv_k, score_mean, yerr=score_std) \n",
    "    plt.axvline(x=best_k, c='r', ls='--', alpha=.5)\n",
    "    plt.xlabel('k')\n",
    "    plt.ylabel('CV score (mae)')\n",
    "    plt.title('Pipeline mean');\n",
    "    "
   ]
  },
  {
   "cell_type": "code",
   "execution_count": 26,
   "metadata": {},
   "outputs": [
    {
     "data": {
      "text/plain": [
       "GridSearchCV(cv=5,\n",
       "             estimator=Pipeline(steps=[('columntransformer',\n",
       "                                        ColumnTransformer(remainder='passthrough',\n",
       "                                                          transformers=[('onehotencoder',\n",
       "                                                                         OneHotEncoder(drop='if_binary'),\n",
       "                                                                         ['Species',\n",
       "                                                                          'Breed'])])),\n",
       "                                       ('selectkbest',\n",
       "                                        SelectKBest(score_func=<function f_regression at 0x7f97d95cd940>)),\n",
       "                                       ('linearregression',\n",
       "                                        LinearRegression())]),\n",
       "             n_jobs=-1, param_grid={'selectkbest__k': [1, 10, 20, 30, 40, 50]},\n",
       "             scoring=make_scorer(mean_absolute_error, greater_is_better=False))"
      ]
     },
     "execution_count": 26,
     "metadata": {},
     "output_type": "execute_result"
    }
   ],
   "source": [
    "# Create a list of potential k values and perform a grid search\n",
    "k = [1, 10, 20, 30, 40, 50]\n",
    "lr_grid_cv = evaluate_k_values(k, X_train, y_train)\n",
    "lr_grid_cv"
   ]
  },
  {
   "cell_type": "code",
   "execution_count": 27,
   "metadata": {},
   "outputs": [
    {
     "name": "stdout",
     "output_type": "stream",
     "text": [
      "{'selectkbest__k': 10}\n"
     ]
    },
    {
     "data": {
      "image/png": "[encoded data removed]",
      "text/plain": [
       "<Figure size 720x360 with 1 Axes>"
      ]
     },
     "metadata": {
      "needs_background": "light"
     },
     "output_type": "display_data"
    }
   ],
   "source": [
    "get_score_and_plot(lr_grid_cv.cv_results_, lr_grid_cv.best_params_)"
   ]
  },
  {
   "cell_type": "markdown",
   "metadata": {},
   "source": [
    "So as luck would have it, the best k from this initial attempt is identical to the default k value, 10. In fact, it looks like once we get to 10, the graph goes completely flat. Let's take another look at k values leading up to 10 to see if a smaller number of features performs just as well.\n",
    "\n",
    "#### 6.3.2 Evaluate k Values - Refined Range"
   ]
  },
  {
   "cell_type": "code",
   "execution_count": 28,
   "metadata": {},
   "outputs": [
    {
     "data": {
      "text/plain": [
       "GridSearchCV(cv=5,\n",
       "             estimator=Pipeline(steps=[('columntransformer',\n",
       "                                        ColumnTransformer(remainder='passthrough',\n",
       "                                                          transformers=[('onehotencoder',\n",
       "                                                                         OneHotEncoder(drop='if_binary'),\n",
       "                                                                         ['Species',\n",
       "                                                                          'Breed'])])),\n",
       "                                       ('selectkbest',\n",
       "                                        SelectKBest(score_func=<function f_regression at 0x7f97d95cd940>)),\n",
       "                                       ('linearregression',\n",
       "                                        LinearRegression())]),\n",
       "             n_jobs=-1,\n",
       "             param_grid={'selectkbest__k': [1, 2, 3, 4, 5, 6, 7, 8, 9, 10]},\n",
       "             scoring=make_scorer(mean_absolute_error, greater_is_better=False))"
      ]
     },
     "execution_count": 28,
     "metadata": {},
     "output_type": "execute_result"
    }
   ],
   "source": [
    "# Create a list of potential k values and perform a grid search\n",
    "k = [1, 2, 3, 4, 5, 6, 7, 8, 9, 10]\n",
    "lr_grid_cv = evaluate_k_values(k, X_train, y_train)\n",
    "lr_grid_cv"
   ]
  },
  {
   "cell_type": "code",
   "execution_count": 29,
   "metadata": {},
   "outputs": [
    {
     "name": "stdout",
     "output_type": "stream",
     "text": [
      "{'selectkbest__k': 9}\n"
     ]
    },
    {
     "data": {
      "image/png": "[encoded data removed]",
      "text/plain": [
       "<Figure size 720x360 with 1 Axes>"
      ]
     },
     "metadata": {
      "needs_background": "light"
     },
     "output_type": "display_data"
    }
   ],
   "source": [
    "get_score_and_plot(lr_grid_cv.cv_results_, lr_grid_cv.best_params_)"
   ]
  },
  {
   "cell_type": "markdown",
   "metadata": {},
   "source": [
    "The best reported k value in this scenario is 9. Based on the plot above though, it looks like the plot flattens out at 8 and any additional improvement is very small. "
   ]
  },
  {
   "cell_type": "markdown",
   "metadata": {},
   "source": [
    "#### 6.3.3 Review Best Features\n",
    "Now that we have a more refined value for k, we can use that value and the results from our cross validation above to pull a list of the most important features.\n",
    "\n",
    "First, we'll select the features based on the best k along with the coefficient values for each. Then we'll get a list of feature names after our preprocessing step. Finally, we'll pull it all together into a format we can evaluate.\n",
    "\n",
    "# Is there a better way to do this?"
   ]
  },
  {
   "cell_type": "code",
   "execution_count": 30,
   "metadata": {
    "scrolled": true
   },
   "outputs": [],
   "source": [
    "# Create a function to generate the list of best features\n",
    "def get_best_features(lr_grid_cv, original_features, categorical_features):\n",
    "    \n",
    "    # Get the selected features using the best estimator\n",
    "    selected = lr_grid_cv.best_estimator_.named_steps.selectkbest.get_support()\n",
    "\n",
    "    # Get the coefs for the selected features\n",
    "    coefs = lr_grid_cv.best_estimator_.named_steps.linearregression.coef_\n",
    "\n",
    "    # Get the list of feature names after transformation\n",
    "    trans_feats = list(lr_grid_cv.best_estimator_.named_steps.columntransformer.\\\n",
    "                               transformers_[0][1].get_feature_names(categorical_features))\n",
    "    features = np.array(trans_feats + original_features) \n",
    "    \n",
    "    # Print the list of the features in order of importance\n",
    "    selected_features = features[selected]\n",
    "    best_feats = pd.Series(coefs, index=selected_features).sort_values(ascending=False)\n",
    "    \n",
    "    return best_feats"
   ]
  },
  {
   "cell_type": "code",
   "execution_count": 32,
   "metadata": {},
   "outputs": [
    {
     "data": {
      "text/plain": [
       "NumClaimsYr1            108.715670\n",
       "AgeYr1                   76.900192\n",
       "BreedAvgClaimAmt          2.047265\n",
       "AgeYr1AvgTotalClaims      0.276601\n",
       "BreedAvgTotalClaims       0.140303\n",
       "AmtClaimsYr1              0.126248\n",
       "AvgClaimsYr1             -0.098201\n",
       "AgeYr1AvgClaimAmt        -0.724293\n",
       "BreedAvgNumClaims       -32.415727\n",
       "dtype: float64"
      ]
     },
     "execution_count": 32,
     "metadata": {},
     "output_type": "execute_result"
    }
   ],
   "source": [
    "# Generate a list of the best features and associated coefs based on best 'k' value\n",
    "original_features = ['AgeYr1', 'YoungAge', 'AmtClaimsYr1', 'AvgClaimsYr1', 'NumClaimsYr1', 'BreedAvgTotalClaims',\n",
    "              'BreedAvgNumClaims', 'BreedAvgClaimAmt', 'AgeYr1AvgTotalClaims','AgeYr1AvgNumClaims',\n",
    "              'AgeYr1AvgClaimAmt']\n",
    "categorical_features = ['Species', 'Breed']\n",
    "\n",
    "get_best_features(lr_grid_cv, original_features, categorical_features)"
   ]
  },
  {
   "cell_type": "markdown",
   "metadata": {},
   "source": [
    "Looking at the list of the best features along with their coefficient values provides us with an idea of how much each feature is contributing to our overall model. In general, none of the selected features are suprising given that (other than AgeYr1), they are all related to claims in one way or another (i.e., number, amount, average) and our target is the year 2 claims amount.\n",
    "\n",
    "That said, a couple of points do stand out:\n",
    "* Two of the features - NumClaimsYr1 and AgeYr1 - appear to be significantly more important to the model than the rest of the features. It does seem logical that both of these features would make the list, but the extent to which they contribute to the model predictions over and above other features is tough to explain.\n",
    "* Species doesn't even register on our list of important features. This is surprising given the discrepencies we observed in EDA between cats and dogs.\n",
    "\n",
    "As a next step, let's see how our model performs if we limit it to the two most important features in our list above. Then, for the sake of curiousity, we can add in Species to see how this affects performance.\n",
    "\n",
    "## Confirm observations seem correct"
   ]
  },
  {
   "cell_type": "markdown",
   "metadata": {},
   "source": [
    "### 6.4 Simple Model with Two Best Features"
   ]
  },
  {
   "cell_type": "code",
   "execution_count": 33,
   "metadata": {},
   "outputs": [],
   "source": [
    "# Create a new, simplified dataframe with the two best features and target\n",
    "pets_new = pets[['NumClaimsYr1', 'AgeYr1', 'AmtClaimsYr2']]\n",
    "\n",
    "# Split out target and features\n",
    "y_new = pets_new[\"AmtClaimsYr2\"].values\n",
    "X_new = pets_new.drop(columns=\"AmtClaimsYr2\")\n",
    "\n",
    "# Split the data into train and test sets\n",
    "X_train_new, X_test_new, y_train_new, y_test_new = train_test_split(X_new, y_new, test_size=0.2, random_state=23)"
   ]
  },
  {
   "cell_type": "code",
   "execution_count": 34,
   "metadata": {},
   "outputs": [
    {
     "name": "stdout",
     "output_type": "stream",
     "text": [
      "(40000, 2)\n",
      "(10000, 2)\n",
      "(40000,)\n",
      "(10000,)\n"
     ]
    }
   ],
   "source": [
    "# Confirm the shape of train and test sets\n",
    "print(X_train_new.shape)\n",
    "print(X_test_new.shape)\n",
    "print(y_train_new.shape)\n",
    "print(y_test_new.shape)"
   ]
  },
  {
   "cell_type": "code",
   "execution_count": 35,
   "metadata": {},
   "outputs": [
    {
     "data": {
      "text/plain": [
       "926.37"
      ]
     },
     "execution_count": 35,
     "metadata": {},
     "output_type": "execute_result"
    }
   ],
   "source": [
    "# Instantiate a linear regression model\n",
    "regressor = LinearRegression()\n",
    "\n",
    "# Make pipeline, cross validate and print results\n",
    "pipe = make_pipeline(regressor)\n",
    "cv_results = cross_validate(pipe, X_train_new, y_train_new, scoring=mae_scorer, cv=5)\n",
    "-1 * round(np.mean(cv_results['test_score']), 2)"
   ]
  },
  {
   "cell_type": "markdown",
   "metadata": {},
   "source": [
    "# Add observations - slightly better with two best features"
   ]
  },
  {
   "cell_type": "markdown",
   "metadata": {},
   "source": [
    "### 6.5 Simple Model with Two Best Features + Species"
   ]
  },
  {
   "cell_type": "code",
   "execution_count": 36,
   "metadata": {},
   "outputs": [],
   "source": [
    "# Create a new, simplified dataframe with the two best features (plus Species) and target\n",
    "pets_new = pets[['NumClaimsYr1', 'AgeYr1', 'Species', 'AmtClaimsYr2']]\n",
    "\n",
    "# Split out target and features\n",
    "y_new = pets_new[\"AmtClaimsYr2\"].values\n",
    "X_new = pets_new.drop(columns=\"AmtClaimsYr2\")\n",
    "\n",
    "# Split the data into train and test sets\n",
    "X_train_new, X_test_new, y_train_new, y_test_new = train_test_split(X_new, y_new, test_size=0.2, random_state=23)"
   ]
  },
  {
   "cell_type": "code",
   "execution_count": 37,
   "metadata": {},
   "outputs": [
    {
     "name": "stdout",
     "output_type": "stream",
     "text": [
      "(40000, 3)\n",
      "(10000, 3)\n",
      "(40000,)\n",
      "(10000,)\n"
     ]
    }
   ],
   "source": [
    "# Confirm the shape of train and test sets\n",
    "print(X_train_new.shape)\n",
    "print(X_test_new.shape)\n",
    "print(y_train_new.shape)\n",
    "print(y_test_new.shape)"
   ]
  },
  {
   "cell_type": "code",
   "execution_count": 38,
   "metadata": {},
   "outputs": [
    {
     "data": {
      "text/plain": [
       "923.92"
      ]
     },
     "execution_count": 38,
     "metadata": {},
     "output_type": "execute_result"
    }
   ],
   "source": [
    "# Create a preprocessor to encode the categorical columns\n",
    "preprocessor = make_column_transformer(\n",
    "    (OneHotEncoder(drop='if_binary'), ['Species']),\n",
    "    remainder='passthrough'\n",
    ")\n",
    "\n",
    "# Instantiate a linear regression model\n",
    "regressor = LinearRegression()\n",
    "\n",
    "# Make pipeline, cross validate and print results\n",
    "pipe = make_pipeline(preprocessor, regressor)\n",
    "cv_results = cross_validate(pipe, X_train_new, y_train_new, scoring=mae_scorer, cv=5)\n",
    "-1 * round(np.mean(cv_results['test_score']), 2)"
   ]
  },
  {
   "cell_type": "markdown",
   "metadata": {},
   "source": [
    "### Test with original dataframe prior to feature engineering"
   ]
  },
  {
   "cell_type": "code",
   "execution_count": 39,
   "metadata": {},
   "outputs": [],
   "source": [
    "# Split out target and features\n",
    "y_new = pets['AmtClaimsYr2'].values\n",
    "X_new = pets.drop(columns=['AmtClaimsYr2'])\n",
    "\n",
    "# Split the data into train and test sets\n",
    "X_train_new, X_test_new, y_train_new, y_test_new = train_test_split(X_new, y_new, test_size=0.2, random_state=23)"
   ]
  },
  {
   "cell_type": "code",
   "execution_count": 40,
   "metadata": {},
   "outputs": [
    {
     "name": "stdout",
     "output_type": "stream",
     "text": [
      "(40000, 7)\n",
      "(10000, 7)\n",
      "(40000,)\n",
      "(10000,)\n"
     ]
    }
   ],
   "source": [
    "# Confirm the shape of train and test sets\n",
    "print(X_train_new.shape)\n",
    "print(X_test_new.shape)\n",
    "print(y_train_new.shape)\n",
    "print(y_test_new.shape)"
   ]
  },
  {
   "cell_type": "code",
   "execution_count": 41,
   "metadata": {},
   "outputs": [
    {
     "data": {
      "text/plain": [
       "917.35"
      ]
     },
     "execution_count": 41,
     "metadata": {},
     "output_type": "execute_result"
    }
   ],
   "source": [
    "# Create a preprocessor to encode the categorical columns\n",
    "preprocessor = make_column_transformer(\n",
    "    (OneHotEncoder(drop='if_binary'), ['Species', 'Breed']),\n",
    "    remainder='passthrough'\n",
    ")\n",
    "\n",
    "# Instantiate a linear regression model\n",
    "regressor = LinearRegression()\n",
    "\n",
    "# Make pipeline, cross validate and print results\n",
    "pipe = make_pipeline(preprocessor, regressor)\n",
    "cv_results = cross_validate(pipe, X_train_new, y_train_new, scoring=mae_scorer, cv=5)\n",
    "-1 * round(np.mean(cv_results['test_score']), 2)"
   ]
  },
  {
   "cell_type": "markdown",
   "metadata": {},
   "source": [
    "### 6.3 Linear Regression with Feature Selection"
   ]
  },
  {
   "cell_type": "code",
   "execution_count": 42,
   "metadata": {},
   "outputs": [
    {
     "data": {
      "text/plain": [
       "918.67"
      ]
     },
     "execution_count": 42,
     "metadata": {},
     "output_type": "execute_result"
    }
   ],
   "source": [
    "# Make pipeline and get results\n",
    "pipe = make_pipeline(preprocessor, select_k_best, regressor)\n",
    "cv_results = cross_validate(pipe, X_train_new, y_train_new, scoring=mae_scorer, cv=5)\n",
    "-1 * round(np.mean(cv_results['test_score']), 2)"
   ]
  },
  {
   "cell_type": "markdown",
   "metadata": {},
   "source": [
    "As seen above, using the default value for k (i.e., 10) shows only a modest improvement over our linear regression model without feature selection. Given that our data includes 91 features, it's possible 10 is not the best value for k though. \n",
    "\n",
    "As a next step, let's cycle through a few different possible k values and then plot the results to see how the scores change with each value of k. We'll start with a broad range of k values to get a feel for the point at which adding more features no longer improves model performance. Then we can drill in to try and pin point the best k value.\n",
    "\n",
    "#### 6.3.1 Evaluate k Values - Broad Range"
   ]
  },
  {
   "cell_type": "code",
   "execution_count": 43,
   "metadata": {},
   "outputs": [
    {
     "data": {
      "text/plain": [
       "GridSearchCV(cv=5,\n",
       "             estimator=Pipeline(steps=[('columntransformer',\n",
       "                                        ColumnTransformer(remainder='passthrough',\n",
       "                                                          transformers=[('onehotencoder',\n",
       "                                                                         OneHotEncoder(drop='if_binary'),\n",
       "                                                                         ['Species',\n",
       "                                                                          'Breed'])])),\n",
       "                                       ('selectkbest',\n",
       "                                        SelectKBest(score_func=<function f_regression at 0x7f97d95cd940>)),\n",
       "                                       ('linearregression',\n",
       "                                        LinearRegression())]),\n",
       "             n_jobs=-1, param_grid={'selectkbest__k': [1, 10, 20, 30, 40, 50]},\n",
       "             scoring=make_scorer(mean_absolute_error, greater_is_better=False))"
      ]
     },
     "execution_count": 43,
     "metadata": {},
     "output_type": "execute_result"
    }
   ],
   "source": [
    "# Create a list of potential k values and perform a grid search\n",
    "k = [1, 10, 20, 30, 40, 50]\n",
    "lr_grid_cv = evaluate_k_values(k, X_train_new, y_train_new)\n",
    "lr_grid_cv"
   ]
  },
  {
   "cell_type": "code",
   "execution_count": 44,
   "metadata": {},
   "outputs": [
    {
     "name": "stdout",
     "output_type": "stream",
     "text": [
      "{'selectkbest__k': 40}\n"
     ]
    },
    {
     "data": {
      "image/png": "[encoded data removed]",
      "text/plain": [
       "<Figure size 720x360 with 1 Axes>"
      ]
     },
     "metadata": {
      "needs_background": "light"
     },
     "output_type": "display_data"
    }
   ],
   "source": [
    "get_score_and_plot(lr_grid_cv.cv_results_, lr_grid_cv.best_params_)"
   ]
  },
  {
   "cell_type": "markdown",
   "metadata": {},
   "source": [
    "#### 6.3.2 Evaluate k Values - Refined Range"
   ]
  },
  {
   "cell_type": "code",
   "execution_count": 45,
   "metadata": {},
   "outputs": [
    {
     "data": {
      "text/plain": [
       "GridSearchCV(cv=5,\n",
       "             estimator=Pipeline(steps=[('columntransformer',\n",
       "                                        ColumnTransformer(remainder='passthrough',\n",
       "                                                          transformers=[('onehotencoder',\n",
       "                                                                         OneHotEncoder(drop='if_binary'),\n",
       "                                                                         ['Species',\n",
       "                                                                          'Breed'])])),\n",
       "                                       ('selectkbest',\n",
       "                                        SelectKBest(score_func=<function f_regression at 0x7f97d95cd940>)),\n",
       "                                       ('linearregression',\n",
       "                                        LinearRegression())]),\n",
       "             n_jobs=-1,\n",
       "             param_grid={'selectkbest__k': [35, 37, 39, 40, 41, 43, 45]},\n",
       "             scoring=make_scorer(mean_absolute_error, greater_is_better=False))"
      ]
     },
     "execution_count": 45,
     "metadata": {},
     "output_type": "execute_result"
    }
   ],
   "source": [
    "# Create a list of potential k values and perform a grid search\n",
    "k = [35, 37, 39, 40, 41, 43, 45]\n",
    "lr_grid_cv = evaluate_k_values(k, X_train_new, y_train_new)\n",
    "lr_grid_cv"
   ]
  },
  {
   "cell_type": "code",
   "execution_count": 46,
   "metadata": {},
   "outputs": [
    {
     "name": "stdout",
     "output_type": "stream",
     "text": [
      "{'selectkbest__k': 40}\n"
     ]
    },
    {
     "data": {
      "image/png": "[encoded data removed]",
      "text/plain": [
       "<Figure size 720x360 with 1 Axes>"
      ]
     },
     "metadata": {
      "needs_background": "light"
     },
     "output_type": "display_data"
    }
   ],
   "source": [
    "get_score_and_plot(lr_grid_cv.cv_results_, lr_grid_cv.best_params_)"
   ]
  },
  {
   "cell_type": "markdown",
   "metadata": {},
   "source": [
    "#### 6.3.3 Review Best Features"
   ]
  },
  {
   "cell_type": "code",
   "execution_count": 47,
   "metadata": {},
   "outputs": [
    {
     "data": {
      "text/plain": [
       "Breed_Olde English Bulldog                 1106.301077\n",
       "Breed_Maine Coon                            732.539353\n",
       "Breed_English Bulldog                       704.500939\n",
       "Breed_Great Dane                            647.922483\n",
       "Breed_Doberman Pinscher                     566.524180\n",
       "Breed_American Pitbull Terrier              461.680963\n",
       "Breed_French Bulldog                        385.198225\n",
       "Breed_Newfoundland                          368.125938\n",
       "Breed_Mixed Breed Giant                     364.702467\n",
       "Breed_Labrador Retriever                    314.408207\n",
       "Breed_Bernese Mountain Dog                  296.223603\n",
       "Breed_Bichon Frise                          241.518993\n",
       "Breed_Pug                                   212.719721\n",
       "Breed_Mixed Breed Unknown                   144.761242\n",
       "Breed_German Shepherd                       132.442829\n",
       "Breed_Other Dog                             131.589384\n",
       "NumClaimsYr1                                105.998010\n",
       "AgeYr1                                       67.899833\n",
       "Breed_Mixed Breed Large                      67.735955\n",
       "Species_Dog                                  33.234513\n",
       "AmtClaimsYr1                                  0.130424\n",
       "AvgClaimsYr1                                 -0.098096\n",
       "Breed_Havanese                             -110.718537\n",
       "Breed_Mixed Breed Small                    -113.292403\n",
       "Breed_Miniature Schnauzer                  -125.355186\n",
       "Breed_Mixed Breed                          -143.654433\n",
       "Breed_Labradoodle                          -147.716769\n",
       "Breed_Other Cat                            -149.171135\n",
       "Breed_Goldendoodle                         -153.873048\n",
       "Breed_Miniature Smooth Haired Dachshund    -171.002568\n",
       "Breed_Domestic Mediumhair                  -179.907721\n",
       "Breed_Domestic Shorthair                   -180.267461\n",
       "Breed_Maltipoo                             -195.674307\n",
       "Breed_Chihuahua                            -202.689283\n",
       "Breed_Australian Labradoodle               -205.767050\n",
       "Breed_Shih Tzu                             -205.844292\n",
       "Breed_Border Collie                        -227.664013\n",
       "Breed_Siamese                              -244.164697\n",
       "Breed_Miniature Goldendoodle               -269.403813\n",
       "Breed_American Shorthair                   -340.902158\n",
       "dtype: float64"
      ]
     },
     "execution_count": 47,
     "metadata": {},
     "output_type": "execute_result"
    }
   ],
   "source": [
    "# Generate a list of the best features and associated coefs based on best 'k' value\n",
    "original_features = ['AgeYr1', 'YoungAge', 'AmtClaimsYr1', 'AvgClaimsYr1', 'NumClaimsYr1']\n",
    "categorical_features = ['Species', 'Breed']\n",
    "\n",
    "get_best_features(lr_grid_cv, original_features, categorical_features)"
   ]
  },
  {
   "cell_type": "markdown",
   "metadata": {},
   "source": [
    "# Test with adding PetAge stats"
   ]
  },
  {
   "cell_type": "code",
   "execution_count": 48,
   "metadata": {},
   "outputs": [
    {
     "data": {
      "text/html": [
       "<div>\n",
       "<style scoped>\n",
       "    .dataframe tbody tr th:only-of-type {\n",
       "        vertical-align: middle;\n",
       "    }\n",
       "\n",
       "    .dataframe tbody tr th {\n",
       "        vertical-align: top;\n",
       "    }\n",
       "\n",
       "    .dataframe thead th {\n",
       "        text-align: right;\n",
       "    }\n",
       "</style>\n",
       "<table border=\"1\" class=\"dataframe\">\n",
       "  <thead>\n",
       "    <tr style=\"text-align: right;\">\n",
       "      <th></th>\n",
       "      <th>0</th>\n",
       "      <th>1</th>\n",
       "      <th>2</th>\n",
       "      <th>3</th>\n",
       "      <th>4</th>\n",
       "      <th>5</th>\n",
       "      <th>6</th>\n",
       "      <th>7</th>\n",
       "    </tr>\n",
       "  </thead>\n",
       "  <tbody>\n",
       "    <tr>\n",
       "      <th>Species</th>\n",
       "      <td>Dog</td>\n",
       "      <td>Cat</td>\n",
       "      <td>Dog</td>\n",
       "      <td>Dog</td>\n",
       "      <td>Dog</td>\n",
       "      <td>Dog</td>\n",
       "      <td>Dog</td>\n",
       "      <td>Cat</td>\n",
       "    </tr>\n",
       "    <tr>\n",
       "      <th>Breed</th>\n",
       "      <td>Shih Tzu</td>\n",
       "      <td>Domestic Shorthair</td>\n",
       "      <td>Mixed Breed Medium</td>\n",
       "      <td>Other Dog</td>\n",
       "      <td>English Bulldog</td>\n",
       "      <td>Mixed Breed Medium</td>\n",
       "      <td>Miniature Australian Shepherd</td>\n",
       "      <td>Domestic Longhair</td>\n",
       "    </tr>\n",
       "    <tr>\n",
       "      <th>AgeYr1</th>\n",
       "      <td>0</td>\n",
       "      <td>1</td>\n",
       "      <td>0</td>\n",
       "      <td>0</td>\n",
       "      <td>0</td>\n",
       "      <td>0</td>\n",
       "      <td>0</td>\n",
       "      <td>2</td>\n",
       "    </tr>\n",
       "    <tr>\n",
       "      <th>YoungAge</th>\n",
       "      <td>0</td>\n",
       "      <td>0</td>\n",
       "      <td>0</td>\n",
       "      <td>0</td>\n",
       "      <td>0</td>\n",
       "      <td>0</td>\n",
       "      <td>0</td>\n",
       "      <td>0</td>\n",
       "    </tr>\n",
       "    <tr>\n",
       "      <th>AmtClaimsYr1</th>\n",
       "      <td>980.58</td>\n",
       "      <td>0.0</td>\n",
       "      <td>0.0</td>\n",
       "      <td>0.0</td>\n",
       "      <td>4668.88</td>\n",
       "      <td>155.5</td>\n",
       "      <td>0.0</td>\n",
       "      <td>0.0</td>\n",
       "    </tr>\n",
       "    <tr>\n",
       "      <th>AvgClaimsYr1</th>\n",
       "      <td>980.58</td>\n",
       "      <td>0.0</td>\n",
       "      <td>0.0</td>\n",
       "      <td>0.0</td>\n",
       "      <td>933.776</td>\n",
       "      <td>155.5</td>\n",
       "      <td>0.0</td>\n",
       "      <td>0.0</td>\n",
       "    </tr>\n",
       "    <tr>\n",
       "      <th>NumClaimsYr1</th>\n",
       "      <td>1</td>\n",
       "      <td>0</td>\n",
       "      <td>0</td>\n",
       "      <td>0</td>\n",
       "      <td>5</td>\n",
       "      <td>1</td>\n",
       "      <td>0</td>\n",
       "      <td>0</td>\n",
       "    </tr>\n",
       "    <tr>\n",
       "      <th>AgeYr1AvgTotalClaims</th>\n",
       "      <td>902.942389</td>\n",
       "      <td>400.833989</td>\n",
       "      <td>902.942389</td>\n",
       "      <td>902.942389</td>\n",
       "      <td>902.942389</td>\n",
       "      <td>902.942389</td>\n",
       "      <td>902.942389</td>\n",
       "      <td>323.859775</td>\n",
       "    </tr>\n",
       "    <tr>\n",
       "      <th>AgeYr1AvgNumClaims</th>\n",
       "      <td>2.002704</td>\n",
       "      <td>0.742021</td>\n",
       "      <td>2.002704</td>\n",
       "      <td>2.002704</td>\n",
       "      <td>2.002704</td>\n",
       "      <td>2.002704</td>\n",
       "      <td>2.002704</td>\n",
       "      <td>0.570191</td>\n",
       "    </tr>\n",
       "    <tr>\n",
       "      <th>AgeYr1AvgClaimAmt</th>\n",
       "      <td>234.275301</td>\n",
       "      <td>157.715909</td>\n",
       "      <td>234.275301</td>\n",
       "      <td>234.275301</td>\n",
       "      <td>234.275301</td>\n",
       "      <td>234.275301</td>\n",
       "      <td>234.275301</td>\n",
       "      <td>136.636061</td>\n",
       "    </tr>\n",
       "  </tbody>\n",
       "</table>\n",
       "</div>"
      ],
      "text/plain": [
       "                               0                   1                   2  \\\n",
       "Species                      Dog                 Cat                 Dog   \n",
       "Breed                   Shih Tzu  Domestic Shorthair  Mixed Breed Medium   \n",
       "AgeYr1                         0                   1                   0   \n",
       "YoungAge                       0                   0                   0   \n",
       "AmtClaimsYr1              980.58                 0.0                 0.0   \n",
       "AvgClaimsYr1              980.58                 0.0                 0.0   \n",
       "NumClaimsYr1                   1                   0                   0   \n",
       "AgeYr1AvgTotalClaims  902.942389          400.833989          902.942389   \n",
       "AgeYr1AvgNumClaims      2.002704            0.742021            2.002704   \n",
       "AgeYr1AvgClaimAmt     234.275301          157.715909          234.275301   \n",
       "\n",
       "                               3                4                   5  \\\n",
       "Species                      Dog              Dog                 Dog   \n",
       "Breed                  Other Dog  English Bulldog  Mixed Breed Medium   \n",
       "AgeYr1                         0                0                   0   \n",
       "YoungAge                       0                0                   0   \n",
       "AmtClaimsYr1                 0.0          4668.88               155.5   \n",
       "AvgClaimsYr1                 0.0          933.776               155.5   \n",
       "NumClaimsYr1                   0                5                   1   \n",
       "AgeYr1AvgTotalClaims  902.942389       902.942389          902.942389   \n",
       "AgeYr1AvgNumClaims      2.002704         2.002704            2.002704   \n",
       "AgeYr1AvgClaimAmt     234.275301       234.275301          234.275301   \n",
       "\n",
       "                                                  6                  7  \n",
       "Species                                         Dog                Cat  \n",
       "Breed                 Miniature Australian Shepherd  Domestic Longhair  \n",
       "AgeYr1                                            0                  2  \n",
       "YoungAge                                          0                  0  \n",
       "AmtClaimsYr1                                    0.0                0.0  \n",
       "AvgClaimsYr1                                    0.0                0.0  \n",
       "NumClaimsYr1                                      0                  0  \n",
       "AgeYr1AvgTotalClaims                     902.942389         323.859775  \n",
       "AgeYr1AvgNumClaims                         2.002704           0.570191  \n",
       "AgeYr1AvgClaimAmt                        234.275301         136.636061  "
      ]
     },
     "execution_count": 48,
     "metadata": {},
     "output_type": "execute_result"
    }
   ],
   "source": [
    "# Apply function to training and test data & preview result\n",
    "X_train_new = add_age_stats(X_train_new)\n",
    "X_test_new = add_age_stats(X_test_new)\n",
    "\n",
    "X_train_new.head(8).T"
   ]
  },
  {
   "cell_type": "code",
   "execution_count": 49,
   "metadata": {},
   "outputs": [
    {
     "data": {
      "text/plain": [
       "-919.55"
      ]
     },
     "execution_count": 49,
     "metadata": {},
     "output_type": "execute_result"
    }
   ],
   "source": [
    "# Make pipeline and get results\n",
    "pipe = make_pipeline(preprocessor, select_k_best, regressor)\n",
    "cv_results = cross_validate(pipe, X_train_new, y_train_new, scoring=mae_scorer, cv=5)\n",
    "round(np.mean(cv_results['test_score']), 2)"
   ]
  },
  {
   "cell_type": "code",
   "execution_count": 50,
   "metadata": {},
   "outputs": [
    {
     "data": {
      "text/plain": [
       "GridSearchCV(cv=5,\n",
       "             estimator=Pipeline(steps=[('columntransformer',\n",
       "                                        ColumnTransformer(remainder='passthrough',\n",
       "                                                          transformers=[('onehotencoder',\n",
       "                                                                         OneHotEncoder(drop='if_binary'),\n",
       "                                                                         ['Species',\n",
       "                                                                          'Breed'])])),\n",
       "                                       ('selectkbest',\n",
       "                                        SelectKBest(score_func=<function f_regression at 0x7f97d95cd940>)),\n",
       "                                       ('linearregression',\n",
       "                                        LinearRegression())]),\n",
       "             n_jobs=-1, param_grid={'selectkbest__k': [1, 10, 20, 30, 40, 50]},\n",
       "             scoring=make_scorer(mean_absolute_error, greater_is_better=False))"
      ]
     },
     "execution_count": 50,
     "metadata": {},
     "output_type": "execute_result"
    }
   ],
   "source": [
    "# Create a list of potential k values and perform a grid search\n",
    "k = [1, 10, 20, 30, 40, 50]\n",
    "lr_grid_cv = evaluate_k_values(k, X_train_new, y_train_new)\n",
    "lr_grid_cv"
   ]
  },
  {
   "cell_type": "code",
   "execution_count": 51,
   "metadata": {},
   "outputs": [
    {
     "name": "stdout",
     "output_type": "stream",
     "text": [
      "{'selectkbest__k': 40}\n"
     ]
    },
    {
     "data": {
      "image/png": "[encoded data removed]",
      "text/plain": [
       "<Figure size 720x360 with 1 Axes>"
      ]
     },
     "metadata": {
      "needs_background": "light"
     },
     "output_type": "display_data"
    }
   ],
   "source": [
    "get_score_and_plot(lr_grid_cv.cv_results_, lr_grid_cv.best_params_)"
   ]
  },
  {
   "cell_type": "code",
   "execution_count": 52,
   "metadata": {},
   "outputs": [
    {
     "data": {
      "text/plain": [
       "GridSearchCV(cv=5,\n",
       "             estimator=Pipeline(steps=[('columntransformer',\n",
       "                                        ColumnTransformer(remainder='passthrough',\n",
       "                                                          transformers=[('onehotencoder',\n",
       "                                                                         OneHotEncoder(drop='if_binary'),\n",
       "                                                                         ['Species',\n",
       "                                                                          'Breed'])])),\n",
       "                                       ('selectkbest',\n",
       "                                        SelectKBest(score_func=<function f_regression at 0x7f97d95cd940>)),\n",
       "                                       ('linearregression',\n",
       "                                        LinearRegression())]),\n",
       "             n_jobs=-1,\n",
       "             param_grid={'selectkbest__k': [39, 40, 41, 42, 43, 44, 45]},\n",
       "             scoring=make_scorer(mean_absolute_error, greater_is_better=False))"
      ]
     },
     "execution_count": 52,
     "metadata": {},
     "output_type": "execute_result"
    }
   ],
   "source": [
    "# Create a list of potential k values and perform a grid search\n",
    "k = [39, 40, 41, 42, 43, 44, 45]\n",
    "lr_grid_cv = evaluate_k_values(k, X_train_new, y_train_new)\n",
    "lr_grid_cv"
   ]
  },
  {
   "cell_type": "code",
   "execution_count": 53,
   "metadata": {},
   "outputs": [
    {
     "name": "stdout",
     "output_type": "stream",
     "text": [
      "{'selectkbest__k': 43}\n"
     ]
    },
    {
     "data": {
      "image/png": "[encoded data removed]",
      "text/plain": [
       "<Figure size 720x360 with 1 Axes>"
      ]
     },
     "metadata": {
      "needs_background": "light"
     },
     "output_type": "display_data"
    }
   ],
   "source": [
    "get_score_and_plot(lr_grid_cv.cv_results_, lr_grid_cv.best_params_)"
   ]
  },
  {
   "cell_type": "code",
   "execution_count": 56,
   "metadata": {},
   "outputs": [
    {
     "data": {
      "text/plain": [
       "-917.05"
      ]
     },
     "execution_count": 56,
     "metadata": {},
     "output_type": "execute_result"
    }
   ],
   "source": [
    "score_mean = [mean for mean in lr_grid_cv.cv_results_['mean_test_score']]\n",
    "round(score_mean[-3], 2)"
   ]
  },
  {
   "cell_type": "code",
   "execution_count": 57,
   "metadata": {},
   "outputs": [
    {
     "data": {
      "text/plain": [
       "Breed_Olde English Bulldog                 1107.813197\n",
       "Breed_Maine Coon                            731.894746\n",
       "Breed_English Bulldog                       698.877876\n",
       "Breed_Great Dane                            647.209220\n",
       "Breed_Doberman Pinscher                     567.241153\n",
       "Breed_American Pitbull Terrier              471.928002\n",
       "Breed_French Bulldog                        381.498188\n",
       "Breed_Mixed Breed Giant                     366.999509\n",
       "Breed_Newfoundland                          365.060822\n",
       "Breed_Labrador Retriever                    314.811135\n",
       "Breed_Bernese Mountain Dog                  292.464638\n",
       "Breed_Bichon Frise                          237.733826\n",
       "Breed_Pug                                   211.445978\n",
       "Breed_Mixed Breed Unknown                   144.773096\n",
       "Breed_German Shepherd                       134.683861\n",
       "Breed_Other Dog                             131.615435\n",
       "NumClaimsYr1                                105.386559\n",
       "Breed_Mixed Breed Large                      73.471330\n",
       "AgeYr1                                       69.097279\n",
       "AgeYr1AvgNumClaims                           47.322657\n",
       "AmtClaimsYr1                                  0.130710\n",
       "AgeYr1AvgTotalClaims                          0.068278\n",
       "AgeYr1AvgClaimAmt                             0.014794\n",
       "AvgClaimsYr1                                 -0.099259\n",
       "Species_Dog                                 -36.754156\n",
       "Breed_Mixed Breed Small                    -108.623431\n",
       "Breed_Havanese                             -113.861524\n",
       "Breed_Miniature Schnauzer                  -128.387940\n",
       "Breed_Mixed Breed                          -144.690485\n",
       "Breed_Other Cat                            -147.944380\n",
       "Breed_Labradoodle                          -154.414938\n",
       "Breed_Goldendoodle                         -160.193016\n",
       "Breed_Miniature Smooth Haired Dachshund    -171.102076\n",
       "Breed_Domestic Mediumhair                  -178.450952\n",
       "Breed_Domestic Shorthair                   -179.468588\n",
       "Breed_Maltipoo                             -198.664098\n",
       "Breed_Chihuahua                            -198.911066\n",
       "Breed_Shih Tzu                             -207.336356\n",
       "Breed_Australian Labradoodle               -214.697185\n",
       "Breed_Border Collie                        -229.391688\n",
       "Breed_Siamese                              -241.661856\n",
       "Breed_Miniature Goldendoodle               -276.433649\n",
       "Breed_American Shorthair                   -341.244701\n",
       "dtype: float64"
      ]
     },
     "execution_count": 57,
     "metadata": {},
     "output_type": "execute_result"
    }
   ],
   "source": [
    "# Generate a list of the best features and associated coefs based on best 'k' value\n",
    "original_features = ['AgeYr1', 'YoungAge', 'AmtClaimsYr1', 'AvgClaimsYr1', 'NumClaimsYr1', 'AgeYr1AvgTotalClaims',\n",
    "                     'AgeYr1AvgNumClaims', 'AgeYr1AvgClaimAmt']\n",
    "categorical_features = ['Species', 'Breed']\n",
    "\n",
    "get_best_features(lr_grid_cv, original_features, categorical_features)"
   ]
  },
  {
   "cell_type": "markdown",
   "metadata": {},
   "source": [
    "# Test adding Breed stats"
   ]
  },
  {
   "cell_type": "code",
   "execution_count": 58,
   "metadata": {},
   "outputs": [
    {
     "data": {
      "text/html": [
       "<div>\n",
       "<style scoped>\n",
       "    .dataframe tbody tr th:only-of-type {\n",
       "        vertical-align: middle;\n",
       "    }\n",
       "\n",
       "    .dataframe tbody tr th {\n",
       "        vertical-align: top;\n",
       "    }\n",
       "\n",
       "    .dataframe thead th {\n",
       "        text-align: right;\n",
       "    }\n",
       "</style>\n",
       "<table border=\"1\" class=\"dataframe\">\n",
       "  <thead>\n",
       "    <tr style=\"text-align: right;\">\n",
       "      <th></th>\n",
       "      <th>0</th>\n",
       "      <th>1</th>\n",
       "      <th>2</th>\n",
       "      <th>3</th>\n",
       "      <th>4</th>\n",
       "      <th>5</th>\n",
       "      <th>6</th>\n",
       "      <th>7</th>\n",
       "    </tr>\n",
       "  </thead>\n",
       "  <tbody>\n",
       "    <tr>\n",
       "      <th>Species</th>\n",
       "      <td>Dog</td>\n",
       "      <td>Cat</td>\n",
       "      <td>Dog</td>\n",
       "      <td>Dog</td>\n",
       "      <td>Dog</td>\n",
       "      <td>Dog</td>\n",
       "      <td>Dog</td>\n",
       "      <td>Cat</td>\n",
       "    </tr>\n",
       "    <tr>\n",
       "      <th>Breed</th>\n",
       "      <td>Shih Tzu</td>\n",
       "      <td>Domestic Shorthair</td>\n",
       "      <td>Mixed Breed Medium</td>\n",
       "      <td>Other Dog</td>\n",
       "      <td>English Bulldog</td>\n",
       "      <td>Mixed Breed Medium</td>\n",
       "      <td>Miniature Australian Shepherd</td>\n",
       "      <td>Domestic Longhair</td>\n",
       "    </tr>\n",
       "    <tr>\n",
       "      <th>AgeYr1</th>\n",
       "      <td>0</td>\n",
       "      <td>1</td>\n",
       "      <td>0</td>\n",
       "      <td>0</td>\n",
       "      <td>0</td>\n",
       "      <td>0</td>\n",
       "      <td>0</td>\n",
       "      <td>2</td>\n",
       "    </tr>\n",
       "    <tr>\n",
       "      <th>YoungAge</th>\n",
       "      <td>0</td>\n",
       "      <td>0</td>\n",
       "      <td>0</td>\n",
       "      <td>0</td>\n",
       "      <td>0</td>\n",
       "      <td>0</td>\n",
       "      <td>0</td>\n",
       "      <td>0</td>\n",
       "    </tr>\n",
       "    <tr>\n",
       "      <th>AmtClaimsYr1</th>\n",
       "      <td>980.58</td>\n",
       "      <td>0.0</td>\n",
       "      <td>0.0</td>\n",
       "      <td>0.0</td>\n",
       "      <td>4668.88</td>\n",
       "      <td>155.5</td>\n",
       "      <td>0.0</td>\n",
       "      <td>0.0</td>\n",
       "    </tr>\n",
       "    <tr>\n",
       "      <th>AvgClaimsYr1</th>\n",
       "      <td>980.58</td>\n",
       "      <td>0.0</td>\n",
       "      <td>0.0</td>\n",
       "      <td>0.0</td>\n",
       "      <td>933.776</td>\n",
       "      <td>155.5</td>\n",
       "      <td>0.0</td>\n",
       "      <td>0.0</td>\n",
       "    </tr>\n",
       "    <tr>\n",
       "      <th>NumClaimsYr1</th>\n",
       "      <td>1</td>\n",
       "      <td>0</td>\n",
       "      <td>0</td>\n",
       "      <td>0</td>\n",
       "      <td>5</td>\n",
       "      <td>1</td>\n",
       "      <td>0</td>\n",
       "      <td>0</td>\n",
       "    </tr>\n",
       "    <tr>\n",
       "      <th>AgeYr1AvgTotalClaims</th>\n",
       "      <td>902.942389</td>\n",
       "      <td>400.833989</td>\n",
       "      <td>902.942389</td>\n",
       "      <td>902.942389</td>\n",
       "      <td>902.942389</td>\n",
       "      <td>902.942389</td>\n",
       "      <td>902.942389</td>\n",
       "      <td>323.859775</td>\n",
       "    </tr>\n",
       "    <tr>\n",
       "      <th>AgeYr1AvgNumClaims</th>\n",
       "      <td>2.002704</td>\n",
       "      <td>0.742021</td>\n",
       "      <td>2.002704</td>\n",
       "      <td>2.002704</td>\n",
       "      <td>2.002704</td>\n",
       "      <td>2.002704</td>\n",
       "      <td>2.002704</td>\n",
       "      <td>0.570191</td>\n",
       "    </tr>\n",
       "    <tr>\n",
       "      <th>AgeYr1AvgClaimAmt</th>\n",
       "      <td>234.275301</td>\n",
       "      <td>157.715909</td>\n",
       "      <td>234.275301</td>\n",
       "      <td>234.275301</td>\n",
       "      <td>234.275301</td>\n",
       "      <td>234.275301</td>\n",
       "      <td>234.275301</td>\n",
       "      <td>136.636061</td>\n",
       "    </tr>\n",
       "    <tr>\n",
       "      <th>BreedAvgTotalClaims</th>\n",
       "      <td>655.17261</td>\n",
       "      <td>395.718466</td>\n",
       "      <td>783.681588</td>\n",
       "      <td>928.432685</td>\n",
       "      <td>2257.173351</td>\n",
       "      <td>783.681588</td>\n",
       "      <td>632.189414</td>\n",
       "      <td>695.421851</td>\n",
       "    </tr>\n",
       "    <tr>\n",
       "      <th>BreedAvgNumClaims</th>\n",
       "      <td>1.54026</td>\n",
       "      <td>0.871485</td>\n",
       "      <td>1.665502</td>\n",
       "      <td>1.896722</td>\n",
       "      <td>3.454545</td>\n",
       "      <td>1.665502</td>\n",
       "      <td>1.369369</td>\n",
       "      <td>1.071429</td>\n",
       "    </tr>\n",
       "    <tr>\n",
       "      <th>BreedAvgClaimAmt</th>\n",
       "      <td>189.892886</td>\n",
       "      <td>137.970879</td>\n",
       "      <td>218.696539</td>\n",
       "      <td>253.283799</td>\n",
       "      <td>470.914757</td>\n",
       "      <td>218.696539</td>\n",
       "      <td>209.17877</td>\n",
       "      <td>192.466624</td>\n",
       "    </tr>\n",
       "  </tbody>\n",
       "</table>\n",
       "</div>"
      ],
      "text/plain": [
       "                               0                   1                   2  \\\n",
       "Species                      Dog                 Cat                 Dog   \n",
       "Breed                   Shih Tzu  Domestic Shorthair  Mixed Breed Medium   \n",
       "AgeYr1                         0                   1                   0   \n",
       "YoungAge                       0                   0                   0   \n",
       "AmtClaimsYr1              980.58                 0.0                 0.0   \n",
       "AvgClaimsYr1              980.58                 0.0                 0.0   \n",
       "NumClaimsYr1                   1                   0                   0   \n",
       "AgeYr1AvgTotalClaims  902.942389          400.833989          902.942389   \n",
       "AgeYr1AvgNumClaims      2.002704            0.742021            2.002704   \n",
       "AgeYr1AvgClaimAmt     234.275301          157.715909          234.275301   \n",
       "BreedAvgTotalClaims    655.17261          395.718466          783.681588   \n",
       "BreedAvgNumClaims        1.54026            0.871485            1.665502   \n",
       "BreedAvgClaimAmt      189.892886          137.970879          218.696539   \n",
       "\n",
       "                               3                4                   5  \\\n",
       "Species                      Dog              Dog                 Dog   \n",
       "Breed                  Other Dog  English Bulldog  Mixed Breed Medium   \n",
       "AgeYr1                         0                0                   0   \n",
       "YoungAge                       0                0                   0   \n",
       "AmtClaimsYr1                 0.0          4668.88               155.5   \n",
       "AvgClaimsYr1                 0.0          933.776               155.5   \n",
       "NumClaimsYr1                   0                5                   1   \n",
       "AgeYr1AvgTotalClaims  902.942389       902.942389          902.942389   \n",
       "AgeYr1AvgNumClaims      2.002704         2.002704            2.002704   \n",
       "AgeYr1AvgClaimAmt     234.275301       234.275301          234.275301   \n",
       "BreedAvgTotalClaims   928.432685      2257.173351          783.681588   \n",
       "BreedAvgNumClaims       1.896722         3.454545            1.665502   \n",
       "BreedAvgClaimAmt      253.283799       470.914757          218.696539   \n",
       "\n",
       "                                                  6                  7  \n",
       "Species                                         Dog                Cat  \n",
       "Breed                 Miniature Australian Shepherd  Domestic Longhair  \n",
       "AgeYr1                                            0                  2  \n",
       "YoungAge                                          0                  0  \n",
       "AmtClaimsYr1                                    0.0                0.0  \n",
       "AvgClaimsYr1                                    0.0                0.0  \n",
       "NumClaimsYr1                                      0                  0  \n",
       "AgeYr1AvgTotalClaims                     902.942389         323.859775  \n",
       "AgeYr1AvgNumClaims                         2.002704           0.570191  \n",
       "AgeYr1AvgClaimAmt                        234.275301         136.636061  \n",
       "BreedAvgTotalClaims                      632.189414         695.421851  \n",
       "BreedAvgNumClaims                          1.369369           1.071429  \n",
       "BreedAvgClaimAmt                          209.17877         192.466624  "
      ]
     },
     "execution_count": 58,
     "metadata": {},
     "output_type": "execute_result"
    }
   ],
   "source": [
    "# Apply function to training and test data & preview result\n",
    "X_train_new = add_breed_stats(X_train_new)\n",
    "X_test_new = add_breed_stats(X_test_new)\n",
    "\n",
    "X_train_new.head(8).T"
   ]
  },
  {
   "cell_type": "code",
   "execution_count": 59,
   "metadata": {},
   "outputs": [
    {
     "data": {
      "text/plain": [
       "-916.75"
      ]
     },
     "execution_count": 59,
     "metadata": {},
     "output_type": "execute_result"
    }
   ],
   "source": [
    "# Select K best features (default)\n",
    "select_k_best = SelectKBest(f_regression)\n",
    "\n",
    "# Make pipeline and get results\n",
    "pipe = make_pipeline(preprocessor, select_k_best, regressor)\n",
    "cv_results = cross_validate(pipe, X_train_new, y_train_new, scoring=mae_scorer, cv=5)\n",
    "round(np.mean(cv_results['test_score']), 2)"
   ]
  },
  {
   "cell_type": "code",
   "execution_count": 60,
   "metadata": {},
   "outputs": [
    {
     "data": {
      "text/plain": [
       "GridSearchCV(cv=5,\n",
       "             estimator=Pipeline(steps=[('columntransformer',\n",
       "                                        ColumnTransformer(remainder='passthrough',\n",
       "                                                          transformers=[('onehotencoder',\n",
       "                                                                         OneHotEncoder(drop='if_binary'),\n",
       "                                                                         ['Species',\n",
       "                                                                          'Breed'])])),\n",
       "                                       ('selectkbest',\n",
       "                                        SelectKBest(score_func=<function f_regression at 0x7f97d95cd940>)),\n",
       "                                       ('linearregression',\n",
       "                                        LinearRegression())]),\n",
       "             n_jobs=-1, param_grid={'selectkbest__k': [1, 10, 20, 30, 40, 50]},\n",
       "             scoring=make_scorer(mean_absolute_error, greater_is_better=False))"
      ]
     },
     "execution_count": 60,
     "metadata": {},
     "output_type": "execute_result"
    }
   ],
   "source": [
    "# Create a list of potential k values and perform a grid search\n",
    "k = [1, 10, 20, 30, 40, 50]\n",
    "lr_grid_cv = evaluate_k_values(k, X_train_new, y_train_new)\n",
    "lr_grid_cv"
   ]
  },
  {
   "cell_type": "code",
   "execution_count": 61,
   "metadata": {},
   "outputs": [
    {
     "name": "stdout",
     "output_type": "stream",
     "text": [
      "{'selectkbest__k': 10}\n"
     ]
    },
    {
     "data": {
      "image/png": "[encoded data removed]",
      "text/plain": [
       "<Figure size 720x360 with 1 Axes>"
      ]
     },
     "metadata": {
      "needs_background": "light"
     },
     "output_type": "display_data"
    }
   ],
   "source": [
    "get_score_and_plot(lr_grid_cv.cv_results_, lr_grid_cv.best_params_)"
   ]
  },
  {
   "cell_type": "code",
   "execution_count": 62,
   "metadata": {},
   "outputs": [
    {
     "data": {
      "text/plain": [
       "GridSearchCV(cv=5,\n",
       "             estimator=Pipeline(steps=[('columntransformer',\n",
       "                                        ColumnTransformer(remainder='passthrough',\n",
       "                                                          transformers=[('onehotencoder',\n",
       "                                                                         OneHotEncoder(drop='if_binary'),\n",
       "                                                                         ['Species',\n",
       "                                                                          'Breed'])])),\n",
       "                                       ('selectkbest',\n",
       "                                        SelectKBest(score_func=<function f_regression at 0x7f97d95cd940>)),\n",
       "                                       ('linearregression',\n",
       "                                        LinearRegression())]),\n",
       "             n_jobs=-1, param_grid={'selectkbest__k': [8, 9, 10, 11, 12]},\n",
       "             scoring=make_scorer(mean_absolute_error, greater_is_better=False))"
      ]
     },
     "execution_count": 62,
     "metadata": {},
     "output_type": "execute_result"
    }
   ],
   "source": [
    "# Create a list of potential k values and perform a grid search\n",
    "k = [8, 9, 10, 11, 12]\n",
    "lr_grid_cv = evaluate_k_values(k, X_train_new, y_train_new)\n",
    "lr_grid_cv"
   ]
  },
  {
   "cell_type": "code",
   "execution_count": 63,
   "metadata": {},
   "outputs": [
    {
     "name": "stdout",
     "output_type": "stream",
     "text": [
      "{'selectkbest__k': 10}\n"
     ]
    },
    {
     "data": {
      "image/png": "[encoded data removed]",
      "text/plain": [
       "<Figure size 720x360 with 1 Axes>"
      ]
     },
     "metadata": {
      "needs_background": "light"
     },
     "output_type": "display_data"
    }
   ],
   "source": [
    "get_score_and_plot(lr_grid_cv.cv_results_, lr_grid_cv.best_params_)"
   ]
  },
  {
   "cell_type": "code",
   "execution_count": 64,
   "metadata": {},
   "outputs": [
    {
     "data": {
      "text/plain": [
       "-916.75"
      ]
     },
     "execution_count": 64,
     "metadata": {},
     "output_type": "execute_result"
    }
   ],
   "source": [
    "score_mean = [mean for mean in lr_grid_cv.cv_results_['mean_test_score']]\n",
    "round(score_mean[-3], 2)"
   ]
  },
  {
   "cell_type": "code",
   "execution_count": 65,
   "metadata": {},
   "outputs": [
    {
     "data": {
      "text/plain": [
       "NumClaimsYr1            105.506300\n",
       "BreedAvgNumClaims        87.355336\n",
       "AgeYr1                   66.964193\n",
       "BreedAvgClaimAmt          2.336756\n",
       "AgeYr1AvgTotalClaims      0.176635\n",
       "AmtClaimsYr1              0.130279\n",
       "BreedAvgTotalClaims      -0.010018\n",
       "AgeYr1AvgClaimAmt        -0.058645\n",
       "AvgClaimsYr1             -0.099152\n",
       "Species_Dog            -131.931281\n",
       "dtype: float64"
      ]
     },
     "execution_count": 65,
     "metadata": {},
     "output_type": "execute_result"
    }
   ],
   "source": [
    "# Generate a list of the best features and associated coefs based on best 'k' value\n",
    "original_features = ['AgeYr1', 'YoungAge', 'AmtClaimsYr1', 'AvgClaimsYr1', 'NumClaimsYr1', 'AgeYr1AvgTotalClaims',\n",
    "                     'AgeYr1AvgNumClaims', 'AgeYr1AvgClaimAmt', 'BreedAvgTotalClaims', 'BreedAvgNumClaims', \n",
    "                     'BreedAvgClaimAmt']\n",
    "categorical_features = ['Species', 'Breed']\n",
    "\n",
    "get_best_features(lr_grid_cv, original_features, categorical_features)"
   ]
  },
  {
   "cell_type": "markdown",
   "metadata": {},
   "source": [
    "### Other Tests "
   ]
  },
  {
   "cell_type": "code",
   "execution_count": 66,
   "metadata": {},
   "outputs": [
    {
     "data": {
      "text/plain": [
       "917.79"
      ]
     },
     "execution_count": 66,
     "metadata": {},
     "output_type": "execute_result"
    }
   ],
   "source": [
    "from sklearn.linear_model import Lasso\n",
    "\n",
    "# Lasso regression\n",
    "regressor = Lasso(alpha=0.1, normalize=True)\n",
    "\n",
    "# Make pipeline and get results\n",
    "pipe = make_pipeline(preprocessor, regressor)\n",
    "cv_results = cross_validate(pipe, X_train_new, y_train_new, scoring=mae_scorer, cv=5)\n",
    "-1 * round(np.mean(cv_results['test_score']), 2)"
   ]
  },
  {
   "cell_type": "code",
   "execution_count": 69,
   "metadata": {},
   "outputs": [
    {
     "data": {
      "text/plain": [
       "993.08"
      ]
     },
     "execution_count": 69,
     "metadata": {},
     "output_type": "execute_result"
    }
   ],
   "source": [
    "from sklearn.ensemble import RandomForestRegressor\n",
    "\n",
    "# Random forest regression\n",
    "regressor = RandomForestRegressor(n_estimators=10)\n",
    "\n",
    "scaler = StandardScaler(with_mean=False)\n",
    "\n",
    "# Make pipeline and get results\n",
    "pipe = make_pipeline(preprocessor, scaler, regressor)\n",
    "cv_results = cross_validate(pipe, X_train_new, y_train_new, scoring=mae_scorer, cv=5)\n",
    "-1 * round(np.mean(cv_results['test_score']), 2)"
   ]
  },
  {
   "cell_type": "markdown",
   "metadata": {},
   "source": [
    "## 8 Save Model"
   ]
  },
  {
   "cell_type": "code",
   "execution_count": null,
   "metadata": {},
   "outputs": [],
   "source": [
    "# # Store some basic information about the model\n",
    "# best_model = rf_grid_cv.best_estimator_\n",
    "# best_model.version = '1.0'\n",
    "# best_model.pandas_version = pd.__version__\n",
    "# best_model.numpy_version = np.__version__\n",
    "# best_model.sklearn_version = sklearn_version\n",
    "# best_model.X_columns = [col for col in X_train.columns]\n",
    "# best_model.build_datetime = datetime.datetime.now()"
   ]
  },
  {
   "cell_type": "code",
   "execution_count": null,
   "metadata": {},
   "outputs": [],
   "source": [
    "# # save the model\n",
    "\n",
    "# modelpath = '../models'\n",
    "# save_file(best_model, 'ski_resort_pricing_model.pkl', modelpath)"
   ]
  },
  {
   "cell_type": "markdown",
   "metadata": {},
   "source": [
    "## 8 Summary\n",
    "\n",
    "TBD"
   ]
  },
  {
   "cell_type": "code",
   "execution_count": null,
   "metadata": {},
   "outputs": [],
   "source": [
    "## Consider for next notebook\n",
    "\n",
    "# y_pred = model.predict(X_train)\n",
    "\n",
    "# mae = median_absolute_error(y_train, y_pred)\n",
    "# y_pred = model.predict(X_test)\n",
    "# mae = median_absolute_error(y_test, y_pred)\n",
    "# fig, ax = plt.subplots(figsize=(5, 5))\n",
    "# plt.scatter(y_test, y_pred)\n",
    "# ax.plot([0, 1], [0, 1], transform=ax.transAxes, ls=\"--\", c=\"red\")\n",
    "# plt.title('Ridge model, small regularization')\n",
    "# plt.ylabel('Model predictions')\n",
    "# plt.xlabel('Truths')\n",
    "# plt.xlim([0, 1500])\n",
    "# _ = plt.ylim([0, 1500])"
   ]
  },
  {
   "cell_type": "markdown",
   "metadata": {},
   "source": [
    "# Consider for next notebook\n",
    "Random Forest Hyperparameter Tuning"
   ]
  },
  {
   "cell_type": "code",
   "execution_count": null,
   "metadata": {},
   "outputs": [],
   "source": [
    "# # Number of trees in random forest\n",
    "# n_estimators = [int(x) for x in np.linspace(start = 200, stop = 2000, num = 10)]\n",
    "# # Number of features to consider at every split\n",
    "# max_features = ['auto', None]\n",
    "# # Maximum number of levels in tree\n",
    "# max_depth = [int(x) for x in np.linspace(10, 110, num = 11)]\n",
    "# max_depth.append(None)\n",
    "# # Minimum number of samples required to split a node\n",
    "# min_samples_split = [2, 5, 10]\n",
    "# # Minimum number of samples required at each leaf node\n",
    "# min_samples_leaf = [1, 2, 4]\n",
    "# # Method of selecting samples for training each tree\n",
    "# bootstrap = [True, False]\n",
    "\n",
    "# # Create the random grid\n",
    "# random_grid = {'n_estimators': n_estimators,\n",
    "#                'max_features': max_features,\n",
    "#                'max_depth': max_depth,\n",
    "#                'min_samples_split': min_samples_split,\n",
    "#                'min_samples_leaf': min_samples_leaf,\n",
    "#                'bootstrap': bootstrap}\n",
    "\n",
    "# # Print the grid\n",
    "# pprint(random_grid)"
   ]
  },
  {
   "cell_type": "code",
   "execution_count": null,
   "metadata": {},
   "outputs": [],
   "source": [
    "# # Use the random grid to search for best hyperparameters\n",
    "# # Create the base model to tune\n",
    "# rf = RandomForestRegressor()\n",
    "\n",
    "# # Random search of parameters, using 5 fold cross validation, \n",
    "# # search across 5 different combinations, and use all available cores\n",
    "# rf_random = RandomizedSearchCV(estimator = rf, param_distributions = random_grid,\n",
    "#                                n_iter = 5, cv = 5, verbose=2, random_state=42, n_jobs = -1)\n",
    "\n",
    "# # Fit the random search model\n",
    "# rf_random.fit(X_train, y_train)"
   ]
  },
  {
   "cell_type": "code",
   "execution_count": null,
   "metadata": {},
   "outputs": [],
   "source": [
    "# # View best performing parameter combination\n",
    "# rf_random.best_params_"
   ]
  },
  {
   "cell_type": "markdown",
   "metadata": {},
   "source": [
    "So even using the best random forest model, our performance is still looking slightly worse than with our linear model when looking at only the best k features. "
   ]
  }
 ],
 "metadata": {
  "kernelspec": {
   "display_name": "Python 3",
   "language": "python",
   "name": "python3"
  },
  "language_info": {
   "codemirror_mode": {
    "name": "ipython",
    "version": 3
   },
   "file_extension": ".py",
   "mimetype": "text/x-python",
   "name": "python",
   "nbconvert_exporter": "python",
   "pygments_lexer": "ipython3",
   "version": "3.8.8"
  }
 },
 "nbformat": 4,
 "nbformat_minor": 4
}
