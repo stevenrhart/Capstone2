{
 "cells": [
  {
   "cell_type": "markdown",
   "id": "7843a3bb",
   "metadata": {},
   "source": [
    "# Predicting Pet Insurance Claims - Model Tuning and Predictions\n",
    "## 1 Introduction\n",
    "### 1.1 Background\n",
    "Whenever a pet insurance policy holder incurs veterinary expenses related to their enrolled pet, they can submit claims for reimbursement, and the insurance company reimburses eligible expenses. To price insurance products correctly, the insurance company needs to have a good idea of the amount their policy holders are likely to claim in the future.\n",
    "\n",
    "### 1.2 Project Goal\n",
    "The goal of this project is to create a machine learning model to predict how much (in USD) a given policy holder will claim for during the second year of their policy.\n",
    "\n",
    "### 1.3 Notebook Goals\n",
    "* Continue model evaluation and tuning\n",
    "* Select the best model balancing performance and compute time\n",
    "* Make predictions against the test data\n",
    "* Summarize the results\n",
    "\n",
    "\n",
    "## 2 Setup\n",
    "\n",
    "### 2.1 Imports"
   ]
  },
  {
   "cell_type": "code",
   "execution_count": 30,
   "id": "6936f5c3",
   "metadata": {},
   "outputs": [],
   "source": [
    "import pandas as pd\n",
    "import numpy as np\n",
    "import matplotlib.pyplot as plt\n",
    "import seaborn as sns\n",
    "\n",
    "from sklearn.model_selection import cross_validate, learning_curve, GridSearchCV, RandomizedSearchCV\n",
    "from sklearn.compose import make_column_transformer\n",
    "from sklearn.preprocessing import OneHotEncoder, StandardScaler\n",
    "from sklearn.pipeline import make_pipeline, Pipeline\n",
    "from sklearn.linear_model import LinearRegression, Lasso\n",
    "from sklearn.ensemble import GradientBoostingRegressor\n",
    "from sklearn.metrics import mean_absolute_error\n",
    "from sklearn.feature_selection import SelectKBest, f_regression\n",
    "from sklearn import __version__ as sklearn_version\n",
    "\n",
    "import datetime\n",
    "import os\n",
    "import pickle\n",
    "from library.sb_utils import save_file"
   ]
  },
  {
   "cell_type": "markdown",
   "id": "99f4ed71",
   "metadata": {},
   "source": [
    "### 2.2 Data and Initial Modeling Results\n",
    "We ended preprocessing and initial modeling with our training and test sets and some initial results. In order to continue on enhancing our model, we need to load in our training and test data as a first step. \n",
    "\n",
    "#### 2.2.1 Data Load\n",
    "Let's take a look at the shape of our training and test sets and get a preview of our test data."
   ]
  },
  {
   "cell_type": "code",
   "execution_count": 5,
   "id": "9ae61627",
   "metadata": {},
   "outputs": [
    {
     "name": "stdout",
     "output_type": "stream",
     "text": [
      "(40000, 12)\n",
      "(10000, 12)\n",
      "(40000,)\n",
      "(10000,)\n"
     ]
    }
   ],
   "source": [
    "# Read in the training and test sets\n",
    "X_train = pd.read_csv('../data/X_train.csv', index_col=0)\n",
    "y_train = np.genfromtxt('../data/y_train.csv', delimiter=',')\n",
    "X_test = pd.read_csv('../data/X_test.csv', index_col=0)\n",
    "y_test = np.genfromtxt('../data/y_test.csv', delimiter=',')\n",
    "\n",
    "# Preview the shape\n",
    "print(X_train.shape)\n",
    "print(X_test.shape)\n",
    "print(y_train.shape)\n",
    "print(y_test.shape)"
   ]
  },
  {
   "cell_type": "code",
   "execution_count": 6,
   "id": "5785415e",
   "metadata": {},
   "outputs": [
    {
     "data": {
      "text/html": [
       "<div>\n",
       "<style scoped>\n",
       "    .dataframe tbody tr th:only-of-type {\n",
       "        vertical-align: middle;\n",
       "    }\n",
       "\n",
       "    .dataframe tbody tr th {\n",
       "        vertical-align: top;\n",
       "    }\n",
       "\n",
       "    .dataframe thead th {\n",
       "        text-align: right;\n",
       "    }\n",
       "</style>\n",
       "<table border=\"1\" class=\"dataframe\">\n",
       "  <thead>\n",
       "    <tr style=\"text-align: right;\">\n",
       "      <th></th>\n",
       "      <th>0</th>\n",
       "      <th>1</th>\n",
       "      <th>2</th>\n",
       "      <th>3</th>\n",
       "      <th>4</th>\n",
       "      <th>5</th>\n",
       "      <th>6</th>\n",
       "      <th>7</th>\n",
       "    </tr>\n",
       "  </thead>\n",
       "  <tbody>\n",
       "    <tr>\n",
       "      <th>Species</th>\n",
       "      <td>Dog</td>\n",
       "      <td>Dog</td>\n",
       "      <td>Dog</td>\n",
       "      <td>Dog</td>\n",
       "      <td>Dog</td>\n",
       "      <td>Dog</td>\n",
       "      <td>Cat</td>\n",
       "      <td>Dog</td>\n",
       "    </tr>\n",
       "    <tr>\n",
       "      <th>AgeYr1</th>\n",
       "      <td>3</td>\n",
       "      <td>0</td>\n",
       "      <td>0</td>\n",
       "      <td>1</td>\n",
       "      <td>2</td>\n",
       "      <td>0</td>\n",
       "      <td>6</td>\n",
       "      <td>6</td>\n",
       "    </tr>\n",
       "    <tr>\n",
       "      <th>YoungAge</th>\n",
       "      <td>0</td>\n",
       "      <td>0</td>\n",
       "      <td>0</td>\n",
       "      <td>0</td>\n",
       "      <td>0</td>\n",
       "      <td>0</td>\n",
       "      <td>0</td>\n",
       "      <td>0</td>\n",
       "    </tr>\n",
       "    <tr>\n",
       "      <th>AmtClaimsYr1</th>\n",
       "      <td>76.25</td>\n",
       "      <td>0.0</td>\n",
       "      <td>6010.88</td>\n",
       "      <td>303.15</td>\n",
       "      <td>0.0</td>\n",
       "      <td>701.6</td>\n",
       "      <td>431.57</td>\n",
       "      <td>0.0</td>\n",
       "    </tr>\n",
       "    <tr>\n",
       "      <th>AvgClaimsYr1</th>\n",
       "      <td>76.25</td>\n",
       "      <td>0.0</td>\n",
       "      <td>546.443636</td>\n",
       "      <td>151.575</td>\n",
       "      <td>0.0</td>\n",
       "      <td>701.6</td>\n",
       "      <td>215.785</td>\n",
       "      <td>0.0</td>\n",
       "    </tr>\n",
       "    <tr>\n",
       "      <th>NumClaimsYr1</th>\n",
       "      <td>1</td>\n",
       "      <td>0</td>\n",
       "      <td>11</td>\n",
       "      <td>2</td>\n",
       "      <td>0</td>\n",
       "      <td>1</td>\n",
       "      <td>2</td>\n",
       "      <td>0</td>\n",
       "    </tr>\n",
       "    <tr>\n",
       "      <th>BreedAvgTotalClaims</th>\n",
       "      <td>663.502526</td>\n",
       "      <td>540.515378</td>\n",
       "      <td>705.72864</td>\n",
       "      <td>705.72864</td>\n",
       "      <td>663.502526</td>\n",
       "      <td>925.434405</td>\n",
       "      <td>395.718466</td>\n",
       "      <td>1509.175333</td>\n",
       "    </tr>\n",
       "    <tr>\n",
       "      <th>BreedAvgNumClaims</th>\n",
       "      <td>1.491045</td>\n",
       "      <td>1.627294</td>\n",
       "      <td>1.766242</td>\n",
       "      <td>1.766242</td>\n",
       "      <td>1.491045</td>\n",
       "      <td>1.875611</td>\n",
       "      <td>0.871485</td>\n",
       "      <td>2.552941</td>\n",
       "    </tr>\n",
       "    <tr>\n",
       "      <th>BreedAvgClaimAmt</th>\n",
       "      <td>196.601991</td>\n",
       "      <td>159.645266</td>\n",
       "      <td>198.844913</td>\n",
       "      <td>198.844913</td>\n",
       "      <td>196.601991</td>\n",
       "      <td>240.294459</td>\n",
       "      <td>137.970879</td>\n",
       "      <td>315.759532</td>\n",
       "    </tr>\n",
       "    <tr>\n",
       "      <th>AgeYr1AvgTotalClaims</th>\n",
       "      <td>722.652663</td>\n",
       "      <td>902.942389</td>\n",
       "      <td>902.942389</td>\n",
       "      <td>699.071121</td>\n",
       "      <td>619.496248</td>\n",
       "      <td>902.942389</td>\n",
       "      <td>449.891932</td>\n",
       "      <td>904.086963</td>\n",
       "    </tr>\n",
       "    <tr>\n",
       "      <th>AgeYr1AvgNumClaims</th>\n",
       "      <td>1.275474</td>\n",
       "      <td>2.002704</td>\n",
       "      <td>2.002704</td>\n",
       "      <td>1.359896</td>\n",
       "      <td>1.243786</td>\n",
       "      <td>2.002704</td>\n",
       "      <td>0.942029</td>\n",
       "      <td>1.47284</td>\n",
       "    </tr>\n",
       "    <tr>\n",
       "      <th>AgeYr1AvgClaimAmt</th>\n",
       "      <td>218.098714</td>\n",
       "      <td>234.275301</td>\n",
       "      <td>234.275301</td>\n",
       "      <td>212.218786</td>\n",
       "      <td>198.114908</td>\n",
       "      <td>234.275301</td>\n",
       "      <td>124.637412</td>\n",
       "      <td>330.747276</td>\n",
       "    </tr>\n",
       "  </tbody>\n",
       "</table>\n",
       "</div>"
      ],
      "text/plain": [
       "                               0           1           2           3  \\\n",
       "Species                      Dog         Dog         Dog         Dog   \n",
       "AgeYr1                         3           0           0           1   \n",
       "YoungAge                       0           0           0           0   \n",
       "AmtClaimsYr1               76.25         0.0     6010.88      303.15   \n",
       "AvgClaimsYr1               76.25         0.0  546.443636     151.575   \n",
       "NumClaimsYr1                   1           0          11           2   \n",
       "BreedAvgTotalClaims   663.502526  540.515378   705.72864   705.72864   \n",
       "BreedAvgNumClaims       1.491045    1.627294    1.766242    1.766242   \n",
       "BreedAvgClaimAmt      196.601991  159.645266  198.844913  198.844913   \n",
       "AgeYr1AvgTotalClaims  722.652663  902.942389  902.942389  699.071121   \n",
       "AgeYr1AvgNumClaims      1.275474    2.002704    2.002704    1.359896   \n",
       "AgeYr1AvgClaimAmt     218.098714  234.275301  234.275301  212.218786   \n",
       "\n",
       "                               4           5           6            7  \n",
       "Species                      Dog         Dog         Cat          Dog  \n",
       "AgeYr1                         2           0           6            6  \n",
       "YoungAge                       0           0           0            0  \n",
       "AmtClaimsYr1                 0.0       701.6      431.57          0.0  \n",
       "AvgClaimsYr1                 0.0       701.6     215.785          0.0  \n",
       "NumClaimsYr1                   0           1           2            0  \n",
       "BreedAvgTotalClaims   663.502526  925.434405  395.718466  1509.175333  \n",
       "BreedAvgNumClaims       1.491045    1.875611    0.871485     2.552941  \n",
       "BreedAvgClaimAmt      196.601991  240.294459  137.970879   315.759532  \n",
       "AgeYr1AvgTotalClaims  619.496248  902.942389  449.891932   904.086963  \n",
       "AgeYr1AvgNumClaims      1.243786    2.002704    0.942029      1.47284  \n",
       "AgeYr1AvgClaimAmt     198.114908  234.275301  124.637412   330.747276  "
      ]
     },
     "execution_count": 6,
     "metadata": {},
     "output_type": "execute_result"
    }
   ],
   "source": [
    "# Preview the training data\n",
    "X_train.head(8).T"
   ]
  },
  {
   "cell_type": "markdown",
   "id": "3a26d4e7",
   "metadata": {},
   "source": [
    "#### 2.2.2 Initial Modeling Results\n",
    "In the previous notebook, we completed some initial modeling including the following:\n",
    "* Established a baseline using `DummyRegressor()` with predictions equivalent to the mean value of the target \n",
    "* Created a simple liner model using `LinearRegressor()` and default settings\n",
    "* Enhanced our simple linear model by incorporating feature selection and making predictions using the best 'k' features\n",
    "\n",
    "Using the linear model with feature selection, we managed to improve upon the baseline model by **~9%**, or over **\\$90** per customer. Given the size of the total customer base (~65-75 million pets), this represents a significant total value that could be realized by factoring model predictions into policy premium and deductible amounts.\n",
    "\n",
    "In this notebook, we'll continue tuning our model and evaluating additional modeling approaches to see if we can improve upon the initial result. Following this evaluation, we will select our final model and make predictions on our test set to generate final results. Our best model so far is using a **simple linear regression model with feature selection**. This resulted in a mean absolute error of **~\\\\$930**. So there could be a lot of room for improvement if we can find a model that better suits our data.\n",
    "\n",
    "#### 2.2.3 Data Preprocessing\n",
    "In our previous notebook, we also created a simple preprocessor to handle our remaining category data in the Species column. We'll recreate that here for use in our model pipelines throughout."
   ]
  },
  {
   "cell_type": "code",
   "execution_count": 7,
   "id": "ca433fdc",
   "metadata": {},
   "outputs": [],
   "source": [
    "# Create a preprocessor to encode the remaining categorical column\n",
    "preprocessor = make_column_transformer(\n",
    "    (OneHotEncoder(drop='if_binary'), ['Species']), remainder='passthrough')"
   ]
  },
  {
   "cell_type": "markdown",
   "id": "ef6ad929",
   "metadata": {},
   "source": [
    "## 3 Lasso Regression\n",
    "For our first modeling technique, we'll utilize **Lasso Regression**. Lasso can be useful in cases where only a few of the features are actually influencing the predictions. As observed in the previous notebook, our situation is similar here. Although we saw 9 features selected as a result of using the 'best k' features, only 2 or 3 appeared to have significant coefficient values with the remainder very close to zero.\n",
    "\n",
    "For Lasso, we'll start off by utilizing a basic version of the algorithm with no tuning and then we'll utilize grid search to see if we can tune the results further. "
   ]
  },
  {
   "cell_type": "markdown",
   "id": "c8d15198",
   "metadata": {},
   "source": [
    "### 3.1 Simple Lasso Regression Model"
   ]
  },
  {
   "cell_type": "code",
   "execution_count": 8,
   "id": "f04d2119",
   "metadata": {},
   "outputs": [
    {
     "name": "stdout",
     "output_type": "stream",
     "text": [
      "mean test score (mae): 930.28\n"
     ]
    }
   ],
   "source": [
    "# Make pipeline, cross validate and get results\n",
    "pipe = make_pipeline(preprocessor, Lasso())\n",
    "cv_results = cross_validate(pipe, X_train, y_train, scoring='neg_mean_absolute_error', cv=5)\n",
    "score_mean = -1 * round(np.mean(cv_results['test_score']), 2)\n",
    "print(\"mean test score (mae): \" + str(score_mean))"
   ]
  },
  {
   "cell_type": "markdown",
   "id": "325ae88c",
   "metadata": {},
   "source": [
    "So utilizing Lasso regression with default settings, we've managed to improve our MAE by about 0.07. Overall, not great. Let's see what we can do to improve on this by applying grid search and searching over a range of parameter values."
   ]
  },
  {
   "cell_type": "markdown",
   "id": "4d583c9a",
   "metadata": {},
   "source": [
    "### 3.2 Lasso Regression with GridSearchCV"
   ]
  },
  {
   "cell_type": "code",
   "execution_count": 9,
   "id": "23590db4",
   "metadata": {},
   "outputs": [
    {
     "data": {
      "text/plain": [
       "GridSearchCV(cv=5,\n",
       "             estimator=Pipeline(steps=[('preprocessor',\n",
       "                                        ColumnTransformer(remainder='passthrough',\n",
       "                                                          transformers=[('onehotencoder',\n",
       "                                                                         OneHotEncoder(drop='if_binary'),\n",
       "                                                                         ['Species'])])),\n",
       "                                       ('regressor', Lasso())]),\n",
       "             n_jobs=-1,\n",
       "             param_grid={'regressor__alpha': [0.1, 1, 5, 10],\n",
       "                         'regressor__fit_intercept': [True, False],\n",
       "                         'regressor__normalize': [True, False]},\n",
       "             scoring='neg_mean_absolute_error')"
      ]
     },
     "execution_count": 9,
     "metadata": {},
     "output_type": "execute_result"
    }
   ],
   "source": [
    "# Create the pipeline\n",
    "pipe = Pipeline([('preprocessor', preprocessor),('regressor', Lasso())])\n",
    "\n",
    "# Establish the parameter grid\n",
    "param_grid = {'regressor__alpha': [0.1, 1, 5, 10], 'regressor__fit_intercept': [True, False],\n",
    "              'regressor__normalize': [True, False]}\n",
    "\n",
    "# Instantiate the grid search and fit the model\n",
    "Lasso_GS = GridSearchCV(pipe, param_grid=param_grid, scoring='neg_mean_absolute_error', cv=5, n_jobs=-1)\n",
    "Lasso_GS.fit(X_train, y_train)"
   ]
  },
  {
   "cell_type": "code",
   "execution_count": 10,
   "id": "5462a08f",
   "metadata": {},
   "outputs": [
    {
     "name": "stdout",
     "output_type": "stream",
     "text": [
      "best score (mae): 930.18\n"
     ]
    }
   ],
   "source": [
    "# Print best test score\n",
    "best_score = -1 * round(np.max(Lasso_GS.cv_results_['mean_test_score']), 2)\n",
    "print(\"best score (mae): \" + str(best_score))"
   ]
  },
  {
   "cell_type": "code",
   "execution_count": 11,
   "id": "b621b8aa",
   "metadata": {},
   "outputs": [
    {
     "data": {
      "text/plain": [
       "{'regressor__alpha': 5,\n",
       " 'regressor__fit_intercept': True,\n",
       " 'regressor__normalize': False}"
      ]
     },
     "execution_count": 11,
     "metadata": {},
     "output_type": "execute_result"
    }
   ],
   "source": [
    "Lasso_GS.best_params_"
   ]
  },
  {
   "cell_type": "markdown",
   "id": "e875b685",
   "metadata": {},
   "source": [
    "Again, we see a very modest improvement in the Lasso regression results by adding parameter tuning. We could continue tweaking our parameter grid, but given the very small amount of improvement so far, it seems unlikely that we will see a substantial improvement by continuing to fine tune the model.\n",
    "\n",
    "Rather than focusing more time on Lasso, let's move on to evaluate another model that may be a good fit in this scenario, **Gradient Boosting**.\n",
    "\n",
    "\n",
    "## 4 Gradient Boosting\n",
    "Up to this point, we seem to be hitting a wall when it comes to model performance gains with our **MAE values plateauing at ~930**. \n",
    "\n",
    "One reason for this could very well be that our data simply doesn't fit well into a linear model. As observed throughout this project, none of our features are regularly distributed and our target (i.e., Insurance Claims Amount) is mostly random in nature and as a result, difficult to predict with precision.\n",
    "\n",
    "Given this fact, it stands to reason that we need a model such as Gradient Boosting that can perform well with unbalanced data. Gradient Boosting is an ensemble technique that combines a set of weak learners to improve prediction accuracy. To achieve this, each iteration *learns* from the previous iteration and the model results are based on the weighted predictions of all iterations."
   ]
  },
  {
   "cell_type": "markdown",
   "id": "05774463",
   "metadata": {},
   "source": [
    "### 4.1 Simple Gradient Boosting Model"
   ]
  },
  {
   "cell_type": "code",
   "execution_count": 12,
   "id": "ccacc0e8",
   "metadata": {},
   "outputs": [
    {
     "name": "stdout",
     "output_type": "stream",
     "text": [
      "mean test score (mae): 932.08\n"
     ]
    }
   ],
   "source": [
    "# Make pipeline, cross-validate, and get results\n",
    "pipe = make_pipeline(preprocessor, GradientBoostingRegressor())\n",
    "cv_results = cross_validate(pipe, X_train, y_train, scoring='neg_mean_absolute_error', cv=5)\n",
    "score_mean = -1 * round(np.mean(cv_results['test_score']), 2)\n",
    "print(\"mean test score (mae): \" + str(score_mean))"
   ]
  },
  {
   "cell_type": "markdown",
   "id": "1a30042b",
   "metadata": {},
   "source": [
    "Using a simple Gradient Boosting model, we see our predictive accuracy actually got worse. That's not too surprising considering we made no effort to tune the model, but it might be an early indication that we won't see much improvement over and above our current best score of ~930. \n",
    "\n",
    "### 4.2 Gradient Boosting - Tuning N_estimators and learning_rate\n",
    "\n",
    "As a next step, let's start by tuning 'n_estimators' (the number of boosting stages) and 'learning_rate' (which shrinks the contribution of each tree. There is typically a tradeoff between these two parameters and so finding the right balance will help provide us with a good foundation to continue the tuning process.\n",
    "\n",
    "For this tuning step, we'll implement a grid search using a range of values for each of the two parameters mentioned above, and we'll stay with the default values for all other parameters for now. Afterwards, we can see which pair of values gave us the best performance and also plot the overall results."
   ]
  },
  {
   "cell_type": "code",
   "execution_count": 98,
   "id": "d0e159e7",
   "metadata": {},
   "outputs": [
    {
     "data": {
      "text/plain": [
       "GridSearchCV(cv=5,\n",
       "             estimator=Pipeline(steps=[('preprocessor',\n",
       "                                        ColumnTransformer(remainder='passthrough',\n",
       "                                                          transformers=[('onehotencoder',\n",
       "                                                                         OneHotEncoder(drop='if_binary'),\n",
       "                                                                         ['Species'])])),\n",
       "                                       ('regressor',\n",
       "                                        GradientBoostingRegressor(random_state=23))]),\n",
       "             n_jobs=-1,\n",
       "             param_grid={'regressor__learning_rate': [0.001, 0.01, 0.05, 0.1,\n",
       "                                                      0.2],\n",
       "                         'regressor__n_estimators': range(10, 110, 10)},\n",
       "             scoring='neg_mean_absolute_error')"
      ]
     },
     "execution_count": 98,
     "metadata": {},
     "output_type": "execute_result"
    }
   ],
   "source": [
    "# Instantiate the regressor model\n",
    "regressor = GradientBoostingRegressor(random_state=23)\n",
    "\n",
    "# Create the pipeline\n",
    "pipe = Pipeline([('preprocessor', preprocessor),\n",
    "                 ('regressor', regressor)\n",
    "                ])\n",
    "\n",
    "# Establish the parameter grid\n",
    "param_grid = { 'regressor__learning_rate': [0.001, 0.01, 0.05, 0.1, 0.2],\n",
    "               'regressor__n_estimators': range(10, 110, 10),\n",
    "              }\n",
    "\n",
    "# Instantiate the grid search and fit the model\n",
    "GB_GS = GridSearchCV(pipe, param_grid=param_grid, scoring='neg_mean_absolute_error', cv=5, n_jobs=-1)\n",
    "GB_GS.fit(X_train, y_train)"
   ]
  },
  {
   "cell_type": "code",
   "execution_count": 99,
   "id": "1dc637e8",
   "metadata": {},
   "outputs": [
    {
     "name": "stdout",
     "output_type": "stream",
     "text": [
      "Best Score (MAE): 931.92\n",
      "\n",
      "Best Params:\n"
     ]
    },
    {
     "data": {
      "text/plain": [
       "(None, {'regressor__learning_rate': 0.1, 'regressor__n_estimators': 80})"
      ]
     },
     "execution_count": 99,
     "metadata": {},
     "output_type": "execute_result"
    }
   ],
   "source": [
    "# Print best test score\n",
    "best_score = -1 * round(np.max(GB_GS.cv_results_['mean_test_score']), 2)\n",
    "print(\"Best Score (MAE): \" + str(best_score) + \"\\n\")\n",
    "\n",
    "# Print best params from grid search\n",
    "print(\"Best Params:\"), GB_GS.best_params_"
   ]
  },
  {
   "cell_type": "markdown",
   "id": "328df7ed",
   "metadata": {},
   "source": [
    "With some basic tuning, we managed to see a modest improvement, but we are still hovering around the ~930 range. We've also significantly increased our compute time and the result is still not as good as what we observed using Lasso. \n",
    "\n",
    "Before moving on with more advanced tuning, let's plot the results to get a better feel for how these two parameters are affecting the scores. We can create a function for this that will come in handy as we continue tuning our model."
   ]
  },
  {
   "cell_type": "code",
   "execution_count": 100,
   "id": "28a48622",
   "metadata": {},
   "outputs": [],
   "source": [
    "# Create a function for plotting the \n",
    "def plot_grid_search_results(cv_results, grid_param_1, grid_param_2, name_param_1, name_param_2):\n",
    "    \n",
    "    # Create a numpy array of lists containing mean test scores for each combo of params\n",
    "    score_means = cv_results['mean_test_score']\n",
    "    n = len(grid_param_2)\n",
    "    score_means_list = []\n",
    "    for i in range(n):\n",
    "        scores_by_param = score_means[i::n]\n",
    "        score_means_list.append(scores_by_param)\n",
    "    score_means_list = np.array(score_means_list)\n",
    "    \n",
    "    # Plot grid search scores\n",
    "    _, ax = plt.subplots(1,1, figsize=(12, 6))\n",
    "\n",
    "    # Param_1 is the X-axis, Param 2 is represented as a different color line on the plot\n",
    "    for idx, val in enumerate(grid_param_2):\n",
    "        plt.plot(grid_param_1, score_means_list[idx,:], '-o', label= name_param_2 + ': ' + str(val))\n",
    "\n",
    "    plt.suptitle(\"Grid Search Scores\", y=0.95, fontsize=14)\n",
    "    plt.xlabel(name_param_1, fontsize=12) \n",
    "    plt.ylabel('CV Average Score', fontsize=12) \n",
    "    plt.legend(loc=\"best\", fontsize=12, bbox_to_anchor=(1, 1.02))"
   ]
  },
  {
   "cell_type": "code",
   "execution_count": 101,
   "id": "e17d1ef0",
   "metadata": {},
   "outputs": [
    {
     "data": {
      "image/png": "[encoded data removed]",
      "text/plain": [
       "<Figure size 864x432 with 1 Axes>"
      ]
     },
     "metadata": {
      "needs_background": "light"
     },
     "output_type": "display_data"
    }
   ],
   "source": [
    "# Plot the results\n",
    "plot_grid_search_results(GB_GS.cv_results_, \n",
    "                         GB_GS.param_grid['regressor__n_estimators'],\n",
    "                         GB_GS.param_grid['regressor__learning_rate'], \n",
    "                         'N Estimators', 'Learning Rate')"
   ]
  },
  {
   "cell_type": "markdown",
   "id": "357c8626",
   "metadata": {},
   "source": [
    "We can see above, that our best set of parameters for n_estimators and learning_rate are 80 and 0.1, respectively. These are pretty close the the model defaults (i.e., 100, 0.1), so it feels appropriate that we didn't see much of an improvement in our model score. Interestingly, based on the plot above, it appears that the scores for all learning rates converge at a value of 80 for 'n_estimators'. This definitely helps to build confidence that we've landed on the right value for this parameter. \n",
    "\n",
    "### 4.3 Gradient Boosting - Tuning loss and alpha\n",
    "\n",
    "Before we look at tuning our model for the tree structure-related parameters (max_depth, num_samples_split, etc.) let's focus on tuning the 'loss' and 'alpha' parameters in a similar fashion to n_estimators and learning rate. Up to now, all of our models have been focused on either MSE or MAE for a loss function and this may not be the best approach for our data.\n",
    "\n",
    "The default for loss is 'squared_error', but for this round of testing, we'll test with the 'huber' and 'quantile' loss functions. Both huber and quantile tend to be more robust against outliers in the data and as observed in EDA, our data is heavy on outlier values. This pairs nicely with alpha since alpha is used to more finely tune the selected loss function. For 'alpha', 0.9 is the default value. In addition to this, we'll test a range of values down to 0.1 and then plot the results."
   ]
  },
  {
   "cell_type": "code",
   "execution_count": 19,
   "id": "b0cf5dc6",
   "metadata": {},
   "outputs": [
    {
     "data": {
      "text/plain": [
       "GridSearchCV(cv=5,\n",
       "             estimator=Pipeline(steps=[('preprocessor',\n",
       "                                        ColumnTransformer(remainder='passthrough',\n",
       "                                                          transformers=[('onehotencoder',\n",
       "                                                                         OneHotEncoder(drop='if_binary'),\n",
       "                                                                         ['Species'])])),\n",
       "                                       ('regressor',\n",
       "                                        GradientBoostingRegressor(n_estimators=80,\n",
       "                                                                  random_state=23))]),\n",
       "             n_jobs=-1,\n",
       "             param_grid={'regressor__alpha': [0.1, 0.3, 0.5, 0.7, 0.9],\n",
       "                         'regressor__loss': ['huber', 'quantile']},\n",
       "             scoring='neg_mean_absolute_error')"
      ]
     },
     "execution_count": 19,
     "metadata": {},
     "output_type": "execute_result"
    }
   ],
   "source": [
    "# Instantiate the regressor model\n",
    "regressor = GradientBoostingRegressor(n_estimators=80, random_state=23)\n",
    "\n",
    "# Create the pipeline\n",
    "pipe = Pipeline([('preprocessor', preprocessor),\n",
    "                 ('regressor', regressor)\n",
    "                ])\n",
    "\n",
    "# Establish the parameter grid\n",
    "param_grid = { 'regressor__loss': ['huber', 'quantile'],\n",
    "               'regressor__alpha': [0.1, 0.3, 0.5, 0.7, 0.9],\n",
    "              }\n",
    "\n",
    "# Instantiate the grid search and fit the model\n",
    "GB_GS = GridSearchCV(pipe, param_grid=param_grid, scoring='neg_mean_absolute_error', cv=5, n_jobs=-1)\n",
    "GB_GS.fit(X_train, y_train)"
   ]
  },
  {
   "cell_type": "code",
   "execution_count": 20,
   "id": "1d9d2e64",
   "metadata": {},
   "outputs": [
    {
     "name": "stdout",
     "output_type": "stream",
     "text": [
      "Best Score (MAE): 677.75\n",
      "\n",
      "Best Params:\n"
     ]
    },
    {
     "data": {
      "text/plain": [
       "(None, {'regressor__alpha': 0.5, 'regressor__loss': 'quantile'})"
      ]
     },
     "execution_count": 20,
     "metadata": {},
     "output_type": "execute_result"
    }
   ],
   "source": [
    "# Print best test score\n",
    "best_score = -1 * round(np.max(GB_GS.cv_results_['mean_test_score']), 2)\n",
    "print(\"Best Score (MAE): \" + str(best_score) + \"\\n\")\n",
    "\n",
    "# Print best params from grid search\n",
    "print(\"Best Params:\"), GB_GS.best_params_"
   ]
  },
  {
   "cell_type": "code",
   "execution_count": 96,
   "id": "cd162362",
   "metadata": {},
   "outputs": [
    {
     "data": {
      "image/png": "[encoded data removed]",
      "text/plain": [
       "<Figure size 864x432 with 1 Axes>"
      ]
     },
     "metadata": {
      "needs_background": "light"
     },
     "output_type": "display_data"
    }
   ],
   "source": [
    "# Plot the results\n",
    "plot_grid_search_results(GB_GS.cv_results_, \n",
    "                         GB_GS.param_grid['regressor__alpha'],\n",
    "                         GB_GS.param_grid['regressor__loss'], \n",
    "                         'Alpha', 'Loss')"
   ]
  },
  {
   "cell_type": "markdown",
   "id": "502ea9df",
   "metadata": {},
   "source": [
    "Now we seem to be on to something! In the above model, using quantile as the loss function with an alpha value of 0.5, we see a **significant** improvement of our model performance down from ~930 to **~677**. Given the modest improvements we've seen thus far, it's encouraging to see such a dramatic improvment. \n",
    "\n",
    "Gradient Boosting models can be prone to overfitting, but given that this result was achieved using cross-validation, we have some reassurance that the improvement is \"real\". Based on these results, it seems worthwhile to do some additional tuning of the tree-specific hyperparameters to see if we can improve the model performance further.\n",
    "\n",
    "### 4.4 Gradient Boosting - Tuning Tree-Specific Parameters - Random Search\n",
    "\n",
    "For our next round of tuning, we'll include the following:\n",
    "* max_depth \n",
    "* min_samples_split\n",
    "* min_samples_leaf\n",
    "* max_features \n",
    "\n",
    "Given the larger number of parameters for this round, we'll utilize a random grid search with cross-validation. While this means we won't get an exhaustive search across all possible parameter combinations, we will drastically reduce the compute time needed and still have a high likelihood of getting *close* to our best set of parameters."
   ]
  },
  {
   "cell_type": "code",
   "execution_count": 21,
   "id": "d749abdd",
   "metadata": {},
   "outputs": [
    {
     "data": {
      "text/plain": [
       "RandomizedSearchCV(cv=5,\n",
       "                   estimator=Pipeline(steps=[('preprocessor',\n",
       "                                              ColumnTransformer(remainder='passthrough',\n",
       "                                                                transformers=[('onehotencoder',\n",
       "                                                                               OneHotEncoder(drop='if_binary'),\n",
       "                                                                               ['Species'])])),\n",
       "                                             ('regressor',\n",
       "                                              GradientBoostingRegressor(alpha=0.5,\n",
       "                                                                        loss='quantile',\n",
       "                                                                        n_estimators=80,\n",
       "                                                                        random_state=23))]),\n",
       "                   n_jobs=-1,\n",
       "                   param_distributions={'regressor__max_depth': [3, 5, 7],\n",
       "                                        'regressor__max_features': ['auto',\n",
       "                                                                    'sqrt',\n",
       "                                                                    'log2'],\n",
       "                                        'regressor__min_samples_leaf': [1, 5,\n",
       "                                                                        10],\n",
       "                                        'regressor__min_samples_split': [2, 3,\n",
       "                                                                         4]},\n",
       "                   scoring='neg_mean_absolute_error')"
      ]
     },
     "execution_count": 21,
     "metadata": {},
     "output_type": "execute_result"
    }
   ],
   "source": [
    "# Instantiate the regressor model\n",
    "regressor = GradientBoostingRegressor(n_estimators=80,\n",
    "                                      learning_rate=0.1,\n",
    "                                      loss='quantile',\n",
    "                                      alpha=0.5,\n",
    "                                      random_state=23)\n",
    "\n",
    "# Create the pipeline\n",
    "pipe = Pipeline([('preprocessor', preprocessor),\n",
    "                 ('regressor', regressor)\n",
    "                ])\n",
    "\n",
    "# Establish the parameter grid\n",
    "random_grid = {'regressor__max_depth': [3, 5, 7],\n",
    "              'regressor__min_samples_split': [2, 3, 4],\n",
    "              'regressor__min_samples_leaf': [1, 5, 10],\n",
    "              'regressor__max_features': ['auto', 'sqrt', 'log2']\n",
    "              }\n",
    "\n",
    "# Instantiate the grid search and fit the model\n",
    "GB_Random = RandomizedSearchCV(pipe, param_distributions=random_grid, scoring='neg_mean_absolute_error',\n",
    "                               cv=5, n_jobs=-1)\n",
    "GB_Random.fit(X_train, y_train)"
   ]
  },
  {
   "cell_type": "code",
   "execution_count": 22,
   "id": "75371e3e",
   "metadata": {},
   "outputs": [
    {
     "name": "stdout",
     "output_type": "stream",
     "text": [
      "Best Score (MAE): 673.82\n",
      "\n",
      "Best Params:\n"
     ]
    },
    {
     "data": {
      "text/plain": [
       "(None,\n",
       " {'regressor__min_samples_split': 3,\n",
       "  'regressor__min_samples_leaf': 1,\n",
       "  'regressor__max_features': 'sqrt',\n",
       "  'regressor__max_depth': 5})"
      ]
     },
     "execution_count": 22,
     "metadata": {},
     "output_type": "execute_result"
    }
   ],
   "source": [
    "# Print best test score\n",
    "best_score = -1 * round(np.max(GB_Random.cv_results_['mean_test_score']), 2)\n",
    "print(\"Best Score (MAE): \" + str(best_score) + \"\\n\")\n",
    "\n",
    "# Print best params from grid search\n",
    "print(\"Best Params:\"), GB_Random.best_params_"
   ]
  },
  {
   "cell_type": "code",
   "execution_count": 25,
   "id": "22e1db43",
   "metadata": {},
   "outputs": [
    {
     "name": "stdout",
     "output_type": "stream",
     "text": [
      "Best Estimator:\n"
     ]
    },
    {
     "data": {
      "text/plain": [
       "(None,\n",
       " Pipeline(steps=[('preprocessor',\n",
       "                  ColumnTransformer(remainder='passthrough',\n",
       "                                    transformers=[('onehotencoder',\n",
       "                                                   OneHotEncoder(drop='if_binary'),\n",
       "                                                   ['Species'])])),\n",
       "                 ('regressor',\n",
       "                  GradientBoostingRegressor(alpha=0.5, loss='quantile',\n",
       "                                            max_depth=5, max_features='sqrt',\n",
       "                                            min_samples_split=3, n_estimators=80,\n",
       "                                            random_state=23))]))"
      ]
     },
     "execution_count": 25,
     "metadata": {},
     "output_type": "execute_result"
    }
   ],
   "source": [
    "# Print best estimator\n",
    "print(\"Best Estimator:\"), GB_Random.best_estimator_"
   ]
  },
  {
   "cell_type": "code",
   "execution_count": 26,
   "id": "8f1556c1",
   "metadata": {},
   "outputs": [],
   "source": [
    "def plot_learning_curve(estimator, title, X, y, ylim=None, cv=None,\n",
    "                        n_jobs=1, train_sizes=np.linspace(.1, 1.0, 10)):\n",
    "    \"\"\"\n",
    "    Generate a simple plot of the test and training learning curve.\n",
    "\n",
    "    Parameters\n",
    "    ----------\n",
    "    estimator : object type that implements the \"fit\" and \"predict\" methods\n",
    "        An object of that type which is cloned for each validation.\n",
    "\n",
    "    title : string\n",
    "        Title for the chart.\n",
    "\n",
    "    X : array-like, shape (n_samples, n_features)\n",
    "        Training vector, where n_samples is the number of samples and\n",
    "        n_features is the number of features.\n",
    "\n",
    "    y : array-like, shape (n_samples) or (n_samples, n_features), optional\n",
    "        Target relative to X for classification or regression;\n",
    "        None for unsupervised learning.\n",
    "\n",
    "    ylim : tuple, shape (ymin, ymax), optional\n",
    "        Defines minimum and maximum yvalues plotted.\n",
    "\n",
    "    cv : int, cross-validation generator or an iterable, optional\n",
    "        Determines the cross-validation splitting strategy.\n",
    "        Possible inputs for cv are:\n",
    "          - None, to use the default 3-fold cross-validation,\n",
    "          - integer, to specify the number of folds.\n",
    "          - An object to be used as a cross-validation generator.\n",
    "          - An iterable yielding tfdrain/test splits.\n",
    "\n",
    "        For integer/None inputs, if ``y`` is binary or multiclass,\n",
    "        :class:`StratifiedKFold` used. If the estimator is not a classifier\n",
    "        or if ``y`` is neither binary nor multiclass, :class:`KFold` is used.\n",
    "\n",
    "        Refer :ref:`User Guide <cross_validation>` for the various\n",
    "        cross-validators that can be used here.\n",
    "\n",
    "    n_jobs : integer, optional\n",
    "        Number of jobs to run in parallel (default 1).\n",
    "\n",
    "    taken from: http://scikit-learn.org/stable/auto_examples/model_selection/plot_learning_curve.html\n",
    "    \"\"\"\n",
    "    plt.figure(figsize=(8,6))\n",
    "    plt.title(title)\n",
    "    if ylim is not None:\n",
    "        plt.ylim(*ylim)\n",
    "    plt.xlabel(\"Training examples\")\n",
    "    plt.ylabel(\"Score\")\n",
    "    train_sizes, train_scores, test_scores = learning_curve(\n",
    "        estimator, X, y, cv=cv, n_jobs=n_jobs, train_sizes=train_sizes, scoring='neg_mean_absolute_error')\n",
    "    train_scores_mean = np.mean(train_scores, axis=1)\n",
    "    train_scores_std = np.std(train_scores, axis=1)\n",
    "    test_scores_mean = np.mean(test_scores, axis=1)\n",
    "    test_scores_std = np.std(test_scores, axis=1)\n",
    "\n",
    "    plt.fill_between(train_sizes, train_scores_mean - train_scores_std,\n",
    "                     train_scores_mean + train_scores_std, alpha=0.1,\n",
    "                     color=\"r\")\n",
    "    plt.fill_between(train_sizes, test_scores_mean - test_scores_std,\n",
    "                     test_scores_mean + test_scores_std, alpha=0.1, color=\"g\")\n",
    "    plt.plot(train_sizes, train_scores_mean, 'o-', color=\"r\",\n",
    "             label=\"Training score\")\n",
    "    plt.plot(train_sizes, test_scores_mean, 'o-', color=\"g\",\n",
    "             label=\"Cross-validation score\")\n",
    "\n",
    "    plt.legend(loc=\"best\")\n",
    "    plt.show()\n"
   ]
  },
  {
   "cell_type": "code",
   "execution_count": 27,
   "id": "738571a3",
   "metadata": {},
   "outputs": [
    {
     "data": {
      "image/png": "[encoded data removed]",
      "text/plain": [
       "<Figure size 576x432 with 1 Axes>"
      ]
     },
     "metadata": {
      "needs_background": "light"
     },
     "output_type": "display_data"
    }
   ],
   "source": [
    "# Instantiate the pipeline\n",
    "pipe = GB_Random.best_estimator_\n",
    "\n",
    "# Plot the learning curve for Linear Regression with best k\n",
    "plot_learning_curve(pipe, \"Learning Curve (Gradient Boosting - Best Estimator)\", X_train, y_train, cv=5)"
   ]
  },
  {
   "cell_type": "markdown",
   "id": "47b74582",
   "metadata": {},
   "source": [
    "# Decide whether to include the above??\n",
    "\n",
    "The results of our random grid search show that we are starting to get into the territory of only modest performance gains again. It appears as if the big breakthrough was related to using a loss function that is more robust to outlier values. Beyond that we are seeing diminishing returns.\n",
    "\n",
    "Next, let's apply our model with best params to our test data and see how it generalizes with new data.\n",
    "\n",
    "## 5 Test Data Predictions"
   ]
  },
  {
   "cell_type": "code",
   "execution_count": 24,
   "id": "06ed0914",
   "metadata": {},
   "outputs": [
    {
     "data": {
      "text/plain": [
       "638.64"
      ]
     },
     "execution_count": 24,
     "metadata": {},
     "output_type": "execute_result"
    }
   ],
   "source": [
    "# Create the pipeline and fit\n",
    "pipe = GB_Random.best_estimator_\n",
    "pipe.fit(X_train, y_train)\n",
    "\n",
    "# Predict against the test set and view the result\n",
    "y_pred = pipe.predict(X_test)\n",
    "round(mean_absolute_error(y_test, y_pred), 2)"
   ]
  },
  {
   "cell_type": "markdown",
   "id": "324e83e3",
   "metadata": {},
   "source": [
    "Nice! Using our best model, we're seeing an improvement over our results with the training set. We'll discuss the significance of this result further down in the conclusion, but this is a great indication that our model generalizes well against new data."
   ]
  },
  {
   "cell_type": "markdown",
   "id": "3f97ba3b",
   "metadata": {},
   "source": [
    "# COMPLETE THE BELOW\n",
    "\n",
    "## 6 Conclusions and Next Steps\n",
    "\n",
    "### 6.1 Conclusions"
   ]
  },
  {
   "cell_type": "markdown",
   "id": "3bcde00e",
   "metadata": {},
   "source": [
    "### 6.2 Next Steps"
   ]
  },
  {
   "cell_type": "markdown",
   "id": "1a2afac8",
   "metadata": {},
   "source": [
    "### 6.3 Save Model"
   ]
  },
  {
   "cell_type": "code",
   "execution_count": 31,
   "id": "d6369b11",
   "metadata": {},
   "outputs": [
    {
     "name": "stdout",
     "output_type": "stream",
     "text": [
      "Directory ../models was created.\n",
      "Writing file.  \"../models/ski_resort_pricing_model.pkl\"\n"
     ]
    }
   ],
   "source": [
    "# Store some basic information about the model\n",
    "best_model = GB_Random.best_estimator_\n",
    "best_model.version = '1.0'\n",
    "best_model.pandas_version = pd.__version__\n",
    "best_model.numpy_version = np.__version__\n",
    "best_model.sklearn_version = sklearn_version\n",
    "best_model.X_columns = [col for col in X_train.columns]\n",
    "best_model.build_datetime = datetime.datetime.now()\n",
    "\n",
    "# save the model\n",
    "\n",
    "modelpath = '../models'\n",
    "save_file(best_model, 'ski_resort_pricing_model.pkl', modelpath)"
   ]
  }
 ],
 "metadata": {
  "kernelspec": {
   "display_name": "Python 3",
   "language": "python",
   "name": "python3"
  },
  "language_info": {
   "codemirror_mode": {
    "name": "ipython",
    "version": 3
   },
   "file_extension": ".py",
   "mimetype": "text/x-python",
   "name": "python",
   "nbconvert_exporter": "python",
   "pygments_lexer": "ipython3",
   "version": "3.8.8"
  }
 },
 "nbformat": 4,
 "nbformat_minor": 5
}
