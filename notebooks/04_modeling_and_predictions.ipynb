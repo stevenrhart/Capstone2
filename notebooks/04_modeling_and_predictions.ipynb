{
 "cells": [
  {
   "cell_type": "markdown",
   "id": "7843a3bb",
   "metadata": {},
   "source": [
    "# Predicting Pet Insurance Claims - Model Tuning and Predictions\n",
    "## 1 Introduction\n",
    "### 1.1 Background\n",
    "Whenever a pet insurance policy holder incurs veterinary expenses related to their enrolled pet, they can submit claims for reimbursement, and the insurance company reimburses eligible expenses. To price insurance products correctly, the insurance company needs to have a good idea of the amount their policy holders are likely to claim in the future.\n",
    "\n",
    "### 1.2 Project Goal\n",
    "The goal of this project is to create a machine learning model to predict how much (in USD) a given policy holder will claim for during the second year of their policy.\n",
    "\n",
    "### 1.3 Notebook Goals\n",
    "* TBD\n",
    "\n",
    "# Add Goals\n",
    "\n",
    "## 2 Setup\n",
    "### 2.1 Imports"
   ]
  },
  {
   "cell_type": "code",
   "execution_count": 144,
   "id": "6936f5c3",
   "metadata": {},
   "outputs": [],
   "source": [
    "import pandas as pd\n",
    "import numpy as np\n",
    "import matplotlib.pyplot as plt\n",
    "import seaborn as sns\n",
    "\n",
    "from sklearn.model_selection import train_test_split, cross_validate, learning_curve, GridSearchCV, RandomizedSearchCV\n",
    "from sklearn.compose import make_column_transformer\n",
    "from sklearn.preprocessing import OneHotEncoder\n",
    "from sklearn.pipeline import make_pipeline, Pipeline\n",
    "from sklearn.dummy import DummyRegressor\n",
    "from sklearn.linear_model import LinearRegression, Lasso\n",
    "from sklearn.ensemble import GradientBoostingRegressor\n",
    "from sklearn.metrics import mean_absolute_error\n",
    "from sklearn.feature_selection import SelectKBest, f_regression\n",
    "from sklearn import __version__ as sklearn_version\n",
    "\n",
    "# import datetime\n",
    "# import os\n",
    "# import pickle\n",
    "# from library.sb_utils import save_file"
   ]
  },
  {
   "cell_type": "markdown",
   "id": "99f4ed71",
   "metadata": {},
   "source": [
    "### 2.2 Data and Initial Modeling Results\n",
    "We ended preprocessing and initial modeling with our training and test sets and some initial results. In order to continue on enhancing our model, we need to load in our training and test data as a first step. \n",
    "\n",
    "#### 2.2.1 Data Load\n",
    "Let's take a look at the shape of our training and test sets and get a preview of our test data."
   ]
  },
  {
   "cell_type": "code",
   "execution_count": 2,
   "id": "9ae61627",
   "metadata": {},
   "outputs": [
    {
     "name": "stdout",
     "output_type": "stream",
     "text": [
      "(40000, 12)\n",
      "(10000, 12)\n",
      "(40000,)\n",
      "(10000,)\n"
     ]
    }
   ],
   "source": [
    "# Read in the training and test sets\n",
    "X_train = pd.read_csv('../data/X_train.csv', index_col=0)\n",
    "y_train = np.genfromtxt('../data/y_train.csv', delimiter=',')\n",
    "X_test = pd.read_csv('../data/X_test.csv', index_col=0)\n",
    "y_test = np.genfromtxt('../data/y_test.csv', delimiter=',')\n",
    "\n",
    "# Preview the shape\n",
    "print(X_train.shape)\n",
    "print(X_test.shape)\n",
    "print(y_train.shape)\n",
    "print(y_test.shape)"
   ]
  },
  {
   "cell_type": "code",
   "execution_count": 3,
   "id": "5785415e",
   "metadata": {},
   "outputs": [
    {
     "data": {
      "text/html": [
       "<div>\n",
       "<style scoped>\n",
       "    .dataframe tbody tr th:only-of-type {\n",
       "        vertical-align: middle;\n",
       "    }\n",
       "\n",
       "    .dataframe tbody tr th {\n",
       "        vertical-align: top;\n",
       "    }\n",
       "\n",
       "    .dataframe thead th {\n",
       "        text-align: right;\n",
       "    }\n",
       "</style>\n",
       "<table border=\"1\" class=\"dataframe\">\n",
       "  <thead>\n",
       "    <tr style=\"text-align: right;\">\n",
       "      <th></th>\n",
       "      <th>0</th>\n",
       "      <th>1</th>\n",
       "      <th>2</th>\n",
       "      <th>3</th>\n",
       "      <th>4</th>\n",
       "      <th>5</th>\n",
       "      <th>6</th>\n",
       "      <th>7</th>\n",
       "    </tr>\n",
       "  </thead>\n",
       "  <tbody>\n",
       "    <tr>\n",
       "      <th>Species</th>\n",
       "      <td>Dog</td>\n",
       "      <td>Dog</td>\n",
       "      <td>Dog</td>\n",
       "      <td>Dog</td>\n",
       "      <td>Dog</td>\n",
       "      <td>Dog</td>\n",
       "      <td>Cat</td>\n",
       "      <td>Dog</td>\n",
       "    </tr>\n",
       "    <tr>\n",
       "      <th>AgeYr1</th>\n",
       "      <td>3</td>\n",
       "      <td>0</td>\n",
       "      <td>0</td>\n",
       "      <td>1</td>\n",
       "      <td>2</td>\n",
       "      <td>0</td>\n",
       "      <td>6</td>\n",
       "      <td>6</td>\n",
       "    </tr>\n",
       "    <tr>\n",
       "      <th>YoungAge</th>\n",
       "      <td>0</td>\n",
       "      <td>0</td>\n",
       "      <td>0</td>\n",
       "      <td>0</td>\n",
       "      <td>0</td>\n",
       "      <td>0</td>\n",
       "      <td>0</td>\n",
       "      <td>0</td>\n",
       "    </tr>\n",
       "    <tr>\n",
       "      <th>AmtClaimsYr1</th>\n",
       "      <td>76.25</td>\n",
       "      <td>0.0</td>\n",
       "      <td>6010.88</td>\n",
       "      <td>303.15</td>\n",
       "      <td>0.0</td>\n",
       "      <td>701.6</td>\n",
       "      <td>431.57</td>\n",
       "      <td>0.0</td>\n",
       "    </tr>\n",
       "    <tr>\n",
       "      <th>AvgClaimsYr1</th>\n",
       "      <td>76.25</td>\n",
       "      <td>0.0</td>\n",
       "      <td>546.443636</td>\n",
       "      <td>151.575</td>\n",
       "      <td>0.0</td>\n",
       "      <td>701.6</td>\n",
       "      <td>215.785</td>\n",
       "      <td>0.0</td>\n",
       "    </tr>\n",
       "    <tr>\n",
       "      <th>NumClaimsYr1</th>\n",
       "      <td>1</td>\n",
       "      <td>0</td>\n",
       "      <td>11</td>\n",
       "      <td>2</td>\n",
       "      <td>0</td>\n",
       "      <td>1</td>\n",
       "      <td>2</td>\n",
       "      <td>0</td>\n",
       "    </tr>\n",
       "    <tr>\n",
       "      <th>BreedAvgTotalClaims</th>\n",
       "      <td>663.502526</td>\n",
       "      <td>540.515378</td>\n",
       "      <td>705.72864</td>\n",
       "      <td>705.72864</td>\n",
       "      <td>663.502526</td>\n",
       "      <td>925.434405</td>\n",
       "      <td>395.718466</td>\n",
       "      <td>1509.175333</td>\n",
       "    </tr>\n",
       "    <tr>\n",
       "      <th>BreedAvgNumClaims</th>\n",
       "      <td>1.491045</td>\n",
       "      <td>1.627294</td>\n",
       "      <td>1.766242</td>\n",
       "      <td>1.766242</td>\n",
       "      <td>1.491045</td>\n",
       "      <td>1.875611</td>\n",
       "      <td>0.871485</td>\n",
       "      <td>2.552941</td>\n",
       "    </tr>\n",
       "    <tr>\n",
       "      <th>BreedAvgClaimAmt</th>\n",
       "      <td>196.601991</td>\n",
       "      <td>159.645266</td>\n",
       "      <td>198.844913</td>\n",
       "      <td>198.844913</td>\n",
       "      <td>196.601991</td>\n",
       "      <td>240.294459</td>\n",
       "      <td>137.970879</td>\n",
       "      <td>315.759532</td>\n",
       "    </tr>\n",
       "    <tr>\n",
       "      <th>AgeYr1AvgTotalClaims</th>\n",
       "      <td>722.652663</td>\n",
       "      <td>902.942389</td>\n",
       "      <td>902.942389</td>\n",
       "      <td>699.071121</td>\n",
       "      <td>619.496248</td>\n",
       "      <td>902.942389</td>\n",
       "      <td>449.891932</td>\n",
       "      <td>904.086963</td>\n",
       "    </tr>\n",
       "    <tr>\n",
       "      <th>AgeYr1AvgNumClaims</th>\n",
       "      <td>1.275474</td>\n",
       "      <td>2.002704</td>\n",
       "      <td>2.002704</td>\n",
       "      <td>1.359896</td>\n",
       "      <td>1.243786</td>\n",
       "      <td>2.002704</td>\n",
       "      <td>0.942029</td>\n",
       "      <td>1.47284</td>\n",
       "    </tr>\n",
       "    <tr>\n",
       "      <th>AgeYr1AvgClaimAmt</th>\n",
       "      <td>218.098714</td>\n",
       "      <td>234.275301</td>\n",
       "      <td>234.275301</td>\n",
       "      <td>212.218786</td>\n",
       "      <td>198.114908</td>\n",
       "      <td>234.275301</td>\n",
       "      <td>124.637412</td>\n",
       "      <td>330.747276</td>\n",
       "    </tr>\n",
       "  </tbody>\n",
       "</table>\n",
       "</div>"
      ],
      "text/plain": [
       "                               0           1           2           3  \\\n",
       "Species                      Dog         Dog         Dog         Dog   \n",
       "AgeYr1                         3           0           0           1   \n",
       "YoungAge                       0           0           0           0   \n",
       "AmtClaimsYr1               76.25         0.0     6010.88      303.15   \n",
       "AvgClaimsYr1               76.25         0.0  546.443636     151.575   \n",
       "NumClaimsYr1                   1           0          11           2   \n",
       "BreedAvgTotalClaims   663.502526  540.515378   705.72864   705.72864   \n",
       "BreedAvgNumClaims       1.491045    1.627294    1.766242    1.766242   \n",
       "BreedAvgClaimAmt      196.601991  159.645266  198.844913  198.844913   \n",
       "AgeYr1AvgTotalClaims  722.652663  902.942389  902.942389  699.071121   \n",
       "AgeYr1AvgNumClaims      1.275474    2.002704    2.002704    1.359896   \n",
       "AgeYr1AvgClaimAmt     218.098714  234.275301  234.275301  212.218786   \n",
       "\n",
       "                               4           5           6            7  \n",
       "Species                      Dog         Dog         Cat          Dog  \n",
       "AgeYr1                         2           0           6            6  \n",
       "YoungAge                       0           0           0            0  \n",
       "AmtClaimsYr1                 0.0       701.6      431.57          0.0  \n",
       "AvgClaimsYr1                 0.0       701.6     215.785          0.0  \n",
       "NumClaimsYr1                   0           1           2            0  \n",
       "BreedAvgTotalClaims   663.502526  925.434405  395.718466  1509.175333  \n",
       "BreedAvgNumClaims       1.491045    1.875611    0.871485     2.552941  \n",
       "BreedAvgClaimAmt      196.601991  240.294459  137.970879   315.759532  \n",
       "AgeYr1AvgTotalClaims  619.496248  902.942389  449.891932   904.086963  \n",
       "AgeYr1AvgNumClaims      1.243786    2.002704    0.942029      1.47284  \n",
       "AgeYr1AvgClaimAmt     198.114908  234.275301  124.637412   330.747276  "
      ]
     },
     "execution_count": 3,
     "metadata": {},
     "output_type": "execute_result"
    }
   ],
   "source": [
    "# Preview the training data\n",
    "X_train.head(8).T"
   ]
  },
  {
   "cell_type": "markdown",
   "id": "3a26d4e7",
   "metadata": {},
   "source": [
    "#### 2.2.2 Initial Modeling Results\n",
    "In the previous notebook, we completed some initial modeling including the following:\n",
    "* Established a baseline using `DummyRegressor()` with predictions equivalent to the mean value of the target \n",
    "* Created a simple liner model using `LinearRegressor()` and default settings\n",
    "* Enhanced our simple linear model by incorporating feature selection and making predictions using the best 'k' features\n",
    "\n",
    "Using the linear model with feature selection, we managed to improve upon the baseline model by **~9%**, or over **\\$90** per customer. Given the size of the total customer base (~65-75 million pets), this represents a significant total value that could be realized by factoring model predictions into policy premium and deductible amounts.\n",
    "\n",
    "In this notebook, we'll continue tuning our model and evaluating additional modeling approaches to see if we can improve upon the initial result. Following this evaluation, we will select our final model and make predictions on our test set to generate final results. Our best model so far is using a **simple linear regression model with feature selection**. This resulted in a mean absolute error of **~\\\\$930**. So there could be a lot of room for improvement if we can find a model that better suits our data.\n",
    "\n",
    "#### 2.2.3 Data Preprocessing\n",
    "In our previous notebook, we also created a simple preprocessor to handle our remaining category data in the Species column. We'll recreate that here for use in our model pipelines throughout."
   ]
  },
  {
   "cell_type": "code",
   "execution_count": 5,
   "id": "ca433fdc",
   "metadata": {},
   "outputs": [],
   "source": [
    "# Create a preprocessor to encode the remaining categorical column\n",
    "preprocessor = make_column_transformer(\n",
    "    (OneHotEncoder(drop='if_binary'), ['Species']), remainder='passthrough')"
   ]
  },
  {
   "cell_type": "markdown",
   "id": "ef6ad929",
   "metadata": {},
   "source": [
    "## 3 Lasso Regression\n",
    "For our first modeling technique, we'll utilize **Lasso Regression**. Lasso can be useful in cases where only a few of the features are actually influencing the predictions. As observed in the previous notebook, our situation is similar here. Although we saw 9 features selected as a result of using the 'best k' features, only 2 or 3 appeared to have significant coefficient values with the remainder very close to zero.\n",
    "\n",
    "For Lasso, we'll start off by utilizing a basic version of the algorithm with no tuning and then we'll utilize grid search to see if we can tune the results further. "
   ]
  },
  {
   "cell_type": "markdown",
   "id": "c8d15198",
   "metadata": {},
   "source": [
    "### 3.1 Simple Lasso Regression Model"
   ]
  },
  {
   "cell_type": "code",
   "execution_count": 6,
   "id": "f04d2119",
   "metadata": {},
   "outputs": [
    {
     "name": "stdout",
     "output_type": "stream",
     "text": [
      "mean test score (mae): 930.28\n"
     ]
    }
   ],
   "source": [
    "# Make pipeline, cross validate and get results\n",
    "pipe = make_pipeline(preprocessor, Lasso())\n",
    "cv_results = cross_validate(pipe, X_train, y_train, scoring='neg_mean_absolute_error', cv=5)\n",
    "score_mean = -1 * round(np.mean(cv_results['test_score']), 2)\n",
    "print(\"mean test score (mae): \" + str(score_mean))"
   ]
  },
  {
   "cell_type": "markdown",
   "id": "325ae88c",
   "metadata": {},
   "source": [
    "So utilizing Lasso regression with default settings, we've managed to improve our MAE by about 0.07. Overall, not great. Let's see what we can do by applying grid search and searching over a range of parameter values."
   ]
  },
  {
   "cell_type": "markdown",
   "id": "4d583c9a",
   "metadata": {},
   "source": [
    "### 3.2 Lasso Regression with GridSearchCV"
   ]
  },
  {
   "cell_type": "code",
   "execution_count": 9,
   "id": "23590db4",
   "metadata": {},
   "outputs": [
    {
     "data": {
      "text/plain": [
       "GridSearchCV(cv=5,\n",
       "             estimator=Pipeline(steps=[('preprocessor',\n",
       "                                        ColumnTransformer(remainder='passthrough',\n",
       "                                                          transformers=[('onehotencoder',\n",
       "                                                                         OneHotEncoder(drop='if_binary'),\n",
       "                                                                         ['Species'])])),\n",
       "                                       ('regressor', Lasso())]),\n",
       "             n_jobs=-1,\n",
       "             param_grid={'regressor__alpha': [0.1, 1, 5, 10],\n",
       "                         'regressor__fit_intercept': [True, False],\n",
       "                         'regressor__normalize': [True, False]},\n",
       "             scoring='neg_mean_absolute_error')"
      ]
     },
     "execution_count": 9,
     "metadata": {},
     "output_type": "execute_result"
    }
   ],
   "source": [
    "# Create the pipeline\n",
    "pipe = Pipeline([('preprocessor', preprocessor),('regressor', Lasso())])\n",
    "\n",
    "# Establish the parameter grid\n",
    "param_grid = {'regressor__alpha': [0.1, 1, 5, 10], 'regressor__fit_intercept': [True, False],\n",
    "              'regressor__normalize': [True, False]}\n",
    "\n",
    "# Instantiate the grid search and fit the model\n",
    "Lasso_GS = GridSearchCV(pipe, param_grid=param_grid, scoring='neg_mean_absolute_error', cv=5, n_jobs=-1)\n",
    "Lasso_GS.fit(X_train, y_train)"
   ]
  },
  {
   "cell_type": "code",
   "execution_count": 10,
   "id": "5462a08f",
   "metadata": {},
   "outputs": [
    {
     "name": "stdout",
     "output_type": "stream",
     "text": [
      "best score (mae): 930.18\n"
     ]
    }
   ],
   "source": [
    "# Print best test score\n",
    "best_score = -1 * round(np.max(Lasso_GS.cv_results_['mean_test_score']), 2)\n",
    "print(\"best score (mae): \" + str(best_score))"
   ]
  },
  {
   "cell_type": "code",
   "execution_count": 11,
   "id": "b621b8aa",
   "metadata": {},
   "outputs": [
    {
     "data": {
      "text/plain": [
       "{'regressor__alpha': 5,\n",
       " 'regressor__fit_intercept': True,\n",
       " 'regressor__normalize': False}"
      ]
     },
     "execution_count": 11,
     "metadata": {},
     "output_type": "execute_result"
    }
   ],
   "source": [
    "Lasso_GS.best_params_"
   ]
  },
  {
   "cell_type": "markdown",
   "id": "e875b685",
   "metadata": {},
   "source": [
    "Again, we see a very modest improvement in the Lasso regression results by adding parameter tuning. We could continue tweaking our parameter grid, but given the very small amount of improvement so far, it seems unlikely that we will see a substantial improvement by continuing to fine tune the model.\n",
    "\n",
    "Rather than focusing more time on Lasso, let's move on to try a few additional models, starting with **Gradient Boosting**.\n",
    "\n",
    "\n",
    "## 4 Gradient Boosting\n",
    "Up to this point, we seem to be hitting a wall when it comes to model performance gains with our **MAE values plateauing at ~930**. \n",
    "\n",
    "One reason for this could very well be that our data simply doesn't fit well into a linear model. As observed throughout this project, none of our features are regularly distributed and our target (i.e., Insurance Claims Amount) is mostly random in nature and as a result, difficult to predict with precision.\n",
    "\n",
    "Given this fact, it stands to reason that we need a model such as Gradient Boosting that can perform well with unbalanced data."
   ]
  },
  {
   "cell_type": "markdown",
   "id": "05774463",
   "metadata": {},
   "source": [
    "### 4.1 Simple Gradient Boosting Model"
   ]
  },
  {
   "cell_type": "code",
   "execution_count": 20,
   "id": "ccacc0e8",
   "metadata": {},
   "outputs": [
    {
     "name": "stdout",
     "output_type": "stream",
     "text": [
      "mean test score (mae): 932.56\n"
     ]
    }
   ],
   "source": [
    "# Make pipeline, cross-validate, and get results\n",
    "pipe = make_pipeline(preprocessor, GradientBoostingRegressor())\n",
    "cv_results = cross_validate(pipe, X_train, y_train, scoring='neg_mean_absolute_error', cv=5)\n",
    "score_mean = -1 * round(np.mean(cv_results['test_score']), 2)\n",
    "print(\"mean test score (mae): \" + str(score_mean))"
   ]
  },
  {
   "cell_type": "markdown",
   "id": "1a30042b",
   "metadata": {},
   "source": [
    "Using a simple Gradient Boosting model, we see our predictive accuracy actually got worse. That's not too surprising considering we made no effort to tune the model, but it might be an early indication that we won't see much improvement over and above our current best score of ~930. \n",
    "\n",
    "As a next step, let's start by tuning 'n_estimators' (the number of boosting stages) and 'learning_rate' (which shrinks the contribution of each tree. There is typically a tradeoff between these two parameters and so finding the right balance will help provide us with a good foundation to continue the tuning process.\n",
    "\n",
    "For this tuning step, we'll implement a grid search using a range of values for each of the two parameters mentioned above, and we'll stay with the default values for all other parameters for now. Afterwards, we can see which pair of values gave us the best performance and also plot the overall results.\n",
    "\n"
   ]
  },
  {
   "cell_type": "code",
   "execution_count": 253,
   "id": "d0e159e7",
   "metadata": {},
   "outputs": [
    {
     "data": {
      "text/plain": [
       "GridSearchCV(cv=5,\n",
       "             estimator=Pipeline(steps=[('preprocessor',\n",
       "                                        ColumnTransformer(remainder='passthrough',\n",
       "                                                          transformers=[('onehotencoder',\n",
       "                                                                         OneHotEncoder(drop='if_binary'),\n",
       "                                                                         ['Species'])])),\n",
       "                                       ('regressor',\n",
       "                                        GradientBoostingRegressor(random_state=23))]),\n",
       "             n_jobs=-1,\n",
       "             param_grid={'regressor__learning_rate': [0.001, 0.01, 0.05, 0.1,\n",
       "                                                      0.2],\n",
       "                         'regressor__n_estimators': range(10, 110, 10)},\n",
       "             scoring='neg_mean_absolute_error')"
      ]
     },
     "execution_count": 253,
     "metadata": {},
     "output_type": "execute_result"
    }
   ],
   "source": [
    "# Instantiate the regressor model\n",
    "regressor = GradientBoostingRegressor(random_state=23)\n",
    "\n",
    "# Create the pipeline\n",
    "pipe = Pipeline([('preprocessor', preprocessor),\n",
    "                 ('regressor', regressor)\n",
    "                ])\n",
    "\n",
    "# Establish the parameter grid\n",
    "param_grid = { 'regressor__learning_rate': [0.001, 0.01, 0.05, 0.1, 0.2],\n",
    "               'regressor__n_estimators': range(10, 110, 10),\n",
    "              }\n",
    "\n",
    "# Instantiate the grid search and fit the model\n",
    "GB_GS = GridSearchCV(pipe, param_grid=param_grid, scoring='neg_mean_absolute_error', cv=5, n_jobs=-1)\n",
    "GB_GS.fit(X_train, y_train)"
   ]
  },
  {
   "cell_type": "code",
   "execution_count": 254,
   "id": "1dc637e8",
   "metadata": {},
   "outputs": [
    {
     "name": "stdout",
     "output_type": "stream",
     "text": [
      "Best Score (MAE): 931.92\n",
      "\n",
      "Best Params:\n"
     ]
    },
    {
     "data": {
      "text/plain": [
       "(None, {'regressor__learning_rate': 0.1, 'regressor__n_estimators': 80})"
      ]
     },
     "execution_count": 254,
     "metadata": {},
     "output_type": "execute_result"
    }
   ],
   "source": [
    "# Print best test score\n",
    "best_score = -1 * round(np.max(GB_GS.cv_results_['mean_test_score']), 2)\n",
    "print(\"Best Score (MAE): \" + str(best_score) + \"\\n\")\n",
    "\n",
    "# Print best params from grid search\n",
    "print(\"Best Params:\"), GB_GS.best_params_"
   ]
  },
  {
   "cell_type": "markdown",
   "id": "328df7ed",
   "metadata": {},
   "source": [
    "With some basic tuning, we managed to see a modest improvement, but we are still hovering around the ~930 range. Before moving on with more advanced tuning, let's plot the results to get a better feel for how these two parameters are affecting the scores. We can create a function for this that will come in handy as we continue tuning our model."
   ]
  },
  {
   "cell_type": "code",
   "execution_count": 255,
   "id": "28a48622",
   "metadata": {},
   "outputs": [],
   "source": [
    "# Create a function for plotting the \n",
    "def plot_grid_search_results(cv_results, grid_param_1, grid_param_2, name_param_1, name_param_2):\n",
    "    \n",
    "    #TODO - Add docstring\n",
    "    \n",
    "    # Get mean test score for each grid search\n",
    "    scores_mean = cv_results['mean_test_score']\n",
    "    scores_mean = np.array(scores_mean).reshape(len(grid_param_2),len(grid_param_1))\n",
    "\n",
    "    # Plot grid search scores\n",
    "    _, ax = plt.subplots(1,1, figsize=(12, 6))\n",
    "\n",
    "    # Param_1 is the X-axis, Param 2 is represented as a different color line on the plot\n",
    "    for idx, val in enumerate(grid_param_2):\n",
    "        plt.plot(grid_param_1, scores_mean[idx,:], '-o', label= name_param_2 + ': ' + str(val))\n",
    "\n",
    "    plt.suptitle(\"Grid Search Scores\", y=0.95, fontsize=14)\n",
    "    plt.xlabel(name_param_1, fontsize=12) \n",
    "    plt.ylabel('CV Average Score', fontsize=12) \n",
    "    plt.legend(loc=\"best\", fontsize=12, bbox_to_anchor=(1, 1.02))"
   ]
  },
  {
   "cell_type": "code",
   "execution_count": 256,
   "id": "e17d1ef0",
   "metadata": {},
   "outputs": [
    {
     "data": {
      "image/png": "[encoded data removed]",
      "text/plain": [
       "<Figure size 864x432 with 1 Axes>"
      ]
     },
     "metadata": {
      "needs_background": "light"
     },
     "output_type": "display_data"
    }
   ],
   "source": [
    "# Plot the results\n",
    "plot_grid_search_results(GB_GS.cv_results_, \n",
    "                         GB_GS.param_grid['regressor__n_estimators'],\n",
    "                         GB_GS.param_grid['regressor__learning_rate'], \n",
    "                         'N Estimators', 'Learning Rate')"
   ]
  },
  {
   "cell_type": "markdown",
   "id": "357c8626",
   "metadata": {},
   "source": [
    "We can see above, that our best set of parameters for n_estimators and learning_rate are 80 and 0.1, respectively. These are pretty close the the model defaults (i.e., 100, 0.1), so it isn't surprising that we didn't see much of an improvement. Next, let's focus on tuning the 'subsample' and 'loss' parameters in a similar fashion.\n",
    "\n",
    "Subsample, is the fraction of samples used in fitting the base learners. By reducing this to less than 1, we may be able to reduce the variance in our model and increase bias. We'll try a range of values for subsample from 0.2-0.9.\n",
    "\n",
    "The default for loss is 'squared_error'. For this round of testing, we'll also include 'huber', which is a combination of 'squared_error' and 'absolute_error'."
   ]
  },
  {
   "cell_type": "code",
   "execution_count": 250,
   "id": "b0cf5dc6",
   "metadata": {},
   "outputs": [
    {
     "data": {
      "text/plain": [
       "GridSearchCV(cv=5,\n",
       "             estimator=Pipeline(steps=[('preprocessor',\n",
       "                                        ColumnTransformer(remainder='passthrough',\n",
       "                                                          transformers=[('onehotencoder',\n",
       "                                                                         OneHotEncoder(drop='if_binary'),\n",
       "                                                                         ['Species'])])),\n",
       "                                       ('regressor',\n",
       "                                        GradientBoostingRegressor(n_estimators=80,\n",
       "                                                                  random_state=23))]),\n",
       "             n_jobs=-1,\n",
       "             param_grid={'regressor__loss': ['huber', 'quantile'],\n",
       "                         'regressor__subsample': [0.1, 0.2, 0.3, 0.4, 0.5, 0.6,\n",
       "                                                  0.7, 0.8, 0.9, 1.0]},\n",
       "             scoring='neg_mean_absolute_error')"
      ]
     },
     "execution_count": 250,
     "metadata": {},
     "output_type": "execute_result"
    }
   ],
   "source": [
    "# Instantiate the regressor model\n",
    "regressor = GradientBoostingRegressor(n_estimators=80, random_state=23)\n",
    "\n",
    "# Create the pipeline\n",
    "pipe = Pipeline([('preprocessor', preprocessor),\n",
    "                 ('regressor', regressor)\n",
    "                ])\n",
    "\n",
    "# Establish the parameter grid\n",
    "param_grid = { 'regressor__loss': ['huber', 'quantile'],\n",
    "               'regressor__alpha': [0.1, 0.2, 0.3, 0.4, 0.5, 0.6, 0.7, 0.8, 0.9, 1.0],\n",
    "              }\n",
    "\n",
    "# Instantiate the grid search and fit the model\n",
    "GB_GS = GridSearchCV(pipe, param_grid=param_grid, scoring='neg_mean_absolute_error', cv=5, n_jobs=-1)\n",
    "GB_GS.fit(X_train, y_train)"
   ]
  },
  {
   "cell_type": "code",
   "execution_count": 251,
   "id": "1d9d2e64",
   "metadata": {},
   "outputs": [
    {
     "name": "stdout",
     "output_type": "stream",
     "text": [
      "Best Score (MAE): 757.23\n",
      "\n",
      "Best Params:\n"
     ]
    },
    {
     "data": {
      "text/plain": [
       "(None, {'regressor__loss': 'huber', 'regressor__subsample': 1.0})"
      ]
     },
     "execution_count": 251,
     "metadata": {},
     "output_type": "execute_result"
    }
   ],
   "source": [
    "# Print best test score\n",
    "best_score = -1 * round(np.max(GB_GS.cv_results_['mean_test_score']), 2)\n",
    "print(\"Best Score (MAE): \" + str(best_score) + \"\\n\")\n",
    "\n",
    "# Print best params from grid search\n",
    "print(\"Best Params:\"), GB_GS.best_params_"
   ]
  },
  {
   "cell_type": "code",
   "execution_count": 252,
   "id": "cd162362",
   "metadata": {},
   "outputs": [
    {
     "data": {
      "image/png": "[encoded data removed]",
      "text/plain": [
       "<Figure size 864x432 with 1 Axes>"
      ]
     },
     "metadata": {
      "needs_background": "light"
     },
     "output_type": "display_data"
    }
   ],
   "source": [
    "# Plot the results\n",
    "plot_grid_search_results(GB_GS.cv_results_, \n",
    "                         GB_GS.param_grid['regressor__subsample'],\n",
    "                         GB_GS.param_grid['regressor__loss'], \n",
    "                         'Subsample', 'Loss')"
   ]
  },
  {
   "cell_type": "code",
   "execution_count": null,
   "id": "6de8f5a1",
   "metadata": {},
   "outputs": [],
   "source": []
  },
  {
   "cell_type": "code",
   "execution_count": null,
   "id": "4644b13c",
   "metadata": {},
   "outputs": [],
   "source": []
  },
  {
   "cell_type": "code",
   "execution_count": null,
   "id": "a2ea9877",
   "metadata": {},
   "outputs": [],
   "source": []
  },
  {
   "cell_type": "code",
   "execution_count": 178,
   "id": "406c62aa",
   "metadata": {},
   "outputs": [],
   "source": [
    "# def plot_grid_search(cv_results, grid_param_1, grid_param_2, name_param_1, name_param_2):\n",
    "#     # Get Test Scores Mean and std for each grid search\n",
    "#     scores_mean = cv_results['mean_test_score']\n",
    "#     scores_mean = np.array(scores_mean).reshape(len(grid_param_2),len(grid_param_1))\n",
    "\n",
    "#     scores_std = cv_results['std_test_score']\n",
    "#     scores_std = np.array(scores_std).reshape(len(grid_param_2),len(grid_param_1))\n",
    "\n",
    "#     # Plot Grid search scores\n",
    "#     _, ax = plt.subplots(1,1, figsize=(8, 6))\n",
    "\n",
    "#     # Param1 is the X-axis, Param 2 is represented as a different curve (color line)\n",
    "#     for idx, val in enumerate(grid_param_2):\n",
    "#         ax.plot(grid_param_1, scores_mean[idx,:], '-o', label= name_param_2 + ': ' + str(val))\n",
    "#         sns.lineplot(x=grid_param_1, y=scores_mean[idx,:])\n",
    "#         ax.errorbar(grid_param_1, scores_mean[idx,:], yerr=scores_std[idx,:])\n",
    "\n",
    "#     ax.set_title(\"Grid Search Scores\", fontsize=14) \n",
    "#     ax.set_xlabel(name_param_1, fontsize=12) \n",
    "#     ax.set_ylabel('CV Average Score', fontsize=12) \n",
    "#     ax.legend(loc=\"best\", fontsize=12, bbox_to_anchor=(1, 1))\n",
    "# #     ax.grid('on')"
   ]
  },
  {
   "cell_type": "code",
   "execution_count": 72,
   "id": "a15765c0",
   "metadata": {},
   "outputs": [
    {
     "data": {
      "text/plain": [
       "GridSearchCV(cv=5,\n",
       "             estimator=Pipeline(steps=[('preprocessor',\n",
       "                                        ColumnTransformer(remainder='passthrough',\n",
       "                                                          transformers=[('onehotencoder',\n",
       "                                                                         OneHotEncoder(drop='if_binary'),\n",
       "                                                                         ['Species'])])),\n",
       "                                       ('regressor',\n",
       "                                        GradientBoostingRegressor(random_state=23))]),\n",
       "             n_jobs=-1,\n",
       "             param_grid={'regressor__learning_rate': [0.0001],\n",
       "                         'regressor__loss': ['huber'],\n",
       "                         'regressor__max_depth': [3],\n",
       "                         'regressor__max_features': ['auto'],\n",
       "                         'regressor__min_samples_leaf': [1],\n",
       "                         'regressor__min_samples_split': [2],\n",
       "                         'regressor__n_estimators': [1, 10, 100, 1000],\n",
       "                         'regressor__subsample': [0.5]},\n",
       "             scoring='neg_mean_absolute_error')"
      ]
     },
     "execution_count": 72,
     "metadata": {},
     "output_type": "execute_result"
    }
   ],
   "source": [
    "# Create the pipeline\n",
    "pipe = Pipeline([('preprocessor', preprocessor),\n",
    "                 ('regressor', GradientBoostingRegressor(random_state=23))\n",
    "                ])\n",
    "\n",
    "# # Establish the parameter grid\n",
    "# param_grid = { 'regressor__learning_rate': [0.001, 0.01, 0.1],\n",
    "#                'regressor__loss': ['huber'],\n",
    "#                'regressor__n_estimators': range(10, 110, 10),\n",
    "#                'regressor__subsample': [0.8],\n",
    "#                'regressor__max_depth': [5],\n",
    "#                'regressor__min_samples_split': [40],\n",
    "#                'regressor__min_samples_leaf': [20],\n",
    "#                'regressor__max_features': ['sqrt'],\n",
    "#               }\n",
    "# Score with above search - 699.67\n",
    "\n",
    "# # Establish the parameter grid\n",
    "# param_grid = { 'regressor__learning_rate': [0.001],\n",
    "#                'regressor__loss': ['huber'],\n",
    "#                'regressor__n_estimators': [10, 100],\n",
    "#                'regressor__subsample': [0.3, 0.5, 0.7, 0.9],\n",
    "#                'regressor__max_depth': [3],\n",
    "#                'regressor__min_samples_split': [2],\n",
    "#                'regressor__min_samples_leaf': [1],\n",
    "#                'regressor__max_features': ['sqrt'],\n",
    "#               }\n",
    "# Score with above search - 699.67\n",
    "\n",
    "# # Establish the parameter grid\n",
    "# param_grid = { 'regressor__learning_rate': [0.0001],\n",
    "#                'regressor__loss': ['huber'],\n",
    "#                'regressor__n_estimators': [10],\n",
    "#                'regressor__subsample': [0.5],\n",
    "#                'regressor__max_depth': [3],\n",
    "#                'regressor__min_samples_split': [2],\n",
    "#                'regressor__min_samples_leaf': [1],\n",
    "#                'regressor__max_features': ['sqrt'],\n",
    "#               }\n",
    "# # Best Score (MAE): 699.35\n",
    "\n",
    "# param_grid = { 'regressor__learning_rate': [0.0001],\n",
    "#                'regressor__loss': ['huber'],\n",
    "#                'regressor__n_estimators': [1],\n",
    "#                'regressor__subsample': [0.5],\n",
    "#                'regressor__max_depth': [3],\n",
    "#                'regressor__min_samples_split': [2],\n",
    "#                'regressor__min_samples_leaf': [1],\n",
    "#                'regressor__max_features': ['auto']\n",
    "#              }\n",
    "# # Best Score (MAE): 699.32\n",
    "\n",
    "# param_grid = { 'regressor__learning_rate': [0.0001],\n",
    "#                'regressor__loss': ['huber'],\n",
    "#                'regressor__n_estimators': [1, 10, 100, 1000],\n",
    "#                'regressor__subsample': [0.5],\n",
    "#                'regressor__max_depth': [3],\n",
    "#                'regressor__min_samples_split': [2],\n",
    "#                'regressor__min_samples_leaf': [1],\n",
    "#                'regressor__max_features': ['auto']\n",
    "#              }\n",
    "# # Best Score (MAE): 699.32\n",
    "\n",
    "# Instantiate the grid search and fit the model\n",
    "GB_GS = GridSearchCV(pipe, param_grid=param_grid, scoring='neg_mean_absolute_error', cv=5, n_jobs=-1)\n",
    "GB_GS.fit(X_train, y_train)"
   ]
  },
  {
   "cell_type": "code",
   "execution_count": 73,
   "id": "6dbb84e8",
   "metadata": {},
   "outputs": [
    {
     "name": "stdout",
     "output_type": "stream",
     "text": [
      "Best Score (MAE): 699.32\n"
     ]
    }
   ],
   "source": [
    "# Print best test score\n",
    "best_score = -1 * round(np.max(GB_GS.cv_results_['mean_test_score']), 2)\n",
    "print(\"Best Score (MAE): \" + str(best_score))"
   ]
  },
  {
   "cell_type": "code",
   "execution_count": 74,
   "id": "f6829aff",
   "metadata": {},
   "outputs": [
    {
     "name": "stdout",
     "output_type": "stream",
     "text": [
      "Best Params:\n"
     ]
    },
    {
     "data": {
      "text/plain": [
       "{'regressor__learning_rate': 0.0001,\n",
       " 'regressor__loss': 'huber',\n",
       " 'regressor__max_depth': 3,\n",
       " 'regressor__max_features': 'auto',\n",
       " 'regressor__min_samples_leaf': 1,\n",
       " 'regressor__min_samples_split': 2,\n",
       " 'regressor__n_estimators': 1,\n",
       " 'regressor__subsample': 0.5}"
      ]
     },
     "execution_count": 74,
     "metadata": {},
     "output_type": "execute_result"
    }
   ],
   "source": [
    "# Print best params from grid search\n",
    "print(\"Best Params:\")\n",
    "GB_GS.best_params_"
   ]
  },
  {
   "cell_type": "markdown",
   "id": "541eaad8",
   "metadata": {},
   "source": [
    "Some rationale behind our initial set of parameters:\n",
    "* **loss** - We'll go with 'huber' as a combination of squared error and absolute error\n",
    "* **subsample** - For subsample, we'll start with a value less than one \n",
    "\n",
    "# Update text below\n",
    "**Step 1** Tune learning rate vs. n_estimators\n",
    "* Start with some basic parameter tuning\n",
    "* Grid Search on n_estimators / learning rate\n",
    "* Set other parameters and add rationale\n",
    "* Plot result of score at different learning rate (line plot?) or scatter plot of learning rate and n_estimator combinations\n",
    "\n",
    "**Step 2** Tune Tree-specific parameters\n",
    "* https://www.analyticsvidhya.com/blog/2016/02/complete-guide-parameter-tuning-gradient-boosting-gbm-python/\n",
    "* Tune max_depth and num_samples_split\n",
    "* Tune min_samples_leaf\n",
    "* Tune max_features\n",
    "The order of tuning variables should be decided carefully. You should take the variables with a higher impact on outcome first. For instance, max_depth and min_samples_split have a significant impact and we’re tuning those first.\n",
    "\n",
    "Important Note: I’ll be doing some heavy-duty grid searched in this section which can take 15-30 mins or even more time to run depending on your system. You can vary the number of values you are testing based on what your system can handle.\n",
    "\n",
    "To start with, I’ll test max_depth values of 5 to 15 in steps of 2 and min_samples_split from 200 to 1000 in steps of 200. These are just based on my intuition. You can set wider ranges as well and then perform multiple iterations for smaller ranges.\n",
    "\n",
    "**Step 3** Tune sub-sample and loss functions\n",
    "\n",
    "As a next step, let's tune our gradient boosting model by setting a few of the parameters and starting with a simple grid search of the n_estimators parameter to find an optimal number of trees for the default learning_rate of 0.1.\n",
    "\n",
    "Though, GBM is robust enough to not overfit with increasing trees, but a high number for a particular learning rate can lead to overfitting. But as we reduce the learning rate and increase trees, the computation becomes expensive and would take a long time to run on standard personal computers.\n",
    "\n",
    "Keeping all this in mind, we can take the following approach:\n",
    "\n",
    "* Choose a relatively high learning rate. Generally the default value of 0.1 works but somewhere between 0.05 to 0.2 should work for different problems\n",
    "* Determine the optimum number of trees for this learning rate. This should range around 40-70. Remember to choose a value on which your system can work fairly fast. This is because it will be used for testing various scenarios and determining the tree parameters.\n",
    "* Tune tree-specific parameters for decided learning rate and number of trees. Note that we can choose different parameters to define a tree and I’ll take up an example here.\n",
    "* Lower the learning rate and increase the estimators proportionally to get more robust models.\n",
    "\n",
    "\n",
    "\n",
    "\n",
    "Next, we'll implement a grid search for the hyperparameter tuning, but in this case, we'll use a Random Grid Search. This will greatly reduce the number of possible hyperparameter combinations involved in the search, saving value compute time. And even though the search won't be exhaustive, there's a high likelihood we will find a set of hyperparamters resulting in a result that is *close to* the best we could get in a full grid search."
   ]
  },
  {
   "cell_type": "code",
   "execution_count": 77,
   "id": "ef3d84ce",
   "metadata": {},
   "outputs": [
    {
     "data": {
      "text/plain": [
       "-0.09092694071957963"
      ]
     },
     "execution_count": 77,
     "metadata": {},
     "output_type": "execute_result"
    }
   ],
   "source": [
    "GB_regressor = GradientBoostingRegressor(learning_rate=0.0001, loss='huber', max_depth=3,\n",
    "                                         max_features='auto', min_samples_leaf=1, min_samples_split=2,\n",
    "                                         n_estimators=100, subsample=0.5)\n",
    "\n",
    "pipe = make_pipeline(preprocessor, GB_regressor)\n",
    "pipe.fit(X_train, y_train)\n",
    "pipe.score(X_test, y_test)"
   ]
  },
  {
   "cell_type": "code",
   "execution_count": 78,
   "id": "53477875",
   "metadata": {},
   "outputs": [],
   "source": [
    "pipe.fit(X_train, y_train)\n",
    "y_pred = pipe.predict(X_test)"
   ]
  },
  {
   "cell_type": "code",
   "execution_count": 79,
   "id": "ea92bea8",
   "metadata": {},
   "outputs": [
    {
     "data": {
      "text/plain": [
       "662.584805635588"
      ]
     },
     "execution_count": 79,
     "metadata": {},
     "output_type": "execute_result"
    }
   ],
   "source": [
    "mean_absolute_error(y_test, y_pred)"
   ]
  },
  {
   "cell_type": "code",
   "execution_count": null,
   "id": "01ff1deb",
   "metadata": {},
   "outputs": [],
   "source": []
  },
  {
   "cell_type": "markdown",
   "id": "e4b81fae",
   "metadata": {},
   "source": [
    "### 4.2 Gradient Boosting with RandomizedSearchCV"
   ]
  },
  {
   "cell_type": "code",
   "execution_count": 26,
   "id": "74e8265d",
   "metadata": {},
   "outputs": [
    {
     "name": "stderr",
     "output_type": "stream",
     "text": [
      "/home/steve/anaconda3/lib/python3.8/site-packages/sklearn/model_selection/_search.py:918: UserWarning: One or more of the test scores are non-finite: [          nan -758.21477713           nan -758.18367064 -759.09363999\n",
      "           nan           nan           nan           nan           nan]\n",
      "  warnings.warn(\n",
      "/home/steve/anaconda3/lib/python3.8/site-packages/sklearn/ensemble/_gb.py:1630: FutureWarning: criterion='mae' was deprecated in version 0.24 and will be removed in version 1.1 (renaming of 0.26). The correct way of minimizing the absolute error is to use  loss='lad' instead.\n",
      "  warnings.warn(\"criterion='mae' was deprecated in version 0.24 and \"\n"
     ]
    },
    {
     "name": "stdout",
     "output_type": "stream",
     "text": [
      "      Iter       Train Loss      OOB Improve   Remaining Time \n",
      "         1      870878.3705       -2466.3164           18.34m\n",
      "         2      832505.4062       32537.8237           28.39m\n",
      "         3      806675.6930       25028.3591           26.47m\n",
      "         4      780272.0340       23219.5855           27.68m\n",
      "         5      771884.7116       17703.6998           31.07m\n",
      "         6      752768.0400       15659.4907           31.38m\n",
      "         7      745723.9102       12515.8487           31.02m\n",
      "         8      713188.3129       11995.3577           33.43m\n",
      "         9      717175.7810       11830.7957           35.13m\n",
      "        10      697294.0745        9356.5469           35.28m\n",
      "        11      686493.5315        9656.5113           35.20m\n",
      "        12      687812.1911        6139.0666           34.82m\n",
      "        13      684314.7053        5648.7096           34.18m\n",
      "        14      696016.5215        3409.8821           33.85m\n",
      "        15      672870.3913        3500.3985           33.30m\n",
      "        16      663571.7516        4545.0538           33.53m\n",
      "        17      655679.2585        2243.0099           33.72m\n",
      "        18      680061.3660        1588.8085           33.65m\n",
      "        19      651105.1295        2729.7652           33.40m\n",
      "        20      660395.6191        2223.0285           33.04m\n",
      "        21      658408.4183        1132.7606           32.97m\n",
      "        22      654559.3620        1138.8995           33.17m\n",
      "        23      651064.8694        1646.1337           33.06m\n",
      "        24      654809.6097        1827.8559           32.78m\n",
      "        25      639445.0866        1276.4673           32.61m\n",
      "        26      654933.7693         201.0205           32.32m\n",
      "        27      656091.2104        1327.2615           31.92m\n",
      "        28      655222.4941          11.9768           31.71m\n",
      "        29      664695.6145         722.6098           31.52m\n",
      "        30      645828.5917         293.5688           31.06m\n",
      "        31      648998.9129         -32.8982           30.92m\n",
      "        32      648945.8589         933.4215           30.69m\n",
      "        33      643057.0659        1186.0997           30.27m\n",
      "        34      651136.8307         317.8628           30.52m\n",
      "        35      648757.6051          71.0272           30.15m\n",
      "        36      651263.4446        -274.9612           29.87m\n",
      "        37      640617.0024        -109.3127           29.53m\n",
      "        38      633049.7841         225.6755           29.25m\n",
      "        39      657175.0856          52.9590           29.23m\n",
      "        40      640131.9009         187.9509           28.99m\n",
      "        41      632723.4400        -500.6915           28.74m\n",
      "        42      650183.2922         318.7263           28.47m\n",
      "        43      645989.7223        -205.0376           28.24m\n",
      "        44      642856.0960          93.4287           27.82m\n",
      "        45      652326.8781         394.7397           27.43m\n",
      "        46      650975.7142         763.2299           27.09m\n",
      "        47      636321.0018         -78.0836           26.69m\n",
      "        48      651525.4130        -517.3330           26.44m\n",
      "        49      655168.2486         588.0828           26.16m\n",
      "        50      641476.5607        -305.3393           25.81m\n",
      "        51      647374.6652        -171.8182           25.54m\n",
      "        52      644025.8370          35.2819           25.30m\n",
      "        53      645684.2511         353.9254           25.14m\n",
      "        54      649657.7139         -80.4272           24.89m\n",
      "        55      653605.6528        -410.4791           24.62m\n",
      "        56      646673.3548         -49.8784           24.33m\n",
      "        57      647297.0146         134.2887           24.17m\n",
      "        58      649097.4042        -104.4969           23.91m\n",
      "        59      643028.0051        -600.7615           23.61m\n",
      "        60      649228.2338         242.1494           23.33m\n",
      "        61      642795.1194         165.4031           23.08m\n",
      "        62      659806.8297         174.3923           22.74m\n",
      "        63      653417.0377        -444.7740           22.45m\n",
      "        64      644353.6471        -110.2662           22.14m\n",
      "        65      650831.2826        -399.3437           21.89m\n",
      "        66      654790.0733        -665.4722           21.61m\n",
      "        67      650615.9193         342.9064           21.27m\n",
      "        68      647423.2146        -681.2975           20.96m\n",
      "        69      649023.0235         -32.6749           20.65m\n",
      "        70      660662.0109         319.0947           20.38m\n",
      "        71      644785.3439        -222.0180           20.12m\n",
      "        72      647086.6264        -400.7966           19.79m\n",
      "        73      647886.5571        -344.4156           19.52m\n",
      "        74      641600.7112          92.5011           19.25m\n",
      "        75      647107.0548         279.8348           18.97m\n",
      "        76      656834.3497         -42.2036           18.73m\n",
      "        77      645180.6018         124.2481           18.47m\n",
      "        78      643140.3967           7.0392           18.21m\n",
      "        79      646062.0406        -825.9278           17.97m\n",
      "        80      649449.0689         257.2212           17.70m\n",
      "        81      646370.3270        -219.5403           17.40m\n",
      "        82      650029.8985        -122.4931           17.14m\n",
      "        83      653604.9861         -17.2411           16.84m\n",
      "        84      648414.1650         960.2465           16.56m\n",
      "        85      647830.4206         811.6065           16.30m\n",
      "        86      642330.9014        -666.1217           16.02m\n",
      "        87      644840.8109        -378.2354           15.74m\n",
      "        88      656823.8311         190.9841           15.51m\n",
      "        89      643867.8720        -310.9898           15.22m\n",
      "        90      634145.6967          24.5254           14.95m\n",
      "        91      647494.1990         386.2134           14.67m\n",
      "        92      641750.1124         131.5464           14.40m\n",
      "        93      643860.0444         115.3410           14.17m\n",
      "        94      641988.9247          59.7045           13.93m\n",
      "        95      643495.9904        -344.1401           13.68m\n",
      "        96      636271.4893         -80.4467           13.42m\n",
      "        97      645261.3306        -150.0351           13.17m\n",
      "        98      640406.4940         465.4010           12.92m\n",
      "        99      638621.4668         293.6613           12.67m\n",
      "       100      652808.5025        -282.3260           12.40m\n",
      "       101      643497.9411         173.6426           12.13m\n",
      "       102      644793.6037        -172.2639           11.88m\n",
      "       103      640580.4863        -302.4093           11.63m\n",
      "       104      634664.1468         232.7515           11.39m\n",
      "       105      639864.2579         -17.0885           11.14m\n",
      "       106      648607.7860        -161.0116           10.87m\n",
      "       107      647115.2102         -16.9838           10.62m\n",
      "       108      654674.2298          74.9352           10.38m\n",
      "       109      641335.7569        -105.0916           10.12m\n",
      "       110      654375.9953         241.4003            9.86m\n",
      "       111      660035.6936          84.7214            9.61m\n",
      "       112      642961.4474        -758.5244            9.36m\n",
      "       113      639409.9299         787.6454            9.09m\n",
      "       114      638367.2946         151.1591            8.83m\n",
      "       115      636788.8900          90.9572            8.59m\n",
      "       116      647234.9714        -986.1544            8.34m\n",
      "       117      635485.3587         272.2908            8.09m\n",
      "       118      636727.3524        -173.0764            7.83m\n",
      "       119      633078.3761         755.3654            7.58m\n",
      "       120      642015.4018        -119.9015            7.34m\n",
      "       121      643730.3636        -376.9674            7.09m\n",
      "       122      644340.0267         146.1286            6.85m\n",
      "       123      629675.6735         -52.9510            6.60m\n",
      "       124      644276.0645        -173.4366            6.35m\n",
      "       125      653220.5990        -238.6282            6.11m\n",
      "       126      640715.5542         146.1704            5.86m\n",
      "       127      657486.2795        -141.4728            5.61m\n",
      "       128      646667.2203         259.1922            5.36m\n",
      "       129      644884.8966         585.6640            5.11m\n",
      "       130      629535.9735         179.1155            4.87m\n",
      "       131      654095.5201          14.3652            4.62m\n",
      "       132      648355.7336        -479.4277            4.37m\n"
     ]
    },
    {
     "name": "stdout",
     "output_type": "stream",
     "text": [
      "       133      651508.9805        -126.6187            4.13m\n",
      "       134      632490.1270        -758.2568            3.88m\n",
      "       135      649808.3917         -96.4204            3.64m\n",
      "       136      644647.7507         -30.0873            3.40m\n",
      "       137      647341.6924          13.5318            3.15m\n",
      "       138      645753.5082         -66.5176            2.91m\n",
      "       139      644174.4810         403.9140            2.66m\n",
      "       140      651777.9566         -11.9328            2.42m\n",
      "       141      636188.4951          22.8426            2.18m\n",
      "       142      635455.3050         -76.9191            1.93m\n",
      "       143      641971.8313          98.6564            1.69m\n",
      "       144      643614.5052         -95.1711            1.45m\n",
      "       145      646575.0813         -67.3768            1.21m\n",
      "       146      640950.4685        -129.1873           57.95s\n",
      "       147      654195.4431         -74.6286           43.56s\n",
      "       148      637057.7958         -26.5983           29.04s\n",
      "       149      650312.7939        -476.7599           14.52s\n",
      "       150      644833.6526         402.6606            0.00s\n"
     ]
    },
    {
     "data": {
      "text/plain": [
       "RandomizedSearchCV(cv=5,\n",
       "                   estimator=Pipeline(steps=[('preprocessor',\n",
       "                                              ColumnTransformer(remainder='passthrough',\n",
       "                                                                transformers=[('onehotencoder',\n",
       "                                                                               OneHotEncoder(drop='if_binary'),\n",
       "                                                                               ['Species'])])),\n",
       "                                             ('regressor',\n",
       "                                              GradientBoostingRegressor(random_state=23,\n",
       "                                                                        verbose=2))]),\n",
       "                   n_jobs=-1,\n",
       "                   param_distributions={'regressor__criterion': ['mae'],\n",
       "                                        'regressor__learning_rate': [0.05, 0.1,\n",
       "                                                                     0.2],\n",
       "                                        'regressor__loss': ['absolute_error',\n",
       "                                                            'huber'],\n",
       "                                        'regressor__max_depth': [5],\n",
       "                                        'regressor__max_features': ['sqrt'],\n",
       "                                        'regressor__min_samples_leaf': [50],\n",
       "                                        'regressor__min_samples_split': [400],\n",
       "                                        'regressor__n_estimators': [50, 100,\n",
       "                                                                    150],\n",
       "                                        'regressor__subsample': [0.8]},\n",
       "                   scoring='neg_mean_absolute_error')"
      ]
     },
     "execution_count": 26,
     "metadata": {},
     "output_type": "execute_result"
    }
   ],
   "source": [
    "# Create the random grid\n",
    "random_grid = {'regressor__loss': ['huber'],\n",
    "               'regressor__n_estimators': [100],\n",
    "               'regressor__learning_rate': [0.1],\n",
    "               'regressor__subsample': [0.8],\n",
    "               'regressor__max_depth': [5],\n",
    "               'regressor__min_samples_split': [40],\n",
    "               'regressor__min_samples_leaf': [20],\n",
    "               'regressor__max_features': ['sqrt'],\n",
    "              }\n",
    "\n",
    "# Create the pipeline\n",
    "pipe = Pipeline([('preprocessor', preprocessor),\n",
    "                 ('regressor', GradientBoostingRegressor(random_state=23, verbose=2))\n",
    "                ])\n",
    "\n",
    "# Instantiate the grid search and fit the model\n",
    "GB_Random = RandomizedSearchCV(pipe, param_distributions=random_grid, scoring='neg_mean_absolute_error',\n",
    "                               cv=5, n_jobs=-1)\n",
    "GB_Random.fit(X_train, y_train)"
   ]
  },
  {
   "cell_type": "code",
   "execution_count": 27,
   "id": "edf8be96",
   "metadata": {},
   "outputs": [
    {
     "data": {
      "text/plain": [
       "({'regressor__subsample': 0.8,\n",
       "  'regressor__n_estimators': 150,\n",
       "  'regressor__min_samples_split': 400,\n",
       "  'regressor__min_samples_leaf': 50,\n",
       "  'regressor__max_features': 'sqrt',\n",
       "  'regressor__max_depth': 5,\n",
       "  'regressor__loss': 'huber',\n",
       "  'regressor__learning_rate': 0.1,\n",
       "  'regressor__criterion': 'mae'},\n",
       " -758.1836706420484)"
      ]
     },
     "execution_count": 27,
     "metadata": {},
     "output_type": "execute_result"
    }
   ],
   "source": [
    "GB_Random.best_params_, GB_Random.best_score_"
   ]
  },
  {
   "cell_type": "markdown",
   "id": "5a03aa0d",
   "metadata": {},
   "source": [
    "## 7 Huber Model\n",
    "* good for data with outliers"
   ]
  },
  {
   "cell_type": "code",
   "execution_count": 272,
   "id": "4bf6c7dd",
   "metadata": {},
   "outputs": [
    {
     "name": "stdout",
     "output_type": "stream",
     "text": [
      "mean test score (mae): 679.25\n"
     ]
    }
   ],
   "source": [
    "from sklearn.linear_model import HuberRegressor\n",
    "from sklearn.preprocessing import StandardScaler\n",
    "\n",
    "# Make pipeline and get results\n",
    "pipe = make_pipeline(preprocessor, StandardScaler(), HuberRegressor(epsilon=1.0, max_iter=200, alpha=0.01))\n",
    "cv_results = cross_validate(pipe, X_train, y_train, scoring='neg_mean_absolute_error', cv=5)\n",
    "score_mean = -1 * round(np.mean(cv_results['test_score']), 2)\n",
    "print(\"mean test score (mae): \" + str(score_mean))"
   ]
  },
  {
   "cell_type": "markdown",
   "id": "b0dffe77",
   "metadata": {},
   "source": [
    "# Consider grid search on different Huber params and plot results"
   ]
  },
  {
   "cell_type": "code",
   "execution_count": null,
   "id": "d03ee5ef",
   "metadata": {},
   "outputs": [],
   "source": []
  },
  {
   "cell_type": "code",
   "execution_count": null,
   "id": "492efa89",
   "metadata": {},
   "outputs": [],
   "source": []
  },
  {
   "cell_type": "code",
   "execution_count": null,
   "id": "911f25ed",
   "metadata": {},
   "outputs": [],
   "source": []
  },
  {
   "cell_type": "code",
   "execution_count": 275,
   "id": "0f44b704",
   "metadata": {},
   "outputs": [
    {
     "data": {
      "text/plain": [
       "-0.014327109537764615"
      ]
     },
     "execution_count": 275,
     "metadata": {},
     "output_type": "execute_result"
    }
   ],
   "source": [
    "HB_regressor = HuberRegressor(epsilon=1.0, max_iter=200, alpha=0.01)\n",
    "\n",
    "pipe = make_pipeline(preprocessor, HB_regressor)\n",
    "pipe.fit(X_train, y_train)\n",
    "pipe.score(X_test, y_test)"
   ]
  },
  {
   "cell_type": "code",
   "execution_count": 276,
   "id": "ae475315",
   "metadata": {},
   "outputs": [],
   "source": [
    "pipe.fit(X_train, y_train)\n",
    "y_pred = pipe.predict(X_test)"
   ]
  },
  {
   "cell_type": "code",
   "execution_count": 277,
   "id": "6e4c751b",
   "metadata": {},
   "outputs": [
    {
     "data": {
      "text/plain": [
       "648.0059596067262"
      ]
     },
     "execution_count": 277,
     "metadata": {},
     "output_type": "execute_result"
    }
   ],
   "source": [
    "mean_absolute_error(y_test, y_pred)"
   ]
  },
  {
   "cell_type": "markdown",
   "id": "6475acee",
   "metadata": {},
   "source": [
    "## 8 Save Model"
   ]
  },
  {
   "cell_type": "code",
   "execution_count": null,
   "id": "ab240f34",
   "metadata": {},
   "outputs": [],
   "source": []
  },
  {
   "cell_type": "code",
   "execution_count": null,
   "id": "d6369b11",
   "metadata": {},
   "outputs": [],
   "source": [
    "# # Store some basic information about the model\n",
    "# best_model = rf_grid_cv.best_estimator_\n",
    "# best_model.version = '1.0'\n",
    "# best_model.pandas_version = pd.__version__\n",
    "# best_model.numpy_version = np.__version__\n",
    "# best_model.sklearn_version = sklearn_version\n",
    "# best_model.X_columns = [col for col in X_train.columns]\n",
    "# best_model.build_datetime = datetime.datetime.now()\n",
    "\n",
    "# # save the model\n",
    "\n",
    "# modelpath = '../models'\n",
    "# save_file(best_model, 'ski_resort_pricing_model.pkl', modelpath)"
   ]
  },
  {
   "cell_type": "code",
   "execution_count": null,
   "id": "99fc770c",
   "metadata": {},
   "outputs": [],
   "source": []
  },
  {
   "cell_type": "code",
   "execution_count": null,
   "id": "af051d3e",
   "metadata": {},
   "outputs": [],
   "source": []
  },
  {
   "cell_type": "code",
   "execution_count": null,
   "id": "b6cfc194",
   "metadata": {},
   "outputs": [],
   "source": []
  }
 ],
 "metadata": {
  "kernelspec": {
   "display_name": "Python 3",
   "language": "python",
   "name": "python3"
  },
  "language_info": {
   "codemirror_mode": {
    "name": "ipython",
    "version": 3
   },
   "file_extension": ".py",
   "mimetype": "text/x-python",
   "name": "python",
   "nbconvert_exporter": "python",
   "pygments_lexer": "ipython3",
   "version": "3.8.8"
  }
 },
 "nbformat": 4,
 "nbformat_minor": 5
}
